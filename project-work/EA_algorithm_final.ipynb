{
 "cells": [
  {
   "cell_type": "markdown",
   "metadata": {},
   "source": [
    "# Import"
   ]
  },
  {
   "cell_type": "code",
   "execution_count": 199,
   "metadata": {},
   "outputs": [],
   "source": [
    "import numpy as np\n",
    "from random import choice, choices, randint,random, uniform\n",
    "import copy\n",
    "import math\n",
    "from dataclasses import dataclass"
   ]
  },
  {
   "cell_type": "markdown",
   "metadata": {},
   "source": [
    "# Operations\n",
    "Operations divided based on the arity in order to make more consistent program generation during initialization. Indeed, we didn't want that functions such as sqrt,cos or sin contained only constants at the beginning. Those are values that can be 'easily' recreatted with a different constant, so it only increases the depth of the tree and the complexity of the formula without a real advantage.\n",
    "\n",
    "Moreover, a weight empirically set through different trials has been associated to all the operations. This is done because, in particular for binary operations, most useful ones are sum and subtraction, while, for instance, the power is used less and can create more complex formulas that are not so common and useful in the examples provided. \n",
    "\n",
    "Also the max depth of the tree is set in order to avoid bloating, a problem that mainly exists because of the crossover and causes the formula to grow a lot without real changes into fitness"
   ]
  },
  {
   "cell_type": "code",
   "execution_count": 200,
   "metadata": {},
   "outputs": [],
   "source": [
    "#The depth of a tree cannot be greater than 10 OVERALL\n",
    "MAX_TREE_DEPTH = 10\n",
    "\n",
    "#Operations with 1 or 2 arguments divided\n",
    "#Added a field of probabilities: sum and subtraction should be more likely to be chosen\n",
    "OPERATIONS_BINARY = [ \n",
    "    (np.add, 2, \"({} + {})\",0.1),\n",
    "    (np.subtract, 2, \"({} - {})\",0.1),\n",
    "    (np.divide, 2, \"({} / {})\",0.1),\n",
    "    (np.multiply, 2, \"({} * {})\",0.1),   \n",
    "    (np.power, 2, \"({} ^ {})\",0.1),\n",
    "]\n",
    "\n",
    "BINARY_WEIGHTS = [op[3] for op in OPERATIONS_BINARY]\n",
    "\n",
    "OPERATIONS_UNARY = [ \n",
    "    (np.sin, 1, \"sin({})\",0.1),\n",
    "    (np.cos, 1, \"cos({})\",0.1),\n",
    "    (np.exp, 1, \"exp({})\",0.1),\n",
    "    (np.log, 1, \"log({})\",0.1),\n",
    "    (np.sqrt, 1, \"sqrt({})\",0.1),\n",
    "]\n",
    "UNARY_WEIGHTS = [op[3] for op in OPERATIONS_UNARY]\n",
    "OPERATIONS = OPERATIONS_BINARY + OPERATIONS_UNARY\n",
    "WEIGHTS = BINARY_WEIGHTS + UNARY_WEIGHTS    \n"
   ]
  },
  {
   "cell_type": "markdown",
   "metadata": {},
   "source": [
    "# Program evaluation\n",
    "We need a function that, given the genotype, provides us with the output numerical output given by the input applied to the function. Thus, it has to receive as arguments the program (that represents the function) and the input vector with all the dimensions. Then, it simply recursively travels the tree and compute all the operations."
   ]
  },
  {
   "cell_type": "code",
   "execution_count": 201,
   "metadata": {},
   "outputs": [],
   "source": [
    "def evaluate_program(program, x):\n",
    "    if isinstance(program, str):  # Leaf node\n",
    "        #If it's a leaf, it could be a costant or a variable\n",
    "        if program[0] == 'x':\n",
    "            return x[int(program[2:-1])]\n",
    "        else:\n",
    "            return float(program)\n",
    "    elif isinstance(program, list): \n",
    "        op = next(op for op, _, symbol,p in OPERATIONS if symbol == program[0])\n",
    "        args = [evaluate_program(child, x) for child in program[1:]]\n",
    "        try:\n",
    "            return op(*args)\n",
    "        except ZeroDivisionError:\n",
    "            return np.inf"
   ]
  },
  {
   "cell_type": "markdown",
   "metadata": {},
   "source": [
    "# Mutation utility functions\n",
    "\n",
    "Set of utility functions used in the mutation and crossover functions. A brief explanation of all of them is provided at the definition."
   ]
  },
  {
   "cell_type": "code",
   "execution_count": 202,
   "metadata": {},
   "outputs": [],
   "source": [
    "\n",
    "def get_subtree_points_recursive(prog, path='', index=0, result=None):\n",
    "    \"\"\" Get the points of the subtrees in the program. \"\"\"\n",
    "    if result is None:\n",
    "        result = []\n",
    "    \n",
    "    if isinstance(prog, list) and len(prog) > 1:  \n",
    "        if path:\n",
    "            result.append(path)\n",
    "        for i, node in enumerate(prog):\n",
    "            if isinstance(node, list):  \n",
    "                new_path = f\"{path}[{i}]\" if path else f\"[{i}]\"\n",
    "                get_subtree_points_recursive(node, new_path, i, result)\n",
    "    return result\n",
    "\n",
    "def access_node_by_path(prog, path):\n",
    "    \"\"\"Access a node in the program by its path.\"\"\"\n",
    "    indices = [int(p.strip('][')) for p in path.split('][') if p]\n",
    "    current = prog\n",
    "    for index in indices:\n",
    "        current = current[index]\n",
    "    return current\n",
    "\n",
    "\n",
    "def find_variable_indices(node, result=None):\n",
    "    \"\"\"Find the indices of the variables in the program.\"\"\"\n",
    "    if result is None:\n",
    "        result = set()\n",
    "\n",
    "    if isinstance(node, list):\n",
    "        for child in node:\n",
    "            find_variable_indices(child, result)\n",
    "    \n",
    "    elif isinstance(node, str) and node.startswith('x['):\n",
    "        result.add(int(node[2:-1]))\n",
    "\n",
    "    return result\n",
    "\n",
    "def set_subtree_at_path(program, path, new_subtree):\n",
    "    \"\"\"Set the new subtree at the specified path.\"\"\"\n",
    "    if path == '':\n",
    "        return new_subtree\n",
    "    current = program\n",
    "    indices = [int(x) for x in path.strip('][').split('][')]\n",
    "    for i in indices[:-1]:  \n",
    "        current = current[i]\n",
    "    current[indices[-1]] = new_subtree  \n",
    "    return program\n",
    "\n",
    "\n",
    "def swap_operation_at_path(program, path, new_op):\n",
    "    \"\"\"Swap the operation at the specified path.\"\"\"\n",
    "    current = program\n",
    "    indices = [int(x) for x in path.strip('][').split('][')]\n",
    "    for i in indices[:-1]: \n",
    "        current = current[i]\n",
    "    if isinstance(current[indices[-1]], list):  \n",
    "        current[indices[-1]][0] = new_op \n",
    "    return program\n",
    "\n",
    "def cleaned_program(program):\n",
    "    \"\"\"Given a program of only costants, substitute it with a single value given by the computation of costants\"\"\"\n",
    "    value = evaluate_program(program, [0])\n",
    "    return str(value)\n",
    "\n",
    "def safe_copy(obj):\n",
    "    \"\"\"Copy an object safely.\"\"\"\n",
    "    if isinstance(obj, list):\n",
    "        return copy.deepcopy(obj)  \n",
    "    elif isinstance(obj, str):\n",
    "        return obj \n",
    "    else:\n",
    "        raise TypeError(\"Unsupported type, only strings.\")\n",
    "    \n",
    "def depth(program):\n",
    "    \"\"\"Compute the depth of the program (represented by a tree)\"\"\"\n",
    "    if isinstance(program, str):\n",
    "        return 1\n",
    "    elif isinstance(program, list):\n",
    "        return 1 + max(depth(child) for child in program[1:])\n",
    "    \n",
    "def get_subtree(program):\n",
    "    \"\"\"Get a random subtree from the program.\"\"\"\n",
    "    if isinstance(program, (str, int, float)):\n",
    "        return program, None\n",
    "    # Pick a random node\n",
    "    scelta = randint(0, len(program) - 1)\n",
    "    if scelta == 0:\n",
    "        # Return the entire program\n",
    "        return program, None\n",
    "    else:\n",
    "        # Recursion on one of the children\n",
    "        subtree, parent = get_subtree(program[scelta])\n",
    "        return subtree, (program, scelta)"
   ]
  },
  {
   "cell_type": "markdown",
   "metadata": {},
   "source": [
    "# Genothype definition"
   ]
  },
  {
   "cell_type": "markdown",
   "metadata": {},
   "source": [
    "The recursive function we've developed is designed to create complex mathematical formulas in a structured format, where each formula is represented as a list: `[operator, first_operand, second_operand]`. This format allows the recursive and hierarchical organization of operations, facilitating the computational evaluation and manipulation of the formula.\n",
    "\n",
    "Key features of this function include:\n",
    "\n",
    "1. **Use of Input Dimensions:** The function uses a list, `used_indices`, to track which input dimensions (e.g., `0,1`, etc.) have been utilized in the formula. This ensures comprehensive coverage of all available input variables (if the depth makes it possible), making the formula relevant to all dimensions of the input data.  \n",
    "\n",
    "2. **Restrictions on Trigonometric Functions:** To enhance the mathematical sensibility of the formulas generated, the function includes a specific constraint regarding the nesting of trigonometric functions. Once a trigonometric function (such as `sin`, `cos`, etc.) is used, the function prohibits the inclusion of another trigonometric function within it. This constraint helps in preventing mathematically nonsensical expressions like `sin(cos(tan(x)))`, which, while computationally valid, may not be practically meaningful or may complicate the interpretation and analysis of the formula.\n",
    "3. **Restrictions on operations with constants:** It is not allowed, in the current implementation, to add binary operations between constants. This is another kind of operation that makes the depth of the tree increase without the generation of a real meaningful formula.\n",
    "\n",
    "This approach not only ensures that each formula is robust and contextually appropriate but also maintains clarity and reduces the computational redundancy that might arise from nested trigonometric operations. Such constraints are particularly important in scientific computing and simulations where the accuracy and interpretability of mathematical expressions are critical.\n",
    "\n"
   ]
  },
  {
   "cell_type": "code",
   "execution_count": 203,
   "metadata": {},
   "outputs": [],
   "source": [
    "def random_program(depth,input_dim,unary=False, used_indices=None):\n",
    "    if used_indices is None:\n",
    "        used_indices = set()\n",
    "\n",
    "    # Base case: generate a leaf node\n",
    "    #If you already used all the variables, you can only use constants and return: don't place an operation between costants\n",
    "    if depth == 0 or (random()<0.3) or len(used_indices) == input_dim:\n",
    "        if len(used_indices) < input_dim and random()<0.7:\n",
    "            available_indices = list(set(range(input_dim)) - used_indices)\n",
    "            index = choice(available_indices)\n",
    "            used_indices.add(index)\n",
    "            return f\"x[{index}]\", used_indices\n",
    "        else: #Only positive float between 0 and 10, no need to include negative ones, we have the subtraction operation\n",
    "            return str(uniform(2, 10)), used_indices\n",
    "           \n",
    "    if(not unary): #Condition to check that we do not nest unary operations\n",
    "        operations = OPERATIONS\n",
    "        weights = WEIGHTS\n",
    "    else:\n",
    "        operations = OPERATIONS_BINARY\n",
    "        weights = BINARY_WEIGHTS\n",
    "    op, arity, symbol,p = choices(operations,weights=weights, k=1)[0]\n",
    "    if(unary != True):\n",
    "        unary = arity==1\n",
    "    children = []\n",
    "    for _ in range(arity):\n",
    "        child, used_indices = random_program(depth - 1, input_dim, unary, used_indices)\n",
    "        children.append(child)\n",
    "    return [symbol] + children,used_indices"
   ]
  },
  {
   "cell_type": "markdown",
   "metadata": {},
   "source": [
    "# Program generation for the initial population\n",
    "This function, given the input dimension (the number of variables), generates a program that contains all of them once by generating one subtree for each dimension and combining all the subtrees together. This allows an initial population where there is a lot of genetic material related to all the dimensions of the problem and we can create more different combinations. "
   ]
  },
  {
   "cell_type": "code",
   "execution_count": 204,
   "metadata": {},
   "outputs": [],
   "source": [
    "def generate_program(input_dim):\n",
    "    \"\"\"Generate a random program given the input dimension. It ensures all dimensions are used once in the program.\"\"\"\n",
    "    programs = []\n",
    "    for i in range(input_dim):\n",
    "        flag = False #Evaluate that it does not only contain costants\n",
    "        used_indices_local = set()\n",
    "        used_indices_local = set(range(input_dim)) - {i}\n",
    "        while(not flag):\n",
    "            program, _ = random_program(2, input_dim,used_indices=used_indices_local)\n",
    "            flag = len(find_variable_indices(program)) == 1\n",
    "            if not flag:\n",
    "                program = cleaned_program(program)\n",
    "        programs.append(program)\n",
    "    #Combine programs together through a binary operation\n",
    "    program = programs[0]\n",
    "    for i in range(1,len(programs)):\n",
    "        op, arity, symbol,p = choices(OPERATIONS_BINARY,weights=BINARY_WEIGHTS, k=1)[0]\n",
    "        program = [symbol] + [program, programs[i]]\n",
    "    \n",
    "    return program"
   ]
  },
  {
   "cell_type": "markdown",
   "metadata": {},
   "source": [
    "## Individual"
   ]
  },
  {
   "cell_type": "markdown",
   "metadata": {},
   "source": [
    "We used dataclass to store the fitness and the genome of each individual. This will allow us to avoid to recompute the fitness function for the same individual more than once."
   ]
  },
  {
   "cell_type": "code",
   "execution_count": 205,
   "metadata": {},
   "outputs": [],
   "source": [
    "@dataclass\n",
    "class Individual:\n",
    "    genome: list\n",
    "    fitness : float = None"
   ]
  },
  {
   "cell_type": "markdown",
   "metadata": {},
   "source": [
    "## Transform the program into a human readable function\n",
    "Given the list representation of programs that we have introduced before, this function allows to rewrite it in a human readable way by simply recursively evaluating all nodes."
   ]
  },
  {
   "cell_type": "code",
   "execution_count": 206,
   "metadata": {},
   "outputs": [],
   "source": [
    "def program_to_string(program):\n",
    "    if isinstance(program, str):  # leaf\n",
    "        return program  \n",
    "    elif isinstance(program, list):  \n",
    "        try:\n",
    "            _, _, symbol = next((op, arity, s) for op, arity, s,p in OPERATIONS if s == program[0])\n",
    "        except StopIteration:\n",
    "            raise ValueError(f\"Not known operation: {program[0]}\")\n",
    "        \n",
    "        children = [program_to_string(child) for child in program[1:]]\n",
    "        \n",
    "        return symbol.format(*children)"
   ]
  },
  {
   "cell_type": "markdown",
   "metadata": {},
   "source": [
    "## Fitness function"
   ]
  },
  {
   "cell_type": "markdown",
   "metadata": {},
   "source": [
    "# MAPE\n",
    "The Mean Absolute Percentage Error (MAPE) is a statistical measure used to evaluate the accuracy of predictions in regression analysis. It quantifies the average magnitude of errors in a set of predictions, expressed as a percentage of the actual values. The formula for MAPE is the average of the absolute differences between the predicted and actual values, divided by the actual values, multiplied by 100 to convert it into a percentage. This metric is particularly useful because it provides a clear, interpretable measure of predictive error relative to the size of the numbers being predicted, making it ideal for comparing the accuracy of prediction models across different data scales"
   ]
  },
  {
   "cell_type": "code",
   "execution_count": 207,
   "metadata": {},
   "outputs": [],
   "source": [
    "def mape(program, x, y):\n",
    "    predictions = np.array([evaluate_program(program, x_row) for x_row in x.T])\n",
    "    return  float(np.mean(np.abs((y - predictions) / y)) * 100)"
   ]
  },
  {
   "cell_type": "markdown",
   "metadata": {},
   "source": [
    "# MSE \n",
    "Defined as the one used for the final evaluation by professors. \n",
    "We used MAPE only for printing it, the fitness function associated to the individual is the mse. Indeed, mse and mape do not vary in a consistent way. There are functions that decreases the mse while increasing the mape, and this can be dued in particular to the presence of 'outliers', which are values that reports a huge different with respect to the real value and count more in the percentage with respect to the mse.\n",
    "\n",
    "Since the final evaluation on the quality of the work is done based on the mse, we decided to keep it as fitness. \n",
    "\n",
    "However, since the problems are on a different scale, the mse may be misleading: it is higher in some problems because the y reports high values so, even if the difference between the prediction and the real value is not so high in percentage, the mse is high. That's why we also printed mape to have an idea regarding the quality of the algorithm when doing experimentations."
   ]
  },
  {
   "cell_type": "code",
   "execution_count": 208,
   "metadata": {},
   "outputs": [],
   "source": [
    "def mse(program, x, y):\n",
    "    predictions = np.array([evaluate_program(program, x_row) for x_row in x.T])\n",
    "    return float(100*np.mean((y - predictions) ** 2))"
   ]
  },
  {
   "cell_type": "code",
   "execution_count": 209,
   "metadata": {},
   "outputs": [],
   "source": [
    "def fitness_function(program, x, y):\n",
    "    \"\"\"Fitness evaluation for a program.\"\"\"\n",
    "    try:\n",
    "        # Evaluation of the program\n",
    "        predictions = np.array([evaluate_program(program, x_row) for x_row in x.T])\n",
    "        if np.any(np.isnan(predictions)) or np.any(np.isinf(predictions)):\n",
    "            return np.inf  # Penalize invalid programs \n",
    "\n",
    "        #Compute mse\n",
    "        error = mse(program, x, y)\n",
    "        #Needed a way to penalize more complex programs to avoid bloating\n",
    "        #error += depth(program)*error/10 #it may become longer only if, by increasing the depth of one, you get an advantage of at least 10%\n",
    "        if not math.isfinite(error):\n",
    "            return np.inf\n",
    "        \n",
    "\n",
    "    except Exception as e:\n",
    "        # Penalize programs with errors \n",
    "        print(f\"Error in program evaluation: {e}\")\n",
    "        return np.inf\n",
    "\n",
    "    return error"
   ]
  },
  {
   "cell_type": "markdown",
   "metadata": {},
   "source": [
    "# Avoiding bloating\n",
    "In order to avoid bloating, which means that programs keep growing without a significant change in fitness, we also introduced a function to cut the tree when it reaches a depth that is greater than MAX_TREE_DEPTH. "
   ]
  },
  {
   "cell_type": "code",
   "execution_count": 210,
   "metadata": {},
   "outputs": [],
   "source": [
    "def cut_program(program, current_depth=0):\n",
    "    \"\"\"Cut the program in a way that the depth is at most MAX_TREE_DEPTH.\"\"\"\n",
    "    if isinstance(program, str):\n",
    "        return program  # Leafs are mantained\n",
    "    elif isinstance(program, list):\n",
    "        operation = program[0]\n",
    "        if current_depth > MAX_TREE_DEPTH:\n",
    "            return str(uniform(2, 10))\n",
    "        else:\n",
    "            return [operation] + [cut_program(subprogram, current_depth + 1) for subprogram in program[1:]]\n"
   ]
  },
  {
   "cell_type": "markdown",
   "metadata": {},
   "source": [
    "## Mutation\n",
    "Simply mutates a subtree with another one randomly generated -> subtree mutation"
   ]
  },
  {
   "cell_type": "code",
   "execution_count": 211,
   "metadata": {},
   "outputs": [],
   "source": [
    "def mutate(program, input_dim, max_depth=2):\n",
    "    \"\"\"Mutation of a program.\"\"\"\n",
    "    mutant = program #the deep copy is done when passing the program when the function is called\n",
    "    #If the program has a depth lower equal than 2, increase it\n",
    "    if(depth(program)<=4 and random()<0.6):\n",
    "        #randomly select a binary operation\n",
    "        _, _, symbol,_ = choices(OPERATIONS_BINARY,weights=BINARY_WEIGHTS, k=1)[0]\n",
    "        #generate a program\n",
    "        new_subtree = generate_program(input_dim)\n",
    "        #Combine the two programs\n",
    "        return [symbol] + [program, new_subtree]\n",
    "    points = get_subtree_points_recursive(program)\n",
    "    if not points:\n",
    "        return generate_program(input_dim)\n",
    "    \n",
    "    point = choice(points)\n",
    "    new_subtree = random_program(randint(1,max_depth), input_dim)[0]\n",
    "\n",
    "    mutant = set_subtree_at_path(mutant, point, new_subtree)\n",
    "    if(depth(mutant)>MAX_TREE_DEPTH):\n",
    "        mutant = cut_program(mutant)\n",
    "    return mutant"
   ]
  },
  {
   "cell_type": "markdown",
   "metadata": {},
   "source": [
    "# Hoist mutation"
   ]
  },
  {
   "cell_type": "markdown",
   "metadata": {},
   "source": [
    "1. **Select a Subtree**:\n",
    "   - A random subtree of the program is selected using the helper function `get_subtree`.\n",
    "\n",
    "2. **Check if the Subtree is a Leaf**:\n",
    "   - If the selected subtree is a leaf (e.g., a variable or constant), the program is returned unchanged since hoisting cannot be applied to a single node.\n",
    "\n",
    "3. **Select an Inner Subtree**:\n",
    "   - A smaller subtree within the selected subtree is identified using `get_subtree`.\n",
    "\n",
    "4. **Replace the Parent Node**:\n",
    "   - If the selected subtree is the root of the program:\n",
    "     - The entire program is replaced with the inner subtree.\n",
    "   - Otherwise:\n",
    "     - The parent of the selected subtree is updated to reference the inner subtree."
   ]
  },
  {
   "cell_type": "code",
   "execution_count": 212,
   "metadata": {},
   "outputs": [],
   "source": [
    "def hoist_mutation(program):\n",
    "    \"\"\"Mutation of a program through hoist\"\"\"\n",
    "    # Obtein a random subtree\n",
    "    subtree, parent_info = get_subtree(program)\n",
    "    \n",
    "    if not isinstance(subtree, list):\n",
    "        # If the subtree is a leaf, return the program, hoist cannot be done\n",
    "        return program\n",
    "\n",
    "    # Get the inner subtree\n",
    "    inner_subtree, _ = get_subtree(subtree)\n",
    "\n",
    "    if parent_info is None:\n",
    "        # Sobstitute the program with the inner subtree\n",
    "        return inner_subtree\n",
    "    else:\n",
    "        # Sobstitute the parent with the inner subtree\n",
    "        parent, idx = parent_info\n",
    "        parent[idx] = inner_subtree\n",
    "        return program"
   ]
  },
  {
   "cell_type": "markdown",
   "metadata": {},
   "source": [
    "Let's create a new tweak function that is able to tweak a program by adding an unary operation in leaf nodes (if it not a constant value nor already a unary operation)."
   ]
  },
  {
   "cell_type": "code",
   "execution_count": 213,
   "metadata": {},
   "outputs": [],
   "source": [
    "def tweak_program_2(program):\n",
    "    \"\"\"\n",
    "    Modifica un sottoalbero del programma aggiungendo un operatore unario\n",
    "    su una foglia, evitando di applicarlo a una foglia già modificata da un operatore unario.\n",
    "    \"\"\"\n",
    "    # Trova tutte le foglie del programma\n",
    "    def get_leaf_indices(node, path=()):\n",
    "        \"\"\"\n",
    "        Ritorna i percorsi alle foglie dell'albero.\n",
    "        Una foglia è un valore (stringa o numero) non ulteriormente divisibile.\n",
    "        \"\"\"\n",
    "        if isinstance(node, (str, int, float)):  # Nodo foglia (variabile o costante)\n",
    "            return [path]\n",
    "        elif isinstance(node, list) and len(node) > 1:  # Nodo interno valido\n",
    "            indices = []\n",
    "            for i, child in enumerate(node[1:], start=1):  # Salta l'operatore\n",
    "                indices.extend(get_leaf_indices(child, path + (i,)))\n",
    "            return indices\n",
    "        return []  # Nodo vuoto o non valido\n",
    "\n",
    "    # Ottieni tutte le foglie\n",
    "    leaf_indices = get_leaf_indices(program)\n",
    "    if not leaf_indices:\n",
    "        return program  # Nessuna modifica possibile\n",
    "\n",
    "    # Seleziona casualmente una foglia\n",
    "    selected_leaf_path = choice(leaf_indices)\n",
    "\n",
    "    # Accedi alla foglia selezionata\n",
    "    node = program\n",
    "    for idx in selected_leaf_path[:-1]:\n",
    "        node = node[idx]\n",
    "\n",
    "    # Verifica che il nodo sia valido prima di modificare\n",
    "    if isinstance(node, list) and len(selected_leaf_path) > 0:\n",
    "        leaf = node[selected_leaf_path[-1]]\n",
    "        \n",
    "        # Verifica se la foglia è modificabile\n",
    "        if isinstance(leaf, (str, int, float)):\n",
    "            # Scegli un operatore unario\n",
    "            unary_operator = choice([\"sin({})\", \"cos({})\", \"tan({})\", \"log({})\", \"sqrt({})\"])\n",
    "            \n",
    "            # Applica l'operatore unario\n",
    "            node[selected_leaf_path[-1]] = [unary_operator, leaf]\n",
    "        elif isinstance(leaf, list) and len(leaf) == 2 and isinstance(leaf[0], str):\n",
    "            # La foglia è già un operatore unario applicato: non fare nulla\n",
    "            pass\n",
    "\n",
    "    return program\n"
   ]
  },
  {
   "cell_type": "markdown",
   "metadata": {},
   "source": [
    "# Point mutation"
   ]
  },
  {
   "cell_type": "markdown",
   "metadata": {},
   "source": [
    "The mutation involves randomly modifying a node in the program, which could be an operator, variable, or constant, while ensuring that the resulting program remains syntactically valid.\n",
    "\n",
    "Key Features\n",
    "1. Ensures structural integrity by considering the arity of operators during mutations.\n",
    "2. Limits program depth to avoid overgrowth.\n",
    "3. Maintains syntactic validity by mutating nodes in a context-aware manner.\n",
    "4. Customizable mutation probability for operators (30% by default)."
   ]
  },
  {
   "cell_type": "code",
   "execution_count": 214,
   "metadata": {},
   "outputs": [],
   "source": [
    "def point_mutation(program, max_tree_depth=10):\n",
    "    \"\"\"\n",
    "    Perform a point mutation on the given program.\n",
    "\n",
    "    Parameters:\n",
    "    - program: list\n",
    "        The symbolic program represented as a nested list (tree structure).\n",
    "    - max_tree_depth: int\n",
    "        Maximum depth allowed for the tree.\n",
    "\n",
    "    Returns:\n",
    "    - mutated_program: list\n",
    "        A new program with a randomly mutated node.\n",
    "    \"\"\"\n",
    "\n",
    "    #let's define a function that tell us the variables inside the program:\n",
    "    def collect_variables(node, variables):\n",
    "        \"\"\"Collect all variable names in the program.\"\"\"\n",
    "        if isinstance(node, str) and node.startswith('x'):\n",
    "            variables.add(node)\n",
    "        elif isinstance(node, list):\n",
    "            for child in node:\n",
    "                collect_variables(child, variables)\n",
    "        \n",
    "\n",
    "    def mutate_leaf(node):\n",
    "        \"\"\"Mutate a leaf node (constant or variable).\"\"\"\n",
    "        if isinstance(node, str):\n",
    "            # Variable mutation: Switch to another variable or a random constant that is present in \n",
    "            #the current program:\n",
    "            if node.startswith('x'):\n",
    "                # Collect variables from the program.\n",
    "                variables = set()\n",
    "                collect_variables(program, variables)\n",
    "                return choice(list(variables))\n",
    "            else:\n",
    "                #Replace with a new random constant.\n",
    "                #for now i consider only between -10 and 10, but we can change it\n",
    "                return str(round(uniform(-10, 10), 2))\n",
    "        return node\n",
    "\n",
    "    def mutate_operator(node):\n",
    "        \"\"\"Mutate an operator node.\"\"\"\n",
    "        arity = len(node) - 1\n",
    "        #perations by matching arity\n",
    "        valid_ops = [op for op in OPERATIONS if op[1]==arity]\n",
    "    \n",
    "        new_op = choice(valid_ops)\n",
    "        node[0] = new_op[2]  # Replace operator symbol.\n",
    "\n",
    "    def recursive_mutation(node, current_depth):\n",
    "        \"\"\"Recursively traverse the tree and apply mutation.\"\"\"\n",
    "        if current_depth >= max_tree_depth or not isinstance(node, list):\n",
    "            # Mutate a leaf node if max depth reached or node is a leaf.\n",
    "            return mutate_leaf(node)\n",
    "\n",
    "        if isinstance(node, list):\n",
    "            # Decide whether to mutate this operator or recurse further\n",
    "            if random() < 0.3:  # 30% chance to mutate this operator but if yoi prefer we can change\n",
    "                mutate_operator(node)\n",
    "            else:\n",
    "                # Recursively mutate a random child\n",
    "                child_idx = randint(1, len(node) - 1)\n",
    "                node[child_idx] = recursive_mutation(node[child_idx], current_depth + 1)\n",
    "\n",
    "        return node\n",
    "\n",
    "    mutated_program = copy.deepcopy(program)\n",
    "    return recursive_mutation(mutated_program, current_depth=0)"
   ]
  },
  {
   "cell_type": "markdown",
   "metadata": {},
   "source": [
    "## Crossover"
   ]
  },
  {
   "cell_type": "markdown",
   "metadata": {},
   "source": [
    "We can use a croossover function that receives only 2 parents and, if one of them is a leaf program simply return casually one of the 2 programs (avoiding to perform the operation for programs with no childrens). Otherwise, select random indexes for both the parents and combine the first part of the tree with the second part of the tree of the 2 parents, returning a new individual.\n",
    "\n",
    "In order to avoid bloating, the tree is cut if its depth is greater than MAX_TREE_DEPTH."
   ]
  },
  {
   "cell_type": "code",
   "execution_count": 215,
   "metadata": {},
   "outputs": [],
   "source": [
    "def crossover(parent1, parent2):\n",
    "    \"\"\"Crossover by subtree swapping.\"\"\"\n",
    "    #Obtain a casual subtree from parents\n",
    "    subtree1, parent1_info = get_subtree(parent1)\n",
    "    subtree2, _ = get_subtree(parent2)\n",
    "\n",
    "    if parent1_info is None:\n",
    "        # A subtree of parent2 is returned, no risk of having more than MAX_TREE_DEPTH\n",
    "        return subtree2\n",
    "    else:\n",
    "        # Subtree swapping and check on the final depth\n",
    "        parent, idx = parent1_info\n",
    "        parent[idx] = subtree2\n",
    "        if(depth(parent)>MAX_TREE_DEPTH): #Cut the program only if necessary\n",
    "            return cut_program(parent) \n",
    "        return parent"
   ]
  },
  {
   "cell_type": "markdown",
   "metadata": {},
   "source": [
    "## Genetic algorithm"
   ]
  },
  {
   "cell_type": "markdown",
   "metadata": {},
   "source": [
    "### Data loading"
   ]
  },
  {
   "cell_type": "code",
   "execution_count": 216,
   "metadata": {},
   "outputs": [],
   "source": [
    "#load the problem with problem_X, for X that goes from 0 to 8\n",
    "problem = np.load('data/problem_4.npz')\n",
    "x = problem['x']\n",
    "y = problem['y']\n",
    "input_dim = x.shape[0]"
   ]
  },
  {
   "cell_type": "markdown",
   "metadata": {},
   "source": [
    "## Tournament selection for parents with fitness hole, tau=10\n",
    "Tournament selection is used in order to select an individual over a population. \n",
    "This algorithm, given the population, selects 10 random individuals and performs a tournament among them. There is a probability of 90% that the fittest individual wins, while, the remaining 10% of times, the opposite is done. \n",
    "Implementing a fitness hole as described can actually be beneficial in overcoming the challenges posed by an adaptive change that requires multiple intermediate steps. By intentionally allowing less fit individuals a chance to win, fitness holes can help navigate the evolutionary pathway where direct progression is hindered by intermediate steps that reduce overall fitness. This approach ensures that even though the final adaptation is advantageous, the evolutionary path to achieve it can successfully bypass 'fitness holes' that would otherwise deselect the intermediates before the final adaptation is achieved."
   ]
  },
  {
   "cell_type": "code",
   "execution_count": 217,
   "metadata": {},
   "outputs": [],
   "source": [
    "def tournament_selection(population,tau=10):\n",
    "    tau = min(tau, len(population)) #not needed in theory\n",
    "    tournament_indices = np.random.choice(len(population), tau, replace=False)\n",
    "\n",
    "    considered_individuals = []\n",
    "    for index in tournament_indices:\n",
    "        considered_individuals.append(population[index])\n",
    "    considered_individuals.sort(key=lambda i: i.fitness)\n",
    "    if random() < 0.9:\n",
    "        winner = considered_individuals[0].genome\n",
    "    else:\n",
    "        #Select one among the second and the worst\n",
    "        winner = considered_individuals[-1].genome\n",
    "    return winner\n"
   ]
  },
  {
   "cell_type": "code",
   "execution_count": 218,
   "metadata": {},
   "outputs": [],
   "source": [
    "def initialize_and_evaluate():\n",
    "    \"\"\"Generate a random individual and evaluate its fitness.\"\"\"\n",
    "    individual = Individual(genome=generate_program(input_dim))\n",
    "    individual.fitness = fitness_function(individual.genome, x, y)\n",
    "    return individual"
   ]
  },
  {
   "cell_type": "markdown",
   "metadata": {},
   "source": [
    "## Parameters"
   ]
  },
  {
   "cell_type": "code",
   "execution_count": 219,
   "metadata": {},
   "outputs": [],
   "source": [
    "generations = 200\n",
    "population_size = 200\n",
    "p_crossover = 0.6\n",
    "p_mutatation_after_x = 0.1\n",
    "p_basic_mutation = 0.4\n",
    "p_hoist = 0.05\n",
    "tweak_probability = 0.2\n",
    "#max_depth = 2  we are not using it for now\n",
    "elite_size = 10\n",
    "offspring_size = population_size "
   ]
  },
  {
   "cell_type": "markdown",
   "metadata": {},
   "source": [
    "Different EA aproach:\n",
    "1. In this version we always include the elite inside the next generation as a first step\n",
    "2. We extend population with the new population (resulting in having elites twice)\n",
    "3. We take only the distinct individuals\n",
    "4. We mantain inside the population only the population_size best individuals."
   ]
  },
  {
   "cell_type": "code",
   "execution_count": null,
   "metadata": {},
   "outputs": [],
   "source": [
    "# Inizializza popolazione\n",
    "np.seterr(all='ignore')\n",
    "\n",
    "# Initialize the population\n",
    "population = [initialize_and_evaluate() for _ in range(population_size)]\n",
    "population.sort(key=lambda i: i.fitness)\n",
    "# Loop principale per le generazioni\n",
    "def run_genetic_algorithm():\n",
    "    global population\n",
    "\n",
    "    for gen in range(generations):\n",
    "        \n",
    "        mape_val = mape(population[0].genome, x, y)\n",
    "        mse_val = mse(population[0].genome, x, y)\n",
    "        np.seterr(all='warn')\n",
    "        print(f\"Generation {gen + 1}, mape: {mape_val:.6f}, mse: {mse_val:.6f}\")\n",
    "        #population is already sorted, so:\n",
    "        print(f\"Best formula: {program_to_string(population[0].genome)}\")\n",
    "        np.seterr(all='ignore')\n",
    "        \n",
    "        # Crea la nuova generazione\n",
    "        next_population = []\n",
    "        next_population.extend(population[:elite_size])  # keep the best individuals.\n",
    "        \n",
    "        while len(next_population) < offspring_size:\n",
    "            if random() < p_crossover:\n",
    "                # Crossover\n",
    "                parent1, parent2 = tournament_selection(population), tournament_selection(population)\n",
    "                child1 = crossover(safe_copy(parent1), safe_copy(parent2))\n",
    "                #if(random()<p_mutatation_after_x):\n",
    "                    #child1 = mutate(safe_copy(child1), input_dim)\n",
    "                next_population.append(Individual(genome=child1, fitness=fitness_function(child1, x, y)))\n",
    "            else:\n",
    "                parent = tournament_selection(population)\n",
    "                \n",
    "                if(random()<0.2):\n",
    "                    mutant = mutate(safe_copy(parent),input_dim)\n",
    "                else:\n",
    "                    mutant = point_mutation(safe_copy(parent)) \n",
    "                if(random()<p_hoist):\n",
    "                    mutant = hoist_mutation(safe_copy(mutant))\n",
    "                next_population.append(Individual(genome=mutant, fitness=fitness_function(mutant, x, y)))\n",
    "                    \n",
    "        # the new population is the one generated in the offspring\n",
    "        population.extend(next_population)\n",
    "\n",
    "        # Remove duplicates\n",
    "        unique_population = {}\n",
    "        for prog in population:\n",
    "            serialized = str(prog)\n",
    "            if serialized not in unique_population:\n",
    "                unique_population[serialized] = prog\n",
    "        \n",
    "        # update fitness of the new population\n",
    "        population = list(unique_population.values())\n",
    "        \n",
    "        population.sort(key=lambda i: i.fitness)\n",
    "        population = population[:population_size]\n",
    "        \n",
    "\n",
    "    # Identify the best program\n",
    "    population.sort(key=lambda i: i.fitness)\n",
    "    best_program = population[0]\n",
    "    best_mape = mape(best_program.genome, x, y)\n",
    "\n",
    "    print(\"Best program:\", best_program.genome, \"; Fitness:\", best_mape)\n",
    "    return best_program.genome\n",
    "\n",
    "best_program = run_genetic_algorithm()"
   ]
  },
  {
   "cell_type": "code",
   "execution_count": 333,
   "metadata": {},
   "outputs": [
    {
     "data": {
      "text/plain": [
       "'(cos(exp((x[0] - x[1]))) + ((-2.06 + (sin((x[0] * x[0])) + (cos((x[1] * 5.14)) + ((exp((x[1] * x[0])) * (4.229875753394239 + (cos(x[0]) * cos((x[1] + 0.54))))) * 1.08)))) + sin((x[0] * x[0]))))'"
      ]
     },
     "execution_count": 333,
     "metadata": {},
     "output_type": "execute_result"
    }
   ],
   "source": [
    "program_to_string(best_program)"
   ]
  }
 ],
 "metadata": {
  "kernelspec": {
   "display_name": "venv",
   "language": "python",
   "name": "python3"
  },
  "language_info": {
   "codemirror_mode": {
    "name": "ipython",
    "version": 3
   },
   "file_extension": ".py",
   "mimetype": "text/x-python",
   "name": "python",
   "nbconvert_exporter": "python",
   "pygments_lexer": "ipython3",
   "version": "3.11.5"
  }
 },
 "nbformat": 4,
 "nbformat_minor": 2
}
