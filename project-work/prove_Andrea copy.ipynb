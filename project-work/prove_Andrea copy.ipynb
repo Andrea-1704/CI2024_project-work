{
 "cells": [
  {
   "cell_type": "markdown",
   "metadata": {},
   "source": [
    "# Import"
   ]
  },
  {
   "cell_type": "code",
   "execution_count": 33,
   "metadata": {},
   "outputs": [],
   "source": [
    "import numpy as np\n",
    "from random import choice, choices, randint,random, uniform, sample\n",
    "import copy\n",
    "from dataclasses import dataclass"
   ]
  },
  {
   "cell_type": "markdown",
   "metadata": {},
   "source": [
    "THINGS TO BE DONE:\n",
    "1. IMPROVE THE GENERATION OF RANDOM PROGRAMS, CURRENTLY SOME OF THEM HAVE A STRANGE FORM SUCH AS \n",
    "f(x)= (sin(x)-3)/(4+3)-> even if probably it could be useful to reproduce the multiplication by a float.\n",
    "1. MUTATION SHOULD WORK, BUT CAN BE IMPROVED;\n",
    "2. CHECK ON MAX_DEPTH TO BE IMPLEMENTED BOTH IN MUTATE AND IN CROSSOVER, IN RANDOM_PROGRAM THE DEPTH CANNOT BE MORE THAN 3, SO NO PROBLEM THERE\n"
   ]
  },
  {
   "cell_type": "markdown",
   "metadata": {},
   "source": [
    "# Operations"
   ]
  },
  {
   "cell_type": "code",
   "execution_count": 34,
   "metadata": {},
   "outputs": [],
   "source": [
    "#The depth of a tree cannot be greater than 10 OVERALL\n",
    "MAX_TREE_DEPTH = 10\n",
    "\n",
    "#Operations with 1 or 2 arguments divided\n",
    "#Add a field of probabilities: sum and subtraction should be more likely to be chosen\n",
    "OPERATIONS_BINARY = [\n",
    "    (np.add, 2, \"({} + {})\",0.13),\n",
    "    (np.subtract, 2, \"({} - {})\",0.13),\n",
    "    (np.divide, 2, \"({} / {})\",0.1),\n",
    "    (np.multiply, 2, \"({} * {})\",0.1),   \n",
    "    (np.power, 2, \"({} ^ {})\",0.1),\n",
    "]\n",
    "\n",
    "BINARY_WEIGHTS = [op[3] for op in OPERATIONS_BINARY]\n",
    "\n",
    "#In this way, also sin and cos cannot be nested within sqrt and exp, to be changed if needed\n",
    "OPERATIONS_UNARY = [\n",
    "    (np.sin, 1, \"sin({})\",0.1),\n",
    "    (np.cos, 1, \"cos({})\",0.1),\n",
    "    (np.tan, 1, \"tan({})\",0.1),\n",
    "    (np.exp, 1, \"exp({})\",0.1),\n",
    "    (np.log, 1, \"log({})\",0.1),\n",
    "    (np.sqrt, 1, \"sqrt({})\",0.1),\n",
    "    (np.square, 1, \"square({})\",0.1),\n",
    "]\n",
    "UNARY_WEIGHTS = [op[3] for op in OPERATIONS_UNARY]\n",
    "OPERATIONS = OPERATIONS_BINARY + OPERATIONS_UNARY\n",
    "WEIGHTS = BINARY_WEIGHTS + UNARY_WEIGHTS    \n"
   ]
  },
  {
   "cell_type": "markdown",
   "metadata": {},
   "source": [
    "# Genothype definition"
   ]
  },
  {
   "cell_type": "markdown",
   "metadata": {},
   "source": [
    "The recursive function we've developed is designed to create complex mathematical formulas in a structured format, where each formula is represented as a list: `[operator, first_operand, second_operand]`. This format allows the recursive and hierarchical organization of operations, facilitating the computational evaluation and manipulation of the formula.\n",
    "\n",
    "Key features of this function include:\n",
    "\n",
    "1. **Use of Input Dimensions:** The function uses a list, `used_indices`, to track which input dimensions (e.g., `0,1`, etc.) have been utilized in the formula. This ensures comprehensive coverage of all available input variables (if the depth make it possible), making the formula relevant to all dimensions of the input data.  \n",
    "\n",
    "2. **Restrictions on Trigonometric Functions:** To enhance the mathematical sensibility of the formulas generated, the function includes a specific constraint regarding the nesting of trigonometric functions. Once a trigonometric function (such as `sin`, `cos`, etc.) is used, the function prohibits the inclusion of another trigonometric function within it. This constraint helps in preventing mathematically nonsensical expressions like `sin(cos(tan(x)))`, which, while computationally valid, may not be practically meaningful or may complicate the interpretation and analysis of the formula.\n",
    "\n",
    "This approach not only ensures that each formula is robust and contextually appropriate but also maintains clarity and reduces the computational redundancy that might arise from nested trigonometric operations. Such constraints are particularly important in scientific computing and simulations where the accuracy and interpretability of mathematical expressions are critical.\n"
   ]
  },
  {
   "cell_type": "code",
   "execution_count": 35,
   "metadata": {},
   "outputs": [],
   "source": [
    "#Here a random program is generated, taking into account the dimensions of the input already used\n",
    "#Make the initial depth hgìigher to ensure that all the dimensions are considered\n",
    "from random import choices\n",
    "\n",
    "\n",
    "def random_program(depth,input_dim,unary=False, used_indices=None):\n",
    "    if used_indices is None:\n",
    "        used_indices = set()\n",
    "\n",
    "    # Base case: generate a leaf node\n",
    "    if depth == 0 or (random()<0.3):\n",
    "        if len(used_indices) < input_dim:\n",
    "           # Ensure that all indices are used at least once\n",
    "            available_indices = list(set(range(input_dim)) - used_indices)\n",
    "            index = choice(available_indices)\n",
    "            used_indices.add(index)\n",
    "            return f\"x[{index}]\", used_indices\n",
    "        else:\n",
    "            # Once all indices are used, place a costant. Or do we also consider to place a variable twice?\n",
    "            return str(uniform(-10, 10)), used_indices\n",
    "           \n",
    "    # Recursive case: generate an inner node without starting composing too much trigonometric functions\n",
    "    #Last condition in end is done in order not to place twice a variable\n",
    "    if(depth<=1 and not unary and len(used_indices)!=input_dim):\n",
    "        operations = OPERATIONS\n",
    "        weights = WEIGHTS\n",
    "    else:\n",
    "        operations = OPERATIONS_BINARY\n",
    "        weights = BINARY_WEIGHTS\n",
    "    op, arity, symbol,p = choices(operations,weights=weights, k=1)[0]\n",
    "    if(unary != True):\n",
    "        unary = arity==1\n",
    "    children = []\n",
    "    for _ in range(arity):\n",
    "        child, used_indices = random_program(depth - 1, input_dim, unary, used_indices)\n",
    "        children.append(child)\n",
    "    return [symbol] + children,used_indices"
   ]
  },
  {
   "cell_type": "code",
   "execution_count": null,
   "metadata": {},
   "outputs": [],
   "source": []
  },
  {
   "cell_type": "code",
   "execution_count": 36,
   "metadata": {},
   "outputs": [],
   "source": [
    "#It takes the input dimension and generates a program for each dimension\n",
    "#Concatenates the programs together through a binary operation\n",
    "def generate_program(input_dim):\n",
    "    programs = []\n",
    "    for i in range(input_dim):\n",
    "        used_indices_local = set()\n",
    "        used_indices_local = set(range(input_dim)) - {i}\n",
    "        program = random_program(2, input_dim,used_indices=used_indices_local)[0]\n",
    "        programs.append(program)\n",
    "    #Combine programs together through a binary operation\n",
    "    program = programs[0]\n",
    "    for i in range(1,input_dim):\n",
    "        op, arity, symbol,p = choices(OPERATIONS_BINARY,weights=BINARY_WEIGHTS, k=1)[0]\n",
    "        program = [symbol] + [program, programs[i]]\n",
    "    return program\n"
   ]
  },
  {
   "cell_type": "markdown",
   "metadata": {},
   "source": [
    "## Individual"
   ]
  },
  {
   "cell_type": "markdown",
   "metadata": {},
   "source": [
    "We developed a dataclass to store the fitness value of each individual. This will allow us to avoid to recompute the fitness function for the same individual."
   ]
  },
  {
   "cell_type": "code",
   "execution_count": 37,
   "metadata": {},
   "outputs": [],
   "source": [
    "@dataclass\n",
    "class Individual:\n",
    "    genome: list\n",
    "    fitness : float = None"
   ]
  },
  {
   "cell_type": "markdown",
   "metadata": {},
   "source": [
    "## Transform the program into a human readable function"
   ]
  },
  {
   "cell_type": "code",
   "execution_count": 38,
   "metadata": {},
   "outputs": [],
   "source": [
    "def program_to_string(program):\n",
    "    if isinstance(program, str):  # leaf\n",
    "        return program  \n",
    "    elif isinstance(program, list):  \n",
    "        try:\n",
    "            _, _, symbol = next((op, arity, s) for op, arity, s,p in OPERATIONS if s == program[0])\n",
    "        except StopIteration:\n",
    "            raise ValueError(f\"Not known operation: {program[0]}\")\n",
    "        \n",
    "        children = [program_to_string(child) for child in program[1:]]\n",
    "        \n",
    "        return symbol.format(*children)\n"
   ]
  },
  {
   "cell_type": "code",
   "execution_count": 39,
   "metadata": {},
   "outputs": [
    {
     "name": "stdout",
     "output_type": "stream",
     "text": [
      "(x[0] ^ (square(x[1]) * (-0.28880657297978374 + -5.93404016467969)))\n"
     ]
    }
   ],
   "source": [
    "print(program_to_string(generate_program(2)))"
   ]
  },
  {
   "cell_type": "markdown",
   "metadata": {},
   "source": [
    "Now we need a function that given the genotype provide us with the output provided by the predicted function. This function must receive the input vector to perform his operation."
   ]
  },
  {
   "cell_type": "code",
   "execution_count": 40,
   "metadata": {},
   "outputs": [],
   "source": [
    "def evaluate_program(program, x):\n",
    "    if isinstance(program, str):  # Leaf node\n",
    "        #If it's a leaf, it could be a costant or a variable\n",
    "        if program[0] == 'x':\n",
    "            return x[int(program[2:-1])]\n",
    "        else:\n",
    "            return float(program)\n",
    "    elif isinstance(program, list): \n",
    "        op = next(op for op, _, symbol,p in OPERATIONS if symbol == program[0])\n",
    "        args = [evaluate_program(child, x) for child in program[1:]]\n",
    "        try:\n",
    "            return op(*args)\n",
    "        except ZeroDivisionError:\n",
    "            return np.inf"
   ]
  },
  {
   "cell_type": "markdown",
   "metadata": {},
   "source": [
    "As you may notice this function verify with the function __isinstance(element, type)__ if \"element\" is an instance of the \"type\", with the objective of understanding if it is a __leaf node__. If this is the case we simply extract the value out of it, otherwise we still need to invoke the function recursively."
   ]
  },
  {
   "cell_type": "markdown",
   "metadata": {},
   "source": [
    "## Fitness function"
   ]
  },
  {
   "cell_type": "markdown",
   "metadata": {},
   "source": [
    "The fitness function of a solution should consider the mean square error compared to the expected results and the \"complexity\" of is formulation in order to prefer simpler equations."
   ]
  },
  {
   "cell_type": "code",
   "execution_count": 41,
   "metadata": {},
   "outputs": [],
   "source": [
    "def mse(program, x, y):\n",
    "    predictions = np.array([evaluate_program(program, x_row) for x_row in x.T])\n",
    "    return float(100 * np.mean(np.square(predictions - y)))"
   ]
  },
  {
   "cell_type": "code",
   "execution_count": 42,
   "metadata": {},
   "outputs": [],
   "source": [
    "#Compute the depth of a program\n",
    "def depth(program):\n",
    "    if isinstance(program, str):\n",
    "        return 1\n",
    "    elif isinstance(program, list):\n",
    "        return 1 + max(depth(child) for child in program[1:])"
   ]
  },
  {
   "cell_type": "code",
   "execution_count": 43,
   "metadata": {},
   "outputs": [],
   "source": [
    "# Funzione di fitness avanzata ispirata a deep_based_FGP_NLS.py\n",
    "import math\n",
    "\n",
    "\n",
    "def fitness_function(program, x, y):\n",
    "    \"\"\"\n",
    "    Valuta la fitness di un programma.\n",
    "    \"\"\"\n",
    "    try:\n",
    "        # Valutazione del programma\n",
    "        predictions = np.array([evaluate_program(program, x_row) for x_row in x.T])\n",
    "        if np.any(np.isnan(predictions)) or np.any(np.isinf(predictions)):\n",
    "            return np.inf  # Penalizza programmi invalidi\n",
    "\n",
    "        # Calcolo dell'errore\n",
    "        #error = np.mean((predictions - y) ** 2)  # Errore quadratico medio\n",
    "        error = mse(program, x, y)\n",
    "        if not math.isfinite(error):\n",
    "            return np.inf\n",
    "\n",
    "        # How to evaluate the complexity of a program?\n",
    "        #It has to be related to the fitness computed\n",
    "        complexity_penalty = depth(program) * 0.01  #*error Multiplied by error, it could not be a general scale, it's problem dependant\n",
    "        fitness = error + complexity_penalty\n",
    "\n",
    "    except Exception as e:\n",
    "        # Penalizza programmi che generano errori\n",
    "        print(f\"Errore nella valutazione del programma: {e}\")\n",
    "        return np.inf\n",
    "\n",
    "    return fitness"
   ]
  },
  {
   "cell_type": "code",
   "execution_count": 44,
   "metadata": {},
   "outputs": [
    {
     "name": "stdout",
     "output_type": "stream",
     "text": [
      "((tan(x[0]) * 6.597657083149372) / (x[1] * -4.280383654297253))\n"
     ]
    }
   ],
   "source": [
    "print(program_to_string(generate_program(2)))"
   ]
  },
  {
   "cell_type": "markdown",
   "metadata": {},
   "source": [
    "PROVO AD APPLICARE LA FITNESS FUNCTION DI CRANMLER:"
   ]
  },
  {
   "cell_type": "code",
   "execution_count": 45,
   "metadata": {},
   "outputs": [],
   "source": [
    "def custom_fitness_factory(function, greater_is_better=True):\n",
    "    \"\"\"\n",
    "    Factory per creare metriche di fitness personalizzate compatibili con la tua struttura.\n",
    "    \"\"\"\n",
    "    sign = 1 if greater_is_better else -1\n",
    "\n",
    "    def fitness(program, x, y, weights=None):\n",
    "        try:\n",
    "            # Valutazione del programma\n",
    "            y_pred = np.array([evaluate_program(program, x_row) for x_row in x.T])\n",
    "\n",
    "            # Pesi uniformi se non specificati\n",
    "            if weights is None:\n",
    "                weights = np.ones_like(y)\n",
    "\n",
    "            # Calcolo della fitness\n",
    "            return sign * function(y, y_pred, weights)\n",
    "        except Exception as e:\n",
    "            print(f\"Errore nella valutazione del programma: {e}\")\n",
    "            return np.inf  # Penalità per errori\n",
    "\n",
    "    return fitness\n",
    "\n",
    "# Definizione delle metriche\n",
    "def mean_square_error(y, y_pred, weights):\n",
    "    \"\"\"Errore quadratico medio\"\"\"\n",
    "    return np.average((y - y_pred) ** 2, weights=weights)\n",
    "\n",
    "def mean_absolute_error(y, y_pred, weights):\n",
    "    \"\"\"Errore assoluto medio\"\"\"\n",
    "    return np.average(np.abs(y - y_pred), weights=weights)\n",
    "\n",
    "# Factory per creare metriche personalizzate\n",
    "mse_fitness = custom_fitness_factory(mean_square_error, greater_is_better=False)\n",
    "mae_fitness = custom_fitness_factory(mean_absolute_error, greater_is_better=False)\n"
   ]
  },
  {
   "cell_type": "code",
   "execution_count": 46,
   "metadata": {},
   "outputs": [],
   "source": [
    "# def fitness_function(program, x, y):\n",
    "#     \"\"\"\n",
    "#     Valuta la fitness di un programma utilizzando la metrica selezionata.\n",
    "#     \"\"\"\n",
    "#     return mse_fitness(program, x, y)\n"
   ]
  },
  {
   "cell_type": "markdown",
   "metadata": {},
   "source": [
    "## Tweak function"
   ]
  },
  {
   "cell_type": "markdown",
   "metadata": {},
   "source": [
    "There is a lot of __variability__ that has to be considered for the tweak function. We can now imagine to implement a recursive function that receives the program (which indicates the current function that we are using for the task), the number of dimensions for the input and the maximum depth allowed for the tweaked solution.\n",
    "\n",
    "Recursively, if we end up into a leaf node, or if the current solution is still a list but with 0.3 probability, we simply generate a new sub-program.\n",
    "\n",
    "Otherwise, we simply invoke the same function for a random index."
   ]
  },
  {
   "cell_type": "code",
   "execution_count": 47,
   "metadata": {},
   "outputs": [],
   "source": [
    "def mutate_program(program, input_dim, depth=3):\n",
    "    if random() < 0.3 or not isinstance(program, list):  \n",
    "        return random_program(depth, input_dim)[0]\n",
    "    idx = randint(1, len(program) - 1)\n",
    "    program[idx] = mutate_program(program[idx], input_dim, depth - 1)\n",
    "    return program"
   ]
  },
  {
   "cell_type": "markdown",
   "metadata": {},
   "source": [
    "Other function (FIGP based)"
   ]
  },
  {
   "cell_type": "code",
   "execution_count": 48,
   "metadata": {},
   "outputs": [],
   "source": [
    "def mutate_program(program, input_dim, max_depth=3):\n",
    "    \"\"\"Mutazione per rimpiazzare un sottoalbero casuale.\"\"\"\n",
    "    mutant = copy.deepcopy(program)\n",
    "    \n",
    "    def get_subtree_points(prog):\n",
    "        return [i for i, node in enumerate(prog) if isinstance(node, list)]\n",
    "    \n",
    "    points = get_subtree_points(mutant)\n",
    "    if not points:\n",
    "        return random_program(max_depth, input_dim)[0]  # Genera nuovo programma\n",
    "    \n",
    "    point = choice(points)\n",
    "    new_subtree = random_program(randint(1, max_depth), input_dim)[0]  # Nuovo sottoalbero\n",
    "    mutant[point] = new_subtree\n",
    "    \n",
    "    return mutant\n"
   ]
  },
  {
   "cell_type": "code",
   "execution_count": 49,
   "metadata": {},
   "outputs": [],
   "source": [
    "#Functions to find all the subtree recursively and to access them \n",
    "def get_subtree_points_recursive(prog, path='', index=0, result=None):\n",
    "    if result is None:\n",
    "        result = []\n",
    "    # Se l'elemento corrente è una lista e contiene sottoalberi, registrarlo\n",
    "    if isinstance(prog, list) and len(prog) > 1:  # Assicurati che non sia una lista vuota o singolo elemento\n",
    "        if path:\n",
    "            result.append(path)\n",
    "        for i, node in enumerate(prog):\n",
    "            if isinstance(node, list):  # Se il nodo è una lista, esplorarlo ulteriormente\n",
    "                new_path = f\"{path}[{i}]\" if path else f\"[{i}]\"\n",
    "                get_subtree_points_recursive(node, new_path, i, result)\n",
    "    return result\n",
    "def access_node_by_path(prog, path):\n",
    "    # Rimuove i caratteri non necessari e suddivide il percorso in indici interi\n",
    "    indices = [int(p.strip('][')) for p in path.split('][') if p]\n",
    "    current = prog\n",
    "    for index in indices:\n",
    "        current = current[index]\n",
    "    return current\n",
    "\n",
    "#Returns a set of integers representing the indices of the variables in the program\n",
    "def find_variable_indices(node, result=None):\n",
    "    if result is None:\n",
    "        result = set()\n",
    "\n",
    "    # Verifica se il nodo è una lista e procedi ricorsivamente\n",
    "    if isinstance(node, list):\n",
    "        for child in node:\n",
    "            find_variable_indices(child, result)\n",
    "    # Altrimenti, controlla se è una variabile e raccogli l'indice\n",
    "    elif isinstance(node, str) and node.startswith('x['):\n",
    "        result.add(int(node[2:-1]))\n",
    "\n",
    "    return result\n",
    "\n",
    "def set_subtree_at_path(program, path, new_subtree):\n",
    "    \"\"\"Imposta il nuovo sottoalbero al percorso specificato all'interno del programma.\"\"\"\n",
    "    if path == '':\n",
    "        return new_subtree\n",
    "    current = program\n",
    "    indices = [int(x) for x in path.strip('][').split('][')]\n",
    "    for i in indices[:-1]:  # Vai fino al genitore del nodo finale\n",
    "        current = current[i]\n",
    "    current[indices[-1]] = new_subtree  # Sostituisci il sottoalbero\n",
    "    return program\n",
    "#given a program, a path and an operation, swap the operation in that point\n",
    "def swap_operation_at_path(program, path, new_op):\n",
    "    \"\"\"Sostituisce l'operazione al percorso specificato all'interno del programma.\"\"\"\n",
    "    current = program\n",
    "    indices = [int(x) for x in path.strip('][').split('][')]\n",
    "    for i in indices[:-1]:  # Vai fino al genitore del nodo finale\n",
    "        current = current[i]\n",
    "    if isinstance(current[indices[-1]], list):  # Assicurati che il target sia una lista (sottoalbero)\n",
    "        current[indices[-1]][0] = new_op  # Sostituisci solo l'operazione, non l'intero sottoalbero\n",
    "    return program\n",
    "\n"
   ]
  },
  {
   "cell_type": "markdown",
   "metadata": {},
   "source": [
    "Other function (FIGP based)"
   ]
  },
  {
   "cell_type": "markdown",
   "metadata": {},
   "source": [
    "The idea of the mutation is that recursively finds all the subtree of the tree. Casually select one of them. It checks which variables were in that subtree and generates a new tree containing the same variables to be added at that place: it ensures that we always consider all the dimensions of the input. \n",
    "To be done: mantain the depth under MAX_DEPTH and, with a certain probability, only swap operation between two trees instead of mutating the entire subtree, or do both of them (it happens sometimes).\n",
    "\n",
    "If the considered sub tree do not contains any variable's dimension, we can return a constant value."
   ]
  },
  {
   "cell_type": "code",
   "execution_count": 50,
   "metadata": {},
   "outputs": [],
   "source": [
    "def mutate(program, input_dim, max_depth=3):\n",
    "    \"\"\"Mutazione di un programma.\"\"\"\n",
    "    mutant = copy.deepcopy(program)\n",
    "\n",
    "    points = get_subtree_points_recursive(program)\n",
    "    if not points:\n",
    "        return generate_program(input_dim)\n",
    "\n",
    "    point = choice(points)\n",
    "    subtree = access_node_by_path(mutant, point)\n",
    "    \n",
    "    variable_set = find_variable_indices(subtree)\n",
    "    \n",
    "    variables = set(range(input_dim))-variable_set\n",
    "    \n",
    "    new_subtree = []\n",
    "    if(len(variable_set)==0):\n",
    "        #return generate_program(input_dim)\n",
    "        new_subtree = str(random()*9+1)\n",
    "        return set_subtree_at_path(mutant, point, new_subtree)\n",
    "    elif(len(variable_set)==1):\n",
    "        new_subtree = random_program(1, input_dim,False,variables)[0]\n",
    "    else:\n",
    "        new_subtree = random_program(max_depth, input_dim,False,variables)[0]\n",
    "    mutant = set_subtree_at_path(mutant, point, new_subtree)\n",
    "    if(random()<0.4):\n",
    "            points = get_subtree_points_recursive(mutant)\n",
    "            if not points:\n",
    "                return mutant\n",
    "            point = choice(points)\n",
    "            #Randomly choose a binary operation\n",
    "            op, arity, symbol,p = choices(OPERATIONS_BINARY,weights=BINARY_WEIGHTS, k=1)[0]\n",
    "            if(len(access_node_by_path(mutant, point)) == 3):\n",
    "                mutant = swap_operation_at_path(mutant, point, symbol)\n",
    "\n",
    "    return mutant"
   ]
  },
  {
   "cell_type": "code",
   "execution_count": 51,
   "metadata": {},
   "outputs": [
    {
     "name": "stdout",
     "output_type": "stream",
     "text": [
      "((x[0] ^ (4.038549501562752 + -8.728664529167734)) * (x[1] * (-1.870455881379831 + 3.792076628242043)))\n",
      "((x[0] ^ 1.0315691987817703) * (x[1] * (-1.870455881379831 + 3.792076628242043)))\n"
     ]
    }
   ],
   "source": [
    "prog = generate_program(2)\n",
    "print(program_to_string(prog))\n",
    "mutated = mutate(prog, 2)\n",
    "print(program_to_string(mutated))"
   ]
  },
  {
   "cell_type": "markdown",
   "metadata": {},
   "source": [
    "Let's create a new tweak function that is able to tweak a program by adding an unary operation in leaf nodes (if it not a constant value nor already a unary operation)."
   ]
  },
  {
   "cell_type": "code",
   "execution_count": 52,
   "metadata": {},
   "outputs": [],
   "source": [
    "def tweak_program_2(program):\n",
    "    \"\"\"\n",
    "    Modifica un sottoalbero del programma aggiungendo un operatore unario\n",
    "    su una foglia, evitando di applicarlo a una foglia già modificata da un operatore unario.\n",
    "    \"\"\"\n",
    "    # Trova tutte le foglie del programma\n",
    "    def get_leaf_indices(node, path=()):\n",
    "        \"\"\"\n",
    "        Ritorna i percorsi alle foglie dell'albero.\n",
    "        Una foglia è un valore (stringa o numero) non ulteriormente divisibile.\n",
    "        \"\"\"\n",
    "        if isinstance(node, (str, int, float)):  # Nodo foglia (variabile o costante)\n",
    "            return [path]\n",
    "        elif isinstance(node, list) and len(node) > 1:  # Nodo interno valido\n",
    "            indices = []\n",
    "            for i, child in enumerate(node[1:], start=1):  # Salta l'operatore\n",
    "                indices.extend(get_leaf_indices(child, path + (i,)))\n",
    "            return indices\n",
    "        return []  # Nodo vuoto o non valido\n",
    "\n",
    "    # Ottieni tutte le foglie\n",
    "    leaf_indices = get_leaf_indices(program)\n",
    "    if not leaf_indices:\n",
    "        return program  # Nessuna modifica possibile\n",
    "\n",
    "    # Seleziona casualmente una foglia\n",
    "    selected_leaf_path = choice(leaf_indices)\n",
    "\n",
    "    # Accedi alla foglia selezionata\n",
    "    node = program\n",
    "    for idx in selected_leaf_path[:-1]:\n",
    "        node = node[idx]\n",
    "\n",
    "    # Verifica che il nodo sia valido prima di modificare\n",
    "    if isinstance(node, list) and len(selected_leaf_path) > 0:\n",
    "        leaf = node[selected_leaf_path[-1]]\n",
    "        \n",
    "        # Verifica se la foglia è modificabile\n",
    "        if isinstance(leaf, (str, int, float)):\n",
    "            # Scegli un operatore unario\n",
    "            unary_operator = choice([\"sin({})\", \"cos({})\", \"tan({})\", \"log({})\", \"sqrt({})\"])\n",
    "            \n",
    "            # Applica l'operatore unario\n",
    "            node[selected_leaf_path[-1]] = [unary_operator, leaf]\n",
    "        elif isinstance(leaf, list) and len(leaf) == 2 and isinstance(leaf[0], str):\n",
    "            # La foglia è già un operatore unario applicato: non fare nulla\n",
    "            pass\n",
    "\n",
    "    return program\n"
   ]
  },
  {
   "cell_type": "markdown",
   "metadata": {},
   "source": [
    "Let's also introduce a function that simply search for a leaf node of a constant (numerical) value and multiply it by 1.x, where x is randomicaly selected in order to convert the the number to a float value."
   ]
  },
  {
   "cell_type": "code",
   "execution_count": 53,
   "metadata": {},
   "outputs": [
    {
     "name": "stdout",
     "output_type": "stream",
     "text": [
      "['+', 3, ['*', ['sin', 'x[0]'], 5.295995572809986], ['-', 7, 2]]\n"
     ]
    }
   ],
   "source": [
    "from random import choice, uniform\n",
    "\n",
    "def tweak_program_with_constant(program):\n",
    "    \"\"\"\n",
    "    Modifica un nodo foglia che sia una costante numerica, moltiplicandolo\n",
    "    per una costante moltiplicativa del tipo 1,x, dove x è un float casuale.\n",
    "    \"\"\"\n",
    "    # Trova tutte le foglie del programma\n",
    "    def get_leaf_indices(node, path=()):\n",
    "        \"\"\"\n",
    "        Ritorna i percorsi alle foglie dell'albero.\n",
    "        Una foglia è un valore (numero o variabile) non ulteriormente divisibile.\n",
    "        \"\"\"\n",
    "        if isinstance(node, (int, float)):  # Nodo foglia costante\n",
    "            return [path]\n",
    "        elif isinstance(node, list) and len(node) > 1:  # Nodo interno valido\n",
    "            indices = []\n",
    "            for i, child in enumerate(node[1:], start=1):  # Salta l'operatore\n",
    "                indices.extend(get_leaf_indices(child, path + (i,)))\n",
    "            return indices\n",
    "        return []  # Nodo vuoto o non valido\n",
    "\n",
    "    # Ottieni tutte le foglie\n",
    "    leaf_indices = get_leaf_indices(program)\n",
    "    if not leaf_indices:\n",
    "        return program  # Nessuna modifica possibile\n",
    "\n",
    "    # Filtra solo le costanti numeriche\n",
    "    constant_leaf_indices = []\n",
    "    for path in leaf_indices:\n",
    "        node = program\n",
    "        for idx in path[:-1]:\n",
    "            node = node[idx]\n",
    "        leaf = node[path[-1]]\n",
    "        if isinstance(leaf, (int, float)):\n",
    "            constant_leaf_indices.append(path)\n",
    "\n",
    "    if not constant_leaf_indices:\n",
    "        return program  # Nessuna costante da modificare\n",
    "\n",
    "    # Seleziona casualmente una foglia costante\n",
    "    selected_leaf_path = choice(constant_leaf_indices)\n",
    "\n",
    "    # Accedi alla foglia selezionata\n",
    "    node = program\n",
    "    for idx in selected_leaf_path[:-1]:\n",
    "        node = node[idx]\n",
    "\n",
    "    # Moltiplica la costante per una costante moltiplicativa casuale\n",
    "    leaf = node[selected_leaf_path[-1]]\n",
    "    if isinstance(leaf, (int, float)):\n",
    "        multiplier = uniform(1.0, 2.0)  # Genera un moltiplicatore casuale tra 1.0 e 2.0\n",
    "        node[selected_leaf_path[-1]] = leaf * multiplier\n",
    "\n",
    "    return program\n",
    "\n",
    "# Esempio di utilizzo\n",
    "program = ['+', 3, ['*', ['sin', 'x[0]'], 5], ['-', 7, 2]]\n",
    "modified_program = tweak_program_with_constant(program)\n",
    "print(modified_program)\n"
   ]
  },
  {
   "cell_type": "markdown",
   "metadata": {},
   "source": [
    "## Crossover"
   ]
  },
  {
   "cell_type": "markdown",
   "metadata": {},
   "source": [
    "We can use a croossover function that receives only 2 parents and, if one of them is a leaf program simply return casually one of the 2 programs (avoiding to perform the operation for programs with no childrens). Otherwise, select random indexes for both the parents and combine the first part of the tree with the second part of the tree of the 2 parents, returning a new individual."
   ]
  },
  {
   "cell_type": "code",
   "execution_count": 54,
   "metadata": {},
   "outputs": [],
   "source": [
    "def crossover(parent1, parent2, max_depth=3):\n",
    "    \"\"\"Crossover tra due programmi.\"\"\"\n",
    "    child1, child2 = copy.deepcopy(parent1), copy.deepcopy(parent2)\n",
    "\n",
    "    if len(parent1) < 2 or len(parent2) < 2:\n",
    "        return parent1, parent2  # Evita crossover se i programmi sono troppo piccoli\n",
    "\n",
    "    # Punti di crossover validi\n",
    "    def get_subtree_points(prog):\n",
    "        return [i for i, node in enumerate(prog) if isinstance(node, list)]\n",
    "\n",
    "    points1 = get_subtree_points(parent1)\n",
    "    points2 = get_subtree_points(parent2)\n",
    "\n",
    "    if not points1 or not points2:\n",
    "        return parent1, parent2  # Nessun punto valido per il crossover\n",
    "\n",
    "    point1 = choice(points1)\n",
    "    point2 = choice(points2)\n",
    "\n",
    "    # Scambia i sottoalberi\n",
    "    subtree1 = parent1[point1]\n",
    "    subtree2 = parent2[point2]\n",
    "\n",
    "    child1[point1], child2[point2] = subtree2, subtree1\n",
    "\n",
    "    return child1, child2"
   ]
  },
  {
   "cell_type": "markdown",
   "metadata": {},
   "source": [
    "New crossover function that tries to swap two sub-trees only if they uses the same set of variables (to ensure that the result will actually contain each component of the input variable exactly once)."
   ]
  },
  {
   "cell_type": "code",
   "execution_count": 55,
   "metadata": {},
   "outputs": [],
   "source": [
    "import copy\n",
    "from random import choice\n",
    "\n",
    "def check_depth(subtree, max_depth):\n",
    "    \"\"\" Verifica se la profondità del sottoalbero supera max_depth. \"\"\"\n",
    "    def depth(tree, current_depth):\n",
    "        if not isinstance(tree, list) or not tree:\n",
    "            return current_depth\n",
    "        return max(depth(child, current_depth + 1) for child in tree)\n",
    "    return depth(subtree, 0) <= max_depth\n",
    "\n",
    "def crossover(parent1, parent2, max_depth,input_dim):\n",
    "    \"\"\" Crossover a singolo punto tra due programmi con controllo della profondità e variabili. \"\"\"\n",
    "    child1, child2 = copy.deepcopy(parent1), copy.deepcopy(parent2)\n",
    "    \n",
    "    points1 = get_subtree_points_recursive(child1)\n",
    "    points2 = get_subtree_points_recursive(child2)\n",
    "    \n",
    "    if not points1 or not points2:\n",
    "        return generate_program(input_dim), generate_program(input_dim)  \n",
    "    \n",
    "    valid = False\n",
    "    attempts = 0\n",
    "    while not valid and attempts < 100:  # Limita il numero di tentativi per evitare loop infiniti\n",
    "        point1 = choice(points1)\n",
    "        point2 = choice(points2)\n",
    "\n",
    "        subtree1 = access_node_by_path(child1, point1)\n",
    "        subtree2 = access_node_by_path(child2, point2)\n",
    "\n",
    "        variable_set_1 = find_variable_indices(subtree1)\n",
    "        variable_set_2 = find_variable_indices(subtree2)\n",
    "        # Verifica se i sottoalberi possono essere scambiati rispetto a variabili e profondità\n",
    "        if (set(find_variable_indices(subtree1)) == set(find_variable_indices(subtree2)) and\n",
    "            len(variable_set_1)==input_dim and\n",
    "            check_depth(subtree1, max_depth) and check_depth(subtree2, max_depth)):\n",
    "            valid = True\n",
    "        attempts += 1\n",
    "\n",
    "    if valid:\n",
    "        child1 = set_subtree_at_path(child1, point1, subtree2)\n",
    "        child2 = set_subtree_at_path(child2, point2, subtree1)\n",
    "\n",
    "    return child1, child2\n"
   ]
  },
  {
   "cell_type": "markdown",
   "metadata": {},
   "source": [
    "## Genetic algorithm"
   ]
  },
  {
   "cell_type": "markdown",
   "metadata": {},
   "source": [
    "### Data loading"
   ]
  },
  {
   "cell_type": "code",
   "execution_count": 56,
   "metadata": {},
   "outputs": [
    {
     "name": "stdout",
     "output_type": "stream",
     "text": [
      "(2, 5000)\n",
      "(5000,)\n",
      "[[ 3.15087424 -0.14015422 -2.77684915 ... -3.48341583  4.08664981\n",
      "  -4.37254358]\n",
      " [-1.73013313 -1.69649662 -1.408818   ... -3.28548272 -2.58382568\n",
      "   3.30721333]]\n",
      "[ 1.88232927  2.41457111  4.66075397 -3.65489259 -3.54534824 -3.33158294\n",
      "  6.42403265 -3.65243484  8.52126374 -3.94847988]\n"
     ]
    }
   ],
   "source": [
    "#load the problem with problem_X, for X that goes from 0 to 8\n",
    "problem = np.load('data/problem_4.npz')\n",
    "x = problem['x']\n",
    "y = problem['y']\n",
    "print(x.shape)\n",
    "print(y.shape)\n",
    "print(x[0:10])\n",
    "print(y[0:10])"
   ]
  },
  {
   "cell_type": "markdown",
   "metadata": {},
   "source": [
    "## Tournament selection for parents, tau set to 20"
   ]
  },
  {
   "cell_type": "code",
   "execution_count": 57,
   "metadata": {},
   "outputs": [],
   "source": [
    "#The professor said that fitness hole could work in this case->implemented\n",
    "#Returning the worst one with a low probability, otherwise the best one\n",
    "def tournament_selection(population,tau=20):\n",
    "    tau = min(tau, len(population)) #not needed in theory\n",
    "    tournament_indices = np.random.choice(len(population), tau, replace=False)\n",
    "\n",
    "    considered_individuals = []\n",
    "    for index in tournament_indices:\n",
    "        considered_individuals.append(population[index])\n",
    "    considered_individuals.sort(key=lambda i: i.fitness)\n",
    "    if random() < 0.9:\n",
    "        winner = considered_individuals[0].genome\n",
    "    else:\n",
    "        #Select one among the second and the worst\n",
    "        winner = considered_individuals[randint(1,len(considered_individuals)-1)].genome\n",
    "    return winner\n"
   ]
  },
  {
   "cell_type": "markdown",
   "metadata": {},
   "source": [
    "## Simulated annealing"
   ]
  },
  {
   "cell_type": "code",
   "execution_count": 58,
   "metadata": {},
   "outputs": [],
   "source": [
    "import math\n",
    "\n",
    "\n",
    "def simulated_annealing(initial_program, x, y, max_iterations=50, initial_temperature=100, cooling_rate=0.95):\n",
    "    \n",
    "    # Programma corrente e relativa fitness\n",
    "    current_program = initial_program\n",
    "    current_fitness = fitness_function(current_program, x, y)\n",
    "    \n",
    "    # Memorizza il miglior programma trovato\n",
    "    best_program = current_program\n",
    "    best_fitness = current_fitness\n",
    "    \n",
    "    # Inizializza la temperatura\n",
    "    temperature = initial_temperature\n",
    "    \n",
    "    for iteration in range(max_iterations):\n",
    "        # Crea un programma candidato con una mutazione\n",
    "        candidate_program = mutate(current_program, x.shape[0])\n",
    "        candidate_fitness = fitness_function(candidate_program, x, y)\n",
    "        \n",
    "        # Calcola la variazione di fitness\n",
    "        fitness_delta = candidate_fitness - current_fitness\n",
    "        \n",
    "        # Accetta il nuovo programma se migliora o con probabilità decrescente\n",
    "        if fitness_delta < 0 or random() < math.exp(-fitness_delta / temperature):\n",
    "            current_program = candidate_program\n",
    "            current_fitness = candidate_fitness\n",
    "            \n",
    "            # Aggiorna il miglior programma trovato\n",
    "            if current_fitness < best_fitness:\n",
    "                best_program = current_program\n",
    "                best_fitness = current_fitness\n",
    "        \n",
    "        # Riduci la temperatura\n",
    "        temperature *= cooling_rate\n",
    "        \n",
    "        # Interrompi se la temperatura è troppo bassa\n",
    "        if temperature < 1e-3:\n",
    "            break\n",
    "    \n",
    "    return best_program"
   ]
  },
  {
   "cell_type": "markdown",
   "metadata": {},
   "source": [
    "## Parameters"
   ]
  },
  {
   "cell_type": "markdown",
   "metadata": {},
   "source": [
    "Parametri precedenti:"
   ]
  },
  {
   "cell_type": "code",
   "execution_count": 59,
   "metadata": {},
   "outputs": [],
   "source": [
    "# Parametri del GP\n",
    "generations = 200\n",
    "population_size = 1000\n",
    "p_crossover = 0.6\n",
    "p_mutation = 0.4\n",
    "tweak_probability = 0.1\n",
    "max_depth = 2 \n",
    "elite_size = 2\n",
    "offspring_size = population_size # Numero di discendenti generati per generazione"
   ]
  },
  {
   "cell_type": "markdown",
   "metadata": {},
   "source": [
    "Parametri solo per il testing: ho cercato di scegliere dei parametri che fossero più leggeri per velocizzare le operazioni:"
   ]
  },
  {
   "cell_type": "code",
   "execution_count": 60,
   "metadata": {},
   "outputs": [],
   "source": [
    "import copy\n",
    "def safe_copy(obj):\n",
    "    if isinstance(obj, list):\n",
    "        return copy.deepcopy(obj)  # Copia superficiale per liste\n",
    "    elif isinstance(obj, str):\n",
    "        return obj  # Le stringhe sono immutabili, restituisci direttamente\n",
    "    else:\n",
    "        raise TypeError(\"Tipo non supportato: solo stringhe o liste sono consentite.\")"
   ]
  },
  {
   "cell_type": "markdown",
   "metadata": {},
   "source": [
    "Different EA aproach:\n",
    "1. In this version we always include the elite inside the next generation as a first step\n",
    "2. We extend population with the new population (resulting in having elites twice)\n",
    "3. We take only the distinct individuals\n",
    "4. We mantain inside the population only the population_size best individuals."
   ]
  },
  {
   "cell_type": "markdown",
   "metadata": {},
   "source": [
    "NUOVO CODICE PRESO DA QUELLO DI GIT:"
   ]
  },
  {
   "cell_type": "code",
   "execution_count": 61,
   "metadata": {},
   "outputs": [],
   "source": [
    "\n",
    "\n",
    "def get_subtree(program):\n",
    "    \"\"\"\n",
    "    Trova un sottoalbero casuale in un programma rappresentato come lista ricorsiva.\n",
    "    \"\"\"\n",
    "    if isinstance(program, (str, int, float)):\n",
    "        # È una foglia (variabile o costante), non ci sono sottoalberi\n",
    "        return program, None\n",
    "\n",
    "    # Scegli un nodo casuale (radice o uno dei figli)\n",
    "    choice = randint(0, len(program) - 1)\n",
    "    if choice == 0:\n",
    "        # Radice: restituisci l'intero programma\n",
    "        return program, None\n",
    "    else:\n",
    "        # Ricorsione su uno dei figli\n",
    "        subtree, parent = get_subtree(program[choice])\n",
    "        return subtree, (program, choice)\n",
    "\n",
    "def crossover(parent1, parent2):\n",
    "    \"\"\"\n",
    "    Esegue il crossover tra due programmi, sostituendo un sottoalbero di parent1\n",
    "    con un sottoalbero di parent2.\n",
    "    \"\"\"\n",
    "    # Ottieni un sottoalbero casuale da entrambi i genitori\n",
    "    subtree1, parent1_info = get_subtree(parent1)\n",
    "    subtree2, _ = get_subtree(parent2)\n",
    "\n",
    "    if parent1_info is None:\n",
    "        # Sostituisci tutto parent1 con il sottoalbero di parent2\n",
    "        return subtree2\n",
    "    else:\n",
    "        # Sostituisci il sottoalbero in parent1\n",
    "        parent, idx = parent1_info\n",
    "        parent[idx] = subtree2\n",
    "        return parent1\n",
    "\n",
    "def subtree_mutation(program, random_program_generator):\n",
    "    \"\"\"\n",
    "    Sostituisce un sottoalbero casuale con uno generato casualmente.\n",
    "    \"\"\"\n",
    "    # Genera un nuovo programma casuale\n",
    "    new_subtree = random_program_generator()\n",
    "    \n",
    "    # Ottieni un sottoalbero casuale\n",
    "    _, parent_info = get_subtree(program)\n",
    "\n",
    "    if parent_info is None:\n",
    "        # Sostituisci l'intero programma\n",
    "        return new_subtree\n",
    "    else:\n",
    "        # Sostituisci il sottoalbero in posizione casuale\n",
    "        parent, idx = parent_info\n",
    "        parent[idx] = new_subtree\n",
    "        return program\n",
    "\n",
    "def hoist_mutation(program):\n",
    "    \"\"\"\n",
    "    Esegue la hoist mutation: sostituisce un sottoalbero con un sottoalbero interno.\n",
    "    \"\"\"\n",
    "    # Ottieni un sottoalbero casuale\n",
    "    subtree, parent_info = get_subtree(program)\n",
    "    \n",
    "    if not isinstance(subtree, list):\n",
    "        # Se il sottoalbero è una foglia, non possiamo fare hoist\n",
    "        return program\n",
    "\n",
    "    # Ottieni un sottoalbero interno del sottoalbero\n",
    "    inner_subtree, _ = get_subtree(subtree)\n",
    "\n",
    "    if parent_info is None:\n",
    "        # Sostituisci l'intero programma con l'inner subtree\n",
    "        return inner_subtree\n",
    "    else:\n",
    "        # Sostituisci il sottoalbero in posizione casuale\n",
    "        parent, idx = parent_info\n",
    "        parent[idx] = inner_subtree\n",
    "        return program\n",
    "\n",
    "def point_mutation(program, function_set, terminal_set):\n",
    "    \"\"\"\n",
    "    Esegue la point mutation: sostituisce funzioni o terminali con altri simili.\n",
    "    \"\"\"\n",
    "    if isinstance(program, list):\n",
    "        # Nodo funzione: muta ricorsivamente\n",
    "        for i in range(1, len(program)):\n",
    "            program[i] = point_mutation(program[i], function_set, terminal_set)\n",
    "\n",
    "        # Sostituisci la funzione con un'altra della stessa arità\n",
    "        if random() < 0.1:  # Probabilità di mutare la funzione\n",
    "            arity = len(program) - 1\n",
    "            program[0] = choice([f for f in function_set if f[1] == arity])\n",
    "\n",
    "    elif isinstance(program, str):\n",
    "        # Nodo terminale: sostituisci con un'altra variabile\n",
    "        if random() < 0.1:\n",
    "            program = choice(terminal_set)\n",
    "\n",
    "    elif isinstance(program, (int, float)):\n",
    "        # Nodo costante: modifica leggermente\n",
    "        if random() < 0.1:\n",
    "            program += random.uniform(-1, 1)\n",
    "\n",
    "    return program\n"
   ]
  },
  {
   "cell_type": "code",
   "execution_count": 62,
   "metadata": {},
   "outputs": [],
   "source": [
    "function_set = [\n",
    "    ('add', 2, '({} + {})'),\n",
    "    ('sub', 2, '({} - {})'),\n",
    "    ('mul', 2, '({} * {})'),\n",
    "    ('div', 2, '({} / {})'),\n",
    "    ('sin', 1, 'sin({})'),\n",
    "    ('cos', 1, 'cos({})')\n",
    "]\n",
    "\n",
    "terminal_set = ['x[0]', 'x[1]', 1.0, 2.0, 3.0]\n"
   ]
  },
  {
   "cell_type": "code",
   "execution_count": 63,
   "metadata": {},
   "outputs": [],
   "source": [
    "# # Inizializza popolazione\n",
    "# np.seterr(all='ignore')\n",
    "# input_dim = x.shape[0]\n",
    "# population = [Individual(genome=generate_program(input_dim)) for _ in range(population_size)]\n",
    "# for i in population:\n",
    "#     i.fitness=fitness_function(i.genome, x, y)\n",
    "# # for i in range (10):\n",
    "# #     ind = population[i]\n",
    "# #     gen = simulated_annealing(ind.genome, x, y)\n",
    "# #     fit = fitness_function(gen, x, y)\n",
    "# #     population[i] = Individual(genome=gen, fitness=fit)\n",
    "# # Loop principale per le generazioni\n",
    "# def run_genetic_algorithm():\n",
    "#     global population\n",
    "\n",
    "#     for gen in range(generations):\n",
    "#         population.sort(key=lambda i: i.fitness)\n",
    "#         mse_to_print = mse(population[0].genome, x, y)\n",
    "        \n",
    "#         #break the cycle if you found the best solution you're able to find with training data\n",
    "#         if(mse_to_print==0.0000): \n",
    "#             np.seterr(all='warn')\n",
    "#             print('Best program found with mse=0')\n",
    "#             return population[0].genome\n",
    "\n",
    "#         np.seterr(all='warn')\n",
    "#         print(f\"Generazione {gen + 1}, miglior fitness: {mse_to_print:.6f}\")\n",
    "#         #population is already sorted, so:\n",
    "#         print(f\"Best formula: {program_to_string(population[0].genome)}\")\n",
    "#         np.seterr(all='ignore')\n",
    "        \n",
    "#         # Crea la nuova generazione\n",
    "#         next_population = []\n",
    "#         next_population.extend(population[:elite_size])  # Mantieni i migliori individui\n",
    "#         # if(gen==6):\n",
    "#         #     for el in population:\n",
    "#         #         print(f\"Formula: {program_to_string(el.genome)}; Fitness: {el.fitness}\")\n",
    "        \n",
    "#         while len(next_population) < offspring_size:\n",
    "#             if random() < p_crossover:\n",
    "#                 # Crossover\n",
    "#                 #With random choice is much faster than tournament selection\n",
    "#                 #Choose the best and the second best parent\n",
    "#                 parent1, parent2 = tournament_selection(population), tournament_selection(population)\n",
    "#                 child1 = crossover(safe_copy(parent1), safe_copy(parent2))\n",
    "                \n",
    "#                 if random() < p_mutation:\n",
    "#                     child1 = hoist_mutation(safe_copy(child1))\n",
    "                \n",
    "#                 #let's add the new individuals:\n",
    "#                 next_population.append(Individual(genome=child1, fitness=fitness_function(child1, x, y)))\n",
    "            \n",
    "#                 if random() < tweak_probability and len(next_population) < offspring_size:\n",
    "#                     #new_ind = simulated_annealing(safe_copy(child1), x, y)\n",
    "#                     new_ind = mutate(safe_copy(child1), input_dim)\n",
    "#                     next_population.append(Individual(genome=new_ind, fitness=fitness_function(new_ind, x, y)))\n",
    "#             else:\n",
    "#                 # Mutate directly a parent\n",
    "#                 parent = tournament_selection(population)\n",
    "#                 mutant = hoist_mutation(safe_copy(parent))\n",
    "#                 next_population.append(Individual(genome=mutant, fitness=fitness_function(mutant, x, y)))\n",
    "                    \n",
    "#         # the new population is the one generated in the offspring\n",
    "#         population.extend(next_population)\n",
    "\n",
    "#         # Remove duplicates\n",
    "#         unique_population = {}\n",
    "#         for prog in population:\n",
    "#             serialized = str(prog)\n",
    "#             if serialized not in unique_population:\n",
    "#                 unique_population[serialized] = prog\n",
    "        \n",
    "#         # update fitness of the new population\n",
    "#         population = list(unique_population.values())\n",
    "        \n",
    "#         population.sort(key=lambda i: i.fitness)\n",
    "#         population = population[:population_size]\n",
    "#         # for ind in population:\n",
    "#         #     ind.fitness = fitness_function(ind.genome, x, y)\n",
    "\n",
    "#     # Identify the best program\n",
    "#     population.sort(key=lambda i: i.fitness)\n",
    "#     best_program = population[0]\n",
    "#     best_mse = mse(best_program.genome, x, y)\n",
    "\n",
    "#     print(\"Miglior programma:\", best_program.genome, \"; Fitness:\", best_mse)\n",
    "#     return best_program.genome\n",
    "\n",
    "# best_program = run_genetic_algorithm()"
   ]
  },
  {
   "cell_type": "code",
   "execution_count": 64,
   "metadata": {},
   "outputs": [],
   "source": [
    "#program_to_string(best_program)"
   ]
  },
  {
   "cell_type": "code",
   "execution_count": 65,
   "metadata": {},
   "outputs": [],
   "source": [
    "def get_subtree(program):\n",
    "    # Ricerca ricorsiva di un sottoalbero casuale\n",
    "    if isinstance(program, (str, int, float)):\n",
    "        return program, None\n",
    "    idx = randint(1, len(program) - 1)\n",
    "    return program[idx], (program, idx)\n",
    "\n",
    "def replace_subtree(program, target, replacement):\n",
    "    if program == target:\n",
    "        return replacement\n",
    "    for i in range(len(program)):\n",
    "        if isinstance(program[i], list):\n",
    "            program[i] = replace_subtree(program[i], target, replacement)\n",
    "    return program\n",
    "\n",
    "def subtree_mutation(program, random_program_generator):\n",
    "    subtree, _ = get_subtree(program)\n",
    "    new_subtree = random_program_generator()\n",
    "    return replace_subtree(program, subtree, new_subtree)\n",
    "\n",
    "def hoist_mutation(program):\n",
    "    subtree, _ = get_subtree(program)\n",
    "    inner_subtree, _ = get_subtree(subtree)\n",
    "    return replace_subtree(program, subtree, inner_subtree)\n",
    "\n",
    "def crossover(parent1, parent2):\n",
    "    subtree1, _ = get_subtree(parent1)\n",
    "    subtree2, _ = get_subtree(parent2)\n",
    "    return replace_subtree(parent1, subtree1, subtree2)\n"
   ]
  },
  {
   "cell_type": "code",
   "execution_count": 66,
   "metadata": {},
   "outputs": [],
   "source": [
    "\n",
    "\n",
    "def evolution_algorithm(population, x, y, generations, method_probs, tournament_size, random_program_generator, fitness_function):\n",
    "    \"\"\"\n",
    "    Evoluzione della popolazione tramite crossover, mutazione e riproduzione.\n",
    "\n",
    "    Args:\n",
    "        population: Lista di programmi iniziali.\n",
    "        x: Dati di input.\n",
    "        y: Target.\n",
    "        generations: Numero di generazioni da eseguire.\n",
    "        method_probs: Probabilità di applicare crossover, mutazioni, riproduzione.\n",
    "        tournament_size: Numero di partecipanti al torneo.\n",
    "        random_program_generator: Funzione per generare programmi casuali.\n",
    "        fitness_function: Funzione per calcolare la fitness di un programma.\n",
    "\n",
    "    Returns:\n",
    "        La popolazione evoluta e il miglior programma trovato.\n",
    "    \"\"\"\n",
    "    best_program = None\n",
    "    best_fitness = float('inf')\n",
    "\n",
    "    for gen in range(generations):\n",
    "        new_population = []\n",
    "\n",
    "        while len(new_population) < len(population):\n",
    "            # Selezione tramite torneo\n",
    "            def tournament(population):\n",
    "                candidates = sample(population, tournament_size)\n",
    "                return min(candidates, key=lambda p: fitness_function(p, x, y))\n",
    "\n",
    "            parent1 = tournament(population)\n",
    "\n",
    "            # Determina l'operazione genetica\n",
    "            method = random()\n",
    "\n",
    "            if method < method_probs[0]:\n",
    "                # Crossover\n",
    "                parent2 = tournament(population)\n",
    "                child = crossover(parent1, parent2)\n",
    "            elif method < method_probs[1]:\n",
    "                # Mutazione del sottoalbero\n",
    "                child = subtree_mutation(parent1, random_program_generator)\n",
    "            elif method < method_probs[2]:\n",
    "                # Hoist mutation\n",
    "                child = hoist_mutation(parent1)\n",
    "            elif method < method_probs[3]:\n",
    "                # Point mutation\n",
    "                child = hoist_mutation(parent1)\n",
    "            else:\n",
    "                # Riproduzione\n",
    "                child = parent1\n",
    "\n",
    "            new_population.append(child)\n",
    "\n",
    "        # Calcola la fitness della nuova popolazione\n",
    "        population = new_population\n",
    "        for program in population:\n",
    "            fitness = fitness_function(program, x, y)\n",
    "            if fitness < best_fitness:\n",
    "                best_fitness = fitness\n",
    "                best_program = program\n",
    "\n",
    "        print(f\"Generazione {gen + 1}: Migliore fitness = {best_fitness}\")\n",
    "\n",
    "    return best_program, population\n"
   ]
  },
  {
   "cell_type": "code",
   "execution_count": 67,
   "metadata": {},
   "outputs": [
    {
     "name": "stderr",
     "output_type": "stream",
     "text": [
      "C:\\Users\\andrea\\AppData\\Local\\Temp\\ipykernel_25124\\2439475429.py:12: RuntimeWarning: invalid value encountered in power\n",
      "  return op(*args)\n",
      "C:\\Users\\andrea\\AppData\\Local\\Temp\\ipykernel_25124\\2439475429.py:12: RuntimeWarning: invalid value encountered in log\n",
      "  return op(*args)\n",
      "C:\\Users\\andrea\\AppData\\Local\\Temp\\ipykernel_25124\\2439475429.py:12: RuntimeWarning: invalid value encountered in sqrt\n",
      "  return op(*args)\n"
     ]
    },
    {
     "name": "stdout",
     "output_type": "stream",
     "text": [
      "Generazione 1: Migliore fitness = 2262.1773907810925\n",
      "Generazione 2: Migliore fitness = 2262.1773907810925\n",
      "Generazione 3: Migliore fitness = 2262.1773907810925\n",
      "Generazione 4: Migliore fitness = 2262.1773907810925\n",
      "Generazione 5: Migliore fitness = 2262.1773907810925\n",
      "Generazione 6: Migliore fitness = 2262.1773907810925\n",
      "Generazione 7: Migliore fitness = 2262.1773907810925\n",
      "Generazione 8: Migliore fitness = 2262.1773907810925\n",
      "Generazione 9: Migliore fitness = 2262.1773907810925\n",
      "Generazione 10: Migliore fitness = 2262.1773907810925\n",
      "Generazione 11: Migliore fitness = 2262.1773907810925\n",
      "Generazione 12: Migliore fitness = 2262.1773907810925\n",
      "Generazione 13: Migliore fitness = 2262.1773907810925\n",
      "Generazione 14: Migliore fitness = 2262.1773907810925\n",
      "Generazione 15: Migliore fitness = 2262.1773907810925\n",
      "Generazione 16: Migliore fitness = 2262.1773907810925\n",
      "Generazione 17: Migliore fitness = 2262.1773907810925\n",
      "Generazione 18: Migliore fitness = 2262.1773907810925\n",
      "Generazione 19: Migliore fitness = 2262.1773907810925\n",
      "Generazione 20: Migliore fitness = 2262.1773907810925\n",
      "Generazione 21: Migliore fitness = 2262.1773907810925\n",
      "Generazione 22: Migliore fitness = 2262.1773907810925\n",
      "Generazione 23: Migliore fitness = 2262.1773907810925\n",
      "Generazione 24: Migliore fitness = 2262.1773907810925\n",
      "Generazione 25: Migliore fitness = 2262.1773907810925\n",
      "Generazione 26: Migliore fitness = 2262.1773907810925\n",
      "Generazione 27: Migliore fitness = 2262.1773907810925\n",
      "Generazione 28: Migliore fitness = 2262.1773907810925\n",
      "Generazione 29: Migliore fitness = 2262.1773907810925\n",
      "Generazione 30: Migliore fitness = 2262.1773907810925\n",
      "Generazione 31: Migliore fitness = 2262.1773907810925\n",
      "Generazione 32: Migliore fitness = 2262.1773907810925\n",
      "Generazione 33: Migliore fitness = 2262.1773907810925\n",
      "Generazione 34: Migliore fitness = 2262.1773907810925\n",
      "Generazione 35: Migliore fitness = 2262.1773907810925\n"
     ]
    },
    {
     "ename": "KeyboardInterrupt",
     "evalue": "",
     "output_type": "error",
     "traceback": [
      "\u001b[1;31m---------------------------------------------------------------------------\u001b[0m",
      "\u001b[1;31mKeyboardInterrupt\u001b[0m                         Traceback (most recent call last)",
      "Cell \u001b[1;32mIn[67], line 6\u001b[0m\n\u001b[0;32m      3\u001b[0m input_dim \u001b[38;5;241m=\u001b[39m x\u001b[38;5;241m.\u001b[39mshape[\u001b[38;5;241m0\u001b[39m]\n\u001b[0;32m      4\u001b[0m population \u001b[38;5;241m=\u001b[39m [generate_program(input_dim) \u001b[38;5;28;01mfor\u001b[39;00m _ \u001b[38;5;129;01min\u001b[39;00m \u001b[38;5;28mrange\u001b[39m(population_size)]\n\u001b[1;32m----> 6\u001b[0m best_program, final_population \u001b[38;5;241m=\u001b[39m \u001b[43mevolution_algorithm\u001b[49m\u001b[43m(\u001b[49m\n\u001b[0;32m      7\u001b[0m \u001b[43m    \u001b[49m\u001b[43mpopulation\u001b[49m\u001b[43m,\u001b[49m\u001b[43m \u001b[49m\u001b[43mx\u001b[49m\u001b[43m,\u001b[49m\u001b[43m \u001b[49m\u001b[43my\u001b[49m\u001b[43m,\u001b[49m\u001b[43m \u001b[49m\n\u001b[0;32m      8\u001b[0m \u001b[43m    \u001b[49m\u001b[43mgenerations\u001b[49m\u001b[38;5;241;43m=\u001b[39;49m\u001b[38;5;241;43m50\u001b[39;49m\u001b[43m,\u001b[49m\u001b[43m \u001b[49m\n\u001b[0;32m      9\u001b[0m \u001b[43m    \u001b[49m\u001b[43mmethod_probs\u001b[49m\u001b[38;5;241;43m=\u001b[39;49m\u001b[43mmethod_probs\u001b[49m\u001b[43m,\u001b[49m\u001b[43m \u001b[49m\n\u001b[0;32m     10\u001b[0m \u001b[43m    \u001b[49m\u001b[43mtournament_size\u001b[49m\u001b[38;5;241;43m=\u001b[39;49m\u001b[38;5;241;43m5\u001b[39;49m\u001b[43m,\u001b[49m\u001b[43m \u001b[49m\n\u001b[0;32m     11\u001b[0m \u001b[43m    \u001b[49m\u001b[43mrandom_program_generator\u001b[49m\u001b[38;5;241;43m=\u001b[39;49m\u001b[43mgenerate_program\u001b[49m\u001b[43m,\u001b[49m\u001b[43m \u001b[49m\n\u001b[0;32m     12\u001b[0m \u001b[43m    \u001b[49m\u001b[43mfitness_function\u001b[49m\u001b[38;5;241;43m=\u001b[39;49m\u001b[43mfitness_function\u001b[49m\n\u001b[0;32m     13\u001b[0m \u001b[43m)\u001b[49m\n",
      "Cell \u001b[1;32mIn[66], line 30\u001b[0m, in \u001b[0;36mevolution_algorithm\u001b[1;34m(population, x, y, generations, method_probs, tournament_size, random_program_generator, fitness_function)\u001b[0m\n\u001b[0;32m     27\u001b[0m     candidates \u001b[38;5;241m=\u001b[39m sample(population, tournament_size)\n\u001b[0;32m     28\u001b[0m     \u001b[38;5;28;01mreturn\u001b[39;00m \u001b[38;5;28mmin\u001b[39m(candidates, key\u001b[38;5;241m=\u001b[39m\u001b[38;5;28;01mlambda\u001b[39;00m p: fitness_function(p, x, y))\n\u001b[1;32m---> 30\u001b[0m parent1 \u001b[38;5;241m=\u001b[39m \u001b[43mtournament\u001b[49m\u001b[43m(\u001b[49m\u001b[43mpopulation\u001b[49m\u001b[43m)\u001b[49m\n\u001b[0;32m     32\u001b[0m \u001b[38;5;66;03m# Determina l'operazione genetica\u001b[39;00m\n\u001b[0;32m     33\u001b[0m method \u001b[38;5;241m=\u001b[39m random()\n",
      "Cell \u001b[1;32mIn[66], line 28\u001b[0m, in \u001b[0;36mevolution_algorithm.<locals>.tournament\u001b[1;34m(population)\u001b[0m\n\u001b[0;32m     26\u001b[0m \u001b[38;5;28;01mdef\u001b[39;00m \u001b[38;5;21mtournament\u001b[39m(population):\n\u001b[0;32m     27\u001b[0m     candidates \u001b[38;5;241m=\u001b[39m sample(population, tournament_size)\n\u001b[1;32m---> 28\u001b[0m     \u001b[38;5;28;01mreturn\u001b[39;00m \u001b[38;5;28;43mmin\u001b[39;49m\u001b[43m(\u001b[49m\u001b[43mcandidates\u001b[49m\u001b[43m,\u001b[49m\u001b[43m \u001b[49m\u001b[43mkey\u001b[49m\u001b[38;5;241;43m=\u001b[39;49m\u001b[38;5;28;43;01mlambda\u001b[39;49;00m\u001b[43m \u001b[49m\u001b[43mp\u001b[49m\u001b[43m:\u001b[49m\u001b[43m \u001b[49m\u001b[43mfitness_function\u001b[49m\u001b[43m(\u001b[49m\u001b[43mp\u001b[49m\u001b[43m,\u001b[49m\u001b[43m \u001b[49m\u001b[43mx\u001b[49m\u001b[43m,\u001b[49m\u001b[43m \u001b[49m\u001b[43my\u001b[49m\u001b[43m)\u001b[49m\u001b[43m)\u001b[49m\n",
      "Cell \u001b[1;32mIn[66], line 28\u001b[0m, in \u001b[0;36mevolution_algorithm.<locals>.tournament.<locals>.<lambda>\u001b[1;34m(p)\u001b[0m\n\u001b[0;32m     26\u001b[0m \u001b[38;5;28;01mdef\u001b[39;00m \u001b[38;5;21mtournament\u001b[39m(population):\n\u001b[0;32m     27\u001b[0m     candidates \u001b[38;5;241m=\u001b[39m sample(population, tournament_size)\n\u001b[1;32m---> 28\u001b[0m     \u001b[38;5;28;01mreturn\u001b[39;00m \u001b[38;5;28mmin\u001b[39m(candidates, key\u001b[38;5;241m=\u001b[39m\u001b[38;5;28;01mlambda\u001b[39;00m p: \u001b[43mfitness_function\u001b[49m\u001b[43m(\u001b[49m\u001b[43mp\u001b[49m\u001b[43m,\u001b[49m\u001b[43m \u001b[49m\u001b[43mx\u001b[49m\u001b[43m,\u001b[49m\u001b[43m \u001b[49m\u001b[43my\u001b[49m\u001b[43m)\u001b[49m)\n",
      "Cell \u001b[1;32mIn[43], line 11\u001b[0m, in \u001b[0;36mfitness_function\u001b[1;34m(program, x, y)\u001b[0m\n\u001b[0;32m      6\u001b[0m \u001b[38;5;250m\u001b[39m\u001b[38;5;124;03m\"\"\"\u001b[39;00m\n\u001b[0;32m      7\u001b[0m \u001b[38;5;124;03mValuta la fitness di un programma.\u001b[39;00m\n\u001b[0;32m      8\u001b[0m \u001b[38;5;124;03m\"\"\"\u001b[39;00m\n\u001b[0;32m      9\u001b[0m \u001b[38;5;28;01mtry\u001b[39;00m:\n\u001b[0;32m     10\u001b[0m     \u001b[38;5;66;03m# Valutazione del programma\u001b[39;00m\n\u001b[1;32m---> 11\u001b[0m     predictions \u001b[38;5;241m=\u001b[39m np\u001b[38;5;241m.\u001b[39marray([evaluate_program(program, x_row) \u001b[38;5;28;01mfor\u001b[39;00m x_row \u001b[38;5;129;01min\u001b[39;00m x\u001b[38;5;241m.\u001b[39mT])\n\u001b[0;32m     12\u001b[0m     \u001b[38;5;28;01mif\u001b[39;00m np\u001b[38;5;241m.\u001b[39many(np\u001b[38;5;241m.\u001b[39misnan(predictions)) \u001b[38;5;129;01mor\u001b[39;00m np\u001b[38;5;241m.\u001b[39many(np\u001b[38;5;241m.\u001b[39misinf(predictions)):\n\u001b[0;32m     13\u001b[0m         \u001b[38;5;28;01mreturn\u001b[39;00m np\u001b[38;5;241m.\u001b[39minf  \u001b[38;5;66;03m# Penalizza programmi invalidi\u001b[39;00m\n",
      "\u001b[1;31mKeyboardInterrupt\u001b[0m: "
     ]
    }
   ],
   "source": [
    "method_probs = [0.9, 0.01, 0.01, 0.01, 0.07]  # [Crossover, subtree, hoist, point, reproduction]\n",
    "population_size = 100\n",
    "input_dim = x.shape[0]\n",
    "population = [generate_program(input_dim) for _ in range(population_size)]\n",
    "\n",
    "best_program, final_population = evolution_algorithm(\n",
    "    population, x, y, \n",
    "    generations=50, \n",
    "    method_probs=method_probs, \n",
    "    tournament_size=5, \n",
    "    random_program_generator=generate_program, \n",
    "    fitness_function=fitness_function\n",
    ")\n"
   ]
  }
 ],
 "metadata": {
  "kernelspec": {
   "display_name": "Python 3",
   "language": "python",
   "name": "python3"
  },
  "language_info": {
   "codemirror_mode": {
    "name": "ipython",
    "version": 3
   },
   "file_extension": ".py",
   "mimetype": "text/x-python",
   "name": "python",
   "nbconvert_exporter": "python",
   "pygments_lexer": "ipython3",
   "version": "3.12.6"
  }
 },
 "nbformat": 4,
 "nbformat_minor": 2
}
