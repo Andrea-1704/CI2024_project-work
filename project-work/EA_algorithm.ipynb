{
 "cells": [
  {
   "cell_type": "markdown",
   "metadata": {},
   "source": [
    "# Import"
   ]
  },
  {
   "cell_type": "code",
   "execution_count": 597,
   "metadata": {},
   "outputs": [],
   "source": [
    "import numpy as np\n",
    "from random import choice, random, randint, sample\n",
    "import copy\n",
    "from dataclasses import dataclass"
   ]
  },
  {
   "cell_type": "markdown",
   "metadata": {},
   "source": [
    "# Operations"
   ]
  },
  {
   "cell_type": "code",
   "execution_count": 598,
   "metadata": {},
   "outputs": [],
   "source": [
    "OPERATIONS = [\n",
    "    (np.add, 2, \"({} + {})\"),\n",
    "    (np.subtract, 2, \"({} - {})\"),\n",
    "    (np.divide, 2, \"({} / {})\"),\n",
    "    (np.multiply, 2, \"({} * {})\"),\n",
    "    (np.sin, 1, \"sin({})\"),\n",
    "    (np.cos, 1, \"cos({})\"),\n",
    "    (np.tan, 1, \"tan({})\"),\n",
    "    (np.exp, 1, \"exp({})\"),\n",
    "    (np.log, 1, \"log({})\"),\n",
    "    (np.sqrt, 1, \"sqrt({})\"),\n",
    "    (np.square, 1, \"square({})\"),\n",
    "]"
   ]
  },
  {
   "cell_type": "markdown",
   "metadata": {},
   "source": [
    "# Genothype definition"
   ]
  },
  {
   "cell_type": "markdown",
   "metadata": {},
   "source": [
    "Let's consider the genotype as a list of elements with the following structure: [operator, first operand, secondo operand].\n",
    "In this way we are creating a recursive function that computes a valid formula and represent it as a list (example: [ \"+\", [\"sin\", \"x[0]\" ], \"x[1]\"])."
   ]
  },
  {
   "cell_type": "code",
   "execution_count": 599,
   "metadata": {},
   "outputs": [],
   "source": [
    "def random_program(depth, input_dim):\n",
    "    if depth == 0 or random() < 0.3:\n",
    "        #Return a costant between 1 and 10 or a random variable (prob=0.3)\n",
    "        if random() < 0.3:\n",
    "            return str(randint(2, 10)) #costant\n",
    "        else:\n",
    "            return f\"x[{randint(0, input_dim - 1)}]\" #new leaf node\n",
    "\n",
    "    op, arity, symbol = choice(OPERATIONS)\n",
    "    children = [random_program(depth - 1, input_dim) for _ in range(arity)]\n",
    "    return [symbol] + children  "
   ]
  },
  {
   "cell_type": "markdown",
   "metadata": {},
   "source": [
    "## Individual"
   ]
  },
  {
   "cell_type": "code",
   "execution_count": 600,
   "metadata": {},
   "outputs": [],
   "source": [
    "@dataclass\n",
    "class Individual:\n",
    "    genome: list\n",
    "    fitness : float = None"
   ]
  },
  {
   "cell_type": "markdown",
   "metadata": {},
   "source": [
    "## Transform the program into a human readable function"
   ]
  },
  {
   "cell_type": "code",
   "execution_count": 601,
   "metadata": {},
   "outputs": [],
   "source": [
    "def program_to_string(program):\n",
    "    if isinstance(program, str):  # leaf\n",
    "        return program  \n",
    "    elif isinstance(program, list):  \n",
    "        try:\n",
    "            _, _, symbol = next((op, arity, s) for op, arity, s in OPERATIONS if s == program[0])\n",
    "        except StopIteration:\n",
    "            raise ValueError(f\"Not known operation: {program[0]}\")\n",
    "        \n",
    "        children = [program_to_string(child) for child in program[1:]]\n",
    "        \n",
    "        return symbol.format(*children)\n"
   ]
  },
  {
   "cell_type": "code",
   "execution_count": 602,
   "metadata": {},
   "outputs": [
    {
     "data": {
      "text/plain": [
       "'x[2]'"
      ]
     },
     "execution_count": 602,
     "metadata": {},
     "output_type": "execute_result"
    }
   ],
   "source": [
    "program_to_string(random_program(6, 3))"
   ]
  },
  {
   "cell_type": "markdown",
   "metadata": {},
   "source": [
    "Now we need a function that given the genotype provide us with the output provided by the predicted function. This function must receive the input vector to perform his operation."
   ]
  },
  {
   "cell_type": "code",
   "execution_count": 603,
   "metadata": {},
   "outputs": [],
   "source": [
    "def evaluate_program(program, x):\n",
    "    if isinstance(program, str):  # Leaf node\n",
    "        #If it's a leaf, it could be a costant or a variable\n",
    "        if program[0] == 'x':\n",
    "            return x[int(program[2:-1])]\n",
    "        else:\n",
    "            return int(program)\n",
    "    elif isinstance(program, list): \n",
    "        op = next(op for op, _, symbol in OPERATIONS if symbol == program[0])\n",
    "        args = [evaluate_program(child, x) for child in program[1:]]\n",
    "        try:\n",
    "            return op(*args)\n",
    "        except ZeroDivisionError:\n",
    "            return np.inf"
   ]
  },
  {
   "cell_type": "code",
   "execution_count": 604,
   "metadata": {},
   "outputs": [
    {
     "data": {
      "text/plain": [
       "np.float64(0.6)"
      ]
     },
     "execution_count": 604,
     "metadata": {},
     "output_type": "execute_result"
    }
   ],
   "source": [
    "x = [2,3,4, 6]\n",
    "program = ['({} / {})', 'x[1]', '5']\n",
    "#evaluate_program returns y given the vector x and the program\n",
    "evaluate_program(program, x)"
   ]
  },
  {
   "cell_type": "markdown",
   "metadata": {},
   "source": [
    "As you may notice this function verify with the function __isinstance(element, type)__ if \"element\" is an instance of the \"type\", with the objective of understanding if it is a __leaf node__. If this is the case we simply extract the value out of it, otherwise we still need to invoke the function recursively."
   ]
  },
  {
   "cell_type": "markdown",
   "metadata": {},
   "source": [
    "## Fitness function"
   ]
  },
  {
   "cell_type": "markdown",
   "metadata": {},
   "source": [
    "For now, simply consider the fitness function of a solution as it's mean square error compared to the expected results."
   ]
  },
  {
   "cell_type": "code",
   "execution_count": 605,
   "metadata": {},
   "outputs": [],
   "source": [
    "#Let's also introduce a fitness function that is the same used by professors\n",
    "def fitness_evaluation_result(program, x, y):\n",
    "    predictions = np.array([evaluate_program(program, x_row) for x_row in x.T])\n",
    "    return float(100 * np.mean(np.square(predictions - y)))\n",
    "\n",
    "def fitness_function(program, x, y):\n",
    "    predictions = np.array([evaluate_program(program, x_row) for x_row in x.T])\n",
    "    return np.mean((predictions - y) ** 2)"
   ]
  },
  {
   "cell_type": "code",
   "execution_count": 606,
   "metadata": {},
   "outputs": [
    {
     "data": {
      "text/plain": [
       "32.28954531480122"
      ]
     },
     "execution_count": 606,
     "metadata": {},
     "output_type": "execute_result"
    }
   ],
   "source": [
    "x = np.random.uniform(-1, 1, size=(2, 1000))  # 2 feature, 1000 esempi\n",
    "y = x[0] + np.sin(x[1]) / 5\n",
    "fitness_evaluation_result(program, x, y)"
   ]
  },
  {
   "cell_type": "markdown",
   "metadata": {},
   "source": [
    "## Tweak function"
   ]
  },
  {
   "cell_type": "markdown",
   "metadata": {},
   "source": [
    "There is a lot of __variability__ that has to be considered for the tweak function. We can now imagine to implement a recursive function that receives the program (which indicates the current function that we are using for the task), the number of dimensions for the input and the maximum depth allowed for the tweaked solution.\n",
    "\n",
    "Recursively, if we end up into a leaf node, or if the current solution is still a list but with 0.3 probability, we simply generate a new sub-program.\n",
    "\n",
    "Otherwise, we simply invoke the same function for a random index."
   ]
  },
  {
   "cell_type": "code",
   "execution_count": 607,
   "metadata": {},
   "outputs": [],
   "source": [
    "def mutate_program(program, input_dim, depth=3):\n",
    "    if random() < 0.3 or not isinstance(program, list):  \n",
    "        return random_program(depth, input_dim)\n",
    "    idx = randint(1, len(program) - 1)\n",
    "    program[idx] = mutate_program(program[idx], input_dim, depth - 1)\n",
    "    return program"
   ]
  },
  {
   "cell_type": "markdown",
   "metadata": {},
   "source": [
    "Other function (FIGP based)"
   ]
  },
  {
   "cell_type": "code",
   "execution_count": 608,
   "metadata": {},
   "outputs": [],
   "source": [
    "def mutate_program(program, input_dim, max_depth=3):\n",
    "    \"\"\"Mutazione per rimpiazzare un sottoalbero casuale.\"\"\"\n",
    "    mutant = copy.deepcopy(program)\n",
    "    \n",
    "    def get_subtree_points(prog):\n",
    "        return [i for i, node in enumerate(prog) if isinstance(node, list)]\n",
    "    \n",
    "    points = get_subtree_points(mutant)\n",
    "    if not points:\n",
    "        return random_program(max_depth, input_dim)  # Genera nuovo programma\n",
    "    \n",
    "    point = choice(points)\n",
    "    new_subtree = random_program(randint(1, max_depth), input_dim)  # Nuovo sottoalbero\n",
    "    mutant[point] = new_subtree\n",
    "    \n",
    "    return mutant\n"
   ]
  },
  {
   "cell_type": "markdown",
   "metadata": {},
   "source": [
    "Other function (FIGP based)"
   ]
  },
  {
   "cell_type": "code",
   "execution_count": 609,
   "metadata": {},
   "outputs": [],
   "source": [
    "#Try to swap one single operation with another one\n",
    "def mutate(program, input_dim, max_depth=3):\n",
    "    \"\"\"Mutazione di un programma.\"\"\"\n",
    "    mutant = copy.deepcopy(program)\n",
    "\n",
    "    def get_subtree_points(prog):\n",
    "        return [i for i, node in enumerate(prog) if isinstance(node, list)]\n",
    "\n",
    "    points = get_subtree_points(program)\n",
    "    if not points:\n",
    "        return random_program(max_depth, input_dim)  # Ritorna un nuovo programma se non ci sono punti\n",
    "\n",
    "    point = choice(points)\n",
    "\n",
    "    # Genera un nuovo sottoalbero casuale\n",
    "    new_subtree = random_program(randint(1, max_depth), input_dim)\n",
    "    mutant[point] = new_subtree\n",
    "\n",
    "    return mutant"
   ]
  },
  {
   "cell_type": "markdown",
   "metadata": {},
   "source": [
    "## Crossover"
   ]
  },
  {
   "cell_type": "markdown",
   "metadata": {},
   "source": [
    "We can use a croossover function that receives only 2 parents and, if one of them is a leaf program simply return casually one of the 2 programs (avoiding to perform the operation for programs with no childrens). Otherwise, select random indexes for both the parents and combine the first part of the tree with the second part of the tree of the 2 parents, returning a new individual."
   ]
  },
  {
   "cell_type": "code",
   "execution_count": 610,
   "metadata": {},
   "outputs": [],
   "source": [
    "def crossover(parent1, parent2, max_depth=3):\n",
    "    \"\"\"Crossover tra due programmi.\"\"\"\n",
    "    child1, child2 = copy.deepcopy(parent1), copy.deepcopy(parent2)\n",
    "\n",
    "    if len(parent1) < 2 or len(parent2) < 2:\n",
    "        return parent1, parent2  # Evita crossover se i programmi sono troppo piccoli\n",
    "\n",
    "    # Punti di crossover validi\n",
    "    def get_subtree_points(prog):\n",
    "        return [i for i, node in enumerate(prog) if isinstance(node, list)]\n",
    "\n",
    "    points1 = get_subtree_points(parent1)\n",
    "    points2 = get_subtree_points(parent2)\n",
    "\n",
    "    if not points1 or not points2:\n",
    "        return parent1, parent2  # Nessun punto valido per il crossover\n",
    "\n",
    "    point1 = choice(points1)\n",
    "    point2 = choice(points2)\n",
    "\n",
    "    # Scambia i sottoalberi\n",
    "    subtree1 = parent1[point1]\n",
    "    subtree2 = parent2[point2]\n",
    "\n",
    "    child1[point1], child2[point2] = subtree2, subtree1\n",
    "\n",
    "    return child1, child2"
   ]
  },
  {
   "cell_type": "markdown",
   "metadata": {},
   "source": [
    "New crossover (FIGP based):"
   ]
  },
  {
   "cell_type": "code",
   "execution_count": 611,
   "metadata": {},
   "outputs": [],
   "source": [
    "def crossover(parent1, parent2):\n",
    "    \"\"\"Crossover a singolo punto tra due programmi.\"\"\"\n",
    "    child1, child2 = copy.deepcopy(parent1), copy.deepcopy(parent2)\n",
    "    \n",
    "    # Identifica punti di crossover validi\n",
    "    def get_subtree_points(prog):\n",
    "        return [i for i, node in enumerate(prog) if isinstance(node, list)]\n",
    "    \n",
    "    points1 = get_subtree_points(parent1)\n",
    "    points2 = get_subtree_points(parent2)\n",
    "    \n",
    "    if not points1 or not points2:\n",
    "        return parent1, parent2  # Nessun punto valido, restituisci genitori\n",
    "    \n",
    "    point1 = choice(points1)\n",
    "    point2 = choice(points2)\n",
    "    \n",
    "    # Scambia sottoalberi selezionati\n",
    "    subtree1 = parent1[point1]\n",
    "    subtree2 = parent2[point2]\n",
    "    child1[point1], child2[point2] = subtree2, subtree1\n",
    "    \n",
    "    return child1, child2\n"
   ]
  },
  {
   "cell_type": "markdown",
   "metadata": {},
   "source": [
    "## Genetic algorithm"
   ]
  },
  {
   "cell_type": "markdown",
   "metadata": {},
   "source": [
    "### Parameter selection"
   ]
  },
  {
   "cell_type": "code",
   "execution_count": 612,
   "metadata": {},
   "outputs": [],
   "source": [
    "generations=100\n",
    "population_size=100\n",
    "offspring_size = 50"
   ]
  },
  {
   "cell_type": "markdown",
   "metadata": {},
   "source": [
    "### Data selection"
   ]
  },
  {
   "cell_type": "code",
   "execution_count": 613,
   "metadata": {},
   "outputs": [],
   "source": [
    "def true_f(x: np.ndarray) -> np.ndarray:\n",
    "    return x[0] + np.tan(x[1])/5 \n",
    "\n",
    "TEST_SIZE = 10_000\n",
    "TRAIN_SIZE = 1000\n",
    "\n",
    "x_validation = np.vstack(\n",
    "    [\n",
    "        np.random.random_sample(size=TEST_SIZE) * 2 * np.pi - np.pi,\n",
    "        np.random.random_sample(size=TEST_SIZE) * 2 - 1,\n",
    "    ]\n",
    ")\n",
    "y_validation = true_f(x_validation)\n",
    "train_indexes = np.random.choice(TEST_SIZE, size=TRAIN_SIZE, replace=False)\n",
    "x_train = x_validation[:, train_indexes]\n",
    "y_train = y_validation[train_indexes]\n",
    "\n",
    "x = x_train\n",
    "y = y_train"
   ]
  },
  {
   "cell_type": "markdown",
   "metadata": {},
   "source": [
    "Let's call the previous fitness function \"MSE\":"
   ]
  },
  {
   "cell_type": "code",
   "execution_count": 614,
   "metadata": {},
   "outputs": [],
   "source": [
    "def mse(program, x, y):\n",
    "    predictions = np.array([evaluate_program(program, x_row) for x_row in x.T])\n",
    "    return float(100 * np.mean(np.square(predictions - y)))"
   ]
  },
  {
   "cell_type": "markdown",
   "metadata": {},
   "source": [
    "Let's change the fitness function in a way that we penalize the more complex functions:"
   ]
  },
  {
   "cell_type": "code",
   "execution_count": 615,
   "metadata": {},
   "outputs": [],
   "source": [
    "# Funzione di fitness avanzata ispirata a deep_based_FGP_NLS.py\n",
    "import math\n",
    "\n",
    "\n",
    "def fitness_function(program, x, y):\n",
    "    \"\"\"\n",
    "    Valuta la fitness di un programma.\n",
    "    \"\"\"\n",
    "    try:\n",
    "        # Valutazione del programma\n",
    "        predictions = np.array([evaluate_program(program, x_row) for x_row in x.T])\n",
    "        if np.any(np.isnan(predictions)) or np.any(np.isinf(predictions)):\n",
    "            return np.inf  # Penalizza programmi invalidi\n",
    "\n",
    "        # Calcolo dell'errore\n",
    "        #error = np.mean((predictions - y) ** 2)  # Errore quadratico medio\n",
    "        error = mse(program, x, y)\n",
    "        if not math.isfinite(error):\n",
    "            return np.inf\n",
    "\n",
    "        # Aggiungi penalità basata sulla complessità del programma\n",
    "        complexity_penalty = len(program) * 0.1\n",
    "        fitness = error + complexity_penalty\n",
    "\n",
    "    except Exception as e:\n",
    "        # Penalizza programmi che generano errori\n",
    "        print(f\"Errore nella valutazione del programma: {e}\")\n",
    "        return np.inf\n",
    "\n",
    "    return fitness"
   ]
  },
  {
   "cell_type": "markdown",
   "metadata": {},
   "source": [
    "## Tournament selection for parents, tau set to 50"
   ]
  },
  {
   "cell_type": "code",
   "execution_count": 616,
   "metadata": {},
   "outputs": [],
   "source": [
    "def tournament_selection(population,x,y, tau=5):\n",
    "    tau = min(tau, len(population))\n",
    "    \n",
    "    # Seleziona tau individui casualmente dalla popolazione\n",
    "    tournament_indices = np.random.choice(len(population), tau, replace=False)\n",
    "    \n",
    "    # Calcola i punteggi di fitness per gli individui selezionati nel torneo\n",
    "    #fitness_scores = [fitness_function(population[idx],x,y) for idx in tournament_indices]\n",
    "    \n",
    "    # Trova l'indice del miglior fitness nel torneo\n",
    "    #best_fitness_index = fitness_scores.index(min(fitness_scores))\n",
    "    #best_fitness_index = tournament_indices.index(min(population[tournament_indices].fitness))\n",
    "    population.sort(key=lambda i: i.fitness)\n",
    "    #best_index = tournament_indices[best_fitness_index]\n",
    "    \n",
    "    # Ritorna il vincitore del torneo\n",
    "    winner = population[0].genome\n",
    "    \n",
    "    return winner\n",
    "\n"
   ]
  },
  {
   "cell_type": "markdown",
   "metadata": {},
   "source": [
    "## Simulated annealing"
   ]
  },
  {
   "cell_type": "code",
   "execution_count": 617,
   "metadata": {},
   "outputs": [],
   "source": [
    "import math\n",
    "\n",
    "\n",
    "def simulated_annealing(initial_program, x, y, max_iterations=500, initial_temperature=100, cooling_rate=0.95):\n",
    "    \n",
    "    # Programma corrente e relativa fitness\n",
    "    current_program = initial_program\n",
    "    current_fitness = fitness_function(current_program, x, y)\n",
    "    \n",
    "    # Memorizza il miglior programma trovato\n",
    "    best_program = current_program\n",
    "    best_fitness = current_fitness\n",
    "    \n",
    "    # Inizializza la temperatura\n",
    "    temperature = initial_temperature\n",
    "    \n",
    "    for iteration in range(max_iterations):\n",
    "        # Crea un programma candidato con una mutazione\n",
    "        candidate_program = mutate_program(current_program, x.shape[0])\n",
    "        candidate_fitness = fitness_function(candidate_program, x, y)\n",
    "        \n",
    "        # Calcola la variazione di fitness\n",
    "        fitness_delta = candidate_fitness - current_fitness\n",
    "        \n",
    "        # Accetta il nuovo programma se migliora o con probabilità decrescente\n",
    "        if fitness_delta < 0 or random() < math.exp(-fitness_delta / temperature):\n",
    "            current_program = candidate_program\n",
    "            current_fitness = candidate_fitness\n",
    "            \n",
    "            # Aggiorna il miglior programma trovato\n",
    "            if current_fitness < best_fitness:\n",
    "                best_program = current_program\n",
    "                best_fitness = current_fitness\n",
    "        \n",
    "        # Riduci la temperatura\n",
    "        temperature *= cooling_rate\n",
    "        \n",
    "        # Interrompi se la temperatura è troppo bassa\n",
    "        if temperature < 1e-3:\n",
    "            break\n",
    "    \n",
    "    return best_program"
   ]
  },
  {
   "cell_type": "markdown",
   "metadata": {},
   "source": [
    "### Parameters"
   ]
  },
  {
   "cell_type": "code",
   "execution_count": 618,
   "metadata": {},
   "outputs": [],
   "source": [
    "# Parametri del GP\n",
    "generations = 200\n",
    "population_size = 1_000\n",
    "p_crossover = 0.6\n",
    "p_mutation = 0.4\n",
    "tweak_probability = 0.2\n",
    "max_depth = 3 #fixed or problem dependant?\n",
    "elite_size = 20\n",
    "offspring_size = population_size # Numero di discendenti generati per generazione"
   ]
  },
  {
   "cell_type": "markdown",
   "metadata": {},
   "source": [
    "Let's create a new tweak function that is able to tweak a program by adding an unary operation in leaf nodes (if it not a constant value)."
   ]
  },
  {
   "cell_type": "code",
   "execution_count": 619,
   "metadata": {},
   "outputs": [],
   "source": [
    "def tweak_program_2(program):\n",
    "    \"\"\"\n",
    "    Modifica un sottoalbero del programma aggiungendo un operatore unario\n",
    "    su una foglia, con una certa probabilità.\n",
    "    \"\"\"\n",
    "    # Trova tutte le foglie del programma\n",
    "    def get_leaf_indices(node, path=()):\n",
    "        if isinstance(node, str) or isinstance(node, (int, float)):\n",
    "            # Nodo foglia (variabile o costante)\n",
    "            return [path]\n",
    "        elif isinstance(node, list) and len(node) > 1:\n",
    "            # Nodo non foglia valido: esplora ricorsivamente i figli\n",
    "            indices = []\n",
    "            for i, child in enumerate(node[1:], start=1):\n",
    "                indices.extend(get_leaf_indices(child, path + (i,)))\n",
    "            return indices\n",
    "        return []\n",
    "    \n",
    "    # Ottieni tutte le foglie del programma\n",
    "    leaf_indices = get_leaf_indices(program)\n",
    "    if not leaf_indices:\n",
    "        return program  # Nessuna modifica possibile\n",
    "\n",
    "    # Seleziona casualmente una foglia\n",
    "    selected_leaf_path = choice(leaf_indices)\n",
    "    \n",
    "    # Verifica che il percorso selezionato sia valido\n",
    "    if not selected_leaf_path:\n",
    "        return program  # Nessuna modifica possibile\n",
    "\n",
    "    # Accedi alla foglia selezionata\n",
    "    node = program\n",
    "    for idx in selected_leaf_path[:-1]:\n",
    "        node = node[idx]\n",
    "\n",
    "    # Verifica che il nodo sia valido prima di modificare\n",
    "    if isinstance(node, list) and len(selected_leaf_path) > 0:\n",
    "        leaf = node[selected_leaf_path[-1]]\n",
    "        # Modifica la foglia con un operatore unario\n",
    "        if isinstance(leaf, str) and leaf.startswith(\"x\"):  # Se è una variabile\n",
    "            unary_operator = choice([\"sin({})\", \"cos({})\", \"tan({})\", \"log({})\", \"sqrt({})\"])\n",
    "            node[selected_leaf_path[-1]] = [unary_operator, leaf]\n",
    "    \n",
    "    return program\n"
   ]
  },
  {
   "cell_type": "code",
   "execution_count": 620,
   "metadata": {},
   "outputs": [],
   "source": [
    "# # Inizializza popolazione\n",
    "# input_dim = x.shape[0]\n",
    "# # Ignora warning temporaneamente\n",
    "# np.seterr(all='ignore')\n",
    "# population = [Individual(genome = random_program(max_depth, input_dim)) for _ in range(population_size)]\n",
    "# # aggiungiamo i valori di fitness per gli individui:\n",
    "# for p in population:\n",
    "#     p.fitness = fitness_function(p.genome, x, y)\n",
    "    \n",
    "# # Filtrare gli individui con fitness valido\n",
    "# population = [ind for ind in population if ind.fitness is not None and math.isfinite(ind.fitness)]\n",
    "\n",
    "# population.sort(key=lambda i: i.fitness)\n",
    "\n",
    "# def run_genetic_algorithm(population):\n",
    "#     for gen in range(generations):\n",
    "#         mse_to_print = mse(population[0].genome, x, y)\n",
    "#         elite = population[:elite_size]\n",
    "#         if(mse_to_print==0.0000): #use mse not to consider complexity penalty\n",
    "#             np.seterr(all='warn')\n",
    "#             print('Best program found with mse=0')\n",
    "#             return population[0].genome\n",
    "        \n",
    "#         np.seterr(all='warn')\n",
    "#         print(f\"Generazione {gen + 1}, miglior fitness: {mse_to_print:.6f}\")\n",
    "#         if not math.isfinite(mse_to_print):\n",
    "#             print(\"suca\")\n",
    "#         print(f\"Best formula: {program_to_string(population[0].genome)}\")\n",
    "#         np.seterr(all='ignore')\n",
    "\n",
    "\n",
    "#         # Crea la nuova generazione: offsprig\n",
    "#         next_population = []\n",
    "\n",
    "#         #aggiungo elite:\n",
    "#         for i in elite:\n",
    "#             next_population.append(i)\n",
    "    \n",
    "\n",
    "#         while len(next_population) < offspring_size:\n",
    "#             if random() < p_crossover and len(population) > 200:\n",
    "#                 #With random choice is much faster than tournament selection\n",
    "#                 #Choose the best and the second best parent\n",
    "#                 parent1, parent2 = tournament_selection(population,x,y), tournament_selection(population,x,y)\n",
    "#                 child1, child2 = crossover(parent1, parent2)\n",
    "\n",
    "#                 if random() < p_mutation:\n",
    "#                     child1 = mutate(child1, input_dim)\n",
    "#                 if random() < p_mutation:\n",
    "#                     child2 = mutate(child2, input_dim)\n",
    "#                 if len(next_population) < offspring_size:\n",
    "#                     if math.isfinite(fitness_function(child1, x, y)):\n",
    "#                         next_population.append(Individual(genome=child1, fitness=fitness_function(child1, x, y)))\n",
    "#                 if len(next_population) < offspring_size:\n",
    "#                     if math.isfinite(fitness_function(child2, x, y)):\n",
    "#                         next_population.append(Individual(genome=child2, fitness=fitness_function(child2, x, y)))\n",
    "\n",
    "#                 #Also use with a certain probability another mutation function:\n",
    "#                 if random() < tweak_probability and len(next_population) < offspring_size:\n",
    "#                     new_ind = tweak_program_2(child1)\n",
    "#                     if math.isfinite(fitness_function(new_ind, x, y)):\n",
    "#                         next_population.append(Individual(genome=new_ind, fitness=fitness_function(new_ind, x, y)))\n",
    "#                 if random() < tweak_probability and len(next_population) < offspring_size:\n",
    "#                     new_ind = tweak_program_2(child2)\n",
    "#                     if math.isfinite(fitness_function(new_ind, x, y)):\n",
    "#                         next_population.append(Individual(genome=new_ind, fitness=fitness_function(new_ind, x, y)))\n",
    "#             else:\n",
    "#                 #Use tournament selection also here, but only if there's enough material, otherwise random\n",
    "#                 if(len(population)>400):\n",
    "#                     parent = tournament_selection(population,x,y)\n",
    "#                 else:\n",
    "#                     parent = choice(population)\n",
    "#                 mutant = mutate(parent.genome, input_dim)\n",
    "#                 if math.isfinite(fitness_function(mutant, x, y)):\n",
    "#                     next_population.append(Individual(genome=mutant, fitness=fitness_function(mutant, x, y)))\n",
    "\n",
    "\n",
    "                \n",
    "#         # Combina elite e nuova generazione\n",
    "#         # sorted_indices = fitness.argsort()\n",
    "#         # elite = [population[i] for i in sorted_indices[:elite_size]]  # Manteniamo gli elite_size migliori\n",
    "#         # next_population.extend(elite)\n",
    "\n",
    "#         # Rimuovi duplicati\n",
    "#         # unique_population = {}\n",
    "#         # for prog in next_population:\n",
    "#         #     serialized = str(prog.genome)\n",
    "#         #     if serialized not in unique_population:\n",
    "#         #         unique_population[serialized] = prog.genome\n",
    "\n",
    "#         # # Aggiorna la popolazione con individui unici\n",
    "#         # population = list(unique_population.values())[:population_size]\n",
    "#         population.extend(next_population)\n",
    "#         population.sort(key=lambda i: i.fitness)\n",
    "#         population = population[:population_size]\n",
    "\n",
    "\n",
    "#     # Identifica il miglior programma\n",
    "#     fitness = np.array([fitness_function(prog.genome, x, y) for prog in population])\n",
    "#     mse_value = np.array([mse(prog.genome, x, y) for prog in population])\n",
    "#     sorted_indices = fitness.argsort()\n",
    "#     best_program = population[sorted_indices[0]]\n",
    "#     best_fitness = fitness[sorted_indices[0]]\n",
    "#     best_mse = mse_value[sorted_indices[0]]\n",
    "\n",
    "#     print(\"Miglior programma:\", best_program, \"; Fitness:\", best_mse)\n",
    "#     return best_program\n",
    "\n",
    "# best_program = run_genetic_algorithm(population)\n"
   ]
  },
  {
   "cell_type": "code",
   "execution_count": 622,
   "metadata": {},
   "outputs": [
    {
     "name": "stdout",
     "output_type": "stream",
     "text": [
      "Generazione 1, miglior fitness: 2.156861\n",
      "Best formula: (square(x[0]) / x[0])\n",
      "Generazione 2, miglior fitness: 2.156861\n",
      "Best formula: (((x[1] - x[1]) / 9) + x[0])\n",
      "Generazione 3, miglior fitness: 2.156861\n",
      "Best formula: ((x[0] * x[0]) / x[0])\n",
      "Generazione 4, miglior fitness: 2.156861\n",
      "Best formula: (square(x[0]) / x[0])\n",
      "Generazione 5, miglior fitness: 2.156861\n",
      "Best formula: (square(x[0]) / x[0])\n",
      "Generazione 6, miglior fitness: 2.156861\n",
      "Best formula: (square(x[0]) / x[0])\n",
      "Generazione 7, miglior fitness: 2.156861\n",
      "Best formula: (square(x[0]) / x[0])\n",
      "Generazione 8, miglior fitness: 2.156861\n",
      "Best formula: (square(x[0]) / x[0])\n",
      "Generazione 9, miglior fitness: 2.156861\n",
      "Best formula: (square(x[0]) / x[0])\n",
      "Generazione 10, miglior fitness: 2.156861\n",
      "Best formula: (square(x[0]) / x[0])\n",
      "Generazione 11, miglior fitness: 2.156861\n",
      "Best formula: (square(x[0]) / x[0])\n",
      "Generazione 12, miglior fitness: 2.156861\n",
      "Best formula: (square(x[0]) / x[0])\n",
      "Generazione 13, miglior fitness: 2.156861\n",
      "Best formula: (square(x[0]) / x[0])\n",
      "Generazione 14, miglior fitness: 2.156861\n",
      "Best formula: (square(x[0]) / x[0])\n",
      "Generazione 15, miglior fitness: 2.156861\n",
      "Best formula: (square(x[0]) / x[0])\n",
      "Generazione 16, miglior fitness: 2.156861\n",
      "Best formula: (sin((x[0] - x[0])) + x[0])\n",
      "Generazione 17, miglior fitness: 0.453429\n",
      "Best formula: ((x[1] / 7) + x[0])\n",
      "Generazione 18, miglior fitness: 0.411300\n",
      "Best formula: ((sin(x[1]) / (6 - x[1])) + x[0])\n",
      "Generazione 19, miglior fitness: 0.033218\n",
      "Best formula: ((x[1] / 4) + x[0])\n",
      "Generazione 20, miglior fitness: 0.033218\n",
      "Best formula: ((x[1] / 4) + x[0])\n",
      "Generazione 21, miglior fitness: 0.051320\n",
      "Best formula: (sin((x[1] * cos(5))) + x[0])\n",
      "Generazione 22, miglior fitness: 0.290255\n",
      "Best formula: (tan((x[1] / 6)) + x[0])\n",
      "Generazione 23, miglior fitness: 0.214455\n",
      "Best formula: ((x[1] / 3) + x[0])\n",
      "Generazione 24, miglior fitness: 0.296540\n",
      "Best formula: ((x[1] / 6) + x[0])\n",
      "Generazione 25, miglior fitness: 0.214455\n",
      "Best formula: ((x[1] / 3) + x[0])\n",
      "Generazione 26, miglior fitness: 0.296540\n",
      "Best formula: ((x[1] / 6) + x[0])\n",
      "Generazione 27, miglior fitness: 0.296540\n",
      "Best formula: ((x[1] / 6) + x[0])\n",
      "Generazione 28, miglior fitness: 0.142102\n",
      "Best formula: (((x[1] + x[1]) / (10 - x[1])) + x[0])\n",
      "Generazione 29, miglior fitness: 0.252841\n",
      "Best formula: ((sin(tan(x[1])) / 6) + x[0])\n",
      "Generazione 30, miglior fitness: 0.215170\n",
      "Best formula: ((x[1] * ((8 - 5) / (10 + x[0]))) + x[0])\n",
      "Generazione 31, miglior fitness: 0.123079\n",
      "Best formula: (tan(tan((x[1] / 5))) + x[0])\n",
      "Generazione 32, miglior fitness: 0.296540\n",
      "Best formula: ((x[1] / 6) + x[0])\n",
      "Generazione 33, miglior fitness: 0.296540\n",
      "Best formula: ((x[1] / 6) + x[0])\n",
      "Generazione 34, miglior fitness: 0.137864\n",
      "Best formula: ((x[1] / 5) + x[0])\n",
      "Generazione 35, miglior fitness: 0.104524\n",
      "Best formula: ((x[1] / (4 + x[1])) + x[0])\n",
      "Generazione 36, miglior fitness: 0.303970\n",
      "Best formula: (((x[1] + x[1]) / (x[1] + 6)) + x[0])\n",
      "Generazione 37, miglior fitness: 0.362706\n",
      "Best formula: ((x[1] * cos(sqrt(2))) + x[0])\n",
      "Generazione 38, miglior fitness: 0.453429\n",
      "Best formula: ((x[1] / 7) + x[0])\n",
      "Generazione 39, miglior fitness: 0.296540\n",
      "Best formula: ((x[1] / 6) + x[0])\n",
      "Generazione 40, miglior fitness: 0.137864\n",
      "Best formula: ((x[1] / 5) + x[0])\n",
      "Generazione 41, miglior fitness: 0.137864\n",
      "Best formula: ((x[1] / 5) + x[0])\n",
      "Generazione 42, miglior fitness: 0.214455\n",
      "Best formula: ((x[1] / 3) + x[0])\n",
      "Generazione 43, miglior fitness: 0.289547\n",
      "Best formula: ((x[1] / (6 + x[1])) + x[0])\n",
      "Generazione 44, miglior fitness: 0.137864\n",
      "Best formula: ((x[1] / 5) + x[0])\n",
      "Generazione 45, miglior fitness: 0.033218\n",
      "Best formula: ((x[1] / 4) + x[0])\n",
      "Generazione 46, miglior fitness: 0.033218\n",
      "Best formula: ((x[1] / 4) + x[0])\n",
      "Generazione 47, miglior fitness: 0.247170\n",
      "Best formula: (tan((x[1] / 3)) + x[0])\n",
      "Generazione 48, miglior fitness: 0.296540\n",
      "Best formula: ((x[1] / 6) + x[0])\n",
      "Generazione 49, miglior fitness: 0.033218\n",
      "Best formula: ((x[1] / 4) + x[0])\n",
      "Generazione 50, miglior fitness: 0.137864\n",
      "Best formula: ((x[1] / 5) + x[0])\n",
      "Generazione 51, miglior fitness: 0.137864\n",
      "Best formula: ((x[1] / 5) + x[0])\n",
      "Generazione 52, miglior fitness: 0.214455\n",
      "Best formula: ((x[1] / 3) + x[0])\n",
      "Generazione 53, miglior fitness: 0.140992\n",
      "Best formula: ((x[1] / sqrt(10)) + x[0])\n",
      "Generazione 54, miglior fitness: 0.137864\n",
      "Best formula: ((x[1] / 5) + x[0])\n",
      "Generazione 55, miglior fitness: 0.137864\n",
      "Best formula: ((x[1] / 5) + x[0])\n",
      "Generazione 56, miglior fitness: 0.033218\n",
      "Best formula: ((x[1] / sqrt((2 * 8))) + x[0])\n",
      "Generazione 57, miglior fitness: 0.033218\n",
      "Best formula: ((x[1] / 4) + x[0])\n",
      "Generazione 58, miglior fitness: 0.033218\n",
      "Best formula: ((x[1] / 4) + x[0])\n",
      "Generazione 59, miglior fitness: 0.033218\n",
      "Best formula: ((x[1] / 4) + x[0])\n",
      "Generazione 60, miglior fitness: 0.033218\n",
      "Best formula: ((x[1] / 4) + x[0])\n"
     ]
    },
    {
     "ename": "KeyboardInterrupt",
     "evalue": "",
     "output_type": "error",
     "traceback": [
      "\u001b[1;31m---------------------------------------------------------------------------\u001b[0m",
      "\u001b[1;31mKeyboardInterrupt\u001b[0m                         Traceback (most recent call last)",
      "Cell \u001b[1;32mIn[622], line 89\u001b[0m\n\u001b[0;32m     86\u001b[0m     \u001b[38;5;28mprint\u001b[39m(\u001b[38;5;124m\"\u001b[39m\u001b[38;5;124mMiglior programma:\u001b[39m\u001b[38;5;124m\"\u001b[39m, best_program\u001b[38;5;241m.\u001b[39mgenome, \u001b[38;5;124m\"\u001b[39m\u001b[38;5;124m; Fitness:\u001b[39m\u001b[38;5;124m\"\u001b[39m, best_mse)\n\u001b[0;32m     87\u001b[0m     \u001b[38;5;28;01mreturn\u001b[39;00m best_program\u001b[38;5;241m.\u001b[39mgenome\n\u001b[1;32m---> 89\u001b[0m best_program \u001b[38;5;241m=\u001b[39m \u001b[43mrun_genetic_algorithm\u001b[49m\u001b[43m(\u001b[49m\u001b[43m)\u001b[49m\n",
      "Cell \u001b[1;32mIn[622], line 76\u001b[0m, in \u001b[0;36mrun_genetic_algorithm\u001b[1;34m()\u001b[0m\n\u001b[0;32m     74\u001b[0m     population \u001b[38;5;241m=\u001b[39m population[:population_size]\n\u001b[0;32m     75\u001b[0m     \u001b[38;5;28;01mfor\u001b[39;00m ind \u001b[38;5;129;01min\u001b[39;00m population:\n\u001b[1;32m---> 76\u001b[0m         ind\u001b[38;5;241m.\u001b[39mfitness \u001b[38;5;241m=\u001b[39m \u001b[43mfitness_function\u001b[49m\u001b[43m(\u001b[49m\u001b[43mind\u001b[49m\u001b[38;5;241;43m.\u001b[39;49m\u001b[43mgenome\u001b[49m\u001b[43m,\u001b[49m\u001b[43m \u001b[49m\u001b[43mx\u001b[49m\u001b[43m,\u001b[49m\u001b[43m \u001b[49m\u001b[43my\u001b[49m\u001b[43m)\u001b[49m\n\u001b[0;32m     78\u001b[0m \u001b[38;5;66;03m# Identifica il miglior programma\u001b[39;00m\n\u001b[0;32m     79\u001b[0m fitness \u001b[38;5;241m=\u001b[39m np\u001b[38;5;241m.\u001b[39marray([fitness_function(prog\u001b[38;5;241m.\u001b[39mgenome, x, y) \u001b[38;5;28;01mfor\u001b[39;00m prog \u001b[38;5;129;01min\u001b[39;00m population])\n",
      "Cell \u001b[1;32mIn[615], line 17\u001b[0m, in \u001b[0;36mfitness_function\u001b[1;34m(program, x, y)\u001b[0m\n\u001b[0;32m     13\u001b[0m     \u001b[38;5;28;01mreturn\u001b[39;00m np\u001b[38;5;241m.\u001b[39minf  \u001b[38;5;66;03m# Penalizza programmi invalidi\u001b[39;00m\n\u001b[0;32m     15\u001b[0m \u001b[38;5;66;03m# Calcolo dell'errore\u001b[39;00m\n\u001b[0;32m     16\u001b[0m \u001b[38;5;66;03m#error = np.mean((predictions - y) ** 2)  # Errore quadratico medio\u001b[39;00m\n\u001b[1;32m---> 17\u001b[0m error \u001b[38;5;241m=\u001b[39m \u001b[43mmse\u001b[49m\u001b[43m(\u001b[49m\u001b[43mprogram\u001b[49m\u001b[43m,\u001b[49m\u001b[43m \u001b[49m\u001b[43mx\u001b[49m\u001b[43m,\u001b[49m\u001b[43m \u001b[49m\u001b[43my\u001b[49m\u001b[43m)\u001b[49m\n\u001b[0;32m     18\u001b[0m \u001b[38;5;28;01mif\u001b[39;00m \u001b[38;5;129;01mnot\u001b[39;00m math\u001b[38;5;241m.\u001b[39misfinite(error):\n\u001b[0;32m     19\u001b[0m     \u001b[38;5;28;01mreturn\u001b[39;00m np\u001b[38;5;241m.\u001b[39minf\n",
      "Cell \u001b[1;32mIn[614], line 2\u001b[0m, in \u001b[0;36mmse\u001b[1;34m(program, x, y)\u001b[0m\n\u001b[0;32m      1\u001b[0m \u001b[38;5;28;01mdef\u001b[39;00m \u001b[38;5;21mmse\u001b[39m(program, x, y):\n\u001b[1;32m----> 2\u001b[0m     predictions \u001b[38;5;241m=\u001b[39m np\u001b[38;5;241m.\u001b[39marray([evaluate_program(program, x_row) \u001b[38;5;28;01mfor\u001b[39;00m x_row \u001b[38;5;129;01min\u001b[39;00m x\u001b[38;5;241m.\u001b[39mT])\n\u001b[0;32m      3\u001b[0m     \u001b[38;5;28;01mreturn\u001b[39;00m \u001b[38;5;28mfloat\u001b[39m(\u001b[38;5;241m100\u001b[39m \u001b[38;5;241m*\u001b[39m np\u001b[38;5;241m.\u001b[39mmean(np\u001b[38;5;241m.\u001b[39msquare(predictions \u001b[38;5;241m-\u001b[39m y)))\n",
      "\u001b[1;31mKeyboardInterrupt\u001b[0m: "
     ]
    }
   ],
   "source": [
    "# Inizializza popolazione\n",
    "input_dim = x.shape[0]\n",
    "# Ignora warning temporaneamente\n",
    "np.seterr(all='ignore')\n",
    "population = [Individual(genome = random_program(max_depth, input_dim)) for _ in range(population_size)]\n",
    "for ind in population:\n",
    "    ind.fitness = fitness_function(ind.genome, x, y)\n",
    "# Loop principale per le generazioni\n",
    "def run_genetic_algorithm():\n",
    "    global population\n",
    "\n",
    "    for gen in range(generations):\n",
    "        \n",
    "        population.sort(key=lambda i: i.fitness)\n",
    "        elite = population[:elite_size]\n",
    "        mse_to_print = mse(population[0].genome, x, y)\n",
    "\n",
    "        #break the cycle if you found the best solution you're able to find with training data\n",
    "        if(mse_to_print==0.0000): \n",
    "            np.seterr(all='warn')\n",
    "            print('Best program found with mse=0')\n",
    "            return population[0].genome\n",
    "        \n",
    "        np.seterr(all='warn')\n",
    "        print(f\"Generazione {gen + 1}, miglior fitness: {mse_to_print:.6f}\")\n",
    "        #population is already sorted, so:\n",
    "        print(f\"Best formula: {program_to_string(population[0].genome)}\")\n",
    "        np.seterr(all='ignore')\n",
    "\n",
    "        # Crea la nuova generazione\n",
    "        next_population = []\n",
    "        while len(next_population) < offspring_size:\n",
    "            if random() < p_crossover and len(population) > 200:\n",
    "                parent1, parent2 = tournament_selection(population,x,y), tournament_selection(population,x,y)\n",
    "                child1, child2 = crossover(parent1, parent2)\n",
    "\n",
    "                if random() < p_mutation and len(next_population) < offspring_size:\n",
    "                    child1 = mutate(child1, input_dim)\n",
    "                    next_population.append(Individual(genome=child1, fitness=fitness_function(child1, x, y)))\n",
    "                if random() < p_mutation and len(next_population) < offspring_size:\n",
    "                    child2 = mutate(child2, input_dim)\n",
    "                    next_population.append(Individual(genome=child2, fitness=fitness_function(child2, x, y)))\n",
    "                if random() < tweak_probability and len(next_population) < offspring_size:\n",
    "                    new_ind = tweak_program_2(child1)\n",
    "                    next_population.append(Individual(genome=new_ind, fitness=fitness_function(new_ind, x, y)))\n",
    "                if random() < tweak_probability and len(next_population) < offspring_size:\n",
    "                    new_ind = tweak_program_2(child2)\n",
    "                    next_population.append(Individual(genome=new_ind, fitness=fitness_function(new_ind, x, y)))\n",
    "            else:\n",
    "                # Mutazione diretta di un genitore\n",
    "                #Use tournament selection also here, but only if there's enough material, otherwise random\n",
    "                if(len(population)>500):\n",
    "                    parent = tournament_selection(population,x,y)\n",
    "                else:\n",
    "                    parent = choice(population)\n",
    "                    parent = parent.genome\n",
    "                mutant = mutate(parent, input_dim)\n",
    "                if len(next_population) < offspring_size:\n",
    "                    next_population.append(Individual(genome=mutant, fitness=fitness_function(mutant, x, y)))\n",
    "                    \n",
    "\n",
    "        # Combina elite e nuova generazione\n",
    "        population.sort(key=lambda i: i.fitness)\n",
    "        # Rimuovi duplicati\n",
    "        # unique_population = {}\n",
    "        # for prog in next_population:\n",
    "        #     serialized = str(prog)\n",
    "        #     if serialized not in unique_population:\n",
    "        #         unique_population[serialized] = prog\n",
    "\n",
    "        # Aggiorna la popolazione con individui unici\n",
    "        population.extend(next_population)\n",
    "        population.sort(key=lambda i: i.fitness)\n",
    "        population = population[:population_size]\n",
    "        for ind in population:\n",
    "            ind.fitness = fitness_function(ind.genome, x, y)\n",
    "\n",
    "    # Identifica il miglior programma\n",
    "    fitness = np.array([fitness_function(prog.genome, x, y) for prog in population])\n",
    "    mse_value = np.array([mse(prog.genome, x, y) for prog in population])\n",
    "    population.sort(key=lambda i: i.fitness)\n",
    "    population = population[:population_size]\n",
    "    best_program = population[0]\n",
    "    best_mse = mse_value(best_program.genome, x, y)\n",
    "\n",
    "    print(\"Miglior programma:\", best_program.genome, \"; Fitness:\", best_mse)\n",
    "    return best_program.genome\n",
    "\n",
    "best_program = run_genetic_algorithm()\n"
   ]
  },
  {
   "cell_type": "code",
   "execution_count": null,
   "metadata": {},
   "outputs": [
    {
     "name": "stdout",
     "output_type": "stream",
     "text": [
      "[Individual(genome=['({} / {})', ['({} * {})', ['cos({})', ['log({})', ['sin({})', ['sin({})', ['log({})', ['cos({})', ['sin({})', ['log({})', ['cos({})', ['log({})', ['sin({})', ['sin({})', ['tan({})', ['sin({})', ['sqrt({})', ['log({})', ['tan({})', ['sqrt({})', ['sin({})', ['sin({})', ['sin({})', ['sin({})', ['tan({})', ['sqrt({})', ['log({})', ['sqrt({})', ['sqrt({})', ['log({})', ['cos({})', ['tan({})', ['cos({})', ['log({})', ['tan({})', ['sin({})', ['sin({})', ['cos({})', ['sin({})', ['sin({})', ['sqrt({})', 'x[0]']]]]]]]]]]]]]]]]]]]]]]]]]]]]]]]]]]]]]]], ['tan({})', ['tan({})', ['sin({})', ['sqrt({})', ['log({})', ['log({})', ['log({})', ['log({})', ['tan({})', ['cos({})', ['sqrt({})', ['sin({})', ['cos({})', ['sin({})', ['sqrt({})', ['sqrt({})', ['tan({})', ['sin({})', ['log({})', ['sqrt({})', ['sin({})', ['cos({})', ['cos({})', ['log({})', ['sin({})', ['sin({})', ['log({})', ['tan({})', ['sqrt({})', ['log({})', ['sin({})', ['log({})', ['sin({})', ['tan({})', ['log({})', ['cos({})', ['sqrt({})', ['cos({})', ['log({})', ['cos({})', ['sqrt({})', ['cos({})', ['tan({})', ['log({})', 'x[0]']]]]]]]]]]]]]]]]]]]]]]]]]]]]]]]]]]]]]]]]]]]]], 'x[0]'], fitness=2.5396846343982826), Individual(genome=['({} / {})', ['({} * {})', 'x[0]', 'x[0]'], 'x[0]'], fitness=2.5396846343982826), Individual(genome=['({} / {})', ['square({})', 'x[0]'], 'x[0]'], fitness=2.5396846343982826), Individual(genome=['({} / {})', ['square({})', ['sqrt({})', ['sin({})', ['log({})', ['sqrt({})', ['log({})', ['sqrt({})', ['log({})', ['sin({})', ['sin({})', ['tan({})', ['sqrt({})', ['log({})', ['sin({})', ['cos({})', ['tan({})', ['log({})', ['tan({})', ['log({})', ['sqrt({})', ['log({})', ['tan({})', ['log({})', ['sin({})', ['cos({})', ['sqrt({})', ['sin({})', ['cos({})', ['sqrt({})', ['cos({})', ['cos({})', ['log({})', ['sqrt({})', ['log({})', ['log({})', ['log({})', ['cos({})', ['tan({})', ['tan({})', ['cos({})', ['log({})', ['sqrt({})', ['tan({})', ['sin({})', ['sqrt({})', ['sqrt({})', ['log({})', ['sqrt({})', ['tan({})', ['log({})', ['sin({})', ['log({})', ['sin({})', ['sin({})', ['tan({})', ['sqrt({})', ['sqrt({})', ['sin({})', ['sin({})', ['tan({})', ['log({})', ['cos({})', ['cos({})', ['tan({})', ['sin({})', ['tan({})', ['cos({})', ['sin({})', ['sqrt({})', ['sin({})', ['tan({})', ['tan({})', ['sin({})', ['sin({})', ['sin({})', ['sqrt({})', ['tan({})', ['log({})', ['tan({})', ['tan({})', ['tan({})', ['cos({})', ['log({})', ['cos({})', ['sqrt({})', ['sqrt({})', ['log({})', ['sin({})', ['tan({})', ['log({})', 'x[0]']]]]]]]]]]]]]]]]]]]]]]]]]]]]]]]]]]]]]]]]]]]]]]]]]]]]]]]]]]]]]]]]]]]]]]]]]]]]]]]]]]]]]]]]]], 'x[0]'], fitness=2.5396846343982826), Individual(genome='x[0]', fitness=2.6396846343982827), Individual(genome=['({} + {})', 'x[1]', 'x[0]'], fitness=18.74610368005316), Individual(genome=['({} + {})', 'x[1]', ['({} - {})', ['log({})', ['log({})', '10']], ['({} - {})', ['cos({})', 'x[1]'], 'x[0]']]], fitness=20.71421219867508), Individual(genome=['({} * {})', ['cos({})', ['({} + {})', '6', 'x[1]']], ['({} + {})', 'x[0]', 'x[1]']], fitness=35.06071003644356), Individual(genome=['({} + {})', 'x[1]', ['({} + {})', 'x[0]', ['({} / {})', 'x[0]', '4']]], fitness=40.5555036769228), Individual(genome=['({} - {})', 'x[0]', 'x[1]'], fitness=53.088887391713584), Individual(genome=['({} - {})', 'x[0]', ['({} / {})', 'x[0]', 'x[0]']], fitness=102.12107492791212), Individual(genome=['({} - {})', 'x[0]', ['({} * {})', 'x[0]', 'x[1]']], fitness=116.39627284739672), Individual(genome=['tan({})', ['sin({})', 'x[0]']], fitness=168.63664289516487), Individual(genome=['sin({})', 'x[0]'], fitness=189.9989476195814), Individual(genome=['log({})', ['sqrt({})', ['sqrt({})', ['exp({})', 'x[0]']]]], fitness=194.90925196142805), Individual(genome=['({} + {})', 'x[0]', ['sqrt({})', ['({} + {})', '2', 'x[1]']]], fitness=195.91723621441602), Individual(genome=['({} - {})', 'x[0]', ['exp({})', 'x[1]']], fitness=200.33846404132257), Individual(genome=['({} + {})', 'x[1]', ['sin({})', 'x[0]']], fitness=205.4008286358617), Individual(genome=['({} / {})', 'x[0]', '5'], fitness=221.47165306675615), Individual(genome=['({} + {})', 'x[0]', ['exp({})', ['square({})', 'x[1]']]], fitness=240.06655303715036), Individual(genome=['({} / {})', 'x[0]', ['({} + {})', ['square({})', 'x[1]'], ['({} * {})', 'x[0]', 'x[0]']]], fitness=251.57011266604047), Individual(genome=['({} + {})', 'x[0]', ['log({})', '5']], fitness=262.2424503645536), Individual(genome=['({} / {})', ['square({})', ['sin({})', ['tan({})', 'x[0]']]], 'x[0]'], fitness=278.6064443459301), Individual(genome=['cos({})', ['({} - {})', ['exp({})', 'x[0]'], 'x[0]']], fitness=303.41680671112886), Individual(genome=['({} / {})', ['sin({})', ['square({})', 'x[0]']], 'x[0]'], fitness=322.6778830222006), Individual(genome=['exp({})', ['sin({})', 'x[0]']], fitness=337.93486730265107), Individual(genome=['log({})', ['exp({})', ['({} / {})', 'x[1]', '3']]], fitness=341.21621851779884), Individual(genome=['({} / {})', 'x[1]', '6'], fitness=341.9110119745408), Individual(genome=['({} / {})', ['tan({})', 'x[1]'], '9'], fitness=341.98339035318656), Individual(genome=['({} * {})', 'x[0]', '2'], fitness=342.2740718526279), Individual(genome=['({} / {})', 'x[1]', '2'], fitness=342.5757478889171), Individual(genome=['square({})', ['({} / {})', 'x[1]', ['({} + {})', 'x[1]', '6']]], fitness=344.2109606682945), Individual(genome=['tan({})', ['tan({})', ['({} - {})', 'x[0]', 'x[0]']]], fitness=344.26012825914313), Individual(genome=['({} / {})', ['({} - {})', 'x[0]', 'x[0]'], 'x[0]'], fitness=344.36012825914315), Individual(genome=['({} / {})', ['sin({})', ['({} * {})', ['({} / {})', 'x[0]', 'x[0]'], ['({} - {})', 'x[0]', 'x[0]']]], 'x[0]'], fitness=344.36012825914315), Individual(genome=['({} / {})', ['({} * {})', ['log({})', ['({} / {})', 'x[1]', 'x[1]']], ['({} + {})', ['({} / {})', 'x[0]', '6'], 'x[1]']], 'x[0]'], fitness=344.36012825914315), Individual(genome=['({} / {})', ['({} * {})', 'x[0]', ['cos({})', ['log({})', '5']]], 'x[0]'], fitness=344.77713670382536), Individual(genome=['cos({})', ['sqrt({})', '2']], fitness=345.61109643113775), Individual(genome=['({} / {})', ['({} / {})', 'x[0]', '6'], 'x[0]'], fitness=345.9827076565705), Individual(genome=['({} / {})', ['({} / {})', 'x[0]', ['({} - {})', ['cos({})', 'x[0]'], '7']], 'x[0]'], fitness=347.3100804299137), Individual(genome=['({} * {})', ['log({})', ['exp({})', 'x[1]']], ['cos({})', '7']], fitness=348.058728006878), Individual(genome=['({} + {})', ['sin({})', ['sin({})', ['cos({})', '2']]], ['({} * {})', 'x[1]', 'x[1]']], fitness=349.1119305701349), Individual(genome=['({} / {})', ['({} / {})', ['sin({})', ['({} * {})', 'x[1]', '7']], ['({} - {})', ['square({})', 'x[0]'], ['({} / {})', '10', 'x[0]']]], 'x[0]'], fitness=352.02545144502255), Individual(genome=['({} / {})', 'x[1]', ['({} / {})', ['tan({})', '10'], ['({} * {})', 'x[1]', 'x[1]']]], fitness=355.8316902766371), Individual(genome=['square({})', ['({} / {})', ['({} - {})', 'x[0]', 'x[1]'], ['({} + {})', 'x[1]', '3']]], fitness=356.5928480931805), Individual(genome=['square({})', 'x[1]'], fitness=357.0720259651368), Individual(genome=['({} / {})', ['({} * {})', 'x[0]', 'x[1]'], 'x[0]'], fitness=357.48027296943366), Individual(genome=['({} / {})', ['({} * {})', 'x[1]', 'x[0]'], 'x[0]'], fitness=357.48027296943366), Individual(genome='x[1]', fitness=357.5802729694336), Individual(genome=['({} * {})', ['sin({})', ['sin({})', 'x[0]']], 'x[1]'], fitness=357.8735074900555), Individual(genome=['tan({})', ['log({})', ['square({})', '4']]], fitness=361.8955992252742), Individual(genome=['cos({})', ['exp({})', ['({} / {})', '8', ['sqrt({})', '6']]]], fitness=363.73434940589397), Individual(genome=['({} / {})', ['({} / {})', 'x[0]', '2'], 'x[0]'], fitness=365.8945331180917), Individual(genome=['({} / {})', ['({} - {})', 'x[0]', ['sin({})', 'x[0]']], 'x[0]'], fitness=366.5107852946067), Individual(genome=['sin({})', '10'], fitness=377.6267390055287), Individual(genome=['({} / {})', ['sin({})', ['sin({})', ['tan({})', 'x[0]']]], 'x[0]'], fitness=382.20024406066983), Individual(genome=['square({})', ['cos({})', ['sin({})', 'x[0]']]], fitness=382.59156621587874), Individual(genome=['({} / {})', ['sin({})', 'x[0]'], 'x[0]'], fitness=387.177407982263), Individual(genome=['({} / {})', ['({} * {})', ['cos({})', ['log({})', ['sin({})', ['sin({})', ['log({})', ['cos({})', ['sin({})', ['log({})', ['cos({})', ['log({})', ['sin({})', ['sin({})', ['tan({})', ['sin({})', ['sqrt({})', ['log({})', ['tan({})', ['sqrt({})', ['sin({})', ['sin({})', ['sin({})', ['sin({})', ['tan({})', ['sqrt({})', ['log({})', ['sqrt({})', ['sqrt({})', ['log({})', ['cos({})', ['tan({})', ['cos({})', ['log({})', ['tan({})', ['sin({})', ['sin({})', ['cos({})', ['sin({})', ['sin({})', ['sqrt({})', 'x[0]']]]]]]]]]]]]]]]]]]]]]]]]]]]]]]]]]]]]]]], ['tan({})', ['tan({})', ['sin({})', ['sqrt({})', ['log({})', ['log({})', ['log({})', ['log({})', ['tan({})', ['cos({})', ['sqrt({})', ['sin({})', ['cos({})', ['sin({})', ['sqrt({})', ['sqrt({})', ['tan({})', ['sin({})', ['log({})', ['sqrt({})', ['sin({})', ['cos({})', ['cos({})', ['log({})', ['sin({})', ['sin({})', ['log({})', ['tan({})', ['sqrt({})', ['log({})', ['sin({})', ['log({})', ['sin({})', ['tan({})', ['log({})', ['cos({})', ['sqrt({})', ['cos({})', ['log({})', ['cos({})', ['sqrt({})', ['cos({})', ['tan({})', ['log({})', 'x[0]']]]]]]]]]]]]]]]]]]]]]]]]]]]]]]]]]]]]]]]]]]]]], 'x[0]'], fitness=400.8087251710073), Individual(genome=['({} + {})', ['sin({})', ['sqrt({})', '10']], ['cos({})', ['square({})', 'x[0]']]], fitness=412.9095280899631), Individual(genome=['cos({})', 'x[1]'], fitness=413.5289203345086), Individual(genome=['sin({})', ['({} - {})', '8', '6']], fitness=420.6397958139684), Individual(genome=['sin({})', ['tan({})', ['sin({})', '8']]], fitness=437.09499020228736), Individual(genome=['({} + {})', 'x[1]', ['({} / {})', ['({} * {})', 'x[1]', 'x[1]'], 'x[1]']], fitness=437.35603948269437), Individual(genome=['({} / {})', 'x[0]', 'x[0]'], fitness=437.4289379770403), Individual(genome=['cos({})', '3'], fitness=449.13046896345315), Individual(genome=['({} / {})', ['({} * {})', 'x[1]', ['square({})', 'x[0]']], 'x[0]'], fitness=466.84338604322437), Individual(genome=['({} * {})', 'x[1]', ['({} + {})', 'x[0]', 'x[1]']], fitness=483.64075804416836), Individual(genome=['tan({})', ['cos({})', 'x[1]']], fitness=486.9782642660924), Individual(genome=['exp({})', 'x[1]'], fitness=489.8645908003247), Individual(genome=['({} / {})', ['tan({})', ['({} / {})', ['({} - {})', '6', 'x[1]'], ['exp({})', 'x[1]']]], '10'], fitness=508.07405734886925), Individual(genome=['({} / {})', ['({} / {})', 'x[1]', '8'], 'x[0]'], fitness=510.800173777041), Individual(genome=['({} / {})', ['sin({})', ['({} / {})', 'x[1]', '7']], 'x[0]'], fitness=561.2139307305856), Individual(genome=['exp({})', ['({} * {})', ['({} * {})', 'x[1]', 'x[0]'], ['({} / {})', 'x[1]', 'x[0]']]], fitness=564.8045209607989), Individual(genome=['tan({})', ['({} - {})', 'x[1]', ['sin({})', ['exp({})', 'x[1]']]]], fitness=600.7782039751717), Individual(genome=['sqrt({})', '3'], fitness=632.2549545336133), Individual(genome=['exp({})', ['square({})', ['cos({})', 'x[0]']]], fitness=673.174653291795), Individual(genome=['sqrt({})', '4'], fitness=730.3977476949376), Individual(genome=['({} / {})', ['({} - {})', ['tan({})', ['({} + {})', 'x[1]', '2']], '4'], ['({} * {})', ['exp({})', '10'], ['({} * {})', ['square({})', 'x[0]'], ['cos({})', '9']]]], fitness=894.9640162989139), Individual(genome=['square({})', ['exp({})', 'x[1]']], fitness=936.8673733433253), Individual(genome=['({} / {})', ['({} - {})', ['sqrt({})', ['log({})', '2']], ['cos({})', 'x[1]']], 'x[0]'], fitness=943.5690122222853), Individual(genome=['({} / {})', ['sin({})', '3'], 'x[0]'], fitness=1205.5283047599169), Individual(genome=['sqrt({})', '9'], fitness=1223.4665574128348), Individual(genome=['({} + {})', 'x[1]', ['log({})', ['square({})', ['({} * {})', 'x[0]', 'x[1]']]]], fitness=1278.961829893304), Individual(genome=['({} / {})', ['({} + {})', 'x[0]', ['sin({})', '3']], 'x[0]'], fitness=1326.4538047378383), Individual(genome=['({} / {})', ['({} - {})', 'x[0]', ['({} * {})', 'x[0]', 'x[0]']], 'x[0]'], fitness=1453.4544124561703), Individual(genome=['({} - {})', ['sin({})', ['sin({})', '10']], '3'], fitness=1606.0785954549128), Individual(genome=['({} - {})', '4', ['({} * {})', 'x[1]', ['exp({})', 'x[1]']]], fitness=1751.118314178798), Individual(genome=['({} / {})', ['cos({})', '8'], ['sin({})', 'x[0]']], fitness=1805.5246979751107), Individual(genome=['({} / {})', ['cos({})', ['log({})', ['({} - {})', '4', 'x[0]']]], 'x[0]'], fitness=1811.7383740633375), Individual(genome=['({} / {})', ['sin({})', ['({} * {})', ['({} / {})', '6', 'x[1]'], ['({} + {})', 'x[0]', 'x[0]']]], 'x[0]'], fitness=1832.8468885836762), Individual(genome=['({} - {})', 'x[0]', ['({} * {})', 'x[0]', 'x[0]']], fitness=2033.7631165124594), Individual(genome=['({} / {})', ['square({})', ['square({})', 'x[1]']], 'x[0]'], fitness=2044.3799369516948), Individual(genome=['({} - {})', ['exp({})', '2'], '3'], fitness=2240.3200892346654), Individual(genome=['({} * {})', ['sin({})', ['({} * {})', 'x[0]', '7']], ['exp({})', '2']], fitness=2876.3380322258854), Individual(genome=['({} - {})', 'x[1]', '5'], fitness=2902.2401757172715), Individual(genome=['exp({})', 'x[0]'], fitness=3293.898132585076), Individual(genome=['({} / {})', ['cos({})', ['exp({})', '6']], 'x[0]'], fitness=3375.789904857793), Individual(genome=['exp({})', ['log({})', ['({} - {})', '5', 'x[0]']]], fitness=3796.2304513734034), Individual(genome=['({} / {})', ['cos({})', '5'], 'x[0]'], fitness=3882.375360990196), Individual(genome=['({} / {})', ['sin({})', '6'], 'x[0]'], fitness=3890.556590940266), Individual(genome='6', fitness=3902.572986566526), Individual(genome=['({} / {})', ['({} + {})', ['tan({})', '6'], ['sin({})', 'x[0]']], 'x[0]'], fitness=4174.009930356134), Individual(genome=['({} / {})', ['({} * {})', ['({} - {})', 'x[0]', 'x[1]'], ['({} - {})', 'x[0]', 'x[1]']], 'x[0]'], fitness=4808.218270704413), Individual(genome=['({} / {})', ['square({})', ['({} + {})', 'x[1]', 'x[0]']], 'x[0]'], fitness=4879.801499851946), Individual(genome=['({} / {})', ['({} * {})', 'x[1]', 'x[1]'], 'x[0]'], fitness=4985.563463494014), Individual(genome=['({} / {})', ['square({})', 'x[1]'], 'x[0]'], fitness=4985.563463494014), Individual(genome=['({} / {})', ['({} * {})', ['square({})', ['square({})', 'x[0]']], 'x[1]'], 'x[0]'], fitness=5009.043363979909), Individual(genome='7', fitness=5195.641796284424), Individual(genome=['({} + {})', ['square({})', ['sqrt({})', '7']], ['({} * {})', ['({} * {})', 'x[0]', 'x[1]'], 'x[0]']], fitness=5708.928070316935), Individual(genome=['({} / {})', ['sqrt({})', ['sin({})', '3']], 'x[0]'], fitness=6574.304290878992), Individual(genome=['({} / {})', ['({} * {})', '8', 'x[0]'], 'x[0]'], fitness=6688.910606002321), Individual(genome=['({} / {})', ['tan({})', ['square({})', 'x[1]']], 'x[0]'], fitness=6733.757884484723), Individual(genome=['({} / {})', ['log({})', ['cos({})', ['tan({})', 'x[1]']]], 'x[0]'], fitness=6834.217840906598), Individual(genome=['({} + {})', ['exp({})', '2'], ['cos({})', 'x[1]']], fitness=7065.495856883318), Individual(genome=['({} / {})', ['({} * {})', 'x[1]', ['cos({})', ['sin({})', 'x[1]']]], 'x[0]'], fitness=7651.004141913538), Individual(genome=['({} / {})', ['sin({})', '9'], 'x[0]'], fitness=7850.434090315291), Individual(genome=['({} / {})', ['sin({})', 'x[1]'], 'x[0]'], fitness=9575.404442931333), Individual(genome=['({} / {})', ['({} - {})', 'x[0]', ['tan({})', '9']], 'x[0]'], fitness=9577.46628314581), Individual(genome=['({} - {})', ['({} + {})', ['({} + {})', '5', '8'], ['sin({})', 'x[0]']], '3'], fitness=10128.595968010904), Individual(genome='10', fitness=10274.948225438115), Individual(genome=['({} / {})', 'x[1]', 'x[0]'], fitness=11036.402738455936), Individual(genome=['({} / {})', ['({} + {})', 'x[1]', ['sin({})', 'x[0]']], 'x[0]'], fitness=11081.721249770686), Individual(genome=['({} / {})', 'x[1]', ['cos({})', 'x[0]']], fitness=11093.62769340149), Individual(genome=['({} / {})', ['({} - {})', ['({} + {})', 'x[0]', 'x[1]'], ['({} - {})', 'x[0]', 'x[0]']], 'x[0]'], fitness=11132.458167198343), Individual(genome=['({} / {})', ['({} + {})', 'x[0]', 'x[1]'], 'x[0]'], fitness=11132.458167198343), Individual(genome=['({} / {})', ['({} - {})', 'x[0]', 'x[1]'], 'x[0]'], fitness=11137.87912830685), Individual(genome=['({} / {})', ['({} - {})', 'x[1]', 'x[0]'], 'x[0]'], fitness=11140.347309713532), Individual(genome=['({} / {})', ['square({})', ['tan({})', 'x[1]']], 'x[0]'], fitness=12922.34681346348), Individual(genome=['({} / {})', ['tan({})', ['({} / {})', 'x[0]', '4']], ['sin({})', 'x[0]']], fitness=13405.244978224633), Individual(genome=['({} / {})', ['({} + {})', 'x[0]', ['cos({})', ['({} - {})', '3', '4']]], 'x[0]'], fitness=13479.980947071832), Individual(genome=['({} / {})', ['cos({})', ['({} - {})', ['({} + {})', '3', 'x[0]'], ['({} - {})', '4', 'x[0]']]], 'x[0]'], fitness=13608.910519639549), Individual(genome=['({} / {})', ['sin({})', '10'], 'x[0]'], fitness=13682.010463492672), Individual(genome=['({} / {})', ['tan({})', 'x[1]'], 'x[0]'], fitness=15725.438130303972), Individual(genome=['({} / {})', 'x[1]', ['sin({})', 'x[0]']], fitness=16219.861327721415), Individual(genome=['({} / {})', 'x[1]', ['tan({})', 'x[0]']], fitness=16248.076354894742), Individual(genome=['({} / {})', ['sqrt({})', ['({} - {})', '3', 'x[1]']], ['({} - {})', 'x[1]', 'x[0]']], fitness=17773.30695508859), Individual(genome=['({} / {})', ['sin({})', ['exp({})', 'x[1]']], 'x[0]'], fitness=18352.52587958346), Individual(genome=['({} / {})', ['sin({})', ['({} - {})', ['exp({})', 'x[1]'], ['tan({})', 'x[0]']]], 'x[0]'], fitness=18382.35327706145), Individual(genome=['({} / {})', ['tan({})', '10'], 'x[0]'], fitness=18998.4351282468), Individual(genome=['({} / {})', ['sin({})', ['tan({})', ['exp({})', 'x[1]']]], 'x[0]'], fitness=24808.861537785582), Individual(genome=['({} / {})', ['cos({})', '7'], 'x[0]'], fitness=25590.89657502267), Individual(genome=['({} / {})', ['exp({})', 'x[1]'], 'x[0]'], fitness=26848.93815506925), Individual(genome=['({} / {})', ['({} + {})', 'x[1]', ['log({})', '3']], 'x[0]'], fitness=27014.233640956634), Individual(genome=['({} / {})', ['({} / {})', '4', '5'], 'x[0]'], fitness=28782.70727391131), Individual(genome=['({} / {})', ['square({})', ['cos({})', ['({} - {})', 'x[0]', '9']]], 'x[0]'], fitness=30890.65792389468), Individual(genome=['({} / {})', ['tan({})', '7'], 'x[0]'], fitness=34105.097264576936), Individual(genome=['({} / {})', ['({} - {})', ['cos({})', 'x[1]'], 'x[0]'], 'x[0]'], fitness=35557.5206980005), Individual(genome=['({} / {})', ['cos({})', 'x[1]'], 'x[0]'], fitness=35630.366894958766), Individual(genome=['({} / {})', ['tan({})', 'x[0]'], 'x[0]'], fitness=35948.12225430101), Individual(genome=['tan({})', ['exp({})', 'x[1]']], fitness=36595.25943173607), Individual(genome=['({} / {})', ['({} - {})', ['square({})', ['cos({})', '2']], ['tan({})', 'x[0]']], 'x[0]'], fitness=37253.66264850364), Individual(genome=['({} / {})', ['cos({})', '9'], 'x[0]'], fitness=37630.55338378115), Individual(genome=['({} / {})', ['({} * {})', 'x[0]', ['exp({})', '3']], 'x[0]'], fitness=40548.02279919984), Individual(genome=['({} / {})', ['square({})', ['exp({})', 'x[1]']], 'x[0]'], fitness=40722.932631747135), Individual(genome=['({} / {})', ['sin({})', '5'], 'x[0]'], fitness=41634.62274220739), Individual(genome=['({} / {})', ['cos({})', ['({} * {})', ['sin({})', '10'], ['({} - {})', 'x[1]', 'x[0]']]], 'x[0]'], fitness=41869.4078966117), Individual(genome=['({} / {})', ['({} + {})', 'x[1]', 'x[1]'], 'x[0]'], fitness=43123.92476820385), Individual(genome=['({} / {})', ['({} + {})', 'x[1]', ['({} + {})', 'x[0]', 'x[1]']], 'x[0]'], fitness=43222.96681597076), Individual(genome=['({} / {})', ['sin({})', ['({} - {})', 'x[0]', '8']], 'x[0]'], fitness=44072.981960719895), Individual(genome=['({} / {})', ['cos({})', '3'], 'x[0]'], fitness=44346.94105297368), Individual(genome=['({} / {})', ['({} - {})', ['cos({})', ['({} * {})', 'x[0]', '6']], ['({} / {})', 'x[0]', '4']], 'x[0]'], fitness=44700.19325418638), Individual(genome=['({} / {})', ['({} / {})', 'x[1]', 'x[1]'], 'x[0]'], fitness=44830.356359285295), Individual(genome=['({} / {})', ['exp({})', ['({} - {})', 'x[0]', 'x[0]']], 'x[0]'], fitness=44830.356359285295), Individual(genome=['({} / {})', ['square({})', ['cos({})', 'x[0]']], 'x[0]'], fitness=44864.9344671896), Individual(genome=['({} / {})', ['cos({})', 'x[0]'], 'x[0]'], fitness=44993.438677310434), Individual(genome=['({} / {})', ['log({})', ['({} / {})', '7', ['({} + {})', '10', '9']]], 'x[0]'], fitness=45107.288948253976), Individual(genome=['({} / {})', ['exp({})', 'x[0]'], 'x[0]'], fitness=45213.21068776817), Individual(genome=['({} / {})', ['cos({})', ['sin({})', ['square({})', 'x[1]']]], ['sin({})', 'x[0]']], fitness=50938.091273168066), Individual(genome=['tan({})', ['tan({})', ['cos({})', ['exp({})', 'x[0]']]]], fitness=53559.03228553332), Individual(genome=['({} / {})', ['log({})', '3'], 'x[0]'], fitness=54058.82188575472), Individual(genome=['({} / {})', ['tan({})', ['square({})', ['cos({})', 'x[1]']]], 'x[0]'], fitness=57709.49711633611), Individual(genome=['({} / {})', ['tan({})', '4'], 'x[0]'], fitness=60017.402087941715), Individual(genome=['({} / {})', ['({} - {})', ['sin({})', ['log({})', '3']], ['exp({})', ['cos({})', '7']]], 'x[0]'], fitness=68726.31769338353), Individual(genome=['({} / {})', ['tan({})', ['cos({})', 'x[1]']], 'x[0]'], fitness=72815.04001801382), Individual(genome=['({} / {})', ['({} / {})', '9', '7'], 'x[0]'], fitness=73957.49011726187), Individual(genome=['({} / {})', ['square({})', ['({} + {})', ['cos({})', 'x[1]'], ['square({})', 'x[1]']]], 'x[0]'], fitness=76322.4816830609), Individual(genome=['({} / {})', ['({} * {})', ['cos({})', 'x[0]'], 'x[0]'], ['cos({})', ['exp({})', 'x[0]']]], fitness=80847.98739659692), Individual(genome=['({} / {})', ['tan({})', ['tan({})', ['({} + {})', 'x[1]', '7']]], 'x[0]'], fitness=83450.88808630487), Individual(genome=['({} / {})', ['({} - {})', ['cos({})', 'x[1]'], ['tan({})', 'x[1]']], 'x[0]'], fitness=83509.63661021281), Individual(genome=['tan({})', 'x[0]'], fitness=88912.14947290863), Individual(genome=['({} / {})', ['sqrt({})', ['log({})', '8']], 'x[0]'], fitness=92980.62225745633), Individual(genome=['({} / {})', ['tan({})', ['cos({})', ['tan({})', 'x[0]']]], 'x[0]'], fitness=108468.87614942544), Individual(genome=['({} / {})', ['log({})', ['sqrt({})', '10']], ['cos({})', 'x[0]']], fitness=117056.73624482914), Individual(genome=['({} / {})', 'x[0]', ['sin({})', 'x[0]']], fitness=130964.20400223127), Individual(genome=['({} / {})', ['sqrt({})', '3'], 'x[0]'], fitness=134061.41019504704), Individual(genome=['({} / {})', ['sqrt({})', ['log({})', '5']], ['cos({})', 'x[0]']], fitness=142063.64892024145), Individual(genome=['({} / {})', ['tan({})', ['({} / {})', '10', '10']], ['tan({})', 'x[0]']], fitness=143129.3378493777), Individual(genome=['({} / {})', ['exp({})', ['sin({})', ['exp({})', 'x[1]']]], 'x[0]'], fitness=160906.865275073), Individual(genome=['({} / {})', ['({} + {})', ['sin({})', '2'], ['exp({})', 'x[0]']], 'x[0]'], fitness=163555.6734710072), Individual(genome=['({} + {})', ['sin({})', ['sin({})', ['cos({})', '2']]], ['tan({})', ['({} - {})', ['({} - {})', '2', 'x[1]'], ['exp({})', '7']]]], fitness=174160.36267314287), Individual(genome=['({} / {})', ['tan({})', ['sqrt({})', ['exp({})', '4']]], 'x[0]'], fitness=177560.78607169687), Individual(genome=['({} / {})', '2', 'x[0]'], fitness=178696.97557992092), Individual(genome=['({} / {})', ['({} + {})', ['sin({})', 'x[0]'], ['({} + {})', '2', 'x[0]']], 'x[0]'], fitness=179735.9818329848), Individual(genome=['({} / {})', ['log({})', '8'], 'x[0]'], fitness=193163.85213675824), Individual(genome=['({} / {})', ['log({})', '9'], 'x[0]'], fitness=215651.13367734064), Individual(genome=['({} / {})', 'x[0]', ['cos({})', 'x[0]']], fitness=219764.09625997843), Individual(genome=['({} / {})', ['sqrt({})', '5'], 'x[0]'], fitness=223339.05478363315), Individual(genome=['({} / {})', ['sqrt({})', ['({} + {})', '5', 'x[0]']], 'x[0]'], fitness=223444.437212266), Individual(genome=['({} / {})', ['log({})', '10'], 'x[0]'], fitness=236817.38491860777), Individual(genome=['({} / {})', ['({} + {})', ['square({})', 'x[0]'], ['log({})', '10']], 'x[0]'], fitness=236936.0814935819), Individual(genome=['({} / {})', ['({} - {})', 'x[0]', ['log({})', '10']], 'x[0]'], fitness=237396.8365079497), Individual(genome=['({} / {})', ['({} + {})', ['exp({})', 'x[1]'], ['({} / {})', '8', '7']], ['tan({})', 'x[0]']], fitness=248367.81339106057), Individual(genome=['({} / {})', ['sqrt({})', '6'], 'x[0]'], fitness=267985.76095416787), Individual(genome=['({} / {})', ['log({})', ['({} / {})', ['square({})', 'x[1]'], ['exp({})', 'x[0]']]], 'x[0]'], fitness=283387.36513504904), Individual(genome=['({} / {})', ['({} * {})', ['({} - {})', 'x[1]', 'x[0]'], ['({} * {})', '8', 'x[1]']], 'x[0]'], fitness=301758.80113432993), Individual(genome=['({} / {})', ['sqrt({})', '7'], 'x[0]'], fitness=312635.9732148797), Individual(genome=['({} / {})', ['tan({})', ['({} * {})', ['({} * {})', '3', 'x[1]'], ['exp({})', 'x[1]']]], 'x[0]'], fitness=318917.011988333), Individual(genome=['({} / {})', ['sqrt({})', '8'], 'x[0]'], fitness=357288.9612526261), Individual(genome=['({} / {})', ['({} / {})', '4', ['log({})', '4']], 'x[0]'], fitness=371822.94327965647), Individual(genome=['({} / {})', ['({} * {})', ['sin({})', 'x[1]'], ['({} - {})', '6', 'x[1]']], 'x[0]'], fitness=395655.99243509833), Individual(genome=['({} / {})', '3', 'x[0]'], fitness=401944.2177901661), Individual(genome=['({} / {})', ['sqrt({})', '10'], 'x[0]'], fitness=446601.3734820282), Individual(genome=['({} / {})', ['({} + {})', '3', ['sin({})', ['square({})', 'x[1]']]], 'x[0]'], fitness=467669.9015244287), Individual(genome=['({} / {})', ['tan({})', '5'], 'x[0]'], fitness=511750.64417556295), Individual(genome=['({} / {})', ['({} * {})', ['exp({})', 'x[0]'], ['tan({})', '5']], 'x[0]'], fitness=524682.833338588), Individual(genome=['({} / {})', ['log({})', ['square({})', '6']], 'x[0]'], fitness=573507.6533330714), Individual(genome=['({} / {})', '4', 'x[0]'], fitness=714572.082990021), Individual(genome=['({} / {})', ['square({})', ['({} + {})', 'x[0]', '2']], 'x[0]'], fitness=719790.2917096018), Individual(genome=['({} / {})', ['({} - {})', '4', 'x[1]'], 'x[0]'], fitness=862672.9665391868), Individual(genome=['({} / {})', ['({} * {})', '2', 'x[0]'], ['cos({})', 'x[0]']], fitness=875084.5063152743), Individual(genome=['({} / {})', ['tan({})', ['tan({})', ['square({})', 'x[0]']]], ['cos({})', 'x[0]']], fitness=913169.0102911216), Individual(genome=['square({})', '10'], fitness=999651.1411000488), Individual(genome=['({} / {})', ['({} - {})', '4', 'x[1]'], ['sin({})', 'x[0]']], fitness=1065800.351241269), Individual(genome=['({} / {})', '5', 'x[0]'], fitness=1116580.5711794847), Individual(genome=['({} / {})', ['({} / {})', ['({} * {})', 'x[1]', '9'], ['cos({})', 'x[0]']], 'x[0]'], fitness=1225422.143881039), Individual(genome=['({} / {})', ['({} + {})', ['tan({})', '10'], '5'], 'x[0]'], fitness=1424989.1195812318), Individual(genome=['({} / {})', ['({} - {})', '6', 'x[0]'], 'x[0]'], fitness=1606892.2305271982), Individual(genome=['({} / {})', '6', 'x[0]'], fitness=1607969.6823585588), Individual(genome=['({} / {})', ['({} - {})', ['tan({})', 'x[0]'], '6'], 'x[0]'], fitness=1644752.3557831894), Individual(genome=['tan({})', ['({} - {})', 'x[0]', '4']], fitness=1760740.7469532932), Individual(genome=['({} / {})', ['({} + {})', 'x[1]', '7'], 'x[0]'], fitness=1958985.9273427678), Individual(genome=['({} / {})', ['sin({})', '9'], ['({} * {})', 'x[1]', ['tan({})', ['tan({})', '8']]]], fitness=2089713.3331546222), Individual(genome=['({} / {})', '7', 'x[0]'], fitness=2188739.4165272415), Individual(genome=['({} / {})', ['({} + {})', 'x[0]', '7'], 'x[0]'], fitness=2190214.2655288754), Individual(genome=['({} / {})', ['({} - {})', ['({} - {})', '7', 'x[0]'], 'x[1]'], 'x[0]'], fitness=2438616.522748658), Individual(genome=['({} / {})', ['({} - {})', 'x[1]', '7'], 'x[0]'], fitness=2442737.404625009), Individual(genome=['({} / {})', '8', 'x[0]'], fitness=2858889.773685534), Individual(genome=['({} / {})', ['({} - {})', '10', '2'], 'x[0]'], fitness=2858889.773685534), Individual(genome=['({} / {})', ['({} + {})', '9', ['sin({})', '6']], 'x[0]'], fitness=3397197.9685783684), Individual(genome=['({} / {})', '9', 'x[0]'], fitness=3618420.753833437), Individual(genome=['({} / {})', ['square({})', ['sqrt({})', '9']], 'x[0]'], fitness=3618420.753833437), Individual(genome=['({} / {})', ['log({})', ['exp({})', ['square({})', '3']]], 'x[0]'], fitness=3618420.753833437), Individual(genome=['({} / {})', ['({} - {})', 'x[1]', '9'], 'x[0]'], fitness=3941934.7263562246), Individual(genome=['({} / {})', ['({} + {})', ['({} / {})', 'x[0]', 'x[1]'], ['exp({})', 'x[1]']], 'x[0]'], fitness=3992455.728044542), Individual(genome=['({} / {})', ['({} + {})', '10', 'x[1]'], 'x[0]'], fitness=4134530.7827316145), Individual(genome=['({} / {})', ['({} + {})', 'x[1]', '10'], 'x[0]'], fitness=4134530.7827316145), Individual(genome=['({} / {})', '10', 'x[0]'], fitness=4467332.356970948), Individual(genome=['({} / {})', ['({} - {})', ['sin({})', 'x[0]'], ['({} + {})', '6', '4']], 'x[0]'], fitness=4469495.686635311), Individual(genome=['({} / {})', ['({} - {})', 'x[0]', '10'], 'x[0]'], fitness=4469537.759353499), Individual(genome=['({} / {})', ['sqrt({})', ['sqrt({})', '2']], ['tan({})', ['({} - {})', 'x[0]', '5']]], fitness=4791185.356315982), Individual(genome=['({} / {})', ['({} - {})', ['({} * {})', '9', 'x[1]'], ['({} / {})', 'x[0]', 'x[1]']], 'x[0]'], fitness=4832778.1699895095), Individual(genome=['({} / {})', ['({} + {})', ['({} + {})', 'x[1]', '10'], ['cos({})', 'x[0]']], 'x[0]'], fitness=5037871.396179823), Individual(genome=['({} / {})', 'x[0]', ['({} - {})', ['square({})', 'x[1]'], ['exp({})', 'x[1]']]], fitness=5474843.459762465), Individual(genome=['({} / {})', ['tan({})', ['({} * {})', 'x[1]', '8']], 'x[0]'], fitness=6208734.548789721), Individual(genome=['({} / {})', ['exp({})', ['cos({})', 'x[1]']], ['({} - {})', ['square({})', 'x[1]'], ['exp({})', 'x[1]']]], fitness=8145003.654977838), Individual(genome=['({} / {})', ['({} - {})', ['({} + {})', ['({} + {})', '10', '4'], 'x[1]'], 'x[0]'], 'x[0]'], fitness=8283926.362625372), Individual(genome=['({} / {})', ['square({})', ['({} * {})', 'x[1]', '7']], 'x[0]'], fitness=11325460.024923004), Individual(genome=['({} / {})', ['square({})', '4'], 'x[0]'], fitness=11437795.058577819), Individual(genome=['({} / {})', ['({} + {})', '8', '9'], 'x[0]'], fitness=12912371.022642598), Individual(genome=['({} / {})', ['({} + {})', ['({} / {})', ['({} * {})', '2', 'x[0]'], ['tan({})', 'x[1]']], 'x[0]'], 'x[0]'], fitness=15865300.60189629), Individual(genome=['({} / {})', ['({} / {})', '6', ['tan({})', ['({} + {})', '4', 'x[1]']]], 'x[0]'], fitness=41661964.69311528), Individual(genome=['({} / {})', ['square({})', '6'], 'x[0]'], fitness=57911632.70789918), Individual(genome=['({} / {})', ['square({})', ['({} - {})', '6', 'x[1]']], 'x[0]'], fitness=75203266.98690829), Individual(genome=['({} / {})', ['({} + {})', ['({} / {})', ['({} + {})', '2', '10'], ['sin({})', '6']], ['({} + {})', ['cos({})', '2'], ['({} + {})', 'x[1]', 'x[1]']]], 'x[0]'], fitness=87064152.13889067), Individual(genome=['({} / {})', ['square({})', '7'], 'x[0]'], fitness=107291770.81122929), Individual(genome=['({} / {})', ['({} * {})', '5', '10'], 'x[0]'], fitness=111715907.33395118), Individual(genome=['({} / {})', ['({} / {})', '8', 'x[1]'], 'x[0]'], fitness=265311497.06759876), Individual(genome=['({} / {})', ['square({})', '10'], 'x[0]'], fitness=446883027.781798), Individual(genome=['({} / {})', ['({} - {})', 'x[0]', ['({} / {})', ['({} * {})', '3', '8'], ['({} + {})', 'x[1]', 'x[0]']]], 'x[0]'], fitness=1680557505.3645146), Individual(genome=['({} / {})', ['({} / {})', ['exp({})', 'x[0]'], 'x[0]'], 'x[0]'], fitness=7891686004.527294), Individual(genome=['({} / {})', ['({} / {})', ['tan({})', ['cos({})', 'x[1]']], ['tan({})', ['tan({})', 'x[0]']]], 'x[0]'], fitness=13116585428.26151), Individual(genome=['({} / {})', ['({} - {})', ['tan({})', ['({} + {})', 'x[1]', '2']], '4'], ['sin({})', ['({} / {})', 'x[1]', '10']]], fitness=15493380356.222391), Individual(genome=['exp({})', '10'], fitness=48516367215.61349), Individual(genome=['({} / {})', ['exp({})', '7'], 'x[0]'], fitness=53744536349.777664), Individual(genome=['({} / {})', ['exp({})', '8'], 'x[0]'], fitness=397122438427.90106), Individual(genome=['({} / {})', ['({} / {})', ['({} * {})', '3', ['cos({})', 'x[1]']], ['({} * {})', 'x[1]', 'x[0]']], 'x[0]'], fitness=1256566259595.806), Individual(genome=['({} / {})', ['exp({})', '10'], 'x[0]'], fitness=21682179209302.535), Individual(genome=['({} + {})', 'x[1]', ['square({})', ['square({})', ['exp({})', '4']]]], fitness=7896295938720134.0), Individual(genome=['({} / {})', ['({} / {})', ['exp({})', '8'], 'x[0]'], 'x[0]'], fitness=6.981988652823076e+16), Individual(genome=['({} / {})', ['square({})', ['({} + {})', ['sin({})', 'x[1]'], ['({} / {})', '10', 'x[1]']]], 'x[0]'], fitness=1.302444200097395e+18), Individual(genome=['({} / {})', ['square({})', ['square({})', '7']], ['({} * {})', ['exp({})', 'x[1]'], ['square({})', ['sin({})', 'x[1]']]]], fitness=8.984588144707282e+20), Individual(genome=['({} / {})', ['exp({})', ['tan({})', ['({} + {})', '10', 'x[0]']]], ['cos({})', 'x[0]']], fitness=8.713564569614907e+238)]\n"
     ]
    }
   ],
   "source": [
    "population.sort(key=lambda i: i.fitness)\n",
    "print(population)"
   ]
  },
  {
   "cell_type": "code",
   "execution_count": null,
   "metadata": {},
   "outputs": [
    {
     "data": {
      "text/plain": [
       "nan"
      ]
     },
     "execution_count": 565,
     "metadata": {},
     "output_type": "execute_result"
    }
   ],
   "source": [
    "mse(population[0].genome,x,y)"
   ]
  },
  {
   "cell_type": "code",
   "execution_count": null,
   "metadata": {},
   "outputs": [
    {
     "data": {
      "text/plain": [
       "inf"
      ]
     },
     "execution_count": 568,
     "metadata": {},
     "output_type": "execute_result"
    }
   ],
   "source": [
    "fitness_function(population[0].genome, x, y)"
   ]
  },
  {
   "cell_type": "code",
   "execution_count": null,
   "metadata": {},
   "outputs": [
    {
     "data": {
      "text/plain": [
       "['({} / {})',\n",
       " ['({} * {})',\n",
       "  ['cos({})',\n",
       "   ['log({})',\n",
       "    ['sin({})',\n",
       "     ['sin({})',\n",
       "      ['log({})',\n",
       "       ['cos({})',\n",
       "        ['sin({})',\n",
       "         ['log({})',\n",
       "          ['cos({})',\n",
       "           ['log({})',\n",
       "            ['sin({})',\n",
       "             ['sin({})',\n",
       "              ['tan({})',\n",
       "               ['sin({})',\n",
       "                ['sqrt({})',\n",
       "                 ['log({})',\n",
       "                  ['tan({})',\n",
       "                   ['sqrt({})',\n",
       "                    ['sin({})',\n",
       "                     ['sin({})',\n",
       "                      ['sin({})',\n",
       "                       ['sin({})',\n",
       "                        ['tan({})',\n",
       "                         ['sqrt({})',\n",
       "                          ['log({})',\n",
       "                           ['sqrt({})',\n",
       "                            ['sqrt({})',\n",
       "                             ['log({})',\n",
       "                              ['cos({})',\n",
       "                               ['tan({})',\n",
       "                                ['cos({})',\n",
       "                                 ['log({})',\n",
       "                                  ['tan({})',\n",
       "                                   ['sin({})',\n",
       "                                    ['sin({})',\n",
       "                                     ['cos({})',\n",
       "                                      ['sin({})',\n",
       "                                       ['sin({})',\n",
       "                                        ['sqrt({})',\n",
       "                                         'x[0]']]]]]]]]]]]]]]]]]]]]]]]]]]]]]]]]]]]]]]],\n",
       "  ['tan({})',\n",
       "   ['tan({})',\n",
       "    ['sin({})',\n",
       "     ['sqrt({})',\n",
       "      ['log({})',\n",
       "       ['log({})',\n",
       "        ['log({})',\n",
       "         ['log({})',\n",
       "          ['tan({})',\n",
       "           ['cos({})',\n",
       "            ['sqrt({})',\n",
       "             ['sin({})',\n",
       "              ['cos({})',\n",
       "               ['sin({})',\n",
       "                ['sqrt({})',\n",
       "                 ['sqrt({})',\n",
       "                  ['tan({})',\n",
       "                   ['sin({})',\n",
       "                    ['log({})',\n",
       "                     ['sqrt({})',\n",
       "                      ['sin({})',\n",
       "                       ['cos({})',\n",
       "                        ['cos({})',\n",
       "                         ['log({})',\n",
       "                          ['sin({})',\n",
       "                           ['sin({})',\n",
       "                            ['log({})',\n",
       "                             ['tan({})',\n",
       "                              ['sqrt({})',\n",
       "                               ['log({})',\n",
       "                                ['sin({})',\n",
       "                                 ['log({})',\n",
       "                                  ['sin({})',\n",
       "                                   ['tan({})',\n",
       "                                    ['log({})',\n",
       "                                     ['cos({})',\n",
       "                                      ['sqrt({})',\n",
       "                                       ['cos({})',\n",
       "                                        ['log({})',\n",
       "                                         ['cos({})',\n",
       "                                          ['sqrt({})',\n",
       "                                           ['cos({})',\n",
       "                                            ['tan({})',\n",
       "                                             ['log({})',\n",
       "                                              'x[0]']]]]]]]]]]]]]]]]]]]]]]]]]]]]]]]]]]]]]]]]]]]]],\n",
       " 'x[0]']"
      ]
     },
     "execution_count": 566,
     "metadata": {},
     "output_type": "execute_result"
    }
   ],
   "source": [
    "population[0].genome"
   ]
  },
  {
   "cell_type": "code",
   "execution_count": null,
   "metadata": {},
   "outputs": [
    {
     "name": "stdout",
     "output_type": "stream",
     "text": [
      "[Individual(genome='x[0]', fitness=2.6184451945418963), Individual(genome='x[0]', fitness=2.6184451945418963), Individual(genome='x[0]', fitness=2.6184451945418963), Individual(genome='x[0]', fitness=2.6184451945418963), Individual(genome='x[0]', fitness=2.6184451945418963), Individual(genome=['({} - {})', 'x[0]', 'x[1]'], fitness=52.59784798676186), Individual(genome=['({} - {})', 'x[0]', 'x[1]'], fitness=52.59784798676186), Individual(genome='x[1]', fitness=341.01917222789746), Individual(genome='x[1]', fitness=341.01917222789746), Individual(genome='x[1]', fitness=341.01917222789746), Individual(genome=['tan({})', 'x[1]'], fitness=357.17565572968624), Individual(genome=['tan({})', 'x[1]'], fitness=357.17565572968624), Individual(genome=['log({})', '3'], fitness=458.915759164945), Individual(genome=['log({})', '3'], fitness=458.915759164945), Individual(genome=['({} * {})', '8', '9'], fitness=519197.5335526084), Individual(genome=['({} * {})', '8', '9'], fitness=519197.5335526084), Individual(genome=['square({})', ['exp({})', '8']], fitness=7896296075821783.0), Individual(genome=['square({})', ['exp({})', '8']], fitness=7896296075821783.0)]\n"
     ]
    }
   ],
   "source": [
    "print(population)"
   ]
  },
  {
   "cell_type": "code",
   "execution_count": null,
   "metadata": {},
   "outputs": [],
   "source": [
    "program_to_string(best_program)"
   ]
  },
  {
   "cell_type": "code",
   "execution_count": null,
   "metadata": {},
   "outputs": [
    {
     "name": "stdout",
     "output_type": "stream",
     "text": [
      "None\n",
      "None\n",
      "None\n",
      "None\n",
      "None\n",
      "None\n",
      "None\n",
      "None\n",
      "None\n",
      "None\n",
      "None\n",
      "None\n",
      "None\n",
      "None\n",
      "None\n",
      "None\n",
      "None\n",
      "None\n"
     ]
    }
   ],
   "source": [
    "for program in population:\n",
    "    print(program_to_string(program))"
   ]
  }
 ],
 "metadata": {
  "kernelspec": {
   "display_name": "Python 3",
   "language": "python",
   "name": "python3"
  },
  "language_info": {
   "codemirror_mode": {
    "name": "ipython",
    "version": 3
   },
   "file_extension": ".py",
   "mimetype": "text/x-python",
   "name": "python",
   "nbconvert_exporter": "python",
   "pygments_lexer": "ipython3",
   "version": "3.12.6"
  }
 },
 "nbformat": 4,
 "nbformat_minor": 2
}
