{
 "cells": [
  {
   "cell_type": "markdown",
   "metadata": {},
   "source": [
    "# Import"
   ]
  },
  {
   "cell_type": "code",
   "execution_count": 32,
   "metadata": {},
   "outputs": [],
   "source": [
    "import numpy as np\n",
    "from random import choice, random, randint, sample\n",
    "import copy\n",
    "from dataclasses import dataclass"
   ]
  },
  {
   "cell_type": "markdown",
   "metadata": {},
   "source": [
    "# Operations"
   ]
  },
  {
   "cell_type": "code",
   "execution_count": 33,
   "metadata": {},
   "outputs": [],
   "source": [
    "OPERATIONS = [\n",
    "    (np.add, 2, \"({} + {})\"),\n",
    "    (np.subtract, 2, \"({} - {})\"),\n",
    "    (np.divide, 2, \"({} / {})\"),\n",
    "    (np.multiply, 2, \"({} * {})\"),\n",
    "    (np.sin, 1, \"sin({})\"),\n",
    "    (np.cos, 1, \"cos({})\"),\n",
    "    (np.tan, 1, \"tan({})\"),\n",
    "    (np.exp, 1, \"exp({})\"),\n",
    "    (np.log, 1, \"log({})\"),\n",
    "    (np.sqrt, 1, \"sqrt({})\"),\n",
    "    (np.square, 1, \"square({})\"),\n",
    "]"
   ]
  },
  {
   "cell_type": "markdown",
   "metadata": {},
   "source": [
    "# Genothype definition"
   ]
  },
  {
   "cell_type": "markdown",
   "metadata": {},
   "source": [
    "Let's consider the genotype as a list of elements with the following structure: [operator, first operand, secondo operand].\n",
    "In this way we are creating a recursive function that computes a valid formula and represent it as a list (example: [ \"+\", [\"sin\", \"x[0]\" ], \"x[1]\"])."
   ]
  },
  {
   "cell_type": "code",
   "execution_count": 34,
   "metadata": {},
   "outputs": [],
   "source": [
    "def random_program(depth, input_dim):\n",
    "    if depth == 0 or random() < 0.3:\n",
    "        #Return a costant between 1 and 10 or a random variable (prob=0.3)\n",
    "        if random() < 0.3:\n",
    "            return str(randint(2, 10)) #costant\n",
    "        else:\n",
    "            return f\"x[{randint(0, input_dim - 1)}]\" #new leaf node\n",
    "\n",
    "    op, arity, symbol = choice(OPERATIONS)\n",
    "    children = [random_program(depth - 1, input_dim) for _ in range(arity)]\n",
    "    return [symbol] + children  "
   ]
  },
  {
   "cell_type": "markdown",
   "metadata": {},
   "source": [
    "## Individual"
   ]
  },
  {
   "cell_type": "code",
   "execution_count": 35,
   "metadata": {},
   "outputs": [],
   "source": [
    "@dataclass\n",
    "class Individual:\n",
    "    genome: list\n",
    "    fitness : float = None"
   ]
  },
  {
   "cell_type": "markdown",
   "metadata": {},
   "source": [
    "## Transform the program into a human readable function"
   ]
  },
  {
   "cell_type": "code",
   "execution_count": 36,
   "metadata": {},
   "outputs": [],
   "source": [
    "def program_to_string(program):\n",
    "    if isinstance(program, str):  # leaf\n",
    "        return program  \n",
    "    elif isinstance(program, list):  \n",
    "        try:\n",
    "            _, _, symbol = next((op, arity, s) for op, arity, s in OPERATIONS if s == program[0])\n",
    "        except StopIteration:\n",
    "            raise ValueError(f\"Not known operation: {program[0]}\")\n",
    "        \n",
    "        children = [program_to_string(child) for child in program[1:]]\n",
    "        \n",
    "        return symbol.format(*children)\n"
   ]
  },
  {
   "cell_type": "markdown",
   "metadata": {},
   "source": [
    "Now we need a function that given the genotype provide us with the output provided by the predicted function. This function must receive the input vector to perform his operation."
   ]
  },
  {
   "cell_type": "code",
   "execution_count": 37,
   "metadata": {},
   "outputs": [],
   "source": [
    "def evaluate_program(program, x):\n",
    "    if isinstance(program, str):  # Leaf node\n",
    "        #If it's a leaf, it could be a costant or a variable\n",
    "        if program[0] == 'x':\n",
    "            return x[int(program[2:-1])]\n",
    "        else:\n",
    "            return int(program)\n",
    "    elif isinstance(program, list): \n",
    "        op = next(op for op, _, symbol in OPERATIONS if symbol == program[0])\n",
    "        args = [evaluate_program(child, x) for child in program[1:]]\n",
    "        try:\n",
    "            return op(*args)\n",
    "        except ZeroDivisionError:\n",
    "            return np.inf"
   ]
  },
  {
   "cell_type": "markdown",
   "metadata": {},
   "source": [
    "As you may notice this function verify with the function __isinstance(element, type)__ if \"element\" is an instance of the \"type\", with the objective of understanding if it is a __leaf node__. If this is the case we simply extract the value out of it, otherwise we still need to invoke the function recursively."
   ]
  },
  {
   "cell_type": "markdown",
   "metadata": {},
   "source": [
    "## Fitness function"
   ]
  },
  {
   "cell_type": "markdown",
   "metadata": {},
   "source": [
    "For now, simply consider the fitness function of a solution as it's mean square error compared to the expected results."
   ]
  },
  {
   "cell_type": "code",
   "execution_count": 38,
   "metadata": {},
   "outputs": [],
   "source": [
    "#Let's also introduce a fitness function that is the same used by professors\n",
    "def fitness_evaluation_result(program, x, y):\n",
    "    predictions = np.array([evaluate_program(program, x_row) for x_row in x.T])\n",
    "    return float(100 * np.mean(np.square(predictions - y)))\n",
    "\n",
    "def fitness_function(program, x, y):\n",
    "    predictions = np.array([evaluate_program(program, x_row) for x_row in x.T])\n",
    "    return np.mean((predictions - y) ** 2)"
   ]
  },
  {
   "cell_type": "code",
   "execution_count": 39,
   "metadata": {},
   "outputs": [],
   "source": [
    "x = np.random.uniform(-1, 1, size=(2, 1000))  # 2 feature, 1000 esempi\n",
    "y = x[0] + np.sin(x[1]) / 5\n",
    "#fitness_evaluation_result(program, x, y)"
   ]
  },
  {
   "cell_type": "markdown",
   "metadata": {},
   "source": [
    "## Tweak function"
   ]
  },
  {
   "cell_type": "markdown",
   "metadata": {},
   "source": [
    "There is a lot of __variability__ that has to be considered for the tweak function. We can now imagine to implement a recursive function that receives the program (which indicates the current function that we are using for the task), the number of dimensions for the input and the maximum depth allowed for the tweaked solution.\n",
    "\n",
    "Recursively, if we end up into a leaf node, or if the current solution is still a list but with 0.3 probability, we simply generate a new sub-program.\n",
    "\n",
    "Otherwise, we simply invoke the same function for a random index."
   ]
  },
  {
   "cell_type": "code",
   "execution_count": 40,
   "metadata": {},
   "outputs": [],
   "source": [
    "def mutate_program(program, input_dim, depth=3):\n",
    "    if random() < 0.3 or not isinstance(program, list):  \n",
    "        return random_program(depth, input_dim)\n",
    "    idx = randint(1, len(program) - 1)\n",
    "    program[idx] = mutate_program(program[idx], input_dim, depth - 1)\n",
    "    return program"
   ]
  },
  {
   "cell_type": "markdown",
   "metadata": {},
   "source": [
    "Other function (FIGP based)"
   ]
  },
  {
   "cell_type": "code",
   "execution_count": 41,
   "metadata": {},
   "outputs": [],
   "source": [
    "def mutate_program(program, input_dim, max_depth=3):\n",
    "    \"\"\"Mutazione per rimpiazzare un sottoalbero casuale.\"\"\"\n",
    "    mutant = copy.deepcopy(program)\n",
    "    \n",
    "    def get_subtree_points(prog):\n",
    "        return [i for i, node in enumerate(prog) if isinstance(node, list)]\n",
    "    \n",
    "    points = get_subtree_points(mutant)\n",
    "    if not points:\n",
    "        return random_program(max_depth, input_dim)  # Genera nuovo programma\n",
    "    \n",
    "    point = choice(points)\n",
    "    new_subtree = random_program(randint(1, max_depth), input_dim)  # Nuovo sottoalbero\n",
    "    mutant[point] = new_subtree\n",
    "    \n",
    "    return mutant\n"
   ]
  },
  {
   "cell_type": "markdown",
   "metadata": {},
   "source": [
    "Other function (FIGP based)"
   ]
  },
  {
   "cell_type": "code",
   "execution_count": 42,
   "metadata": {},
   "outputs": [],
   "source": [
    "#Try to swap one single operation with another one\n",
    "def mutate(program, input_dim, max_depth=3):\n",
    "    \"\"\"Mutazione di un programma.\"\"\"\n",
    "    mutant = copy.deepcopy(program)\n",
    "\n",
    "    def get_subtree_points(prog):\n",
    "        return [i for i, node in enumerate(prog) if isinstance(node, list)]\n",
    "\n",
    "    points = get_subtree_points(program)\n",
    "    if not points:\n",
    "        return random_program(max_depth, input_dim)  # Ritorna un nuovo programma se non ci sono punti\n",
    "\n",
    "    point = choice(points)\n",
    "\n",
    "    # Genera un nuovo sottoalbero casuale\n",
    "    new_subtree = random_program(randint(1, max_depth), input_dim)\n",
    "    mutant[point] = new_subtree\n",
    "\n",
    "    return mutant"
   ]
  },
  {
   "cell_type": "markdown",
   "metadata": {},
   "source": [
    "## Crossover"
   ]
  },
  {
   "cell_type": "markdown",
   "metadata": {},
   "source": [
    "We can use a croossover function that receives only 2 parents and, if one of them is a leaf program simply return casually one of the 2 programs (avoiding to perform the operation for programs with no childrens). Otherwise, select random indexes for both the parents and combine the first part of the tree with the second part of the tree of the 2 parents, returning a new individual."
   ]
  },
  {
   "cell_type": "code",
   "execution_count": 43,
   "metadata": {},
   "outputs": [],
   "source": [
    "def crossover(parent1, parent2, max_depth=3):\n",
    "    \"\"\"Crossover tra due programmi.\"\"\"\n",
    "    child1, child2 = copy.deepcopy(parent1), copy.deepcopy(parent2)\n",
    "\n",
    "    if len(parent1) < 2 or len(parent2) < 2:\n",
    "        return parent1, parent2  # Evita crossover se i programmi sono troppo piccoli\n",
    "\n",
    "    # Punti di crossover validi\n",
    "    def get_subtree_points(prog):\n",
    "        return [i for i, node in enumerate(prog) if isinstance(node, list)]\n",
    "\n",
    "    points1 = get_subtree_points(parent1)\n",
    "    points2 = get_subtree_points(parent2)\n",
    "\n",
    "    if not points1 or not points2:\n",
    "        return parent1, parent2  # Nessun punto valido per il crossover\n",
    "\n",
    "    point1 = choice(points1)\n",
    "    point2 = choice(points2)\n",
    "\n",
    "    # Scambia i sottoalberi\n",
    "    subtree1 = parent1[point1]\n",
    "    subtree2 = parent2[point2]\n",
    "\n",
    "    child1[point1], child2[point2] = subtree2, subtree1\n",
    "\n",
    "    return child1, child2"
   ]
  },
  {
   "cell_type": "markdown",
   "metadata": {},
   "source": [
    "New crossover (FIGP based):"
   ]
  },
  {
   "cell_type": "code",
   "execution_count": 44,
   "metadata": {},
   "outputs": [],
   "source": [
    "def crossover(parent1, parent2):\n",
    "    \"\"\"Crossover a singolo punto tra due programmi.\"\"\"\n",
    "    child1, child2 = copy.deepcopy(parent1), copy.deepcopy(parent2)\n",
    "    \n",
    "    # Identifica punti di crossover validi\n",
    "    def get_subtree_points(prog):\n",
    "        return [i for i, node in enumerate(prog) if isinstance(node, list)]\n",
    "    \n",
    "    points1 = get_subtree_points(parent1)\n",
    "    points2 = get_subtree_points(parent2)\n",
    "    \n",
    "    if not points1 or not points2:\n",
    "        return parent1, parent2  # Nessun punto valido, restituisci genitori\n",
    "    \n",
    "    point1 = choice(points1)\n",
    "    point2 = choice(points2)\n",
    "    \n",
    "    # Scambia sottoalberi selezionati\n",
    "    subtree1 = parent1[point1]\n",
    "    subtree2 = parent2[point2]\n",
    "    child1[point1], child2[point2] = subtree2, subtree1\n",
    "    \n",
    "    return child1, child2\n"
   ]
  },
  {
   "cell_type": "markdown",
   "metadata": {},
   "source": [
    "## Genetic algorithm"
   ]
  },
  {
   "cell_type": "markdown",
   "metadata": {},
   "source": [
    "### Parameter selection"
   ]
  },
  {
   "cell_type": "code",
   "execution_count": 45,
   "metadata": {},
   "outputs": [],
   "source": [
    "generations=100\n",
    "population_size=100\n",
    "offspring_size = 50"
   ]
  },
  {
   "cell_type": "markdown",
   "metadata": {},
   "source": [
    "### Data loading"
   ]
  },
  {
   "cell_type": "code",
   "execution_count": 46,
   "metadata": {},
   "outputs": [
    {
     "name": "stdout",
     "output_type": "stream",
     "text": [
      "(2, 1000)\n",
      "(1000,)\n"
     ]
    }
   ],
   "source": [
    "#load the problem with problem_X, for X that goes from 0 to 8\n",
    "problem = np.load('data/problem_0.npz')\n",
    "x = problem['x']\n",
    "y = problem['y']\n",
    "print(x.shape)\n",
    "print(y.shape)"
   ]
  },
  {
   "cell_type": "markdown",
   "metadata": {},
   "source": [
    "Let's call the previous fitness function \"MSE\":"
   ]
  },
  {
   "cell_type": "code",
   "execution_count": 47,
   "metadata": {},
   "outputs": [],
   "source": [
    "def mse(program, x, y):\n",
    "    predictions = np.array([evaluate_program(program, x_row) for x_row in x.T])\n",
    "    return float(100 * np.mean(np.square(predictions - y)))"
   ]
  },
  {
   "cell_type": "code",
   "execution_count": 48,
   "metadata": {},
   "outputs": [],
   "source": [
    "#Compute the depth of a program\n",
    "def depth(program):\n",
    "    if isinstance(program, str):\n",
    "        return 1\n",
    "    elif isinstance(program, list):\n",
    "        return 1 + max(depth(child) for child in program[1:])"
   ]
  },
  {
   "cell_type": "markdown",
   "metadata": {},
   "source": [
    "Let's change the fitness function in a way that we penalize the more complex functions:"
   ]
  },
  {
   "cell_type": "code",
   "execution_count": 49,
   "metadata": {},
   "outputs": [],
   "source": [
    "# Funzione di fitness avanzata ispirata a deep_based_FGP_NLS.py\n",
    "import math\n",
    "\n",
    "\n",
    "def fitness_function(program, x, y):\n",
    "    \"\"\"\n",
    "    Valuta la fitness di un programma.\n",
    "    \"\"\"\n",
    "    try:\n",
    "        # Valutazione del programma\n",
    "        predictions = np.array([evaluate_program(program, x_row) for x_row in x.T])\n",
    "        if np.any(np.isnan(predictions)) or np.any(np.isinf(predictions)):\n",
    "            return np.inf  # Penalizza programmi invalidi\n",
    "\n",
    "        # Calcolo dell'errore\n",
    "        #error = np.mean((predictions - y) ** 2)  # Errore quadratico medio\n",
    "        error = mse(program, x, y)\n",
    "        if not math.isfinite(error):\n",
    "            return np.inf\n",
    "\n",
    "        # Aggiungi penalità basata sulla complessità del programma\n",
    "        complexity_penalty = depth(program) * 0.01\n",
    "        fitness = error + complexity_penalty\n",
    "\n",
    "    except Exception as e:\n",
    "        # Penalizza programmi che generano errori\n",
    "        print(f\"Errore nella valutazione del programma: {e}\")\n",
    "        return np.inf\n",
    "\n",
    "    return fitness"
   ]
  },
  {
   "cell_type": "markdown",
   "metadata": {},
   "source": [
    "## Tournament selection for parents, tau set to 50"
   ]
  },
  {
   "cell_type": "code",
   "execution_count": 50,
   "metadata": {},
   "outputs": [],
   "source": [
    "def tournament_selection(population,tau=5):\n",
    "    tau = min(tau, len(population))\n",
    "    tournament_indices = np.random.choice(len(population), tau, replace=False)\n",
    "\n",
    "    considered_individuals = []\n",
    "    for index in tournament_indices:\n",
    "        considered_individuals.append(population[index])\n",
    "    considered_individuals.sort(key=lambda i: i.fitness)\n",
    "    winner = considered_individuals[0].genome\n",
    "    return winner\n"
   ]
  },
  {
   "cell_type": "markdown",
   "metadata": {},
   "source": [
    "## Simulated annealing"
   ]
  },
  {
   "cell_type": "code",
   "execution_count": 51,
   "metadata": {},
   "outputs": [],
   "source": [
    "import math\n",
    "\n",
    "\n",
    "def simulated_annealing(initial_program, x, y, max_iterations=500, initial_temperature=100, cooling_rate=0.95):\n",
    "    \n",
    "    # Programma corrente e relativa fitness\n",
    "    current_program = initial_program\n",
    "    current_fitness = fitness_function(current_program, x, y)\n",
    "    \n",
    "    # Memorizza il miglior programma trovato\n",
    "    best_program = current_program\n",
    "    best_fitness = current_fitness\n",
    "    \n",
    "    # Inizializza la temperatura\n",
    "    temperature = initial_temperature\n",
    "    \n",
    "    for iteration in range(max_iterations):\n",
    "        # Crea un programma candidato con una mutazione\n",
    "        candidate_program = mutate_program(current_program, x.shape[0])\n",
    "        candidate_fitness = fitness_function(candidate_program, x, y)\n",
    "        \n",
    "        # Calcola la variazione di fitness\n",
    "        fitness_delta = candidate_fitness - current_fitness\n",
    "        \n",
    "        # Accetta il nuovo programma se migliora o con probabilità decrescente\n",
    "        if fitness_delta < 0 or random() < math.exp(-fitness_delta / temperature):\n",
    "            current_program = candidate_program\n",
    "            current_fitness = candidate_fitness\n",
    "            \n",
    "            # Aggiorna il miglior programma trovato\n",
    "            if current_fitness < best_fitness:\n",
    "                best_program = current_program\n",
    "                best_fitness = current_fitness\n",
    "        \n",
    "        # Riduci la temperatura\n",
    "        temperature *= cooling_rate\n",
    "        \n",
    "        # Interrompi se la temperatura è troppo bassa\n",
    "        if temperature < 1e-3:\n",
    "            break\n",
    "    \n",
    "    return best_program"
   ]
  },
  {
   "cell_type": "markdown",
   "metadata": {},
   "source": [
    "### Parameters"
   ]
  },
  {
   "cell_type": "code",
   "execution_count": 52,
   "metadata": {},
   "outputs": [],
   "source": [
    "# Parametri del GP\n",
    "generations = 200\n",
    "population_size = 1000\n",
    "p_crossover = 0.6\n",
    "p_mutation = 0.4\n",
    "tweak_probability = 0.2\n",
    "max_depth = 3 #fixed or problem dependant?\n",
    "elite_size = 20\n",
    "offspring_size = population_size # Numero di discendenti generati per generazione"
   ]
  },
  {
   "cell_type": "markdown",
   "metadata": {},
   "source": [
    "Let's create a new tweak function that is able to tweak a program by adding an unary operation in leaf nodes (if it not a constant value)."
   ]
  },
  {
   "cell_type": "code",
   "execution_count": 53,
   "metadata": {},
   "outputs": [],
   "source": [
    "def tweak_program_2(program):\n",
    "    \"\"\"\n",
    "    Modifica un sottoalbero del programma aggiungendo un operatore unario\n",
    "    su una foglia, con una certa probabilità.\n",
    "    \"\"\"\n",
    "    # Trova tutte le foglie del programma\n",
    "    def get_leaf_indices(node, path=()):\n",
    "        if isinstance(node, str) or isinstance(node, (int, float)):\n",
    "            # Nodo foglia (variabile o costante)\n",
    "            return [path]\n",
    "        elif isinstance(node, list) and len(node) > 1:\n",
    "            # Nodo non foglia valido: esplora ricorsivamente i figli\n",
    "            indices = []\n",
    "            for i, child in enumerate(node[1:], start=1):\n",
    "                indices.extend(get_leaf_indices(child, path + (i,)))\n",
    "            return indices\n",
    "        return []\n",
    "    \n",
    "    # Ottieni tutte le foglie del programma\n",
    "    leaf_indices = get_leaf_indices(program)\n",
    "    if not leaf_indices:\n",
    "        return program  # Nessuna modifica possibile\n",
    "\n",
    "    # Seleziona casualmente una foglia\n",
    "    selected_leaf_path = choice(leaf_indices)\n",
    "    \n",
    "    # Verifica che il percorso selezionato sia valido\n",
    "    if not selected_leaf_path:\n",
    "        return program  # Nessuna modifica possibile\n",
    "\n",
    "    # Accedi alla foglia selezionata\n",
    "    node = program\n",
    "    for idx in selected_leaf_path[:-1]:\n",
    "        node = node[idx]\n",
    "\n",
    "    # Verifica che il nodo sia valido prima di modificare\n",
    "    if isinstance(node, list) and len(selected_leaf_path) > 0:\n",
    "        leaf = node[selected_leaf_path[-1]]\n",
    "        # Modifica la foglia con un operatore unario\n",
    "        if isinstance(leaf, str) and leaf.startswith(\"x\"):  # Se è una variabile\n",
    "            unary_operator = choice([\"sin({})\", \"cos({})\", \"tan({})\", \"log({})\", \"sqrt({})\"])\n",
    "            node[selected_leaf_path[-1]] = [unary_operator, leaf]\n",
    "    \n",
    "    return program\n"
   ]
  },
  {
   "cell_type": "code",
   "execution_count": 61,
   "metadata": {},
   "outputs": [],
   "source": [
    "def safe_copy(obj):\n",
    "    if isinstance(obj, list):\n",
    "        return obj.copy()  # Copia superficiale per liste\n",
    "    elif isinstance(obj, str):\n",
    "        return obj  # Le stringhe sono immutabili, restituisci direttamente\n",
    "    else:\n",
    "        raise TypeError(\"Tipo non supportato: solo stringhe o liste sono consentite.\")"
   ]
  },
  {
   "cell_type": "code",
   "execution_count": 64,
   "metadata": {},
   "outputs": [
    {
     "name": "stdout",
     "output_type": "stream",
     "text": [
      "[Individual(genome=['sqrt({})', ['cos({})', ['sin({})', 'x[1]']]], fitness=413.6360355323554), Individual(genome='4', fitness=1880.6680842452035), Individual(genome=['({} - {})', ['square({})', ['tan({})', 'x[1]']], ['({} + {})', ['sin({})', 'x[1]'], ['({} / {})', 'x[1]', 'x[1]']]], fitness=441.4834609259277), Individual(genome=['({} - {})', ['({} - {})', 'x[0]', '10'], ['square({})', ['({} * {})', '8', '3']]], fitness=34339530.47139006), Individual(genome=['({} - {})', ['cos({})', 'x[0]'], ['log({})', ['log({})', '8']]], fitness=454.6755837412481), Individual(genome='x[0]', fitness=1.077566400550203), Individual(genome='x[1]', fitness=361.11724014990847), Individual(genome='10', fitness=10191.826125486188), Individual(genome=['tan({})', ['({} * {})', ['sqrt({})', '8'], ['({} * {})', '10', '5']]], fitness=339.43702318738127), Individual(genome=['cos({})', ['({} * {})', ['sqrt({})', 'x[1]'], ['({} + {})', '6', 'x[1]']]], fitness=inf), Individual(genome='7', fitness=5136.247104865696), Individual(genome=['({} + {})', ['sqrt({})', 'x[1]'], '7'], fitness=inf), Individual(genome=['({} + {})', '4', '4'], fitness=6621.450111739195), Individual(genome=['({} - {})', ['({} + {})', '2', 'x[1]'], ['tan({})', 'x[1]']], fitness=715.0233935343149), Individual(genome='x[1]', fitness=361.11724014990847), Individual(genome=['cos({})', '9'], fitness=436.41299168849366), Individual(genome='x[1]', fitness=361.11724014990847), Individual(genome='x[0]', fitness=1.077566400550203), Individual(genome=['({} * {})', ['({} / {})', ['({} * {})', 'x[1]', '10'], ['({} - {})', '9', 'x[0]']], '5'], fitness=1455.7626185137296), Individual(genome='x[0]', fitness=1.077566400550203), Individual(genome=['square({})', ['sqrt({})', 'x[1]']], fitness=inf), Individual(genome=['cos({})', ['sqrt({})', ['({} / {})', 'x[0]', '6']]], fitness=inf), Individual(genome=['({} / {})', 'x[1]', ['tan({})', ['sqrt({})', 'x[1]']]], fitness=inf), Individual(genome=['cos({})', ['tan({})', ['cos({})', 'x[0]']]], fitness=369.1796228617497), Individual(genome=['sqrt({})', ['sqrt({})', ['({} * {})', '10', 'x[0]']]], fitness=inf), Individual(genome=['tan({})', 'x[1]'], fitness=381.31275239838925), Individual(genome=['cos({})', 'x[0]'], fitness=386.96911370507814), Individual(genome=['tan({})', ['exp({})', ['sin({})', '6']]], fitness=414.9389137609683), Individual(genome=['exp({})', ['tan({})', 'x[1]']], fitness=572.9639732748017), Individual(genome='9', fitness=8306.633118612692), Individual(genome=['sin({})', ['({} * {})', ['({} - {})', 'x[1]', 'x[0]'], '6']], fitness=379.5744466497629), Individual(genome='5', fitness=2765.8610911187016), Individual(genome=['({} / {})', ['({} / {})', ['sin({})', 'x[0]'], ['({} + {})', 'x[0]', 'x[0]']], '9'], fitness=339.44507114725434), Individual(genome=['tan({})', 'x[1]'], fitness=381.31275239838925), Individual(genome='2', fitness=710.2820704982092), Individual(genome=['log({})', ['({} - {})', ['sqrt({})', 'x[0]'], ['sin({})', 'x[1]']]], fitness=inf), Individual(genome='6', fitness=3851.054097992199), Individual(genome=['cos({})', 'x[1]'], fitness=401.4157702328773), Individual(genome=['square({})', ['({} + {})', 'x[1]', ['({} / {})', '2', 'x[0]']]], fitness=4871085337.460259), Individual(genome=['sqrt({})', '5'], fitness=806.7966135779824), Individual(genome='x[0]', fitness=1.077566400550203), Individual(genome=['({} * {})', '7', ['exp({})', ['cos({})', '7']]], fitness=22251.97945990121), Individual(genome=['exp({})', ['log({})', ['sqrt({})', 'x[1]']]], fitness=inf), Individual(genome=['({} + {})', ['({} * {})', 'x[0]', ['sqrt({})', 'x[1]']], 'x[1]'], fitness=inf), Individual(genome='x[0]', fitness=1.077566400550203), Individual(genome=['sqrt({})', ['log({})', ['sin({})', 'x[1]']]], fitness=inf), Individual(genome=['({} + {})', '2', ['({} / {})', ['sin({})', 'x[0]'], ['cos({})', '10']]], fitness=993.5251197541216), Individual(genome=['tan({})', ['({} + {})', ['square({})', '10'], ['sin({})', '4']]], fitness=1573.0678209898565), Individual(genome='x[1]', fitness=361.11724014990847), Individual(genome=['sqrt({})', '8'], fitness=1098.0255557562841), Individual(genome=['tan({})', ['({} * {})', 'x[0]', ['cos({})', 'x[0]']]], fitness=15835.470577295378), Individual(genome=['tan({})', ['square({})', ['exp({})', 'x[0]']]], fitness=6793.569533153785), Individual(genome='x[0]', fitness=1.077566400550203), Individual(genome=['({} / {})', '6', 'x[1]'], fitness=2660188.357326171), Individual(genome=['({} - {})', 'x[1]', ['({} + {})', ['exp({})', '8'], ['cos({})', 'x[0]']]], fitness=888644112.3217138), Individual(genome='2', fitness=710.2820704982092), Individual(genome='x[0]', fitness=1.077566400550203), Individual(genome='x[1]', fitness=361.11724014990847), Individual(genome=['log({})', 'x[0]'], fitness=inf), Individual(genome=['sqrt({})', '5'], fitness=806.7966135779824), Individual(genome=['sqrt({})', ['sin({})', ['exp({})', 'x[0]']]], fitness=inf), Individual(genome=['({} - {})', 'x[1]', ['log({})', ['sin({})', 'x[0]']]], fitness=inf), Individual(genome=['log({})', '3'], fitness=444.33380822547275), Individual(genome='x[1]', fitness=361.11724014990847), Individual(genome=['square({})', 'x[1]'], fitness=353.1424342503498), Individual(genome=['square({})', 'x[0]'], fitness=2355.6245785012243), Individual(genome=['tan({})', ['log({})', ['({} / {})', '7', 'x[1]']]], fitness=inf), Individual(genome=['({} - {})', ['sin({})', ['({} + {})', 'x[0]', 'x[0]']], ['exp({})', ['sqrt({})', 'x[1]']]], fitness=inf), Individual(genome='9', fitness=8306.633118612692), Individual(genome=['({} * {})', 'x[0]', ['cos({})', ['cos({})', '2']]], fitness=3.576030139886847), Individual(genome=['({} - {})', ['cos({})', '6'], ['({} + {})', 'x[1]', '10']], fitness=8684.3270146313), Individual(genome=['({} * {})', 'x[1]', ['({} + {})', ['({} * {})', '9', '8'], 'x[1]']], fitness=168524.38231885456), Individual(genome=['cos({})', ['exp({})', ['({} - {})', 'x[0]', 'x[0]']]], fitness=361.11846239463443), Individual(genome=['tan({})', 'x[0]'], fitness=32713.377234224565), Individual(genome=['({} - {})', '9', ['sin({})', ['exp({})', '9']]], fitness=9786.10128281348), Individual(genome=['({} - {})', ['({} / {})', ['exp({})', 'x[1]'], ['({} - {})', 'x[1]', '9']], ['square({})', ['cos({})', 'x[0]']]], fitness=396.17316514477847), Individual(genome=['({} / {})', ['({} + {})', 'x[1]', ['tan({})', 'x[0]']], ['tan({})', ['sqrt({})', 'x[1]']]], fitness=inf), Individual(genome=['cos({})', 'x[0]'], fitness=386.96911370507814), Individual(genome='x[1]', fitness=361.11724014990847), Individual(genome=['tan({})', ['({} + {})', ['tan({})', 'x[1]'], ['tan({})', '8']]], fitness=804955.7709423474), Individual(genome=['({} / {})', ['({} - {})', ['square({})', 'x[0]'], ['({} - {})', 'x[0]', 'x[0]']], '8'], fitness=369.3600925902732), Individual(genome=['square({})', ['cos({})', '2']], fitness=340.35087702282993), Individual(genome=['cos({})', ['({} * {})', ['tan({})', 'x[1]'], ['square({})', 'x[0]']]], fitness=396.6340509688564), Individual(genome='x[0]', fitness=1.077566400550203), Individual(genome=['square({})', '2'], fitness=1880.6780842452035), Individual(genome=['sqrt({})', ['exp({})', ['log({})', 'x[0]']]], fitness=inf), Individual(genome=['sin({})', ['exp({})', ['({} - {})', '10', 'x[1]']]], fitness=396.5995135270288), Individual(genome=['({} / {})', ['cos({})', 'x[0]'], 'x[1]'], fitness=51218.17610396755), Individual(genome=['sqrt({})', 'x[1]'], fitness=inf), Individual(genome='x[0]', fitness=1.077566400550203), Individual(genome='2', fitness=710.2820704982092), Individual(genome='4', fitness=1880.6680842452035), Individual(genome=['({} + {})', 'x[0]', ['exp({})', ['({} - {})', '7', '2']]], fitness=2202665.576702495), Individual(genome=['square({})', ['sin({})', ['tan({})', 'x[1]']]], fitness=356.75302942935036), Individual(genome=['({} / {})', ['square({})', 'x[0]'], ['({} / {})', ['({} - {})', 'x[1]', 'x[0]'], ['cos({})', 'x[1]']]], fitness=2751.8301375043625), Individual(genome=['cos({})', ['sqrt({})', ['sin({})', 'x[1]']]], fitness=inf), Individual(genome='5', fitness=2765.8610911187016), Individual(genome=['cos({})', 'x[1]'], fitness=401.4157702328773), Individual(genome='x[0]', fitness=1.077566400550203), Individual(genome='x[1]', fitness=361.11724014990847), Individual(genome=['({} - {})', ['cos({})', ['({} * {})', '8', 'x[1]']], ['log({})', 'x[1]']], fitness=inf), Individual(genome=['cos({})', ['log({})', ['cos({})', '7']]], fitness=417.93578780979766), Individual(genome=['sqrt({})', ['tan({})', ['exp({})', 'x[1]']]], fitness=inf), Individual(genome='x[1]', fitness=361.11724014990847), Individual(genome=['({} / {})', '5', ['({} - {})', ['log({})', 'x[0]'], 'x[1]']], fitness=inf), Individual(genome=['log({})', 'x[0]'], fitness=inf), Individual(genome=['({} / {})', 'x[1]', ['cos({})', ['log({})', '9']]], fitness=454.17082719934956), Individual(genome=['sqrt({})', ['cos({})', ['square({})', 'x[0]']]], fitness=inf), Individual(genome=['sqrt({})', ['({} * {})', ['({} * {})', 'x[0]', 'x[0]'], ['({} - {})', 'x[1]', 'x[1]']]], fitness=339.9260567512147), Individual(genome=['({} - {})', ['square({})', ['({} / {})', 'x[1]', '8']], 'x[0]'], fitness=1356.1789420809498), Individual(genome=['square({})', 'x[1]'], fitness=353.1424342503498), Individual(genome=['({} + {})', ['exp({})', 'x[0]'], ['({} - {})', ['({} / {})', 'x[0]', '6'], '9']], fitness=4568.37135313707), Individual(genome=['({} + {})', ['({} - {})', '3', ['cos({})', '6']], ['sqrt({})', 'x[0]']], fitness=inf), Individual(genome='x[0]', fitness=1.077566400550203), Individual(genome=['({} - {})', ['cos({})', 'x[1]'], ['sin({})', '4']], fitness=575.3856954491034), Individual(genome=['sqrt({})', '6'], fitness=903.6364789663852), Individual(genome='8', fitness=6621.440111739194), Individual(genome=['({} - {})', ['({} / {})', ['exp({})', 'x[0]'], ['tan({})', 'x[1]']], ['sqrt({})', ['({} * {})', 'x[1]', 'x[1]']]], fitness=9307825.33382215), Individual(genome=['square({})', ['sqrt({})', ['cos({})', 'x[0]']]], fitness=inf), Individual(genome=['tan({})', ['cos({})', ['exp({})', 'x[0]']]], fitness=724.5809563442858), Individual(genome=['({} + {})', ['sqrt({})', ['tan({})', '2']], ['square({})', ['({} / {})', 'x[1]', 'x[1]']]], fitness=inf), Individual(genome=['({} / {})', ['exp({})', 'x[0]'], 'x[0]'], fitness=15422.433678162099), Individual(genome=['({} + {})', ['square({})', ['square({})', '6']], '4'], fitness=168981090.8349923), Individual(genome=['cos({})', 'x[1]'], fitness=401.4157702328773), Individual(genome=['square({})', 'x[1]'], fitness=353.1424342503498), Individual(genome=['exp({})', '5'], fitness=2200788.9329107082), Individual(genome=['sin({})', ['cos({})', ['({} * {})', 'x[0]', 'x[0]']]], fitness=391.30994992110806), Individual(genome=['({} / {})', 'x[0]', 'x[0]'], fitness=425.0990636247119), Individual(genome=['tan({})', ['square({})', ['sin({})', 'x[1]']]], fitness=349.3405260142636), Individual(genome='10', fitness=10191.826125486188), Individual(genome=['cos({})', ['({} / {})', ['tan({})', 'x[1]'], 'x[0]']], fitness=402.4941008072316), Individual(genome=['tan({})', ['({} * {})', '4', ['cos({})', 'x[0]']]], fitness=78455.66746336315), Individual(genome=['square({})', ['({} * {})', ['sqrt({})', 'x[0]'], ['cos({})', 'x[0]']]], fitness=inf), Individual(genome=['cos({})', 'x[1]'], fitness=401.4157702328773), Individual(genome='x[0]', fitness=1.077566400550203), Individual(genome=['log({})', ['({} * {})', ['exp({})', '8'], ['tan({})', 'x[1]']]], fitness=inf), Individual(genome='x[0]', fitness=1.077566400550203), Individual(genome=['tan({})', ['({} / {})', 'x[0]', ['exp({})', 'x[0]']]], fitness=151259.46187000012), Individual(genome=['square({})', ['({} - {})', ['exp({})', 'x[1]'], 'x[1]']], fitness=532.3605857864753), Individual(genome=['sqrt({})', ['square({})', ['sqrt({})', 'x[0]']]], fitness=inf), Individual(genome=['({} / {})', ['({} / {})', ['square({})', 'x[1]'], ['sin({})', '6']], ['({} * {})', ['cos({})', '8'], 'x[0]']], fitness=1183024.305545466), Individual(genome=['log({})', '10'], fitness=836.0015061539042), Individual(genome='x[0]', fitness=1.077566400550203), Individual(genome=['square({})', 'x[0]'], fitness=2355.6245785012243), Individual(genome=['({} - {})', '4', ['cos({})', ['exp({})', 'x[1]']]], fitness=1643.25476948184), Individual(genome='x[0]', fitness=1.077566400550203), Individual(genome=['({} + {})', ['sin({})', ['log({})', '2']], ['cos({})', 'x[1]']], fitness=540.7789122923139), Individual(genome='x[0]', fitness=1.077566400550203), Individual(genome='x[1]', fitness=361.11724014990847), Individual(genome='x[1]', fitness=361.11724014990847), Individual(genome=['({} / {})', ['({} * {})', ['({} / {})', '9', '2'], ['sqrt({})', 'x[0]']], 'x[1]'], fitness=inf), Individual(genome='x[1]', fitness=361.11724014990847), Individual(genome=['sqrt({})', ['tan({})', ['sin({})', 'x[1]']]], fitness=inf), Individual(genome=['square({})', 'x[1]'], fitness=353.1424342503498), Individual(genome=['cos({})', ['log({})', ['({} - {})', 'x[0]', '3']]], fitness=inf), Individual(genome='3', fitness=1195.4750773717064), Individual(genome='10', fitness=10191.826125486188), Individual(genome=['cos({})', ['sin({})', ['sin({})', 'x[0]']]], fitness=398.5227423473955), Individual(genome='x[1]', fitness=361.11724014990847), Individual(genome=['log({})', ['exp({})', '9']], fitness=8306.653118612692), Individual(genome=['({} * {})', ['log({})', ['({} + {})', 'x[0]', 'x[0]']], ['sqrt({})', ['sin({})', 'x[1]']]], fitness=inf), Individual(genome='7', fitness=5136.247104865696), Individual(genome=['({} - {})', ['log({})', ['log({})', '2']], ['({} * {})', ['({} / {})', 'x[1]', 'x[0]'], ['tan({})', 'x[1]']]], fitness=3523.7506102383927), Individual(genome='x[0]', fitness=1.077566400550203), Individual(genome=['({} / {})', ['log({})', ['sin({})', '9']], ['sin({})', '9']], fitness=834.431729258672), Individual(genome=['sin({})', 'x[0]'], fitness=189.12558431660756), Individual(genome='x[1]', fitness=361.11724014990847), Individual(genome='x[0]', fitness=1.077566400550203), Individual(genome=['({} + {})', '3', ['({} * {})', ['log({})', 'x[0]'], ['sqrt({})', 'x[0]']]], fitness=inf), Individual(genome='x[0]', fitness=1.077566400550203), Individual(genome='6', fitness=3851.054097992199), Individual(genome=['sin({})', ['exp({})', ['cos({})', '4']]], fitness=357.2685401140862), Individual(genome='x[1]', fitness=361.11724014990847), Individual(genome='x[0]', fitness=1.077566400550203), Individual(genome=['({} * {})', ['exp({})', 'x[0]'], ['tan({})', ['({} + {})', 'x[1]', 'x[0]']]], fitness=562635.7732487529), Individual(genome=['({} * {})', ['sqrt({})', ['tan({})', 'x[1]']], ['sqrt({})', ['sqrt({})', '8']]], fitness=inf), Individual(genome=['({} - {})', 'x[1]', ['log({})', ['sin({})', 'x[1]']]], fitness=inf), Individual(genome=['({} * {})', '9', ['({} - {})', ['({} / {})', 'x[0]', 'x[0]'], ['square({})', 'x[1]']]], fitness=4659.809834613363), Individual(genome='x[1]', fitness=361.11724014990847), Individual(genome=['square({})', ['sin({})', 'x[0]']], fitness=361.68543417852277), Individual(genome=['sin({})', 'x[0]'], fitness=189.12558431660756), Individual(genome='x[1]', fitness=361.11724014990847), Individual(genome=['({} + {})', ['({} * {})', '4', ['square({})', 'x[0]']], ['square({})', 'x[1]']], fitness=33764.67536504943), Individual(genome='3', fitness=1195.4750773717064), Individual(genome=['({} - {})', ['cos({})', 'x[0]'], ['({} - {})', '8', ['cos({})', 'x[0]']]], fitness=7123.795949897837), Individual(genome=['sin({})', ['sin({})', ['sqrt({})', 'x[1]']]], fitness=inf), Individual(genome=['sqrt({})', ['({} + {})', 'x[0]', ['({} + {})', 'x[1]', '5']]], fitness=653.268736856959), Individual(genome=['cos({})', 'x[1]'], fitness=401.4157702328773), Individual(genome=['({} + {})', ['({} - {})', ['sin({})', '4'], ['cos({})', 'x[1]']], ['({} + {})', ['({} - {})', '3', 'x[0]'], ['sin({})', '10']]], fitness=1404.463149254837), Individual(genome='x[1]', fitness=361.11724014990847), Individual(genome='10', fitness=10191.826125486188), Individual(genome=['square({})', 'x[1]'], fitness=353.1424342503498), Individual(genome='x[1]', fitness=361.11724014990847), Individual(genome=['({} - {})', ['({} * {})', ['sqrt({})', 'x[0]'], ['log({})', 'x[0]']], ['({} * {})', ['sqrt({})', 'x[1]'], 'x[1]']], fitness=inf), Individual(genome=['sqrt({})', 'x[0]'], fitness=inf), Individual(genome=['square({})', ['({} / {})', 'x[0]', ['cos({})', 'x[1]']]], fitness=6480.313443500306), Individual(genome=['tan({})', ['({} + {})', ['sin({})', '9'], 'x[0]']], fitness=12169299.045243911), Individual(genome=['square({})', ['cos({})', ['cos({})', '10']]], fitness=353.24571979163585), Individual(genome='x[1]', fitness=361.11724014990847), Individual(genome=['({} - {})', 'x[1]', ['square({})', ['log({})', '8']]], fitness=2297.4568859417127), Individual(genome=['sin({})', 'x[1]'], fitness=355.8880849187683), Individual(genome='10', fitness=10191.826125486188), Individual(genome=['square({})', 'x[1]'], fitness=353.1424342503498), Individual(genome=['log({})', ['({} + {})', ['cos({})', '10'], ['({} + {})', 'x[0]', 'x[1]']]], fitness=inf), Individual(genome=['square({})', '2'], fitness=1880.6780842452035), Individual(genome='x[1]', fitness=361.11724014990847), Individual(genome=['({} * {})', ['sin({})', ['({} * {})', '8', 'x[0]']], ['({} * {})', ['tan({})', 'x[1]'], ['exp({})', '6']]], fitness=4583578.957132984), Individual(genome=['sin({})', ['({} / {})', 'x[1]', '7']], fitness=338.9555381671483), Individual(genome='x[0]', fitness=1.077566400550203), Individual(genome=['tan({})', 'x[1]'], fitness=381.31275239838925), Individual(genome='3', fitness=1195.4750773717064), Individual(genome=['({} + {})', '2', '3'], fitness=2765.8710911187013), Individual(genome=['tan({})', ['log({})', ['sin({})', '3']]], fitness=904.4833189423664), Individual(genome='7', fitness=5136.247104865696), Individual(genome='4', fitness=1880.6680842452035), Individual(genome=['sin({})', ['({} * {})', ['({} - {})', 'x[0]', '9'], ['({} * {})', '2', 'x[0]']]], fitness=367.85609002513854), Individual(genome='x[0]', fitness=1.077566400550203), Individual(genome=['log({})', 'x[0]'], fitness=inf), Individual(genome='7', fitness=5136.247104865696), Individual(genome=['({} - {})', ['log({})', ['({} * {})', 'x[0]', 'x[1]']], '10'], fitness=inf), Individual(genome=['sin({})', ['exp({})', '6']], fitness=418.72597630431846), Individual(genome=['exp({})', 'x[0]'], fitness=3129.6438623306076), Individual(genome='2', fitness=710.2820704982092), Individual(genome='x[0]', fitness=1.077566400550203), Individual(genome=['log({})', ['sqrt({})', ['tan({})', 'x[0]']]], fitness=inf), Individual(genome='7', fitness=5136.247104865696), Individual(genome=['({} / {})', ['exp({})', ['cos({})', 'x[1]']], ['({} + {})', ['({} + {})', '4', 'x[1]'], ['({} + {})', 'x[1]', 'x[1]']]], fitness=401.34673063117674), Individual(genome=['exp({})', ['({} * {})', '5', ['({} * {})', 'x[1]', 'x[1]']]], fitness=113732.05428842921), Individual(genome=['sqrt({})', ['square({})', ['({} + {})', '3', 'x[1]']]], fitness=1214.9787662713793), Individual(genome=['({} * {})', ['({} / {})', ['({} - {})', 'x[1]', 'x[1]'], 'x[0]'], ['({} / {})', 'x[1]', ['cos({})', 'x[0]']]], fitness=339.9260567512147), Individual(genome='8', fitness=6621.440111739194), Individual(genome=['({} * {})', '2', 'x[0]'], fitness=339.8934696149348), Individual(genome='x[0]', fitness=1.077566400550203), Individual(genome='x[1]', fitness=361.11724014990847), Individual(genome=['exp({})', ['({} * {})', 'x[1]', 'x[0]']], fitness=1300.395346614806), Individual(genome='x[0]', fitness=1.077566400550203), Individual(genome='3', fitness=1195.4750773717064), Individual(genome='x[0]', fitness=1.077566400550203), Individual(genome=['exp({})', 'x[1]'], fitness=488.8345504967928), Individual(genome=['sin({})', ['square({})', 'x[0]']], fitness=377.1034752413137), Individual(genome=['({} * {})', '5', ['cos({})', 'x[0]']], fitness=1577.969745658708), Individual(genome='x[1]', fitness=361.11724014990847), Individual(genome='x[1]', fitness=361.11724014990847), Individual(genome=['({} - {})', '5', ['sqrt({})', ['tan({})', 'x[1]']]], fitness=inf), Individual(genome=['exp({})', 'x[0]'], fitness=3129.6438623306076), Individual(genome=['exp({})', ['sqrt({})', ['cos({})', 'x[1]']]], fitness=935.6183382443784), Individual(genome='6', fitness=3851.054097992199), Individual(genome='x[1]', fitness=361.11724014990847), Individual(genome=['cos({})', ['tan({})', 'x[0]']], fitness=407.531547491886), Individual(genome=['square({})', 'x[0]'], fitness=2355.6245785012243), Individual(genome=['sin({})', '2'], fitness=409.12427704544075), Individual(genome=['({} - {})', 'x[0]', ['sin({})', ['({} / {})', 'x[0]', 'x[1]']]], fitness=49.073048139366094), Individual(genome=['cos({})', ['square({})', ['({} + {})', '10', 'x[0]']]], fitness=377.09753054846016), Individual(genome=['exp({})', ['({} / {})', ['exp({})', 'x[0]'], ['sin({})', 'x[1]']]], fitness=inf), Individual(genome=['sin({})', ['({} + {})', 'x[0]', ['exp({})', 'x[0]']]], fitness=302.79111506457275), Individual(genome=['cos({})', ['sin({})', ['exp({})', '8']]], fitness=411.00675098151066), Individual(genome='x[0]', fitness=1.077566400550203), Individual(genome='x[0]', fitness=1.077566400550203), Individual(genome=['({} / {})', ['sqrt({})', ['sin({})', 'x[0]']], ['log({})', ['tan({})', '8']]], fitness=inf), Individual(genome=['({} - {})', 'x[1]', ['sin({})', ['exp({})', 'x[0]']]], fitness=379.8344366604509), Individual(genome=['square({})', ['sqrt({})', '2']], fitness=710.3020704982094), Individual(genome='x[0]', fitness=1.077566400550203), Individual(genome=['({} - {})', '6', ['({} + {})', ['({} + {})', 'x[0]', 'x[1]'], ['sin({})', '7']]], fitness=4098.9499736168345), Individual(genome=['log({})', '4'], fitness=511.5604112420836), Individual(genome='4', fitness=1880.6680842452035), Individual(genome=['exp({})', ['cos({})', 'x[0]']], fitness=543.7606323074999), Individual(genome='x[0]', fitness=1.077566400550203), Individual(genome=['({} - {})', ['square({})', ['tan({})', 'x[1]']], ['tan({})', ['({} - {})', '8', 'x[1]']]], fitness=87982.01551173085), Individual(genome=['log({})', ['({} * {})', ['sin({})', 'x[0]'], ['square({})', 'x[1]']]], fitness=inf), Individual(genome=['({} + {})', ['({} / {})', ['tan({})', 'x[1]'], ['tan({})', 'x[1]']], ['sqrt({})', 'x[1]']], fitness=inf), Individual(genome=['({} + {})', ['exp({})', 'x[0]'], ['sqrt({})', 'x[0]']], fitness=inf), Individual(genome=['sqrt({})', ['sqrt({})', ['cos({})', 'x[1]']]], fitness=417.53132263978245), Individual(genome=['({} * {})', ['cos({})', 'x[0]'], ['tan({})', ['({} / {})', '10', 'x[1]']]], fitness=20759.181592011886), Individual(genome='3', fitness=1195.4750773717064), Individual(genome=['tan({})', ['exp({})', 'x[0]']], fitness=20690.187865701), Individual(genome=['sin({})', 'x[1]'], fitness=355.8880849187683), Individual(genome='x[0]', fitness=1.077566400550203), Individual(genome=['({} - {})', ['({} / {})', 'x[0]', ['({} + {})', 'x[0]', 'x[1]']], ['square({})', ['sqrt({})', 'x[0]']]], fitness=inf), Individual(genome=['tan({})', ['cos({})', ['({} - {})', 'x[1]', 'x[0]']]], fitness=420.06596933182965), Individual(genome=['({} / {})', 'x[0]', ['({} + {})', ['tan({})', 'x[0]'], ['tan({})', 'x[0]']]], fitness=33482.7106021601), Individual(genome=['sin({})', ['exp({})', ['sin({})', 'x[1]']]], fitness=386.1260715955437), Individual(genome='x[0]', fitness=1.077566400550203), Individual(genome=['exp({})', ['({} * {})', ['({} + {})', '4', 'x[0]'], 'x[0]']], fitness=2.69742672366248e+19), Individual(genome=['({} - {})', ['sqrt({})', ['cos({})', 'x[0]']], ['exp({})', 'x[0]']], fitness=inf), Individual(genome=['cos({})', '3'], fitness=452.57338317618496), Individual(genome='x[0]', fitness=1.077566400550203), Individual(genome='x[0]', fitness=1.077566400550203), Individual(genome=['({} / {})', 'x[1]', 'x[1]'], fitness=425.0990636247119), Individual(genome=['({} * {})', ['({} / {})', ['exp({})', '3'], ['({} - {})', '8', 'x[0]']], 'x[0]'], fitness=1336.310520256167), Individual(genome=['({} / {})', 'x[1]', ['sqrt({})', ['tan({})', '9']]], fitness=inf), Individual(genome=['log({})', ['tan({})', ['({} + {})', 'x[0]', '5']]], fitness=inf), Individual(genome=['cos({})', '8'], fitness=344.17750073555544), Individual(genome=['({} - {})', ['sin({})', ['square({})', '10']], ['cos({})', 'x[0]']], fitness=424.02776862167076), Individual(genome=['square({})', ['exp({})', ['({} / {})', 'x[0]', '7']]], fitness=284.09790268023227), Individual(genome=['({} - {})', ['sin({})', '2'], ['({} / {})', ['sqrt({})', 'x[1]'], 'x[1]']], fitness=inf), Individual(genome='x[0]', fitness=1.077566400550203), Individual(genome=['({} + {})', 'x[0]', ['log({})', 'x[1]']], fitness=inf), Individual(genome='9', fitness=8306.633118612692), Individual(genome=['({} * {})', 'x[0]', ['sqrt({})', ['exp({})', '5']]], fitness=42368.8827701421), Individual(genome=['exp({})', ['cos({})', ['({} / {})', '10', 'x[0]']]], fitness=511.15315398980067), Individual(genome=['tan({})', ['sin({})', ['({} * {})', '6', 'x[0]']]], fitness=483.57751419327144), Individual(genome='9', fitness=8306.633118612692), Individual(genome='x[0]', fitness=1.077566400550203), Individual(genome=['exp({})', ['sin({})', ['cos({})', 'x[1]']]], fitness=757.5383936357697), Individual(genome='7', fitness=5136.247104865696), Individual(genome=['({} * {})', 'x[1]', ['exp({})', ['log({})', 'x[1]']]], fitness=inf), Individual(genome=['square({})', ['({} + {})', ['square({})', '9'], '4']], fitness=5219955859.400718), Individual(genome=['sqrt({})', ['sqrt({})', 'x[1]']], fitness=inf), Individual(genome=['sin({})', ['square({})', ['({} * {})', 'x[0]', '7']]], fitness=390.5097726592852), Individual(genome=['sqrt({})', ['({} * {})', ['sqrt({})', 'x[1]'], ['({} * {})', 'x[0]', 'x[1]']]], fitness=inf), Individual(genome=['tan({})', '7'], fitness=402.9446911203395), Individual(genome=['({} - {})', 'x[1]', 'x[1]'], fitness=339.90605675121463), Individual(genome=['tan({})', ['({} / {})', '2', ['square({})', 'x[0]']]], fitness=7591.734501470579), Individual(genome='3', fitness=1195.4750773717064), Individual(genome=['sqrt({})', 'x[0]'], fitness=inf), Individual(genome=['exp({})', ['({} * {})', ['cos({})', '8'], '3']], fitness=372.1260288606849), Individual(genome=['square({})', ['({} + {})', 'x[1]', 'x[0]']], fitness=3110.82002260513), Individual(genome=['square({})', ['({} - {})', ['({} * {})', 'x[1]', 'x[0]'], ['({} + {})', '8', 'x[0]']]], fitness=597371.7207490436), Individual(genome=['log({})', '5'], fitness=575.1041600422935), Individual(genome='x[1]', fitness=361.11724014990847), Individual(genome=['({} - {})', 'x[1]', ['exp({})', 'x[0]']], fitness=6484.619469775576), Individual(genome=['sqrt({})', ['sqrt({})', ['cos({})', 'x[0]']]], fitness=inf), Individual(genome=['sin({})', 'x[0]'], fitness=189.12558431660756), Individual(genome=['cos({})', ['exp({})', ['square({})', '7']]], fitness=370.36658543510055), Individual(genome=['({} * {})', ['cos({})', 'x[0]'], 'x[0]'], fitness=958.281325977387), Individual(genome='x[0]', fitness=1.077566400550203), Individual(genome=['({} + {})', ['sin({})', ['({} * {})', '4', 'x[0]']], ['sqrt({})', 'x[0]']], fitness=inf), Individual(genome=['({} / {})', 'x[1]', 'x[1]'], fitness=425.0990636247119), Individual(genome=['tan({})', ['tan({})', ['exp({})', '3']]], fitness=351.48205272315175), Individual(genome='x[1]', fitness=361.11724014990847), Individual(genome=['tan({})', 'x[1]'], fitness=381.31275239838925), Individual(genome=['square({})', ['sqrt({})', ['sin({})', 'x[0]']]], fitness=inf), Individual(genome='x[0]', fitness=1.077566400550203), Individual(genome='x[0]', fitness=1.077566400550203), Individual(genome=['tan({})', ['({} * {})', ['sin({})', 'x[1]'], ['square({})', 'x[1]']]], fitness=350.67794553861125), Individual(genome='x[1]', fitness=361.11724014990847), Individual(genome='x[1]', fitness=361.11724014990847), Individual(genome=['cos({})', ['tan({})', 'x[0]']], fitness=407.531547491886), Individual(genome=['({} - {})', 'x[1]', 'x[0]'], fitness=1377.9804584511078), Individual(genome=['({} * {})', ['({} / {})', ['exp({})', 'x[1]'], '5'], ['sin({})', 'x[1]']], fitness=338.76138901029515), Individual(genome=['sqrt({})', '2'], fitness=518.9658062537493), Individual(genome='x[0]', fitness=1.077566400550203), Individual(genome='4', fitness=1880.6680842452035), Individual(genome='x[1]', fitness=361.11724014990847), Individual(genome=['({} - {})', '9', ['exp({})', '2']], fitness=575.5768467201527), Individual(genome='x[0]', fitness=1.077566400550203), Individual(genome=['sqrt({})', 'x[1]'], fitness=inf), Individual(genome=['tan({})', ['({} / {})', ['square({})', 'x[0]'], 'x[1]']], fitness=13674.267471756348), Individual(genome=['({} - {})', 'x[0]', 'x[1]'], fitness=45.469721831960754), Individual(genome='6', fitness=3851.054097992199), Individual(genome='x[1]', fitness=361.11724014990847), Individual(genome=['({} * {})', ['square({})', ['({} * {})', '6', 'x[0]']], 'x[1]'], fitness=926578.1281034427), Individual(genome='x[1]', fitness=361.11724014990847), Individual(genome='x[0]', fitness=1.077566400550203), Individual(genome=['({} + {})', 'x[1]', ['log({})', ['({} - {})', 'x[0]', 'x[0]']]], fitness=inf), Individual(genome=['({} + {})', ['sin({})', ['exp({})', 'x[0]']], ['({} - {})', 'x[0]', ['log({})', 'x[1]']]], fitness=inf), Individual(genome=['tan({})', ['exp({})', ['sqrt({})', 'x[1]']]], fitness=inf), Individual(genome=['({} * {})', 'x[0]', 'x[1]'], fitness=458.67751802575356), Individual(genome='9', fitness=8306.633118612692), Individual(genome='x[0]', fitness=1.077566400550203), Individual(genome='x[1]', fitness=361.11724014990847), Individual(genome=['exp({})', 'x[1]'], fitness=488.8345504967928), Individual(genome='6', fitness=3851.054097992199), Individual(genome=['sqrt({})', ['square({})', 'x[0]']], fitness=659.6976785705568), Individual(genome=['exp({})', ['({} + {})', ['sqrt({})', '10'], 'x[1]']], fitness=99556.81017637327), Individual(genome=['sqrt({})', 'x[1]'], fitness=inf), Individual(genome=['sqrt({})', '4'], fitness=710.2920704982092), Individual(genome=['({} / {})', 'x[0]', ['({} - {})', ['({} * {})', '3', 'x[0]'], '6']], fitness=1138441.9347775693), Individual(genome='x[1]', fitness=361.11724014990847), Individual(genome=['log({})', ['log({})', ['({} - {})', 'x[1]', 'x[1]']]], fitness=inf), Individual(genome=['cos({})', ['tan({})', ['({} / {})', 'x[1]', 'x[1]']]], fitness=339.7457421297004), Individual(genome=['sqrt({})', ['sin({})', ['exp({})', 'x[0]']]], fitness=inf), Individual(genome='x[1]', fitness=361.11724014990847), Individual(genome=['({} - {})', ['sin({})', '7'], ['({} * {})', ['cos({})', 'x[0]'], 'x[0]']], fitness=148.14208389921367), Individual(genome=['tan({})', '6'], fitness=352.68344376924404), Individual(genome=['tan({})', ['sin({})', ['tan({})', 'x[0]']]], fitness=519.6423470458401), Individual(genome=['square({})', ['({} + {})', ['square({})', '10'], ['log({})', '8']]], fitness=10857928663.724857), Individual(genome=['log({})', ['({} * {})', '9', ['exp({})', 'x[0]']]], fitness=484.1520031875372), Individual(genome='x[0]', fitness=1.077566400550203), Individual(genome='x[0]', fitness=1.077566400550203), Individual(genome='x[1]', fitness=361.11724014990847), Individual(genome=['({} - {})', ['cos({})', 'x[0]'], ['({} + {})', ['sqrt({})', '4'], ['square({})', 'x[0]']]], fitness=4653.632250983326), Individual(genome=['sin({})', ['square({})', ['cos({})', 'x[1]']]], fitness=376.6921360020856), Individual(genome='x[1]', fitness=361.11724014990847), Individual(genome=['({} + {})', ['sqrt({})', ['tan({})', 'x[1]']], ['sin({})', ['sin({})', 'x[0]']]], fitness=inf), Individual(genome=['({} / {})', ['log({})', ['sin({})', '7']], ['sin({})', '2']], fitness=368.1108451188776), Individual(genome='x[1]', fitness=361.11724014990847), Individual(genome='x[0]', fitness=1.077566400550203), Individual(genome=['cos({})', 'x[0]'], fitness=386.96911370507814), Individual(genome=['({} / {})', '5', ['({} + {})', ['({} / {})', 'x[0]', '3'], ['square({})', 'x[1]']]], fitness=10111170.340530774), Individual(genome='x[1]', fitness=361.11724014990847), Individual(genome='x[0]', fitness=1.077566400550203), Individual(genome=['sin({})', '3'], fitness=339.80797942934186), Individual(genome=['tan({})', ['square({})', ['exp({})', 'x[1]']]], fitness=1398973.78677323), Individual(genome=['({} / {})', ['cos({})', ['sqrt({})', 'x[1]']], ['({} - {})', ['exp({})', 'x[0]'], 'x[1]']], fitness=inf), Individual(genome='7', fitness=5136.247104865696), Individual(genome=['log({})', ['log({})', 'x[0]']], fitness=inf), Individual(genome='3', fitness=1195.4750773717064), Individual(genome=['sqrt({})', ['({} + {})', ['square({})', 'x[1]'], 'x[1]']], fitness=inf), Individual(genome=['sqrt({})', 'x[0]'], fitness=inf), Individual(genome=['cos({})', ['({} / {})', ['({} + {})', '2', '9'], ['tan({})', 'x[1]']]], fitness=399.45293374055626), Individual(genome=['sqrt({})', 'x[0]'], fitness=inf), Individual(genome='10', fitness=10191.826125486188), Individual(genome=['({} * {})', '2', ['square({})', ['square({})', 'x[0]']]], fitness=450190.5779855567), Individual(genome=['exp({})', ['exp({})', ['tan({})', 'x[0]']]], fitness=inf), Individual(genome='4', fitness=1880.6680842452035), Individual(genome='x[0]', fitness=1.077566400550203), Individual(genome='x[0]', fitness=1.077566400550203), Individual(genome=['({} / {})', ['cos({})', ['square({})', '2']], 'x[1]'], fitness=32294.550614760756), Individual(genome=['tan({})', 'x[0]'], fitness=32713.377234224565), Individual(genome='x[1]', fitness=361.11724014990847), Individual(genome=['log({})', ['exp({})', ['({} / {})', 'x[0]', 'x[1]']]], fitness=inf), Individual(genome=['square({})', ['({} + {})', ['sin({})', 'x[0]'], ['cos({})', 'x[0]']]], fitness=582.9356363483657), Individual(genome=['exp({})', '6'], fitness=16269845.480584862), Individual(genome=['({} + {})', ['tan({})', 'x[1]'], ['({} + {})', 'x[0]', '7']], fitness=4938.172526410819), Individual(genome=['sqrt({})', ['square({})', 'x[0]']], fitness=659.6976785705568), Individual(genome='9', fitness=8306.633118612692), Individual(genome=['({} + {})', ['({} + {})', '4', ['({} + {})', '7', '9']], 'x[1]'], fitness=40053.357414293045), Individual(genome=['exp({})', ['({} * {})', ['({} / {})', 'x[1]', 'x[0]'], ['log({})', 'x[1]']]], fitness=inf), Individual(genome=['exp({})', ['sin({})', ['({} - {})', 'x[1]', 'x[0]']]], fitness=735.6149167347762), Individual(genome=['({} - {})', ['sqrt({})', ['sin({})', '6']], ['log({})', ['sqrt({})', 'x[0]']]], fitness=inf), Individual(genome=['sqrt({})', ['({} / {})', ['cos({})', 'x[0]'], ['sin({})', 'x[0]']]], fitness=inf), Individual(genome=['({} / {})', ['exp({})', ['square({})', 'x[0]']], 'x[0]'], fitness=116116521.0525855), Individual(genome='x[1]', fitness=361.11724014990847), Individual(genome='10', fitness=10191.826125486188), Individual(genome=['log({})', '8'], fitness=741.5234926629784), Individual(genome='x[0]', fitness=1.077566400550203), Individual(genome=['sqrt({})', ['({} * {})', ['({} / {})', '6', 'x[0]'], ['exp({})', '6']]], fitness=inf), Individual(genome='x[1]', fitness=361.11724014990847), Individual(genome=['log({})', '8'], fitness=741.5234926629784), Individual(genome=['log({})', ['cos({})', ['log({})', 'x[1]']]], fitness=inf), Individual(genome=['tan({})', 'x[0]'], fitness=32713.377234224565), Individual(genome='x[1]', fitness=361.11724014990847), Individual(genome=['({} * {})', ['({} / {})', ['cos({})', 'x[1]'], ['({} * {})', 'x[0]', 'x[1]']], ['log({})', 'x[0]']], fitness=inf), Individual(genome=['({} + {})', ['({} + {})', ['({} / {})', 'x[1]', '7'], '3'], 'x[0]'], fitness=900.2011129745441), Individual(genome=['square({})', ['square({})', ['tan({})', 'x[1]']]], fitness=531.7869865509971), Individual(genome='x[0]', fitness=1.077566400550203), Individual(genome='x[1]', fitness=361.11724014990847), Individual(genome='x[0]', fitness=1.077566400550203), Individual(genome=['square({})', '3'], fitness=8306.643118612692), Individual(genome=['tan({})', '7'], fitness=402.9446911203395), Individual(genome=['({} * {})', ['({} + {})', ['tan({})', '2'], ['square({})', '3']], ['tan({})', ['({} / {})', '6', '7']]], fitness=6417.655387963583), Individual(genome=['({} / {})', ['({} * {})', 'x[0]', 'x[1]'], ['({} - {})', ['sqrt({})', '3'], ['square({})', 'x[1]']]], fitness=453.5504753453452), Individual(genome=['({} * {})', ['sin({})', ['sqrt({})', '10']], ['sin({})', ['({} - {})', 'x[0]', 'x[0]']]], fitness=339.9260567512147), Individual(genome=['square({})', ['square({})', 'x[0]']], fitness=112853.6918397814), Individual(genome='2', fitness=710.2820704982092), Individual(genome=['({} - {})', ['({} * {})', ['square({})', 'x[1]'], ['log({})', 'x[1]']], ['sqrt({})', ['({} + {})', '7', 'x[1]']]], fitness=inf), Individual(genome=['tan({})', 'x[1]'], fitness=381.31275239838925), Individual(genome=['square({})', ['sin({})', ['sin({})', '9']]], fitness=340.1245458983726), Individual(genome='x[0]', fitness=1.077566400550203), Individual(genome=['({} - {})', ['({} - {})', ['({} + {})', 'x[1]', 'x[1]'], ['exp({})', 'x[1]']], ['tan({})', ['({} - {})', 'x[0]', '10']]], fitness=72899.02854762909), Individual(genome='x[0]', fitness=1.077566400550203), Individual(genome=['({} / {})', ['({} + {})', 'x[0]', ['cos({})', 'x[1]']], ['({} - {})', ['tan({})', 'x[1]'], ['tan({})', 'x[1]']]], fitness=inf), Individual(genome='2', fitness=710.2820704982092), Individual(genome='x[1]', fitness=361.11724014990847), Individual(genome=['({} - {})', ['({} * {})', ['log({})', 'x[1]'], ['({} / {})', 'x[1]', 'x[1]']], 'x[1]'], fitness=inf), Individual(genome=['cos({})', 'x[1]'], fitness=401.4157702328773), Individual(genome=['exp({})', '7'], fitness=120244530.48289524), Individual(genome='8', fitness=6621.440111739194), Individual(genome=['cos({})', ['tan({})', ['log({})', 'x[1]']]], fitness=inf), Individual(genome=['exp({})', ['({} * {})', 'x[0]', ['exp({})', '10']]], fitness=inf), Individual(genome=['({} + {})', ['sqrt({})', ['sin({})', '7']], ['square({})', ['cos({})', 'x[0]']]], fitness=513.7338022111619), Individual(genome='10', fitness=10191.826125486188), Individual(genome=['log({})', ['tan({})', ['({} + {})', 'x[0]', '7']]], fitness=inf), Individual(genome='6', fitness=3851.054097992199), Individual(genome=['({} * {})', ['({} - {})', ['square({})', 'x[1]'], ['({} * {})', 'x[0]', 'x[0]']], ['({} + {})', ['log({})', 'x[1]'], 'x[0]']], fitness=inf), Individual(genome=['sin({})', ['({} + {})', '2', 'x[0]']], fitness=470.19432792327274), Individual(genome='x[1]', fitness=361.11724014990847), Individual(genome=['sin({})', 'x[1]'], fitness=355.8880849187683), Individual(genome='5', fitness=2765.8610911187016), Individual(genome='x[1]', fitness=361.11724014990847), Individual(genome=['sqrt({})', '2'], fitness=518.9658062537493), Individual(genome=['cos({})', ['({} / {})', '2', 'x[1]']], fitness=396.4886775185483), Individual(genome=['sqrt({})', ['cos({})', 'x[1]']], fitness=411.19854399381103), Individual(genome='x[0]', fitness=1.077566400550203), Individual(genome='x[0]', fitness=1.077566400550203), Individual(genome='x[1]', fitness=361.11724014990847), Individual(genome=['sin({})', ['sin({})', ['({} - {})', 'x[1]', 'x[0]']]], fitness=535.1922663865292), Individual(genome='4', fitness=1880.6680842452035), Individual(genome=['sin({})', ['square({})', ['square({})', 'x[1]']]], fitness=346.25813404473666), Individual(genome=['({} + {})', ['({} + {})', ['cos({})', '5'], ['tan({})', 'x[1]']], ['({} + {})', ['({} + {})', 'x[1]', '2'], ['({} + {})', 'x[1]', 'x[0]']]], fitness=832.6817543070076), Individual(genome=['sin({})', 'x[0]'], fitness=189.12558431660756), Individual(genome=['exp({})', '6'], fitness=16269845.480584862), Individual(genome=['log({})', ['({} / {})', 'x[1]', ['({} + {})', 'x[1]', '3']]], fitness=inf), Individual(genome=['({} / {})', ['sqrt({})', ['sin({})', 'x[1]']], ['({} / {})', '10', 'x[0]']], fitness=inf), Individual(genome=['exp({})', ['({} - {})', ['({} * {})', '5', '2'], ['tan({})', 'x[0]']]], fitness=1.0873248805339551e+166), Individual(genome=['({} + {})', ['sin({})', ['log({})', '6']], ['({} / {})', 'x[1]', ['({} * {})', 'x[1]', '8']]], fitness=444.7793401967492), Individual(genome=['tan({})', ['({} + {})', '5', ['cos({})', '3']]], fitness=462.0301890969571), Individual(genome=['({} * {})', ['({} / {})', 'x[1]', ['tan({})', 'x[0]']], ['sin({})', ['sqrt({})', '3']]], fitness=6059.8291268404755), Individual(genome='x[0]', fitness=1.077566400550203), Individual(genome=['log({})', 'x[1]'], fitness=inf), Individual(genome=['tan({})', ['({} + {})', ['exp({})', '2'], 'x[1]']], fitness=710574.8002360096), Individual(genome=['sin({})', ['square({})', 'x[0]']], fitness=377.1034752413137), Individual(genome='x[1]', fitness=361.11724014990847), Individual(genome=['sqrt({})', ['tan({})', ['log({})', 'x[0]']]], fitness=inf), Individual(genome='10', fitness=10191.826125486188), Individual(genome=['sin({})', ['sqrt({})', 'x[1]']], fitness=inf), Individual(genome=['sqrt({})', ['square({})', ['cos({})', 'x[0]']]], fitness=387.6039326793379), Individual(genome=['square({})', ['({} / {})', ['({} * {})', 'x[0]', 'x[0]'], ['sin({})', '3']]], fitness=283442488.6502045), Individual(genome=['cos({})', ['log({})', ['sqrt({})', 'x[0]']]], fitness=inf), Individual(genome=['sqrt({})', ['({} + {})', ['sin({})', '4'], ['({} * {})', 'x[0]', 'x[1]']]], fitness=inf), Individual(genome='x[1]', fitness=361.11724014990847), Individual(genome='x[1]', fitness=361.11724014990847), Individual(genome='x[1]', fitness=361.11724014990847), Individual(genome=['({} * {})', ['exp({})', ['log({})', 'x[0]']], '4'], fitness=inf), Individual(genome=['cos({})', ['sin({})', ['({} / {})', 'x[1]', '7']]], fitness=424.52263575557174), Individual(genome=['cos({})', ['sqrt({})', ['log({})', 'x[1]']]], fitness=inf), Individual(genome=['({} - {})', ['({} * {})', ['({} * {})', 'x[1]', 'x[0]'], ['exp({})', 'x[0]']], 'x[1]'], fitness=11296.062600037416), Individual(genome=['({} - {})', ['square({})', ['({} + {})', '10', '9']], ['sqrt({})', 'x[1]']], fitness=inf), Individual(genome=['sqrt({})', ['log({})', ['exp({})', 'x[1]']]], fitness=inf), Individual(genome=['sin({})', ['({} * {})', '8', ['({} / {})', '9', 'x[1]']]], fitness=384.75903182121493), Individual(genome='x[0]', fitness=1.077566400550203), Individual(genome=['tan({})', ['({} / {})', ['square({})', 'x[1]'], 'x[1]']], fitness=381.3327523983893), Individual(genome=['({} - {})', ['({} * {})', ['log({})', 'x[0]'], ['({} / {})', 'x[0]', '7']], ['exp({})', ['sqrt({})', 'x[1]']]], fitness=inf), Individual(genome=['sin({})', '9'], fitness=350.78798576073126), Individual(genome=['cos({})', ['sin({})', '6']], fitness=418.0771006605149), Individual(genome=['({} - {})', ['({} + {})', ['({} * {})', 'x[0]', '2'], ['({} * {})', 'x[1]', 'x[0]']], ['square({})', 'x[1]']], fitness=468.3576149086465), Individual(genome=['sin({})', 'x[0]'], fitness=189.12558431660756), Individual(genome='3', fitness=1195.4750773717064), Individual(genome=['({} * {})', ['({} / {})', '3', ['exp({})', '6']], '5'], fitness=339.51375853253154), Individual(genome=['exp({})', ['cos({})', ['({} / {})', 'x[0]', 'x[0]']]], fitness=609.1555202377141), Individual(genome=['tan({})', 'x[1]'], fitness=381.31275239838925), Individual(genome=['sin({})', ['sin({})', ['square({})', 'x[0]']]], fitness=368.6323206460393), Individual(genome=['({} - {})', ['({} * {})', ['({} * {})', 'x[0]', '5'], ['({} + {})', '2', 'x[1]']], 'x[1]'], fitness=30230.322725373833), Individual(genome=['({} - {})', ['sin({})', ['({} * {})', 'x[0]', 'x[0]']], ['sqrt({})', ['sin({})', 'x[1]']]], fitness=inf), Individual(genome='x[0]', fitness=1.077566400550203), Individual(genome='x[0]', fitness=1.077566400550203), Individual(genome='6', fitness=3851.054097992199), Individual(genome=['exp({})', ['sqrt({})', ['({} / {})', 'x[1]', 'x[1]']]], fitness=1038.5820862943895), Individual(genome='6', fitness=3851.054097992199), Individual(genome=['log({})', ['({} - {})', 'x[1]', ['tan({})', '8']]], fitness=676.5654024676812), Individual(genome=['sin({})', ['({} / {})', ['sqrt({})', 'x[0]'], ['({} - {})', 'x[1]', 'x[0]']]], fitness=inf), Individual(genome=['tan({})', ['({} / {})', ['({} - {})', 'x[0]', '5'], ['({} - {})', 'x[0]', 'x[1]']]], fitness=3288626.61629225), Individual(genome=['({} + {})', ['log({})', ['tan({})', 'x[1]']], ['cos({})', 'x[0]']], fitness=inf), Individual(genome=['({} - {})', ['({} / {})', 'x[1]', ['sin({})', 'x[1]']], ['tan({})', ['exp({})', 'x[0]']]], fitness=20301.255332221812), Individual(genome=['sqrt({})', ['log({})', ['sqrt({})', 'x[0]']]], fitness=inf), Individual(genome=['sin({})', ['cos({})', 'x[1]']], fitness=385.1553980120891), Individual(genome='2', fitness=710.2820704982092), Individual(genome='7', fitness=5136.247104865696), Individual(genome='4', fitness=1880.6680842452035), Individual(genome='x[0]', fitness=1.077566400550203), Individual(genome='x[0]', fitness=1.077566400550203), Individual(genome=['sin({})', ['({} * {})', ['({} - {})', '6', '10'], 'x[0]']], fitness=341.5796843527898), Individual(genome=['cos({})', ['sqrt({})', ['exp({})', 'x[0]']]], fitness=629.267258456821), Individual(genome='7', fitness=5136.247104865696), Individual(genome='x[0]', fitness=1.077566400550203), Individual(genome=['sqrt({})', ['({} * {})', ['square({})', 'x[0]'], 'x[1]']], fitness=inf), Individual(genome='x[1]', fitness=361.11724014990847), Individual(genome=['log({})', ['sqrt({})', ['({} * {})', 'x[0]', 'x[1]']]], fitness=inf), Individual(genome='3', fitness=1195.4750773717064), Individual(genome=['({} + {})', ['({} * {})', ['({} * {})', 'x[0]', '5'], '7'], ['log({})', ['tan({})', 'x[0]']]], fitness=inf), Individual(genome=['({} + {})', '2', ['tan({})', ['tan({})', 'x[0]']]], fitness=57021.38288569954), Individual(genome=['({} / {})', ['square({})', ['log({})', '8']], ['({} * {})', ['({} - {})', '8', '2'], 'x[0]']], fitness=8065.919278098251), Individual(genome=['square({})', ['log({})', 'x[0]']], fitness=inf), Individual(genome='x[0]', fitness=1.077566400550203), Individual(genome=['sqrt({})', 'x[0]'], fitness=inf), Individual(genome=['({} * {})', ['sin({})', ['({} + {})', 'x[0]', 'x[1]']], ['sin({})', '9']], fitness=281.0406055425138), Individual(genome='x[0]', fitness=1.077566400550203), Individual(genome='x[0]', fitness=1.077566400550203), Individual(genome='x[0]', fitness=1.077566400550203), Individual(genome=['cos({})', ['({} / {})', ['exp({})', 'x[1]'], ['tan({})', 'x[0]']]], fitness=384.203532270524), Individual(genome='x[0]', fitness=1.077566400550203), Individual(genome='6', fitness=3851.054097992199), Individual(genome=['tan({})', ['({} * {})', ['tan({})', 'x[0]'], ['square({})', 'x[0]']]], fitness=174992.2226983284), Individual(genome='4', fitness=1880.6680842452035), Individual(genome=['cos({})', 'x[1]'], fitness=401.4157702328773), Individual(genome=['tan({})', ['log({})', ['sin({})', 'x[1]']]], fitness=inf), Individual(genome=['({} - {})', 'x[0]', ['exp({})', '5']], fitness=2202629.787391649), Individual(genome='x[1]', fitness=361.11724014990847), Individual(genome='2', fitness=710.2820704982092), Individual(genome=['sqrt({})', 'x[0]'], fitness=inf), Individual(genome=['square({})', 'x[1]'], fitness=353.1424342503498), Individual(genome='x[0]', fitness=1.077566400550203), Individual(genome='x[0]', fitness=1.077566400550203), Individual(genome=['sin({})', ['sqrt({})', 'x[1]']], fitness=inf), Individual(genome=['sin({})', 'x[0]'], fitness=189.12558431660756), Individual(genome=['({} * {})', 'x[1]', ['sin({})', 'x[0]']], fitness=351.75192697528627), Individual(genome='2', fitness=710.2820704982092), Individual(genome=['({} / {})', ['sin({})', ['sin({})', 'x[0]']], ['({} / {})', ['({} - {})', 'x[0]', 'x[1]'], ['({} + {})', '6', 'x[0]']]], fitness=220791.6736003219), Individual(genome='7', fitness=5136.247104865696), Individual(genome=['sin({})', ['exp({})', ['exp({})', 'x[0]']]], fitness=547.7271657561558), Individual(genome='x[1]', fitness=361.11724014990847), Individual(genome=['cos({})', ['({} / {})', ['square({})', 'x[1]'], 'x[0]']], fitness=411.670486749955), Individual(genome='x[1]', fitness=361.11724014990847), Individual(genome='x[0]', fitness=1.077566400550203), Individual(genome=['({} / {})', ['({} * {})', ['log({})', 'x[0]'], ['({} - {})', '3', 'x[0]']], ['tan({})', ['({} + {})', 'x[1]', '4']]], fitness=inf), Individual(genome=['({} * {})', ['sqrt({})', ['({} / {})', '6', 'x[1]']], ['cos({})', ['cos({})', '8']]], fitness=inf), Individual(genome=['cos({})', ['sqrt({})', '5']], fitness=387.1585923910629), Individual(genome=['cos({})', ['sin({})', ['square({})', 'x[0]']]], fitness=399.50552231146247), Individual(genome=['({} / {})', ['tan({})', ['sqrt({})', 'x[0]']], ['log({})', ['sqrt({})', '3']]], fitness=inf), Individual(genome='x[1]', fitness=361.11724014990847), Individual(genome='x[0]', fitness=1.077566400550203), Individual(genome=['tan({})', ['log({})', ['exp({})', '5']]], fitness=1532.7694899585824), Individual(genome=['tan({})', ['({} - {})', '7', 'x[1]']], fitness=33185597.017667394), Individual(genome=['({} * {})', 'x[1]', ['({} + {})', ['log({})', 'x[0]'], ['cos({})', 'x[0]']]], fitness=inf), Individual(genome='x[1]', fitness=361.11724014990847), Individual(genome='x[1]', fitness=361.11724014990847), Individual(genome=['exp({})', 'x[0]'], fitness=3129.6438623306076), Individual(genome=['({} * {})', 'x[0]', '7'], fitness=12198.288889162595), Individual(genome='x[0]', fitness=1.077566400550203), Individual(genome='x[0]', fitness=1.077566400550203), Individual(genome='x[0]', fitness=1.077566400550203), Individual(genome='x[0]', fitness=1.077566400550203), Individual(genome=['({} * {})', '9', ['square({})', ['exp({})', 'x[0]']]], fitness=96860280.16509765), Individual(genome='x[0]', fitness=1.077566400550203), Individual(genome=['cos({})', '2'], fitness=363.38575905640346), Individual(genome=['({} / {})', ['log({})', ['({} * {})', '8', '3']], 'x[0]'], fitness=152586.31941351437), Individual(genome=['cos({})', '5'], fitness=343.7522962669893), Individual(genome=['sin({})', 'x[0]'], fitness=189.12558431660756), Individual(genome='x[0]', fitness=1.077566400550203), Individual(genome='x[0]', fitness=1.077566400550203), Individual(genome=['square({})', ['log({})', 'x[1]']], fitness=inf), Individual(genome=['({} - {})', 'x[0]', '7'], fitness=4900.243789550063), Individual(genome=['exp({})', ['tan({})', 'x[1]']], fitness=572.9639732748017), Individual(genome=['cos({})', ['tan({})', ['log({})', 'x[1]']]], fitness=inf), Individual(genome=['tan({})', ['({} - {})', ['({} / {})', 'x[1]', 'x[0]'], ['({} / {})', 'x[1]', 'x[1]']]], fitness=1517625.9510139234), Individual(genome='x[1]', fitness=361.11724014990847), Individual(genome=['({} + {})', ['exp({})', ['log({})', 'x[1]']], ['tan({})', ['log({})', 'x[0]']]], fitness=inf), Individual(genome=['sin({})', 'x[0]'], fitness=189.12558431660756), Individual(genome=['sin({})', ['({} * {})', ['({} + {})', 'x[0]', 'x[0]'], 'x[1]']], fitness=376.66093770364245), Individual(genome=['sqrt({})', '7'], fitness=1000.7304352738457), Individual(genome=['({} + {})', ['cos({})', 'x[0]'], '10'], fitness=10194.52543630689), Individual(genome='x[0]', fitness=1.077566400550203), Individual(genome=['cos({})', 'x[0]'], fitness=386.96911370507814), Individual(genome=['({} / {})', ['({} + {})', ['sqrt({})', 'x[0]'], ['({} + {})', 'x[1]', '7']], ['sqrt({})', ['square({})', '2']]], fitness=inf), Individual(genome='x[1]', fitness=361.11724014990847), Individual(genome=['({} + {})', '2', ['exp({})', '3']], fitness=48789.98978188303), Individual(genome='x[1]', fitness=361.11724014990847), Individual(genome=['exp({})', ['log({})', 'x[1]']], fitness=inf), Individual(genome=['exp({})', ['square({})', 'x[0]']], fitness=1084429754.9242847), Individual(genome=['({} * {})', '3', ['({} * {})', ['sqrt({})', 'x[1]'], ['exp({})', 'x[1]']]], fitness=inf), Individual(genome=['({} / {})', ['exp({})', '9'], ['({} + {})', ['({} / {})', 'x[0]', 'x[1]'], 'x[0]']], fitness=10085102869565.207), Individual(genome='2', fitness=710.2820704982092), Individual(genome=['sqrt({})', ['({} * {})', ['sin({})', 'x[0]'], ['({} * {})', 'x[0]', 'x[1]']]], fitness=inf), Individual(genome='x[1]', fitness=361.11724014990847), Individual(genome='x[0]', fitness=1.077566400550203), Individual(genome=['({} - {})', 'x[0]', ['log({})', ['tan({})', 'x[0]']]], fitness=inf), Individual(genome=['sin({})', 'x[0]'], fitness=189.12558431660756), Individual(genome=['sqrt({})', '4'], fitness=710.2920704982092), Individual(genome=['sin({})', ['({} - {})', ['sqrt({})', '8'], ['square({})', 'x[0]']]], fitness=384.38445782602736), Individual(genome=['exp({})', ['tan({})', ['({} / {})', 'x[0]', '2']]], fitness=inf), Individual(genome='x[1]', fitness=361.11724014990847), Individual(genome='10', fitness=10191.826125486188), Individual(genome=['sqrt({})', ['sin({})', ['square({})', 'x[1]']]], fitness=359.9801519515572), Individual(genome='x[1]', fitness=361.11724014990847), Individual(genome=['cos({})', ['exp({})', ['({} * {})', 'x[0]', '8']]], fitness=557.3122011315594), Individual(genome=['cos({})', ['log({})', ['({} - {})', '10', '10']]], fitness=inf), Individual(genome='x[0]', fitness=1.077566400550203), Individual(genome=['sin({})', 'x[1]'], fitness=355.8880849187683), Individual(genome=['cos({})', ['({} + {})', ['exp({})', '2'], ['tan({})', '8']]], fitness=396.7237470996769), Individual(genome=['cos({})', ['sin({})', ['({} * {})', 'x[0]', 'x[0]']]], fitness=399.50552231146247), Individual(genome=['sqrt({})', ['({} / {})', 'x[0]', ['({} * {})', '9', 'x[0]']]], fitness=346.10150348682487), Individual(genome=['sqrt({})', ['tan({})', ['log({})', '6']]], fitness=inf), Individual(genome=['sqrt({})', '2'], fitness=518.9658062537493), Individual(genome='x[1]', fitness=361.11724014990847), Individual(genome=['({} - {})', ['square({})', 'x[1]'], 'x[0]'], fitness=1363.3714566557953), Individual(genome='x[1]', fitness=361.11724014990847), Individual(genome=['log({})', ['({} - {})', '2', 'x[1]']], fitness=387.9417177376015), Individual(genome=['tan({})', '4'], fitness=456.81721716790787), Individual(genome='x[1]', fitness=361.11724014990847), Individual(genome='4', fitness=1880.6680842452035), Individual(genome='x[0]', fitness=1.077566400550203), Individual(genome='6', fitness=3851.054097992199), Individual(genome=['cos({})', ['({} / {})', 'x[0]', 'x[0]']], fitness=361.1084623946344), Individual(genome=['sin({})', ['({} + {})', 'x[0]', ['exp({})', '3']]], fitness=321.62084231613574), Individual(genome='9', fitness=8306.633118612692), Individual(genome=['sqrt({})', '8'], fitness=1098.0255557562841), Individual(genome=['exp({})', 'x[0]'], fitness=3129.6438623306076), Individual(genome=['cos({})', ['log({})', 'x[0]']], fitness=inf), Individual(genome='x[0]', fitness=1.077566400550203), Individual(genome=['log({})', ['({} * {})', 'x[0]', ['({} + {})', 'x[0]', 'x[1]']]], fitness=inf), Individual(genome=['({} / {})', ['log({})', ['log({})', 'x[1]']], ['({} - {})', '7', ['({} * {})', '6', 'x[0]']]], fitness=inf), Individual(genome='8', fitness=6621.440111739194), Individual(genome=['cos({})', ['cos({})', ['log({})', 'x[0]']]], fitness=inf), Individual(genome=['({} - {})', ['log({})', ['({} - {})', 'x[1]', 'x[0]']], ['sqrt({})', ['square({})', 'x[0]']]], fitness=inf), Individual(genome='10', fitness=10191.826125486188), Individual(genome='x[1]', fitness=361.11724014990847), Individual(genome=['sqrt({})', 'x[1]'], fitness=inf), Individual(genome='9', fitness=8306.633118612692), Individual(genome=['sqrt({})', 'x[0]'], fitness=inf), Individual(genome='x[1]', fitness=361.11724014990847), Individual(genome='x[1]', fitness=361.11724014990847), Individual(genome=['square({})', '6'], fitness=129406.85430419711), Individual(genome=['({} - {})', ['exp({})', 'x[1]'], ['({} / {})', ['sqrt({})', 'x[1]'], ['cos({})', '10']]], fitness=inf), Individual(genome='7', fitness=5136.247104865696), Individual(genome='3', fitness=1195.4750773717064), Individual(genome=['square({})', ['({} - {})', ['({} + {})', 'x[0]', 'x[1]'], ['({} * {})', 'x[1]', 'x[0]']]], fitness=9044.930192004525), Individual(genome=['tan({})', 'x[1]'], fitness=381.31275239838925), Individual(genome='x[0]', fitness=1.077566400550203), Individual(genome='9', fitness=8306.633118612692), Individual(genome=['exp({})', ['cos({})', 'x[1]']], fitness=868.7769246842216), Individual(genome=['({} / {})', 'x[0]', 'x[1]'], fitness=428518.10836197506), Individual(genome=['cos({})', ['({} + {})', ['exp({})', '2'], 'x[0]']], fitness=567.2685430893965), Individual(genome=['({} / {})', ['sqrt({})', 'x[1]'], ['square({})', ['sqrt({})', '7']]], fitness=inf), Individual(genome='x[1]', fitness=361.11724014990847), Individual(genome=['square({})', ['log({})', ['square({})', 'x[1]']]], fitness=34824.29193131818), Individual(genome=['sin({})', ['sin({})', ['({} / {})', '2', 'x[1]']]], fitness=380.354466095682), Individual(genome=['tan({})', ['sin({})', ['sin({})', '9']]], fitness=351.58655499403244), Individual(genome=['tan({})', ['log({})', ['log({})', 'x[1]']]], fitness=inf), Individual(genome='x[1]', fitness=361.11724014990847), Individual(genome=['sqrt({})', ['square({})', 'x[0]']], fitness=659.6976785705568), Individual(genome=['({} + {})', ['sin({})', 'x[1]'], ['({} - {})', ['sin({})', '9'], ['square({})', 'x[0]']]], fitness=2143.3497117741063), Individual(genome=['square({})', ['({} * {})', ['log({})', 'x[0]'], ['cos({})', '10']]], fitness=inf), Individual(genome=['({} / {})', ['exp({})', ['tan({})', '8']], 'x[0]'], fitness=339.7388077278933), Individual(genome=['cos({})', ['({} * {})', ['log({})', 'x[1]'], ['({} + {})', '5', '2']]], fitness=inf), Individual(genome='x[1]', fitness=361.11724014990847), Individual(genome=['({} - {})', ['log({})', ['sin({})', 'x[0]']], ['exp({})', ['({} * {})', '5', '5']]], fitness=inf), Individual(genome='x[0]', fitness=1.077566400550203), Individual(genome=['tan({})', ['({} + {})', ['tan({})', 'x[1]'], ['exp({})', 'x[0]']]], fitness=35252735.0437143), Individual(genome=['({} + {})', ['tan({})', ['({} / {})', '4', 'x[1]']], ['log({})', 'x[1]']], fitness=inf), Individual(genome=['tan({})', 'x[1]'], fitness=381.31275239838925), Individual(genome='x[1]', fitness=361.11724014990847), Individual(genome=['sin({})', ['({} - {})', 'x[1]', ['({} * {})', 'x[1]', '9']]], fitness=396.1803929640281), Individual(genome='x[0]', fitness=1.077566400550203), Individual(genome=['({} * {})', ['({} + {})', ['({} + {})', 'x[0]', 'x[0]'], 'x[0]'], ['({} / {})', ['log({})', 'x[1]'], ['cos({})', '4']]], fitness=inf), Individual(genome=['cos({})', 'x[0]'], fitness=386.96911370507814), Individual(genome='3', fitness=1195.4750773717064), Individual(genome=['({} / {})', ['({} - {})', ['tan({})', '5'], ['tan({})', '4']], 'x[1]'], fitness=1526365.5866844603), Individual(genome=['sqrt({})', 'x[1]'], fitness=inf), Individual(genome=['({} + {})', ['square({})', ['sqrt({})', '6']], 'x[0]'], fitness=3601.830803700967), Individual(genome=['({} + {})', ['({} * {})', ['({} - {})', 'x[0]', 'x[1]'], 'x[0]'], ['sin({})', '8']], fitness=3202.839724729236), Individual(genome=['sqrt({})', ['({} * {})', ['sin({})', '8'], ['tan({})', '2']]], fitness=inf), Individual(genome=['sqrt({})', ['({} / {})', ['({} + {})', '5', '6'], ['({} * {})', 'x[1]', 'x[1]']]], fitness=813719.6762798333), Individual(genome=['({} + {})', ['cos({})', ['({} / {})', 'x[1]', '8']], '10'], fitness=12271.500876778058), Individual(genome=['exp({})', ['sin({})', ['({} * {})', 'x[0]', '9']]], fitness=511.9762374177199), Individual(genome='x[0]', fitness=1.077566400550203), Individual(genome=['exp({})', ['exp({})', ['square({})', 'x[1]']]], fitness=3444.740909237291), Individual(genome=['sin({})', ['({} - {})', ['square({})', 'x[1]'], ['sin({})', 'x[0]']]], fitness=539.8790707946405), Individual(genome=['({} / {})', ['({} - {})', ['({} * {})', '9', 'x[1]'], 'x[1]'], ['({} + {})', 'x[1]', ['sqrt({})', 'x[1]']]], fitness=inf), Individual(genome=['({} - {})', ['cos({})', ['cos({})', 'x[0]']], ['exp({})', ['exp({})', '4']]], fitness=2.6506388742600217e+49), Individual(genome=['exp({})', 'x[1]'], fitness=488.8345504967928), Individual(genome=['cos({})', ['sqrt({})', 'x[0]']], fitness=inf), Individual(genome=['tan({})', ['({} + {})', ['({} - {})', 'x[1]', 'x[0]'], ['sqrt({})', 'x[1]']]], fitness=inf), Individual(genome=['cos({})', ['tan({})', ['sqrt({})', 'x[1]']]], fitness=inf), Individual(genome='x[1]', fitness=361.11724014990847), Individual(genome='x[0]', fitness=1.077566400550203), Individual(genome=['log({})', 'x[0]'], fitness=inf), Individual(genome=['sin({})', ['tan({})', ['({} / {})', 'x[1]', 'x[1]']]], fitness=425.10246632052343), Individual(genome='x[1]', fitness=361.11724014990847), Individual(genome=['log({})', ['({} + {})', ['log({})', 'x[0]'], ['({} * {})', 'x[0]', '10']]], fitness=inf), Individual(genome='5', fitness=2765.8610911187016), Individual(genome=['square({})', ['sqrt({})', ['exp({})', 'x[1]']]], fitness=488.85455049679285), Individual(genome=['({} / {})', ['({} / {})', ['({} - {})', 'x[0]', '5'], ['({} + {})', 'x[1]', '10']], ['sin({})', ['({} - {})', 'x[0]', '10']]], fitness=7528.469618767394), Individual(genome='3', fitness=1195.4750773717064), Individual(genome='x[0]', fitness=1.077566400550203), Individual(genome=['sqrt({})', ['tan({})', ['sin({})', 'x[0]']]], fitness=inf), Individual(genome='x[1]', fitness=361.11724014990847), Individual(genome='x[0]', fitness=1.077566400550203), Individual(genome=['sqrt({})', ['({} + {})', 'x[1]', ['sin({})', 'x[1]']]], fitness=inf), Individual(genome='x[1]', fitness=361.11724014990847), Individual(genome='x[0]', fitness=1.077566400550203), Individual(genome=['sin({})', ['({} - {})', ['tan({})', 'x[1]'], 'x[0]']], fitness=551.4477619813528), Individual(genome=['tan({})', 'x[0]'], fitness=32713.377234224565), Individual(genome=['({} * {})', '6', ['sqrt({})', ['({} - {})', 'x[1]', 'x[1]']]], fitness=339.9260567512147), Individual(genome=['({} - {})', 'x[0]', 'x[1]'], fitness=45.469721831960754), Individual(genome=['log({})', ['log({})', ['sqrt({})', 'x[0]']]], fitness=inf), Individual(genome=['tan({})', ['log({})', ['({} - {})', '5', 'x[1]']]], fitness=3592399.6797397425), Individual(genome=['tan({})', 'x[0]'], fitness=32713.377234224565), Individual(genome=['({} * {})', ['({} - {})', ['({} + {})', 'x[0]', 'x[0]'], 'x[0]'], ['square({})', ['exp({})', 'x[1]']]], fitness=1495.4536277490733), Individual(genome='5', fitness=2765.8610911187016), Individual(genome=['exp({})', ['({} * {})', 'x[1]', ['({} - {})', 'x[1]', '10']]], fitness=7014050934.322464), Individual(genome=['sin({})', ['({} * {})', ['log({})', 'x[0]'], ['cos({})', '10']]], fitness=inf), Individual(genome=['sqrt({})', '9'], fitness=1195.4850773717064), Individual(genome=['log({})', 'x[0]'], fitness=inf), Individual(genome=['tan({})', ['({} - {})', ['exp({})', 'x[0]'], ['square({})', 'x[0]']]], fitness=30451.945745232308), Individual(genome='8', fitness=6621.440111739194), Individual(genome=['({} - {})', ['sqrt({})', '2'], ['({} + {})', ['square({})', '6'], ['sin({})', 'x[1]']]], fitness=120486.25142590152), Individual(genome='x[0]', fitness=1.077566400550203), Individual(genome=['tan({})', ['tan({})', ['({} - {})', 'x[1]', '6']]], fitness=99995.80619075646), Individual(genome=['square({})', ['({} + {})', ['({} - {})', 'x[1]', 'x[0]'], 'x[1]']], fitness=5394.260446119186), Individual(genome=['cos({})', ['square({})', ['exp({})', 'x[0]']]], fitness=565.1039650570958), Individual(genome=['square({})', '10'], fitness=998859.206744101), Individual(genome=['({} / {})', 'x[1]', ['log({})', ['({} - {})', '2', 'x[1]']]], fitness=116266.30279070919), Individual(genome=['sqrt({})', ['sin({})', ['square({})', '6']]], fitness=inf), Individual(genome=['({} / {})', ['cos({})', ['log({})', 'x[0]']], '2'], fitness=inf), Individual(genome=['({} * {})', 'x[1]', 'x[0]'], fitness=458.67751802575356), Individual(genome=['({} / {})', '10', ['sin({})', '4']], fitness=17995.192172004365), Individual(genome=['exp({})', ['({} * {})', '6', ['({} / {})', 'x[1]', 'x[0]']]], fitness=inf), Individual(genome=['cos({})', 'x[0]'], fitness=386.96911370507814), Individual(genome=['({} + {})', ['log({})', ['({} / {})', '5', 'x[1]']], ['log({})', ['({} * {})', '10', 'x[1]']]], fitness=inf), Individual(genome=['sqrt({})', 'x[0]'], fitness=inf), Individual(genome=['({} * {})', ['sqrt({})', '9'], ['exp({})', ['({} / {})', 'x[0]', 'x[1]']]], fitness=inf), Individual(genome='x[0]', fitness=1.077566400550203), Individual(genome='x[0]', fitness=1.077566400550203), Individual(genome='x[0]', fitness=1.077566400550203), Individual(genome=['({} / {})', ['sin({})', 'x[1]'], '9'], fitness=339.055871237609), Individual(genome=['square({})', ['sin({})', ['cos({})', 'x[0]']]], fitness=361.6241469202391), Individual(genome=['tan({})', ['({} / {})', ['cos({})', '8'], ['sqrt({})', '2']]], fitness=342.52088603722564), Individual(genome=['sqrt({})', '7'], fitness=1000.7304352738457), Individual(genome=['log({})', ['({} + {})', ['({} * {})', '8', 'x[0]'], 'x[0]']], fitness=inf), Individual(genome=['tan({})', ['({} + {})', '8', ['exp({})', 'x[1]']]], fitness=441.4476864708337), Individual(genome='x[0]', fitness=1.077566400550203), Individual(genome=['log({})', ['exp({})', ['log({})', 'x[0]']]], fitness=inf), Individual(genome='x[0]', fitness=1.077566400550203), Individual(genome=['({} / {})', ['tan({})', ['sin({})', 'x[1]']], ['sqrt({})', ['({} + {})', '5', 'x[0]']]], fitness=342.70463091184513), Individual(genome=['cos({})', ['({} / {})', 'x[1]', ['({} * {})', 'x[0]', 'x[0]']]], fitness=407.45981156742346), Individual(genome=['({} / {})', ['tan({})', ['tan({})', '4']], ['({} / {})', ['sqrt({})', '9'], ['exp({})', 'x[0]']]], fitness=1651.2255591227263), Individual(genome='x[1]', fitness=361.11724014990847), Individual(genome='10', fitness=10191.826125486188), Individual(genome='x[0]', fitness=1.077566400550203), Individual(genome='x[0]', fitness=1.077566400550203), Individual(genome=['sin({})', ['log({})', ['square({})', '9']]], fitness=444.2184248573997), Individual(genome=['exp({})', ['sqrt({})', ['({} / {})', 'x[0]', 'x[0]']]], fitness=1038.5820862943895), Individual(genome=['sin({})', ['sqrt({})', '7']], fitness=355.50719061182804), Individual(genome=['square({})', ['({} / {})', '3', ['({} / {})', '7', 'x[1]']]], fitness=339.43693246262274), Individual(genome=['exp({})', ['sin({})', ['({} - {})', 'x[0]', 'x[1]']]], fitness=371.14687600551565), Individual(genome=['({} * {})', 'x[1]', ['log({})', 'x[0]']], fitness=inf), Individual(genome=['exp({})', '10'], fitness=48516193735.15746), Individual(genome=['log({})', '4'], fitness=511.5604112420836), Individual(genome=['sqrt({})', '8'], fitness=1098.0255557562841), Individual(genome=['sin({})', ['tan({})', ['exp({})', 'x[1]']]], fitness=407.3122525977132), Individual(genome=['({} / {})', ['({} * {})', '7', ['sqrt({})', 'x[0]']], ['({} - {})', ['({} * {})', 'x[0]', '7'], ['square({})', '7']]], fitness=inf), Individual(genome=['sqrt({})', 'x[0]'], fitness=inf), Individual(genome='x[0]', fitness=1.077566400550203), Individual(genome=['square({})', ['sin({})', ['({} / {})', '7', 'x[1]']]], fitness=370.9443498133848), Individual(genome='x[0]', fitness=1.077566400550203), Individual(genome=['log({})', ['sqrt({})', ['exp({})', 'x[0]']]], fitness=85.81376238025128), Individual(genome=['cos({})', 'x[0]'], fitness=386.96911370507814), Individual(genome=['({} + {})', ['tan({})', ['tan({})', 'x[1]']], ['({} * {})', ['({} + {})', '5', '7'], ['cos({})', 'x[1]']]], fitness=12661.04272054971), Individual(genome=['cos({})', ['exp({})', ['({} * {})', 'x[1]', 'x[1]']]], fitness=359.69155886063083), Individual(genome=['exp({})', ['exp({})', 'x[1]']], fitness=2923.9967224523134), Individual(genome=['square({})', ['({} + {})', ['sin({})', 'x[1]'], 'x[1]']], fitness=563.3879314712959), Individual(genome=['exp({})', ['exp({})', 'x[1]']], fitness=2923.9967224523134), Individual(genome='5', fitness=2765.8610911187016), Individual(genome=['({} + {})', 'x[0]', ['exp({})', ['({} - {})', 'x[1]', 'x[0]']]], fitness=7863.785368035997), Individual(genome=['({} - {})', 'x[1]', ['sin({})', '10']], fitness=382.36092891008406), Individual(genome=['sin({})', ['square({})', '6']], fitness=452.9638488308517), Individual(genome=['square({})', ['({} - {})', 'x[1]', ['square({})', '10']]], fitness=10002975317.051733), Individual(genome='x[0]', fitness=1.077566400550203), Individual(genome='4', fitness=1880.6680842452035), Individual(genome=['exp({})', ['exp({})', 'x[1]']], fitness=2923.9967224523134), Individual(genome=['exp({})', ['({} + {})', 'x[1]', ['square({})', 'x[1]']]], fitness=841.518046283191), Individual(genome=['square({})', ['tan({})', '8']], fitness=213432.77002407343), Individual(genome=['({} + {})', ['({} - {})', ['({} * {})', 'x[1]', 'x[1]'], ['exp({})', 'x[1]']], ['sin({})', 'x[1]']], fitness=427.9986012317151), Individual(genome=['exp({})', ['exp({})', ['({} / {})', 'x[0]', 'x[0]']]], fitness=23080.703408256824), Individual(genome='x[0]', fitness=1.077566400550203), Individual(genome=['square({})', ['log({})', ['log({})', '10']]], fitness=378.01350635626346), Individual(genome=['square({})', ['({} * {})', 'x[0]', ['({} - {})', '2', 'x[1]']]], fitness=52189.54152792668), Individual(genome='10', fitness=10191.826125486188), Individual(genome=['tan({})', '2'], fitness=849.6998473918542), Individual(genome=['({} * {})', ['({} * {})', ['square({})', 'x[0]'], ['square({})', 'x[1]']], ['({} - {})', ['({} / {})', 'x[0]', '7'], ['sqrt({})', 'x[1]']]], fitness=inf), Individual(genome=['tan({})', ['sqrt({})', ['({} + {})', '8', '3']]], fitness=340.43486280807014), Individual(genome=['exp({})', ['log({})', ['exp({})', '6']]], fitness=16269845.500584861), Individual(genome='x[1]', fitness=361.11724014990847), Individual(genome='x[1]', fitness=361.11724014990847), Individual(genome=['exp({})', ['cos({})', ['sqrt({})', '8']]], fitness=349.1235268886789), Individual(genome=['cos({})', ['tan({})', ['square({})', 'x[1]']]], fitness=405.40114967339804), Individual(genome=['sqrt({})', '10'], fitness=1293.0822331730085), Individual(genome='x[1]', fitness=361.11724014990847), Individual(genome=['({} + {})', ['exp({})', ['log({})', 'x[0]']], ['sqrt({})', ['sin({})', '4']]], fitness=inf), Individual(genome=['({} + {})', 'x[0]', 'x[0]'], fitness=339.8934696149348), Individual(genome='x[1]', fitness=361.11724014990847), Individual(genome=['sin({})', ['log({})', ['({} + {})', 'x[1]', 'x[0]']]], fitness=inf), Individual(genome=['log({})', ['({} * {})', 'x[0]', ['({} / {})', '4', '2']]], fitness=inf), Individual(genome=['sin({})', ['tan({})', ['sqrt({})', 'x[1]']]], fitness=inf), Individual(genome='x[1]', fitness=361.11724014990847), Individual(genome=['cos({})', ['cos({})', ['sqrt({})', '6']]], fitness=380.84398222318555), Individual(genome='x[0]', fitness=1.077566400550203), Individual(genome=['tan({})', ['log({})', ['({} - {})', 'x[0]', 'x[0]']]], fitness=inf), Individual(genome=['({} * {})', ['exp({})', ['({} + {})', 'x[0]', 'x[1]']], '9'], fitness=632958.7832686711), Individual(genome=['({} * {})', ['cos({})', 'x[0]'], ['log({})', ['sqrt({})', 'x[0]']]], fitness=inf), Individual(genome=['cos({})', ['sin({})', 'x[0]']], fitness=393.78353730367235), Individual(genome=['sqrt({})', ['({} * {})', '3', ['({} / {})', 'x[0]', 'x[0]']]], fitness=614.2795923487887), Individual(genome=['tan({})', 'x[1]'], fitness=381.31275239838925), Individual(genome='x[1]', fitness=361.11724014990847), Individual(genome=['sqrt({})', ['exp({})', ['({} * {})', '4', '9']]], fitness=4.311231537392932e+17), Individual(genome='x[1]', fitness=361.11724014990847), Individual(genome=['sqrt({})', '10'], fitness=1293.0822331730085), Individual(genome='4', fitness=1880.6680842452035), Individual(genome=['tan({})', 'x[0]'], fitness=32713.377234224565), Individual(genome=['({} - {})', ['cos({})', 'x[1]'], ['sin({})', '6']], fitness=452.3137653983518), Individual(genome='x[0]', fitness=1.077566400550203), Individual(genome=['({} / {})', ['sin({})', '2'], ['({} / {})', ['cos({})', 'x[0]'], ['sin({})', 'x[1]']]], fitness=5433.926276917147), Individual(genome=['log({})', 'x[0]'], fitness=inf), Individual(genome=['({} - {})', ['cos({})', 'x[1]'], '7'], fitness=4222.155458963317), Individual(genome=['({} / {})', ['({} * {})', ['sqrt({})', 'x[0]'], 'x[0]'], ['log({})', ['sin({})', 'x[1]']]], fitness=inf), Individual(genome='x[1]', fitness=361.11724014990847), Individual(genome=['exp({})', 'x[1]'], fitness=488.8345504967928), Individual(genome=['sqrt({})', ['cos({})', ['square({})', 'x[1]']]], fitness=416.53011635013144), Individual(genome=['tan({})', 'x[0]'], fitness=32713.377234224565), Individual(genome=['cos({})', '6'], fitness=417.88151985313516), Individual(genome='x[0]', fitness=1.077566400550203), Individual(genome='2', fitness=710.2820704982092), Individual(genome='x[0]', fitness=1.077566400550203), Individual(genome=['square({})', 'x[0]'], fitness=2355.6245785012243), Individual(genome=['cos({})', 'x[1]'], fitness=401.4157702328773), Individual(genome='x[1]', fitness=361.11724014990847), Individual(genome=['sin({})', ['({} * {})', 'x[0]', 'x[1]']], fitness=372.5529157544664), Individual(genome='9', fitness=8306.633118612692), Individual(genome='3', fitness=1195.4750773717064), Individual(genome='x[0]', fitness=1.077566400550203), Individual(genome=['({} + {})', 'x[0]', ['sqrt({})', ['square({})', 'x[1]']]], fitness=33.73693982720644), Individual(genome='x[1]', fitness=361.11724014990847), Individual(genome=['sin({})', ['({} / {})', 'x[1]', ['({} * {})', 'x[0]', 'x[0]']]], fitness=356.40548043442715), Individual(genome=['square({})', ['log({})', ['({} - {})', '3', 'x[1]']]], fitness=493.12734956164593), Individual(genome=['square({})', ['exp({})', ['sqrt({})', 'x[0]']]], fitness=inf), Individual(genome=['square({})', ['({} * {})', ['cos({})', 'x[0]'], ['square({})', 'x[1]']]], fitness=344.70451000390796), Individual(genome=['log({})', ['log({})', '3']], fitness=339.40799060207365), Individual(genome='3', fitness=1195.4750773717064), Individual(genome='x[1]', fitness=361.11724014990847), Individual(genome=['({} * {})', 'x[0]', ['sin({})', ['log({})', 'x[1]']]], fitness=inf), Individual(genome='x[1]', fitness=361.11724014990847), Individual(genome=['tan({})', '2'], fitness=849.6998473918542), Individual(genome='x[1]', fitness=361.11724014990847), Individual(genome='x[1]', fitness=361.11724014990847), Individual(genome=['log({})', 'x[1]'], fitness=inf), Individual(genome='x[1]', fitness=361.11724014990847), Individual(genome=['sqrt({})', ['sqrt({})', ['sin({})', 'x[1]']]], fitness=inf), Individual(genome=['tan({})', ['({} / {})', ['({} - {})', '8', 'x[0]'], '8']], fitness=1243.6195186414275), Individual(genome=['({} - {})', 'x[1]', ['sin({})', ['({} + {})', '7', 'x[1]']]], fitness=379.4645013545888), Individual(genome=['tan({})', ['sqrt({})', ['log({})', 'x[1]']]], fitness=inf), Individual(genome=['({} + {})', ['log({})', ['tan({})', 'x[0]']], 'x[1]'], fitness=inf), Individual(genome='x[1]', fitness=361.11724014990847), Individual(genome=['cos({})', ['sin({})', 'x[1]']], fitness=404.78296590718725), Individual(genome=['exp({})', ['sin({})', ['cos({})', 'x[0]']]], fitness=510.12738220929856), Individual(genome=['cos({})', ['square({})', ['exp({})', 'x[0]']]], fitness=565.1039650570958), Individual(genome=['square({})', '8'], fitness=408992.25849665503), Individual(genome=['({} / {})', '5', ['sin({})', ['cos({})', '10']]], fitness=4955.570225155124), Individual(genome=['log({})', ['({} + {})', ['exp({})', '9'], ['log({})', 'x[1]']]], fitness=inf), Individual(genome='7', fitness=5136.247104865696), Individual(genome='x[1]', fitness=361.11724014990847), Individual(genome='8', fitness=6621.440111739194), Individual(genome=['({} + {})', 'x[0]', 'x[0]'], fitness=339.8934696149348), Individual(genome=['cos({})', ['log({})', 'x[0]']], fitness=inf), Individual(genome='3', fitness=1195.4750773717064), Individual(genome='x[1]', fitness=361.11724014990847), Individual(genome=['sin({})', '2'], fitness=409.12427704544075), Individual(genome='x[0]', fitness=1.077566400550203), Individual(genome=['square({})', ['({} - {})', ['sqrt({})', '10'], ['square({})', '9']]], fitness=3670708549.8727293), Individual(genome='5', fitness=2765.8610911187016), Individual(genome=['({} * {})', ['cos({})', ['exp({})', 'x[1]']], ['exp({})', ['sqrt({})', '3']]], fitness=1741.9314386978044), Individual(genome=['sqrt({})', ['exp({})', ['log({})', 'x[1]']]], fitness=inf), Individual(genome='x[0]', fitness=1.077566400550203), Individual(genome=['cos({})', ['({} - {})', ['tan({})', 'x[0]'], ['({} + {})', '10', '6']]], fitness=363.0240198268542), Individual(genome=['({} - {})', ['({} - {})', ['({} + {})', 'x[0]', 'x[0]'], ['exp({})', 'x[0]']], 'x[0]'], fitness=4456.228550284208), Individual(genome=['sin({})', ['({} * {})', ['({} * {})', 'x[0]', 'x[1]'], 'x[0]']], fitness=368.02336229089093), Individual(genome='x[0]', fitness=1.077566400550203), Individual(genome=['({} * {})', 'x[1]', ['({} - {})', ['sqrt({})', 'x[1]'], ['({} / {})', 'x[1]', 'x[0]']]], fitness=inf), Individual(genome='2', fitness=710.2820704982092), Individual(genome=['log({})', ['exp({})', ['({} + {})', 'x[1]', '8']]], fitness=6638.031309807164), Individual(genome='3', fitness=1195.4750773717064), Individual(genome='x[1]', fitness=361.11724014990847), Individual(genome=['sqrt({})', '7'], fitness=1000.7304352738457), Individual(genome=['sqrt({})', ['cos({})', ['exp({})', 'x[0]']]], fitness=inf), Individual(genome=['tan({})', ['sin({})', '3']], fitness=339.8307385257264), Individual(genome=['({} * {})', ['cos({})', ['tan({})', 'x[1]']], ['cos({})', ['({} - {})', 'x[0]', '3']]], fitness=354.3084075248778), Individual(genome=['tan({})', ['log({})', '8']], fitness=688.1217397373023), Individual(genome=['sin({})', ['({} - {})', ['({} + {})', 'x[1]', 'x[0]'], ['sin({})', '7']]], fitness=260.76288778876193), Individual(genome='x[0]', fitness=1.077566400550203), Individual(genome=['exp({})', ['log({})', ['tan({})', 'x[0]']]], fitness=inf), Individual(genome=['({} - {})', ['tan({})', ['({} / {})', 'x[0]', '8']], 'x[0]'], fitness=1187.06000363803), Individual(genome='3', fitness=1195.4750773717064), Individual(genome=['log({})', '6'], fitness=634.4156861628488), Individual(genome=['exp({})', ['exp({})', ['({} - {})', 'x[0]', 'x[1]']]], fitness=3.0209706978732625e+50), Individual(genome=['({} / {})', ['tan({})', ['({} - {})', 'x[0]', 'x[0]']], 'x[0]'], fitness=339.9260567512147), Individual(genome='4', fitness=1880.6680842452035), Individual(genome='9', fitness=8306.633118612692), Individual(genome=['({} + {})', 'x[0]', 'x[1]'], fitness=21.898415413758194), Individual(genome='x[1]', fitness=361.11724014990847), Individual(genome='x[0]', fitness=1.077566400550203), Individual(genome=['({} - {})', ['({} * {})', ['cos({})', 'x[0]'], ['({} + {})', 'x[0]', 'x[1]']], ['({} / {})', ['({} * {})', 'x[1]', 'x[0]'], ['({} * {})', '4', 'x[1]']]], fitness=1280.4120036354318), Individual(genome=['cos({})', ['square({})', '6']], fitness=343.44828481027537), Individual(genome='9', fitness=8306.633118612692), Individual(genome='2', fitness=710.2820704982092), Individual(genome=['cos({})', 'x[1]'], fitness=401.4157702328773), Individual(genome=['exp({})', 'x[1]'], fitness=488.8345504967928), Individual(genome=['({} / {})', ['tan({})', ['square({})', 'x[1]']], ['({} + {})', ['log({})', 'x[1]'], ['square({})', 'x[1]']]], fitness=inf), Individual(genome='6', fitness=3851.054097992199), Individual(genome=['({} + {})', ['({} - {})', ['exp({})', 'x[0]'], 'x[1]'], 'x[0]'], fitness=4503.588773153363), Individual(genome='x[0]', fitness=1.077566400550203), Individual(genome=['cos({})', ['({} * {})', ['({} + {})', '8', '6'], ['cos({})', 'x[0]']]], fitness=382.7380329494328), Individual(genome=['log({})', 'x[0]'], fitness=inf), Individual(genome=['tan({})', 'x[0]'], fitness=32713.377234224565), Individual(genome='5', fitness=2765.8610911187016), Individual(genome=['({} - {})', ['tan({})', ['tan({})', '9']], ['cos({})', ['({} - {})', 'x[0]', 'x[1]']]], fitness=423.0348937750262), Individual(genome='x[1]', fitness=361.11724014990847), Individual(genome=['({} - {})', 'x[1]', ['tan({})', 'x[1]']], fitness=344.90565350754304), Individual(genome='2', fitness=710.2820704982092), Individual(genome=['({} - {})', ['log({})', ['exp({})', 'x[1]']], ['exp({})', ['cos({})', 'x[1]']]], fitness=957.4089394931759), Individual(genome=['sin({})', 'x[0]'], fitness=189.12558431660756), Individual(genome=['sin({})', ['({} - {})', ['sin({})', '5'], '10']], fitness=424.99474484808474), Individual(genome='x[0]', fitness=1.077566400550203), Individual(genome=['square({})', ['cos({})', ['({} - {})', 'x[1]', 'x[1]']]], fitness=425.11906362471194), Individual(genome=['({} + {})', ['square({})', ['({} - {})', '3', '9']], 'x[1]'], fitness=129407.12555360753), Individual(genome=['sqrt({})', ['log({})', ['tan({})', 'x[1]']]], fitness=inf), Individual(genome=['square({})', ['sqrt({})', '5']], fitness=2765.8810911187024), Individual(genome='x[1]', fitness=361.11724014990847), Individual(genome=['cos({})', ['tan({})', ['cos({})', 'x[1]']]], fitness=352.87953601210256), Individual(genome=['log({})', ['sin({})', 'x[1]']], fitness=inf), Individual(genome='7', fitness=5136.247104865696), Individual(genome=['({} + {})', ['({} / {})', ['square({})', '5'], ['cos({})', 'x[1]']], ['({} + {})', ['exp({})', '8'], '6']], fitness=910478370.5188876), Individual(genome='x[1]', fitness=361.11724014990847), Individual(genome='3', fitness=1195.4750773717064), Individual(genome=['({} * {})', ['tan({})', 'x[1]'], ['square({})', ['cos({})', '5']]], fitness=339.23207394254786), Individual(genome=['({} + {})', ['({} / {})', 'x[1]', ['({} / {})', 'x[0]', 'x[0]']], ['log({})', 'x[1]']], fitness=inf), Individual(genome='2', fitness=710.2820704982092), Individual(genome=['({} + {})', 'x[0]', ['sin({})', ['square({})', 'x[1]']]], fitness=17.29078725031342), Individual(genome=['log({})', ['sqrt({})', '10']], fitness=455.41632869059936), Individual(genome='x[0]', fitness=1.077566400550203), Individual(genome=['({} - {})', ['cos({})', ['exp({})', '10']], ['sqrt({})', 'x[1]']], fitness=inf)]\n",
      "Generazione 1, miglior fitness: 1.067566\n",
      "Best formula: x[0]\n",
      "Generazione 2, miglior fitness: 1.067566\n",
      "Best formula: x[0]\n",
      "Generazione 3, miglior fitness: 0.988998\n",
      "Best formula: (x[0] + exp((x[1] - 5)))\n",
      "Generazione 4, miglior fitness: 0.027779\n",
      "Best formula: (x[0] + (tan(sin(x[1])) / 7))\n",
      "Generazione 5, miglior fitness: 0.027779\n",
      "Best formula: (x[0] + (tan(sin(x[1])) / 7))\n",
      "Generazione 6, miglior fitness: 0.027779\n",
      "Best formula: (x[0] + (tan(sin(x[1])) / 7))\n",
      "Generazione 7, miglior fitness: 0.027779\n",
      "Best formula: (x[0] + (tan(sin(x[1])) / 7))\n",
      "Generazione 8, miglior fitness: 0.027779\n",
      "Best formula: (x[0] + (tan(sin(x[1])) / 7))\n",
      "Generazione 9, miglior fitness: 0.014296\n",
      "Best formula: ((x[1] / 5) + x[0])\n",
      "Generazione 10, miglior fitness: 0.014296\n",
      "Best formula: ((x[1] / 5) + x[0])\n",
      "Generazione 11, miglior fitness: 0.014296\n",
      "Best formula: (x[0] + (x[1] / 5))\n",
      "Generazione 12, miglior fitness: 0.014296\n",
      "Best formula: ((x[1] / 5) + x[0])\n",
      "Generazione 13, miglior fitness: 0.014296\n",
      "Best formula: (x[0] + (x[1] / 5))\n",
      "Generazione 14, miglior fitness: 0.048994\n",
      "Best formula: (x[0] + (tan(x[1]) / (7 - x[1])))\n",
      "Generazione 15, miglior fitness: 0.048994\n",
      "Best formula: ((tan(x[1]) / (7 - x[1])) + x[0])\n",
      "Generazione 16, miglior fitness: 0.008749\n",
      "Best formula: ((x[1] / 6) + x[0])\n",
      "Generazione 17, miglior fitness: 0.048994\n",
      "Best formula: (x[0] + (tan(x[1]) / (7 - x[1])))\n",
      "Generazione 18, miglior fitness: 0.048994\n",
      "Best formula: ((tan(x[1]) / (7 - x[1])) + x[0])\n",
      "Generazione 19, miglior fitness: 0.048994\n",
      "Best formula: ((tan(x[1]) / (7 - x[1])) + x[0])\n",
      "Generazione 20, miglior fitness: 0.008749\n",
      "Best formula: (x[0] + (x[1] / 6))\n",
      "Generazione 21, miglior fitness: 0.008749\n",
      "Best formula: (x[0] + (x[1] / 6))\n",
      "Generazione 22, miglior fitness: 0.008749\n",
      "Best formula: (x[0] + (x[1] / 6))\n",
      "Generazione 23, miglior fitness: 0.008749\n",
      "Best formula: ((x[1] / 6) + x[0])\n",
      "Generazione 24, miglior fitness: 0.008749\n",
      "Best formula: ((x[1] / 6) + x[0])\n",
      "Generazione 25, miglior fitness: 0.008749\n",
      "Best formula: (x[0] + (x[1] / 6))\n",
      "Generazione 26, miglior fitness: 0.008749\n",
      "Best formula: (x[0] + (x[1] / 6))\n",
      "Generazione 27, miglior fitness: 0.000000\n",
      "Best formula: (x[0] + ((sin(x[1]) / (5 / x[1])) / x[1]))\n",
      "Generazione 28, miglior fitness: 0.030781\n",
      "Best formula: (x[0] + ((sin(tan(x[1])) / (5 / x[1])) / x[1]))\n",
      "Generazione 29, miglior fitness: 0.008749\n",
      "Best formula: ((x[1] / 6) + x[0])\n",
      "Generazione 30, miglior fitness: 0.008749\n",
      "Best formula: ((x[1] / 6) + x[0])\n",
      "Generazione 31, miglior fitness: 0.008749\n",
      "Best formula: (x[0] + (x[1] / 6))\n",
      "Generazione 32, miglior fitness: 0.008749\n",
      "Best formula: ((x[1] / 6) + x[0])\n"
     ]
    },
    {
     "ename": "KeyboardInterrupt",
     "evalue": "",
     "output_type": "error",
     "traceback": [
      "\u001b[1;31m---------------------------------------------------------------------------\u001b[0m",
      "\u001b[1;31mKeyboardInterrupt\u001b[0m                         Traceback (most recent call last)",
      "Cell \u001b[1;32mIn[64], line 90\u001b[0m\n\u001b[0;32m     87\u001b[0m     \u001b[38;5;28mprint\u001b[39m(\u001b[38;5;124m\"\u001b[39m\u001b[38;5;124mMiglior programma:\u001b[39m\u001b[38;5;124m\"\u001b[39m, best_program\u001b[38;5;241m.\u001b[39mgenome, \u001b[38;5;124m\"\u001b[39m\u001b[38;5;124m; Fitness:\u001b[39m\u001b[38;5;124m\"\u001b[39m, best_mse)\n\u001b[0;32m     88\u001b[0m     \u001b[38;5;28;01mreturn\u001b[39;00m best_program\u001b[38;5;241m.\u001b[39mgenome\n\u001b[1;32m---> 90\u001b[0m best_program \u001b[38;5;241m=\u001b[39m \u001b[43mrun_genetic_algorithm\u001b[49m\u001b[43m(\u001b[49m\u001b[43m)\u001b[49m\n",
      "Cell \u001b[1;32mIn[64], line 45\u001b[0m, in \u001b[0;36mrun_genetic_algorithm\u001b[1;34m()\u001b[0m\n\u001b[0;32m     43\u001b[0m     child2 \u001b[38;5;241m=\u001b[39m mutate(safe_copy(child2), input_dim)\n\u001b[0;32m     44\u001b[0m \u001b[38;5;66;03m#let's add the new individuals:\u001b[39;00m\n\u001b[1;32m---> 45\u001b[0m next_population\u001b[38;5;241m.\u001b[39mappend(Individual(genome\u001b[38;5;241m=\u001b[39mchild1, fitness\u001b[38;5;241m=\u001b[39m\u001b[43mfitness_function\u001b[49m\u001b[43m(\u001b[49m\u001b[43mchild1\u001b[49m\u001b[43m,\u001b[49m\u001b[43m \u001b[49m\u001b[43mx\u001b[49m\u001b[43m,\u001b[49m\u001b[43m \u001b[49m\u001b[43my\u001b[49m\u001b[43m)\u001b[49m))\n\u001b[0;32m     46\u001b[0m \u001b[38;5;28;01mif\u001b[39;00m \u001b[38;5;28mlen\u001b[39m(next_population) \u001b[38;5;241m<\u001b[39m offspring_size:\n\u001b[0;32m     47\u001b[0m     next_population\u001b[38;5;241m.\u001b[39mappend(Individual(genome\u001b[38;5;241m=\u001b[39mchild2, fitness\u001b[38;5;241m=\u001b[39mfitness_function(child2, x, y)))\n",
      "Cell \u001b[1;32mIn[49], line 17\u001b[0m, in \u001b[0;36mfitness_function\u001b[1;34m(program, x, y)\u001b[0m\n\u001b[0;32m     13\u001b[0m     \u001b[38;5;28;01mreturn\u001b[39;00m np\u001b[38;5;241m.\u001b[39minf  \u001b[38;5;66;03m# Penalizza programmi invalidi\u001b[39;00m\n\u001b[0;32m     15\u001b[0m \u001b[38;5;66;03m# Calcolo dell'errore\u001b[39;00m\n\u001b[0;32m     16\u001b[0m \u001b[38;5;66;03m#error = np.mean((predictions - y) ** 2)  # Errore quadratico medio\u001b[39;00m\n\u001b[1;32m---> 17\u001b[0m error \u001b[38;5;241m=\u001b[39m \u001b[43mmse\u001b[49m\u001b[43m(\u001b[49m\u001b[43mprogram\u001b[49m\u001b[43m,\u001b[49m\u001b[43m \u001b[49m\u001b[43mx\u001b[49m\u001b[43m,\u001b[49m\u001b[43m \u001b[49m\u001b[43my\u001b[49m\u001b[43m)\u001b[49m\n\u001b[0;32m     18\u001b[0m \u001b[38;5;28;01mif\u001b[39;00m \u001b[38;5;129;01mnot\u001b[39;00m math\u001b[38;5;241m.\u001b[39misfinite(error):\n\u001b[0;32m     19\u001b[0m     \u001b[38;5;28;01mreturn\u001b[39;00m np\u001b[38;5;241m.\u001b[39minf\n",
      "Cell \u001b[1;32mIn[47], line 2\u001b[0m, in \u001b[0;36mmse\u001b[1;34m(program, x, y)\u001b[0m\n\u001b[0;32m      1\u001b[0m \u001b[38;5;28;01mdef\u001b[39;00m \u001b[38;5;21mmse\u001b[39m(program, x, y):\n\u001b[1;32m----> 2\u001b[0m     predictions \u001b[38;5;241m=\u001b[39m np\u001b[38;5;241m.\u001b[39marray([\u001b[43mevaluate_program\u001b[49m\u001b[43m(\u001b[49m\u001b[43mprogram\u001b[49m\u001b[43m,\u001b[49m\u001b[43m \u001b[49m\u001b[43mx_row\u001b[49m\u001b[43m)\u001b[49m \u001b[38;5;28;01mfor\u001b[39;00m x_row \u001b[38;5;129;01min\u001b[39;00m x\u001b[38;5;241m.\u001b[39mT])\n\u001b[0;32m      3\u001b[0m     \u001b[38;5;28;01mreturn\u001b[39;00m \u001b[38;5;28mfloat\u001b[39m(\u001b[38;5;241m100\u001b[39m \u001b[38;5;241m*\u001b[39m np\u001b[38;5;241m.\u001b[39mmean(np\u001b[38;5;241m.\u001b[39msquare(predictions \u001b[38;5;241m-\u001b[39m y)))\n",
      "Cell \u001b[1;32mIn[37], line 10\u001b[0m, in \u001b[0;36mevaluate_program\u001b[1;34m(program, x)\u001b[0m\n\u001b[0;32m      8\u001b[0m \u001b[38;5;28;01melif\u001b[39;00m \u001b[38;5;28misinstance\u001b[39m(program, \u001b[38;5;28mlist\u001b[39m): \n\u001b[0;32m      9\u001b[0m     op \u001b[38;5;241m=\u001b[39m \u001b[38;5;28mnext\u001b[39m(op \u001b[38;5;28;01mfor\u001b[39;00m op, _, symbol \u001b[38;5;129;01min\u001b[39;00m OPERATIONS \u001b[38;5;28;01mif\u001b[39;00m symbol \u001b[38;5;241m==\u001b[39m program[\u001b[38;5;241m0\u001b[39m])\n\u001b[1;32m---> 10\u001b[0m     args \u001b[38;5;241m=\u001b[39m [\u001b[43mevaluate_program\u001b[49m\u001b[43m(\u001b[49m\u001b[43mchild\u001b[49m\u001b[43m,\u001b[49m\u001b[43m \u001b[49m\u001b[43mx\u001b[49m\u001b[43m)\u001b[49m \u001b[38;5;28;01mfor\u001b[39;00m child \u001b[38;5;129;01min\u001b[39;00m program[\u001b[38;5;241m1\u001b[39m:]]\n\u001b[0;32m     11\u001b[0m     \u001b[38;5;28;01mtry\u001b[39;00m:\n\u001b[0;32m     12\u001b[0m         \u001b[38;5;28;01mreturn\u001b[39;00m op(\u001b[38;5;241m*\u001b[39margs)\n",
      "Cell \u001b[1;32mIn[37], line 10\u001b[0m, in \u001b[0;36mevaluate_program\u001b[1;34m(program, x)\u001b[0m\n\u001b[0;32m      8\u001b[0m \u001b[38;5;28;01melif\u001b[39;00m \u001b[38;5;28misinstance\u001b[39m(program, \u001b[38;5;28mlist\u001b[39m): \n\u001b[0;32m      9\u001b[0m     op \u001b[38;5;241m=\u001b[39m \u001b[38;5;28mnext\u001b[39m(op \u001b[38;5;28;01mfor\u001b[39;00m op, _, symbol \u001b[38;5;129;01min\u001b[39;00m OPERATIONS \u001b[38;5;28;01mif\u001b[39;00m symbol \u001b[38;5;241m==\u001b[39m program[\u001b[38;5;241m0\u001b[39m])\n\u001b[1;32m---> 10\u001b[0m     args \u001b[38;5;241m=\u001b[39m [\u001b[43mevaluate_program\u001b[49m\u001b[43m(\u001b[49m\u001b[43mchild\u001b[49m\u001b[43m,\u001b[49m\u001b[43m \u001b[49m\u001b[43mx\u001b[49m\u001b[43m)\u001b[49m \u001b[38;5;28;01mfor\u001b[39;00m child \u001b[38;5;129;01min\u001b[39;00m program[\u001b[38;5;241m1\u001b[39m:]]\n\u001b[0;32m     11\u001b[0m     \u001b[38;5;28;01mtry\u001b[39;00m:\n\u001b[0;32m     12\u001b[0m         \u001b[38;5;28;01mreturn\u001b[39;00m op(\u001b[38;5;241m*\u001b[39margs)\n",
      "Cell \u001b[1;32mIn[37], line 10\u001b[0m, in \u001b[0;36mevaluate_program\u001b[1;34m(program, x)\u001b[0m\n\u001b[0;32m      8\u001b[0m \u001b[38;5;28;01melif\u001b[39;00m \u001b[38;5;28misinstance\u001b[39m(program, \u001b[38;5;28mlist\u001b[39m): \n\u001b[0;32m      9\u001b[0m     op \u001b[38;5;241m=\u001b[39m \u001b[38;5;28mnext\u001b[39m(op \u001b[38;5;28;01mfor\u001b[39;00m op, _, symbol \u001b[38;5;129;01min\u001b[39;00m OPERATIONS \u001b[38;5;28;01mif\u001b[39;00m symbol \u001b[38;5;241m==\u001b[39m program[\u001b[38;5;241m0\u001b[39m])\n\u001b[1;32m---> 10\u001b[0m     args \u001b[38;5;241m=\u001b[39m [\u001b[43mevaluate_program\u001b[49m\u001b[43m(\u001b[49m\u001b[43mchild\u001b[49m\u001b[43m,\u001b[49m\u001b[43m \u001b[49m\u001b[43mx\u001b[49m\u001b[43m)\u001b[49m \u001b[38;5;28;01mfor\u001b[39;00m child \u001b[38;5;129;01min\u001b[39;00m program[\u001b[38;5;241m1\u001b[39m:]]\n\u001b[0;32m     11\u001b[0m     \u001b[38;5;28;01mtry\u001b[39;00m:\n\u001b[0;32m     12\u001b[0m         \u001b[38;5;28;01mreturn\u001b[39;00m op(\u001b[38;5;241m*\u001b[39margs)\n",
      "Cell \u001b[1;32mIn[37], line 1\u001b[0m, in \u001b[0;36mevaluate_program\u001b[1;34m(program, x)\u001b[0m\n\u001b[1;32m----> 1\u001b[0m \u001b[38;5;28;01mdef\u001b[39;00m \u001b[38;5;21mevaluate_program\u001b[39m(program, x):\n\u001b[0;32m      2\u001b[0m     \u001b[38;5;28;01mif\u001b[39;00m \u001b[38;5;28misinstance\u001b[39m(program, \u001b[38;5;28mstr\u001b[39m):  \u001b[38;5;66;03m# Leaf node\u001b[39;00m\n\u001b[0;32m      3\u001b[0m         \u001b[38;5;66;03m#If it's a leaf, it could be a costant or a variable\u001b[39;00m\n\u001b[0;32m      4\u001b[0m         \u001b[38;5;28;01mif\u001b[39;00m program[\u001b[38;5;241m0\u001b[39m] \u001b[38;5;241m==\u001b[39m \u001b[38;5;124m'\u001b[39m\u001b[38;5;124mx\u001b[39m\u001b[38;5;124m'\u001b[39m:\n",
      "\u001b[1;31mKeyboardInterrupt\u001b[0m: "
     ]
    }
   ],
   "source": [
    "# Inizializza popolazione\n",
    "input_dim = x.shape[0]\n",
    "population = [Individual(genome=random_program(max_depth, input_dim)) for _ in range(population_size)]\n",
    "for i in population:\n",
    "    i.fitness=fitness_function(i.genome, x, y)\n",
    "\n",
    "print(population)\n",
    "\n",
    "# Loop principale per le generazioni\n",
    "def run_genetic_algorithm():\n",
    "    global population\n",
    "\n",
    "    for gen in range(generations):\n",
    "        population.sort(key=lambda i: i.fitness)\n",
    "        mse_to_print = mse(population[0].genome, x, y)\n",
    "\n",
    "        #break the cycle if you found the best solution you're able to find with training data\n",
    "        if(mse_to_print==0.0000): \n",
    "            np.seterr(all='warn')\n",
    "            print('Best program found with mse=0')\n",
    "            return population[0].genome\n",
    "\n",
    "        np.seterr(all='warn')\n",
    "        print(f\"Generazione {gen + 1}, miglior fitness: {mse_to_print:.6f}\")\n",
    "        #population is already sorted, so:\n",
    "        print(f\"Best formula: {program_to_string(population[0].genome)}\")\n",
    "        np.seterr(all='ignore')\n",
    "        \n",
    "        # Crea la nuova generazione\n",
    "        next_population = []\n",
    "\n",
    "        while len(next_population) < offspring_size:\n",
    "            if random() < p_crossover and len(population) > 200:\n",
    "                # Crossover\n",
    "                #With random choice is much faster than tournament selection\n",
    "                #Choose the best and the second best parent\n",
    "                parent1, parent2 = tournament_selection(population), tournament_selection(population)\n",
    "                child1, child2 = crossover(safe_copy(parent1), safe_copy(parent2))\n",
    "                \n",
    "                if random() < p_mutation:\n",
    "                    child1 = mutate(safe_copy(child1), input_dim)\n",
    "                if random() < p_mutation:\n",
    "                    child2 = mutate(safe_copy(child2), input_dim)\n",
    "                #let's add the new individuals:\n",
    "                next_population.append(Individual(genome=child1, fitness=fitness_function(child1, x, y)))\n",
    "                if len(next_population) < offspring_size:\n",
    "                    next_population.append(Individual(genome=child2, fitness=fitness_function(child2, x, y)))\n",
    "                if random() < tweak_probability and len(next_population) < offspring_size:\n",
    "                    new_ind = tweak_program_2(safe_copy(child1))\n",
    "                    next_population.append(Individual(genome=new_ind, fitness=fitness_function(new_ind, x, y)))\n",
    "                \n",
    "            else:\n",
    "                # Mutazione diretta di un genitore\n",
    "                #Use tournament selection also here, but only if there's enough material, otherwise random\n",
    "                if(len(population)>500):\n",
    "                    parent = tournament_selection(population)\n",
    "                else:\n",
    "                    parent = choice(population)\n",
    "                    parent = safe_copy(parent.genome)\n",
    "                mutant = mutate(safe_copy(parent), input_dim)\n",
    "                next_population.append(Individual(genome=mutant, fitness=fitness_function(mutant, x, y)))\n",
    "                    \n",
    "\n",
    "        # Combina elite e nuova generazione\n",
    "        #next_population.extend(elite)\n",
    "        population.extend(next_population)\n",
    "\n",
    "        # Rimuovi duplicati\n",
    "        unique_population = {}\n",
    "        for prog in next_population:\n",
    "            serialized = str(prog)\n",
    "            if serialized not in unique_population:\n",
    "                unique_population[serialized] = prog\n",
    "        \n",
    "        # Aggiorna la popolazione con individui unici\n",
    "        population = list(unique_population.values())\n",
    "        population.sort(key=lambda i: i.fitness)\n",
    "        population = population[:population_size]\n",
    "        for ind in population:\n",
    "            ind.fitness = fitness_function(ind.genome, x, y)\n",
    "\n",
    "    # Identifica il miglior programma\n",
    "    population.sort(key=lambda i: i.fitness)\n",
    "    best_program = population[0]\n",
    "    best_mse = mse(best_program.genome, x, y)\n",
    "\n",
    "    print(\"Miglior programma:\", best_program.genome, \"; Fitness:\", best_mse)\n",
    "    return best_program.genome\n",
    "\n",
    "best_program = run_genetic_algorithm()"
   ]
  },
  {
   "cell_type": "code",
   "execution_count": null,
   "metadata": {},
   "outputs": [
    {
     "data": {
      "text/plain": [
       "nan"
      ]
     },
     "execution_count": 30,
     "metadata": {},
     "output_type": "execute_result"
    }
   ],
   "source": [
    "mse(population[0].genome, x, y)"
   ]
  },
  {
   "cell_type": "code",
   "execution_count": null,
   "metadata": {},
   "outputs": [
    {
     "data": {
      "text/plain": [
       "inf"
      ]
     },
     "execution_count": 31,
     "metadata": {},
     "output_type": "execute_result"
    }
   ],
   "source": [
    "fitness_function(population[0].genome, x, y)"
   ]
  },
  {
   "cell_type": "code",
   "execution_count": null,
   "metadata": {},
   "outputs": [],
   "source": [
    "program_to_string(best_program)"
   ]
  }
 ],
 "metadata": {
  "kernelspec": {
   "display_name": "Python 3",
   "language": "python",
   "name": "python3"
  },
  "language_info": {
   "codemirror_mode": {
    "name": "ipython",
    "version": 3
   },
   "file_extension": ".py",
   "mimetype": "text/x-python",
   "name": "python",
   "nbconvert_exporter": "python",
   "pygments_lexer": "ipython3",
   "version": "3.12.6"
  }
 },
 "nbformat": 4,
 "nbformat_minor": 2
}
