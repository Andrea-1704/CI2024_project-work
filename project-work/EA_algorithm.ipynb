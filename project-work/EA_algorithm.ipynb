{
 "cells": [
  {
   "cell_type": "markdown",
   "metadata": {},
   "source": [
    "# Import"
   ]
  },
  {
   "cell_type": "code",
   "execution_count": 244,
   "metadata": {},
   "outputs": [],
   "source": [
    "import numpy as np\n",
    "from random import choice, choices, randint,random, uniform\n",
    "import copy\n",
    "from dataclasses import dataclass"
   ]
  },
  {
   "cell_type": "markdown",
   "metadata": {},
   "source": [
    "THINGS TO BE DONE:\n",
    "1. IMPROVE THE GENERATION OF RANDOM PROGRAMS, CURRENTLY SOME OF THEM HAVE A STRANGE FORM SUCH AS \n",
    "f(x)= (sin(x)-3)/(4+3)-> even if probably it could be useful to reproduce the multiplication by a float.\n",
    "1. MUTATION SHOULD WORK, BUT CAN BE IMPROVED;\n",
    "2. CHECK ON MAX_DEPTH TO BE IMPLEMENTED BOTH IN MUTATE AND IN CROSSOVER, IN RANDOM_PROGRAM THE DEPTH CANNOT BE MORE THAN 3, SO NO PROBLEM THERE\n"
   ]
  },
  {
   "cell_type": "markdown",
   "metadata": {},
   "source": [
    "# Operations"
   ]
  },
  {
   "cell_type": "code",
   "execution_count": 245,
   "metadata": {},
   "outputs": [],
   "source": [
    "#The depth of a tree cannot be greater than 10 OVERALL\n",
    "MAX_TREE_DEPTH = 10\n",
    "\n",
    "#Operations with 1 or 2 arguments divided\n",
    "#Add a field of probabilities: sum and subtraction should be more likely to be chosen\n",
    "OPERATIONS_BINARY = [\n",
    "    (np.add, 2, \"({} + {})\",0.13),\n",
    "    (np.subtract, 2, \"({} - {})\",0.13),\n",
    "    (np.divide, 2, \"({} / {})\",0.13),\n",
    "    (np.multiply, 2, \"({} * {})\",0.13),   \n",
    "]\n",
    "\n",
    "BINARY_WEIGHTS = [op[3] for op in OPERATIONS_BINARY]\n",
    "\n",
    "#In this way, also sin and cos cannot be nested within sqrt and exp, to be changed if needed\n",
    "OPERATIONS_UNARY = [\n",
    "    (np.sin, 1, \"sin({})\",0.13),\n",
    "    (np.cos, 1, \"cos({})\",0.13),\n",
    "    (np.tan, 1, \"tan({})\",0.1),\n",
    "    (np.exp, 1, \"exp({})\",0.03),\n",
    "    (np.log, 1, \"log({})\",0.03),\n",
    "    (np.sqrt, 1, \"sqrt({})\",0.03),\n",
    "    (np.square, 1, \"square({})\",0.03),\n",
    "]\n",
    "UNARY_WEIGHTS = [op[3] for op in OPERATIONS_UNARY]\n",
    "OPERATIONS = OPERATIONS_BINARY + OPERATIONS_UNARY\n",
    "WEIGHTS = BINARY_WEIGHTS + UNARY_WEIGHTS    \n"
   ]
  },
  {
   "cell_type": "markdown",
   "metadata": {},
   "source": [
    "# Genothype definition"
   ]
  },
  {
   "cell_type": "markdown",
   "metadata": {},
   "source": [
    "The recursive function we've developed is designed to create complex mathematical formulas in a structured format, where each formula is represented as a list: `[operator, first_operand, second_operand]`. This format allows the recursive and hierarchical organization of operations, facilitating the computational evaluation and manipulation of the formula.\n",
    "\n",
    "Key features of this function include:\n",
    "\n",
    "1. **Use of Input Dimensions:** The function uses a list, `used_indices`, to track which input dimensions (e.g., `0,1`, etc.) have been utilized in the formula. This ensures comprehensive coverage of all available input variables (if the depth make it possible), making the formula relevant to all dimensions of the input data.  \n",
    "\n",
    "2. **Restrictions on Trigonometric Functions:** To enhance the mathematical sensibility of the formulas generated, the function includes a specific constraint regarding the nesting of trigonometric functions. Once a trigonometric function (such as `sin`, `cos`, etc.) is used, the function prohibits the inclusion of another trigonometric function within it. This constraint helps in preventing mathematically nonsensical expressions like `sin(cos(tan(x)))`, which, while computationally valid, may not be practically meaningful or may complicate the interpretation and analysis of the formula.\n",
    "\n",
    "This approach not only ensures that each formula is robust and contextually appropriate but also maintains clarity and reduces the computational redundancy that might arise from nested trigonometric operations. Such constraints are particularly important in scientific computing and simulations where the accuracy and interpretability of mathematical expressions are critical.\n"
   ]
  },
  {
   "cell_type": "code",
   "execution_count": 246,
   "metadata": {},
   "outputs": [],
   "source": [
    "#Here a random program is generated, taking into account the dimensions of the input already used\n",
    "#Make the initial depth hgìigher to ensure that all the dimensions are considered\n",
    "from random import choices\n",
    "\n",
    "\n",
    "def random_program(depth,input_dim,unary=False, used_indices=None):\n",
    "    if used_indices is None:\n",
    "        used_indices = set()\n",
    "\n",
    "    # Base case: generate a leaf node\n",
    "    if depth == 0 or (random()<0.3):\n",
    "        if len(used_indices) < input_dim:\n",
    "            # Ensure that all indices are used at least once\n",
    "            available_indices = list(set(range(input_dim)) - used_indices)\n",
    "            index = choice(available_indices)\n",
    "            used_indices.add(index)\n",
    "            return f\"x[{index}]\", used_indices\n",
    "        else:\n",
    "            # Once all indices are used, place a costant. Or do we also consider to place a variable twice?\n",
    "            return str(randint(2, 10)), used_indices\n",
    "           \n",
    "    # Recursive case: generate an inner node without starting composing too much trigonometric functions\n",
    "    #Last condition in end is done in order not to place twice a variable\n",
    "    if(depth<=1 and not unary and len(used_indices)!=input_dim):\n",
    "        operations = OPERATIONS\n",
    "        weights = WEIGHTS\n",
    "    else:\n",
    "        operations = OPERATIONS_BINARY\n",
    "        weights = BINARY_WEIGHTS\n",
    "    op, arity, symbol,p = choices(operations,weights=weights, k=1)[0]\n",
    "    if(unary != True):\n",
    "        unary = arity==1\n",
    "    children = []\n",
    "    for _ in range(arity):\n",
    "        child, used_indices = random_program(depth - 1, input_dim, unary, used_indices)\n",
    "        children.append(child)\n",
    "    return [symbol] + children,used_indices"
   ]
  },
  {
   "cell_type": "code",
   "execution_count": 247,
   "metadata": {},
   "outputs": [],
   "source": [
    "#It takes the input dimension and generates a program for each dimension\n",
    "#Concatenates the programs together through a binary operation\n",
    "def generate_program(input_dim):\n",
    "    programs = []\n",
    "    for i in range(input_dim):\n",
    "        used_indices_local = set()\n",
    "        used_indices_local = set(range(input_dim)) - {i}\n",
    "        program = random_program(2, input_dim,used_indices=used_indices_local)[0]\n",
    "        programs.append(program)\n",
    "    #Combine programs together through a binary operation\n",
    "    program = programs[0]\n",
    "    for i in range(1,input_dim):\n",
    "        op, arity, symbol,p = choices(OPERATIONS_BINARY,weights=BINARY_WEIGHTS, k=1)[0]\n",
    "        program = [symbol] + [program, programs[i]]\n",
    "    return program\n"
   ]
  },
  {
   "cell_type": "markdown",
   "metadata": {},
   "source": [
    "## Individual"
   ]
  },
  {
   "cell_type": "markdown",
   "metadata": {},
   "source": [
    "We developed a dataclass to store the fitness value of each individual. This will allow us to avoid to recompute the fitness function for the same individual."
   ]
  },
  {
   "cell_type": "code",
   "execution_count": 248,
   "metadata": {},
   "outputs": [],
   "source": [
    "@dataclass\n",
    "class Individual:\n",
    "    genome: list\n",
    "    fitness : float = None"
   ]
  },
  {
   "cell_type": "markdown",
   "metadata": {},
   "source": [
    "## Transform the program into a human readable function"
   ]
  },
  {
   "cell_type": "code",
   "execution_count": 249,
   "metadata": {},
   "outputs": [],
   "source": [
    "def program_to_string(program):\n",
    "    if isinstance(program, str):  # leaf\n",
    "        return program  \n",
    "    elif isinstance(program, list):  \n",
    "        try:\n",
    "            _, _, symbol = next((op, arity, s) for op, arity, s,p in OPERATIONS if s == program[0])\n",
    "        except StopIteration:\n",
    "            raise ValueError(f\"Not known operation: {program[0]}\")\n",
    "        \n",
    "        children = [program_to_string(child) for child in program[1:]]\n",
    "        \n",
    "        return symbol.format(*children)\n"
   ]
  },
  {
   "cell_type": "code",
   "execution_count": 250,
   "metadata": {},
   "outputs": [
    {
     "name": "stdout",
     "output_type": "stream",
     "text": [
      "(x[0] + x[1])\n"
     ]
    }
   ],
   "source": [
    "print(program_to_string(generate_program(2)))"
   ]
  },
  {
   "cell_type": "markdown",
   "metadata": {},
   "source": [
    "Now we need a function that given the genotype provide us with the output provided by the predicted function. This function must receive the input vector to perform his operation."
   ]
  },
  {
   "cell_type": "code",
   "execution_count": 251,
   "metadata": {},
   "outputs": [],
   "source": [
    "def evaluate_program(program, x):\n",
    "    if isinstance(program, str):  # Leaf node\n",
    "        #If it's a leaf, it could be a costant or a variable\n",
    "        if program[0] == 'x':\n",
    "            return x[int(program[2:-1])]\n",
    "        else:\n",
    "            return float(program)\n",
    "    elif isinstance(program, list): \n",
    "        op = next(op for op, _, symbol,p in OPERATIONS if symbol == program[0])\n",
    "        args = [evaluate_program(child, x) for child in program[1:]]\n",
    "        try:\n",
    "            return op(*args)\n",
    "        except ZeroDivisionError:\n",
    "            return np.inf"
   ]
  },
  {
   "cell_type": "markdown",
   "metadata": {},
   "source": [
    "As you may notice this function verify with the function __isinstance(element, type)__ if \"element\" is an instance of the \"type\", with the objective of understanding if it is a __leaf node__. If this is the case we simply extract the value out of it, otherwise we still need to invoke the function recursively."
   ]
  },
  {
   "cell_type": "markdown",
   "metadata": {},
   "source": [
    "## Fitness function"
   ]
  },
  {
   "cell_type": "markdown",
   "metadata": {},
   "source": [
    "The fitness function of a solution should consider the mean square error compared to the expected results and the \"complexity\" of is formulation in order to prefer simpler equations."
   ]
  },
  {
   "cell_type": "code",
   "execution_count": 252,
   "metadata": {},
   "outputs": [],
   "source": [
    "def mse(program, x, y):\n",
    "    predictions = np.array([evaluate_program(program, x_row) for x_row in x.T])\n",
    "    return float(100 * np.mean(np.square(predictions - y)))"
   ]
  },
  {
   "cell_type": "code",
   "execution_count": 253,
   "metadata": {},
   "outputs": [],
   "source": [
    "#Compute the depth of a program\n",
    "def depth(program):\n",
    "    if isinstance(program, str):\n",
    "        return 1\n",
    "    elif isinstance(program, list):\n",
    "        return 1 + max(depth(child) for child in program[1:])"
   ]
  },
  {
   "cell_type": "code",
   "execution_count": 254,
   "metadata": {},
   "outputs": [],
   "source": [
    "# Funzione di fitness avanzata ispirata a deep_based_FGP_NLS.py\n",
    "import math\n",
    "\n",
    "\n",
    "def fitness_function(program, x, y):\n",
    "    \"\"\"\n",
    "    Valuta la fitness di un programma.\n",
    "    \"\"\"\n",
    "    try:\n",
    "        # Valutazione del programma\n",
    "        predictions = np.array([evaluate_program(program, x_row) for x_row in x.T])\n",
    "        if np.any(np.isnan(predictions)) or np.any(np.isinf(predictions)):\n",
    "            return np.inf  # Penalizza programmi invalidi\n",
    "\n",
    "        # Calcolo dell'errore\n",
    "        #error = np.mean((predictions - y) ** 2)  # Errore quadratico medio\n",
    "        error = mse(program, x, y)\n",
    "        if not math.isfinite(error):\n",
    "            return np.inf\n",
    "\n",
    "        # How to evaluate the complexity of a program?\n",
    "        #It has to be related to the fitness computed\n",
    "        complexity_penalty = depth(program) * 0.01  #*error Multiplied by error, it could not be a general scale, it's problem dependant\n",
    "        fitness = error + complexity_penalty\n",
    "\n",
    "    except Exception as e:\n",
    "        # Penalizza programmi che generano errori\n",
    "        print(f\"Errore nella valutazione del programma: {e}\")\n",
    "        return np.inf\n",
    "\n",
    "    return fitness"
   ]
  },
  {
   "cell_type": "code",
   "execution_count": 255,
   "metadata": {},
   "outputs": [
    {
     "name": "stdout",
     "output_type": "stream",
     "text": [
      "(x[0] - (sin(x[1]) - 2))\n"
     ]
    }
   ],
   "source": [
    "print(program_to_string(generate_program(2)))"
   ]
  },
  {
   "cell_type": "markdown",
   "metadata": {},
   "source": [
    "## Tweak function"
   ]
  },
  {
   "cell_type": "markdown",
   "metadata": {},
   "source": [
    "There is a lot of __variability__ that has to be considered for the tweak function. We can now imagine to implement a recursive function that receives the program (which indicates the current function that we are using for the task), the number of dimensions for the input and the maximum depth allowed for the tweaked solution.\n",
    "\n",
    "Recursively, if we end up into a leaf node, or if the current solution is still a list but with 0.3 probability, we simply generate a new sub-program.\n",
    "\n",
    "Otherwise, we simply invoke the same function for a random index."
   ]
  },
  {
   "cell_type": "code",
   "execution_count": 256,
   "metadata": {},
   "outputs": [],
   "source": [
    "def mutate_program(program, input_dim, depth=3):\n",
    "    if random() < 0.3 or not isinstance(program, list):  \n",
    "        return random_program(depth, input_dim)[0]\n",
    "    idx = randint(1, len(program) - 1)\n",
    "    program[idx] = mutate_program(program[idx], input_dim, depth - 1)\n",
    "    return program"
   ]
  },
  {
   "cell_type": "markdown",
   "metadata": {},
   "source": [
    "Other function (FIGP based)"
   ]
  },
  {
   "cell_type": "code",
   "execution_count": 257,
   "metadata": {},
   "outputs": [],
   "source": [
    "def mutate_program(program, input_dim, max_depth=3):\n",
    "    \"\"\"Mutazione per rimpiazzare un sottoalbero casuale.\"\"\"\n",
    "    mutant = copy.deepcopy(program)\n",
    "    \n",
    "    def get_subtree_points(prog):\n",
    "        return [i for i, node in enumerate(prog) if isinstance(node, list)]\n",
    "    \n",
    "    points = get_subtree_points(mutant)\n",
    "    if not points:\n",
    "        return random_program(max_depth, input_dim)[0]  # Genera nuovo programma\n",
    "    \n",
    "    point = choice(points)\n",
    "    new_subtree = random_program(randint(1, max_depth), input_dim)[0]  # Nuovo sottoalbero\n",
    "    mutant[point] = new_subtree\n",
    "    \n",
    "    return mutant\n"
   ]
  },
  {
   "cell_type": "code",
   "execution_count": 258,
   "metadata": {},
   "outputs": [],
   "source": [
    "#Functions to find all the subtree recursively and to access them \n",
    "def get_subtree_points_recursive(prog, path='', index=0, result=None):\n",
    "    if result is None:\n",
    "        result = []\n",
    "    # Se l'elemento corrente è una lista e contiene sottoalberi, registrarlo\n",
    "    if isinstance(prog, list) and len(prog) > 1:  # Assicurati che non sia una lista vuota o singolo elemento\n",
    "        if path:\n",
    "            result.append(path)\n",
    "        for i, node in enumerate(prog):\n",
    "            if isinstance(node, list):  # Se il nodo è una lista, esplorarlo ulteriormente\n",
    "                new_path = f\"{path}[{i}]\" if path else f\"[{i}]\"\n",
    "                get_subtree_points_recursive(node, new_path, i, result)\n",
    "    return result\n",
    "def access_node_by_path(prog, path):\n",
    "    # Rimuove i caratteri non necessari e suddivide il percorso in indici interi\n",
    "    indices = [int(p.strip('][')) for p in path.split('][') if p]\n",
    "    current = prog\n",
    "    for index in indices:\n",
    "        current = current[index]\n",
    "    return current\n",
    "\n",
    "#Returns a set of integers representing the indices of the variables in the program\n",
    "def find_variable_indices(node, result=None):\n",
    "    if result is None:\n",
    "        result = set()\n",
    "\n",
    "    # Verifica se il nodo è una lista e procedi ricorsivamente\n",
    "    if isinstance(node, list):\n",
    "        for child in node:\n",
    "            find_variable_indices(child, result)\n",
    "    # Altrimenti, controlla se è una variabile e raccogli l'indice\n",
    "    elif isinstance(node, str) and node.startswith('x['):\n",
    "        result.add(int(node[2:-1]))\n",
    "\n",
    "    return result\n",
    "\n",
    "def set_subtree_at_path(program, path, new_subtree):\n",
    "    \"\"\"Imposta il nuovo sottoalbero al percorso specificato all'interno del programma.\"\"\"\n",
    "    if path == '':\n",
    "        return new_subtree\n",
    "    current = program\n",
    "    indices = [int(x) for x in path.strip('][').split('][')]\n",
    "    for i in indices[:-1]:  # Vai fino al genitore del nodo finale\n",
    "        current = current[i]\n",
    "    current[indices[-1]] = new_subtree  # Sostituisci il sottoalbero\n",
    "    return program\n",
    "#given a program, a path and an operation, swap the operation in that point\n",
    "def swap_operation_at_path(program, path, new_op):\n",
    "    \"\"\"Sostituisce l'operazione al percorso specificato all'interno del programma.\"\"\"\n",
    "    current = program\n",
    "    indices = [int(x) for x in path.strip('][').split('][')]\n",
    "    for i in indices[:-1]:  # Vai fino al genitore del nodo finale\n",
    "        current = current[i]\n",
    "    if isinstance(current[indices[-1]], list):  # Assicurati che il target sia una lista (sottoalbero)\n",
    "        current[indices[-1]][0] = new_op  # Sostituisci solo l'operazione, non l'intero sottoalbero\n",
    "    return program\n",
    "\n"
   ]
  },
  {
   "cell_type": "markdown",
   "metadata": {},
   "source": [
    "Other function (FIGP based)"
   ]
  },
  {
   "cell_type": "markdown",
   "metadata": {},
   "source": [
    "The idea of the mutation is that recursively finds all the subtree of the tree. Casually select one of them. It checks which variables were in that subtree and generates a new tree containing the same variables to be added at that place: it ensures that we always consider all the dimensions of the input. \n",
    "To be done: mantain the depth under MAX_DEPTH and, with a certain probability, only swap operation between two trees instead of mutating the entire subtree, or do both of them (it happens sometimes)"
   ]
  },
  {
   "cell_type": "code",
   "execution_count": 259,
   "metadata": {},
   "outputs": [],
   "source": [
    "def mutate(program, input_dim, max_depth=3):\n",
    "    \"\"\"Mutazione di un programma.\"\"\"\n",
    "    mutant = copy.deepcopy(program)\n",
    "\n",
    "    points = get_subtree_points_recursive(program)\n",
    "    if not points:\n",
    "        return generate_program(input_dim)\n",
    "\n",
    "    point = choice(points)\n",
    "    subtree = access_node_by_path(mutant, point)\n",
    "    \n",
    "    variable_set = find_variable_indices(subtree)\n",
    "    \n",
    "    variables = set(range(input_dim))-variable_set\n",
    "    \n",
    "    new_subtree = []\n",
    "    if(len(variable_set)==0):\n",
    "        return generate_program(input_dim)\n",
    "    elif(len(variable_set)==1):\n",
    "        new_subtree = random_program(1, input_dim,False,variables)[0]\n",
    "    else:\n",
    "        new_subtree = random_program(max_depth, input_dim,False,variables)[0]\n",
    "    mutant = set_subtree_at_path(mutant, point, new_subtree)\n",
    "    if(random()<0.4):\n",
    "            points = get_subtree_points_recursive(mutant)\n",
    "            if not points:\n",
    "                return mutant\n",
    "            point = choice(points)\n",
    "            #Randomly choose a binary operation\n",
    "            op, arity, symbol,p = choices(OPERATIONS_BINARY,weights=BINARY_WEIGHTS, k=1)[0]\n",
    "            if(len(access_node_by_path(mutant, point)) == 3):\n",
    "                mutant = swap_operation_at_path(mutant, point, symbol)\n",
    "\n",
    "    return mutant"
   ]
  },
  {
   "cell_type": "code",
   "execution_count": 260,
   "metadata": {},
   "outputs": [
    {
     "name": "stdout",
     "output_type": "stream",
     "text": [
      "(((x[0] + 4) + (8 - 5)) + (sqrt(x[1]) + 9))\n",
      "(((x[0] + 4) + (8 - 5)) + square(x[1]))\n"
     ]
    }
   ],
   "source": [
    "prog = generate_program(2)\n",
    "print(program_to_string(prog))\n",
    "mutated = mutate(prog, 2)\n",
    "print(program_to_string(mutated))"
   ]
  },
  {
   "cell_type": "markdown",
   "metadata": {},
   "source": [
    "## Crossover"
   ]
  },
  {
   "cell_type": "markdown",
   "metadata": {},
   "source": [
    "We can use a croossover function that receives only 2 parents and, if one of them is a leaf program simply return casually one of the 2 programs (avoiding to perform the operation for programs with no childrens). Otherwise, select random indexes for both the parents and combine the first part of the tree with the second part of the tree of the 2 parents, returning a new individual."
   ]
  },
  {
   "cell_type": "code",
   "execution_count": 261,
   "metadata": {},
   "outputs": [],
   "source": [
    "def crossover(parent1, parent2, max_depth=3):\n",
    "    \"\"\"Crossover tra due programmi.\"\"\"\n",
    "    child1, child2 = copy.deepcopy(parent1), copy.deepcopy(parent2)\n",
    "\n",
    "    if len(parent1) < 2 or len(parent2) < 2:\n",
    "        return parent1, parent2  # Evita crossover se i programmi sono troppo piccoli\n",
    "\n",
    "    # Punti di crossover validi\n",
    "    def get_subtree_points(prog):\n",
    "        return [i for i, node in enumerate(prog) if isinstance(node, list)]\n",
    "\n",
    "    points1 = get_subtree_points(parent1)\n",
    "    points2 = get_subtree_points(parent2)\n",
    "\n",
    "    if not points1 or not points2:\n",
    "        return parent1, parent2  # Nessun punto valido per il crossover\n",
    "\n",
    "    point1 = choice(points1)\n",
    "    point2 = choice(points2)\n",
    "\n",
    "    # Scambia i sottoalberi\n",
    "    subtree1 = parent1[point1]\n",
    "    subtree2 = parent2[point2]\n",
    "\n",
    "    child1[point1], child2[point2] = subtree2, subtree1\n",
    "\n",
    "    return child1, child2"
   ]
  },
  {
   "cell_type": "markdown",
   "metadata": {},
   "source": [
    "New crossover function that tries to swap two sub-trees only if they uses the same set of variables (to ensure that the result will actually contain each component of the input variable exactly once)."
   ]
  },
  {
   "cell_type": "code",
   "execution_count": 262,
   "metadata": {},
   "outputs": [],
   "source": [
    "import copy\n",
    "from random import choice\n",
    "\n",
    "def check_depth(subtree, max_depth):\n",
    "    \"\"\" Verifica se la profondità del sottoalbero supera max_depth. \"\"\"\n",
    "    def depth(tree, current_depth):\n",
    "        if not isinstance(tree, list) or not tree:\n",
    "            return current_depth\n",
    "        return max(depth(child, current_depth + 1) for child in tree)\n",
    "    return depth(subtree, 0) <= max_depth\n",
    "\n",
    "def crossover(parent1, parent2, max_depth,input_dim):\n",
    "    \"\"\" Crossover a singolo punto tra due programmi con controllo della profondità e variabili. \"\"\"\n",
    "    child1, child2 = copy.deepcopy(parent1), copy.deepcopy(parent2)\n",
    "    \n",
    "    points1 = get_subtree_points_recursive(child1)\n",
    "    points2 = get_subtree_points_recursive(child2)\n",
    "    \n",
    "    if not points1 or not points2:\n",
    "        return generate_program(input_dim), generate_program(input_dim)  \n",
    "    \n",
    "    valid = False\n",
    "    attempts = 0\n",
    "    while not valid and attempts < 100:  # Limita il numero di tentativi per evitare loop infiniti\n",
    "        point1 = choice(points1)\n",
    "        point2 = choice(points2)\n",
    "\n",
    "        subtree1 = access_node_by_path(child1, point1)\n",
    "        subtree2 = access_node_by_path(child2, point2)\n",
    "\n",
    "        variable_set_1 = find_variable_indices(subtree1)\n",
    "        variable_set_2 = find_variable_indices(subtree2)\n",
    "        # Verifica se i sottoalberi possono essere scambiati rispetto a variabili e profondità\n",
    "        if (set(find_variable_indices(subtree1)) == set(find_variable_indices(subtree2)) and\n",
    "            len(variable_set_1)==input_dim and\n",
    "            check_depth(subtree1, max_depth) and check_depth(subtree2, max_depth)):\n",
    "            valid = True\n",
    "        attempts += 1\n",
    "\n",
    "    if valid:\n",
    "        child1 = set_subtree_at_path(child1, point1, subtree2)\n",
    "        child2 = set_subtree_at_path(child2, point2, subtree1)\n",
    "\n",
    "    return child1, child2\n"
   ]
  },
  {
   "cell_type": "markdown",
   "metadata": {},
   "source": [
    "## Genetic algorithm"
   ]
  },
  {
   "cell_type": "markdown",
   "metadata": {},
   "source": [
    "### Data loading"
   ]
  },
  {
   "cell_type": "code",
   "execution_count": 263,
   "metadata": {},
   "outputs": [
    {
     "name": "stdout",
     "output_type": "stream",
     "text": [
      "(2, 5000)\n",
      "(5000,)\n"
     ]
    }
   ],
   "source": [
    "#load the problem with problem_X, for X that goes from 0 to 8\n",
    "problem = np.load('data/problem_4.npz')\n",
    "x = problem['x']\n",
    "y = problem['y']\n",
    "print(x.shape)\n",
    "print(y.shape)"
   ]
  },
  {
   "cell_type": "markdown",
   "metadata": {},
   "source": [
    "## Tournament selection for parents, tau set to 20"
   ]
  },
  {
   "cell_type": "code",
   "execution_count": 264,
   "metadata": {},
   "outputs": [],
   "source": [
    "#The professor said that fitness hole could work in this case->implemented\n",
    "#Returning the worst one with a low probability, otherwise the best one\n",
    "def tournament_selection(population,tau=20):\n",
    "    tau = min(tau, len(population)) #not needed in theory\n",
    "    tournament_indices = np.random.choice(len(population), tau, replace=False)\n",
    "\n",
    "    considered_individuals = []\n",
    "    for index in tournament_indices:\n",
    "        considered_individuals.append(population[index])\n",
    "    considered_individuals.sort(key=lambda i: i.fitness)\n",
    "    if random() < 0.9:\n",
    "        winner = considered_individuals[0].genome\n",
    "    else:\n",
    "        #Select one among the second and the worst\n",
    "        winner = considered_individuals[randint(1,len(considered_individuals)-1)].genome\n",
    "    return winner\n"
   ]
  },
  {
   "cell_type": "markdown",
   "metadata": {},
   "source": [
    "## Simulated annealing"
   ]
  },
  {
   "cell_type": "code",
   "execution_count": 265,
   "metadata": {},
   "outputs": [],
   "source": [
    "import math\n",
    "\n",
    "\n",
    "def simulated_annealing(initial_program, x, y, max_iterations=500, initial_temperature=100, cooling_rate=0.95):\n",
    "    \n",
    "    # Programma corrente e relativa fitness\n",
    "    current_program = initial_program\n",
    "    current_fitness = fitness_function(current_program, x, y)\n",
    "    \n",
    "    # Memorizza il miglior programma trovato\n",
    "    best_program = current_program\n",
    "    best_fitness = current_fitness\n",
    "    \n",
    "    # Inizializza la temperatura\n",
    "    temperature = initial_temperature\n",
    "    \n",
    "    for iteration in range(max_iterations):\n",
    "        # Crea un programma candidato con una mutazione\n",
    "        candidate_program = mutate_program(current_program, x.shape[0])\n",
    "        candidate_fitness = fitness_function(candidate_program, x, y)\n",
    "        \n",
    "        # Calcola la variazione di fitness\n",
    "        fitness_delta = candidate_fitness - current_fitness\n",
    "        \n",
    "        # Accetta il nuovo programma se migliora o con probabilità decrescente\n",
    "        if fitness_delta < 0 or random() < math.exp(-fitness_delta / temperature):\n",
    "            current_program = candidate_program\n",
    "            current_fitness = candidate_fitness\n",
    "            \n",
    "            # Aggiorna il miglior programma trovato\n",
    "            if current_fitness < best_fitness:\n",
    "                best_program = current_program\n",
    "                best_fitness = current_fitness\n",
    "        \n",
    "        # Riduci la temperatura\n",
    "        temperature *= cooling_rate\n",
    "        \n",
    "        # Interrompi se la temperatura è troppo bassa\n",
    "        if temperature < 1e-3:\n",
    "            break\n",
    "    \n",
    "    return best_program"
   ]
  },
  {
   "cell_type": "markdown",
   "metadata": {},
   "source": [
    "## Parameters"
   ]
  },
  {
   "cell_type": "code",
   "execution_count": 266,
   "metadata": {},
   "outputs": [],
   "source": [
    "# Parametri del GP\n",
    "generations = 200\n",
    "population_size = 1000\n",
    "p_crossover = 0.6\n",
    "p_mutation = 0.4\n",
    "tweak_probability = 0.2\n",
    "max_depth = 2 \n",
    "elite_size = 10\n",
    "offspring_size = population_size # Numero di discendenti generati per generazione"
   ]
  },
  {
   "cell_type": "markdown",
   "metadata": {},
   "source": [
    "Let's create a new tweak function that is able to tweak a program by adding an unary operation in leaf nodes (if it not a constant value)."
   ]
  },
  {
   "cell_type": "code",
   "execution_count": 267,
   "metadata": {},
   "outputs": [],
   "source": [
    "def tweak_program_2(program):\n",
    "    \"\"\"\n",
    "    Modifica un sottoalbero del programma aggiungendo un operatore unario\n",
    "    su una foglia, con una certa probabilità.\n",
    "    \"\"\"\n",
    "    # Trova tutte le foglie del programma\n",
    "    def get_leaf_indices(node, path=()):\n",
    "        if isinstance(node, str) or isinstance(node, (int, float)):\n",
    "            # Nodo foglia (variabile o costante)\n",
    "            return [path]\n",
    "        elif isinstance(node, list) and len(node) > 1:\n",
    "            # Nodo non foglia valido: esplora ricorsivamente i figli\n",
    "            indices = []\n",
    "            for i, child in enumerate(node[1:], start=1):\n",
    "                indices.extend(get_leaf_indices(child, path + (i,)))\n",
    "            return indices\n",
    "        return []\n",
    "    \n",
    "    # Ottieni tutte le foglie del programma\n",
    "    leaf_indices = get_leaf_indices(program)\n",
    "    if not leaf_indices:\n",
    "        return program  # Nessuna modifica possibile\n",
    "\n",
    "    # Seleziona casualmente una foglia\n",
    "    selected_leaf_path = choice(leaf_indices)\n",
    "    \n",
    "    # Verifica che il percorso selezionato sia valido\n",
    "    if not selected_leaf_path:\n",
    "        return program  # Nessuna modifica possibile\n",
    "\n",
    "    # Accedi alla foglia selezionata\n",
    "    node = program\n",
    "    for idx in selected_leaf_path[:-1]:\n",
    "        node = node[idx]\n",
    "\n",
    "    # Verifica che il nodo sia valido prima di modificare\n",
    "    if isinstance(node, list) and len(selected_leaf_path) > 0:\n",
    "        leaf = node[selected_leaf_path[-1]]\n",
    "        # Modifica la foglia con un operatore unario\n",
    "        if isinstance(leaf, str) and leaf.startswith(\"x\"):  # Se è una variabile\n",
    "            unary_operator = choice([\"sin({})\", \"cos({})\", \"tan({})\", \"log({})\", \"sqrt({})\"])\n",
    "            node[selected_leaf_path[-1]] = [unary_operator, leaf]\n",
    "    \n",
    "    return program\n"
   ]
  },
  {
   "cell_type": "code",
   "execution_count": 268,
   "metadata": {},
   "outputs": [],
   "source": [
    "import copy\n",
    "def safe_copy(obj):\n",
    "    if isinstance(obj, list):\n",
    "        return copy.deepcopy(obj)  # Copia superficiale per liste\n",
    "    elif isinstance(obj, str):\n",
    "        return obj  # Le stringhe sono immutabili, restituisci direttamente\n",
    "    else:\n",
    "        raise TypeError(\"Tipo non supportato: solo stringhe o liste sono consentite.\")"
   ]
  },
  {
   "cell_type": "markdown",
   "metadata": {},
   "source": [
    "Different EA aproach:\n",
    "1. In this version we always include the elite inside the next generation as a first step\n",
    "2. We extend population with the new population (resulting in having elites twice)\n",
    "3. We take only the distinct individuals\n",
    "4. We mantain inside the population only the population_size best individuals."
   ]
  },
  {
   "cell_type": "code",
   "execution_count": null,
   "metadata": {},
   "outputs": [
    {
     "name": "stdout",
     "output_type": "stream",
     "text": [
      "Generazione 1, miglior fitness: 2376.766413\n",
      "Best formula: ((cos(x[0]) - (10 + 10)) / (x[1] - (5 + 4)))\n",
      "Generazione 2, miglior fitness: 2372.427511\n",
      "Best formula: ((sin(x[0]) - (10 + 10)) / (x[1] - (5 + 4)))\n"
     ]
    }
   ],
   "source": [
    "# Inizializza popolazione\n",
    "np.seterr(all='ignore')\n",
    "input_dim = x.shape[0]\n",
    "population = [Individual(genome=generate_program(input_dim)) for _ in range(population_size)]\n",
    "for i in population:\n",
    "    i.fitness=fitness_function(i.genome, x, y)\n",
    "# Loop principale per le generazioni\n",
    "def run_genetic_algorithm():\n",
    "    global population\n",
    "\n",
    "    for gen in range(generations):\n",
    "        population.sort(key=lambda i: i.fitness)\n",
    "        mse_to_print = mse(population[0].genome, x, y)\n",
    "        \n",
    "        #break the cycle if you found the best solution you're able to find with training data\n",
    "        if(mse_to_print==0.0000): \n",
    "            np.seterr(all='warn')\n",
    "            print('Best program found with mse=0')\n",
    "            return population[0].genome\n",
    "\n",
    "        np.seterr(all='warn')\n",
    "        print(f\"Generazione {gen + 1}, miglior fitness: {mse_to_print:.6f}\")\n",
    "        #population is already sorted, so:\n",
    "        print(f\"Best formula: {program_to_string(population[0].genome)}\")\n",
    "        np.seterr(all='ignore')\n",
    "        \n",
    "        # Crea la nuova generazione\n",
    "        next_population = []\n",
    "        next_population.extend(population[:elite_size])  # Mantieni i migliori individui\n",
    "\n",
    "        while len(next_population) < offspring_size:\n",
    "            if random() < p_crossover:\n",
    "                # Crossover\n",
    "                #With random choice is much faster than tournament selection\n",
    "                #Choose the best and the second best parent\n",
    "                parent1, parent2 = tournament_selection(population), tournament_selection(population)\n",
    "                child1, child2 = crossover(safe_copy(parent1), safe_copy(parent2),max_depth,input_dim)\n",
    "                \n",
    "                if random() < p_mutation:\n",
    "                    child1 = mutate(safe_copy(child1), input_dim)\n",
    "                if random() < p_mutation:\n",
    "                    child2 = mutate(safe_copy(child2), input_dim)\n",
    "                #let's add the new individuals:\n",
    "                next_population.append(Individual(genome=child1, fitness=fitness_function(child1, x, y)))\n",
    "                if len(next_population) < offspring_size:\n",
    "                    next_population.append(Individual(genome=child2, fitness=fitness_function(child2, x, y)))\n",
    "                if random() < tweak_probability and len(next_population) < offspring_size:\n",
    "                    new_ind = tweak_program_2(safe_copy(child1))\n",
    "                    next_population.append(Individual(genome=new_ind, fitness=fitness_function(new_ind, x, y)))\n",
    "            else:\n",
    "                # Mutate directly a parent\n",
    "                parent = tournament_selection(population)\n",
    "                mutant = mutate(safe_copy(parent), input_dim)\n",
    "                next_population.append(Individual(genome=mutant, fitness=fitness_function(mutant, x, y)))\n",
    "                    \n",
    "        # the new population is the one generated in the offspring\n",
    "        population.extend(next_population)\n",
    "\n",
    "        # Remove duplicates\n",
    "        unique_population = {}\n",
    "        for prog in population:\n",
    "            serialized = str(prog)\n",
    "            if serialized not in unique_population:\n",
    "                unique_population[serialized] = prog\n",
    "        \n",
    "        # update fitness of the new population\n",
    "        population = list(unique_population.values())\n",
    "        \n",
    "        population.sort(key=lambda i: i.fitness)\n",
    "        population = population[:population_size]\n",
    "        # for ind in population:\n",
    "        #     ind.fitness = fitness_function(ind.genome, x, y)\n",
    "\n",
    "    # Identify the best program\n",
    "    population.sort(key=lambda i: i.fitness)\n",
    "    best_program = population[0]\n",
    "    best_mse = mse(best_program.genome, x, y)\n",
    "\n",
    "    print(\"Miglior programma:\", best_program.genome, \"; Fitness:\", best_mse)\n",
    "    return best_program.genome\n",
    "\n",
    "best_program = run_genetic_algorithm()"
   ]
  },
  {
   "cell_type": "code",
   "execution_count": 154,
   "metadata": {},
   "outputs": [
    {
     "data": {
      "text/plain": [
       "'(x[0] + (sin(x[1]) / 5))'"
      ]
     },
     "execution_count": 154,
     "metadata": {},
     "output_type": "execute_result"
    }
   ],
   "source": [
    "program_to_string(best_program)"
   ]
  }
 ],
 "metadata": {
  "kernelspec": {
   "display_name": "Python 3",
   "language": "python",
   "name": "python3"
  },
  "language_info": {
   "codemirror_mode": {
    "name": "ipython",
    "version": 3
   },
   "file_extension": ".py",
   "mimetype": "text/x-python",
   "name": "python",
   "nbconvert_exporter": "python",
   "pygments_lexer": "ipython3",
   "version": "3.12.6"
  }
 },
 "nbformat": 4,
 "nbformat_minor": 2
}
