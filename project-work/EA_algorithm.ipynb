{
 "cells": [
  {
   "cell_type": "markdown",
   "metadata": {},
   "source": [
    "# Import"
   ]
  },
  {
   "cell_type": "code",
   "execution_count": 332,
   "metadata": {},
   "outputs": [],
   "source": [
    "import numpy as np\n",
    "from random import choice, random, randint, sample"
   ]
  },
  {
   "cell_type": "markdown",
   "metadata": {},
   "source": [
    "# Operations"
   ]
  },
  {
   "cell_type": "code",
   "execution_count": 333,
   "metadata": {},
   "outputs": [],
   "source": [
    "OPERATIONS = [\n",
    "    (np.add, 2, \"({} + {})\"),\n",
    "    (np.subtract, 2, \"({} - {})\"),\n",
    "    (np.divide, 2, \"({} / {})\"),\n",
    "    (np.sin, 1, \"sin({})\"),\n",
    "]"
   ]
  },
  {
   "cell_type": "markdown",
   "metadata": {},
   "source": [
    "# Genothype definition"
   ]
  },
  {
   "cell_type": "markdown",
   "metadata": {},
   "source": [
    "Let's consider the genotype as a list of elements with the following structure: [operator, first operand, secondo operand].\n",
    "In this way we are creating a recursive function that computes a valid formula and represent it as a list (example: [ \"+\", [\"sin\", \"x[0]\" ], \"x[1]\"])."
   ]
  },
  {
   "cell_type": "code",
   "execution_count": 334,
   "metadata": {},
   "outputs": [],
   "source": [
    "def random_program(depth, input_dim):\n",
    "    if depth == 0 or random() < 0.3:\n",
    "        return f\"x[{randint(0, input_dim - 1)}]\" #new leaf node\n",
    "\n",
    "    op, arity, symbol = choice(OPERATIONS)\n",
    "    children = [random_program(depth - 1, input_dim) for _ in range(arity)]\n",
    "    return [symbol] + children  "
   ]
  },
  {
   "cell_type": "code",
   "execution_count": 335,
   "metadata": {},
   "outputs": [],
   "source": [
    "def is_valid_program(program):\n",
    "    \"\"\"Verifica se un programma è valido (ha il numero corretto di operandi per ogni operazione).\"\"\"\n",
    "    if isinstance(program, str):\n",
    "        # Nodo foglia, è sempre valido\n",
    "        return True\n",
    "\n",
    "    op_symbol = program[0]\n",
    "\n",
    "    # Verifica se è un'operazione unaria (sin, cos, ecc.)\n",
    "    if len(program) == 2:\n",
    "        return is_valid_program(program[1])\n",
    "\n",
    "    # Verifica se è un'operazione binaria (somma, sottrazione, ecc.)\n",
    "    elif len(program) == 3:\n",
    "        return is_valid_program(program[1]) and is_valid_program(program[2])\n",
    "\n",
    "    return False  # Se non è né un nodo foglia né un nodo valido con il giusto numero di operandi\n"
   ]
  },
  {
   "cell_type": "code",
   "execution_count": 336,
   "metadata": {},
   "outputs": [],
   "source": [
    "def random_program(depth, input_dim):\n",
    "    \"\"\"Crea una formula casuale e valida con il numero corretto di operandi per ciascuna operazione.\"\"\"\n",
    "    if depth == 0 or random() < 0.3:\n",
    "        # Crea un nodo foglia, scegliendo una variabile casuale da x\n",
    "        return f\"x[{randint(0, input_dim - 1)}]\"\n",
    "\n",
    "    # Scegli un'operazione casuale da OPERATIONS\n",
    "    op, arity, symbol = choice(OPERATIONS)\n",
    "\n",
    "    # Crea i figli ricorsivamente in base all'arity\n",
    "    if arity == 1:\n",
    "        # Operazione unaria: crea solo un figlio\n",
    "        result = [symbol, random_program(depth - 1, input_dim)]\n",
    "    elif arity == 2:\n",
    "        # Operazione binaria: crea due figli\n",
    "        result = [symbol, random_program(depth - 1, input_dim), random_program(depth - 1, input_dim)]\n",
    "\n",
    "    # Verifica se il programma è valido\n",
    "    if is_valid_program(result):\n",
    "        return result\n",
    "    else:\n",
    "        # Se non è valido, rigenera ricorsivamente\n",
    "        return random_program(depth, input_dim)\n"
   ]
  },
  {
   "cell_type": "code",
   "execution_count": 337,
   "metadata": {},
   "outputs": [
    {
     "data": {
      "text/plain": [
       "['({} + {})', 'x[2]', 'x[1]']"
      ]
     },
     "execution_count": 337,
     "metadata": {},
     "output_type": "execute_result"
    }
   ],
   "source": [
    "random_program(1, 4)"
   ]
  },
  {
   "cell_type": "markdown",
   "metadata": {},
   "source": [
    "Now we need a function that given the genotype provide us with the output provided by the predicted function. This function must receive the input vector to perform his operation."
   ]
  },
  {
   "cell_type": "code",
   "execution_count": 338,
   "metadata": {},
   "outputs": [],
   "source": [
    "def evaluate_program(program, x):\n",
    "    if isinstance(program, str):  # Leaf node\n",
    "        return x[int(program[2:-1])]  # extract the value\n",
    "    elif isinstance(program, list): \n",
    "        op = next(op for op, _, symbol in OPERATIONS if symbol == program[0])\n",
    "        args = [evaluate_program(child, x) for child in program[1:]]\n",
    "        try:\n",
    "            return op(*args)\n",
    "        except ZeroDivisionError:\n",
    "            return np.inf"
   ]
  },
  {
   "cell_type": "code",
   "execution_count": 339,
   "metadata": {},
   "outputs": [
    {
     "data": {
      "text/plain": [
       "np.float64(1.5)"
      ]
     },
     "execution_count": 339,
     "metadata": {},
     "output_type": "execute_result"
    }
   ],
   "source": [
    "x = [2,3,4, 6]\n",
    "program = ['({} / {})', 'x[1]', 'x[0]']\n",
    "evaluate_program(program, x)"
   ]
  },
  {
   "cell_type": "markdown",
   "metadata": {},
   "source": [
    "As you may notice this function verify with the function __isinstance(element, type)__ if \"element\" is an instance of the \"type\", with the objective of understanding if it is a __leaf node__. If this is the case we simply extract the value out of it, otherwise we still need to invoke the function recursively."
   ]
  },
  {
   "cell_type": "markdown",
   "metadata": {},
   "source": [
    "## Fitness function"
   ]
  },
  {
   "cell_type": "markdown",
   "metadata": {},
   "source": [
    "For now, simply consider the fitness function of a solution as it's mean square error compared to the expected results."
   ]
  },
  {
   "cell_type": "code",
   "execution_count": 340,
   "metadata": {},
   "outputs": [],
   "source": [
    "def fitness_function(program, x, y):\n",
    "    predictions = np.array([evaluate_program(program, x_row) for x_row in x.T])\n",
    "    return np.mean((predictions - y) ** 2)"
   ]
  },
  {
   "cell_type": "code",
   "execution_count": 341,
   "metadata": {},
   "outputs": [],
   "source": [
    "x = np.random.uniform(-1, 1, size=(2, 1000))  # 2 feature, 1000 esempi\n",
    "y = x[0] + np.sin(x[1]) / 5\n",
    "#fitness_function(program, x, y)"
   ]
  },
  {
   "cell_type": "markdown",
   "metadata": {},
   "source": [
    "## Tweak function"
   ]
  },
  {
   "cell_type": "markdown",
   "metadata": {},
   "source": [
    "There is a lot of __variability__ that has to be considered for the tweak function. We can now imagine to implement a recursive function that receives the program (which indicates the current function that we are using for the task), the number of dimensions for the input and the maximum depth allowed for the tweaked solution.\n",
    "\n",
    "Recursively, if we end up into a leaf node, or if the current solution is still a list but with 0.3 probability, we simply generate a new sub-program.\n",
    "\n",
    "Otherwise, we simply invoke the same function for a random index."
   ]
  },
  {
   "cell_type": "code",
   "execution_count": 342,
   "metadata": {},
   "outputs": [],
   "source": [
    "def mutate_program(program, input_dim, depth=3):\n",
    "    if random() < 0.3 or not isinstance(program, list):  \n",
    "        return random_program(depth, input_dim)\n",
    "    idx = randint(1, len(program) - 1)\n",
    "    program[idx] = mutate_program(program[idx], input_dim, depth - 1)\n",
    "    return program"
   ]
  },
  {
   "cell_type": "markdown",
   "metadata": {},
   "source": [
    "## Crossover"
   ]
  },
  {
   "cell_type": "markdown",
   "metadata": {},
   "source": [
    "We can use a croossover function that receives only 2 parents and, if one of them is a leaf program simply return casually one of the 2 programs (avoiding to perform the operation for programs with no childrens). Otherwise, select random indexes for both the parents and combine the first part of the tree with the second part of the tree of the 2 parents, returning a new individual."
   ]
  },
  {
   "cell_type": "code",
   "execution_count": 343,
   "metadata": {},
   "outputs": [],
   "source": [
    "def crossover_program(parent1, parent2):\n",
    "    if not isinstance(parent1, list) or not isinstance(parent2, list):\n",
    "        return parent1 if random() < 0.5 else parent2\n",
    "    idx1 = randint(1, len(parent1) - 1)\n",
    "    idx2 = randint(1, len(parent2) - 1)\n",
    "    child = parent1[:idx1] + parent2[idx2:]\n",
    "    return child"
   ]
  },
  {
   "cell_type": "markdown",
   "metadata": {},
   "source": [
    "## Genetic algorithm"
   ]
  },
  {
   "cell_type": "markdown",
   "metadata": {},
   "source": [
    "### Parameter selection"
   ]
  },
  {
   "cell_type": "code",
   "execution_count": 344,
   "metadata": {},
   "outputs": [],
   "source": [
    "generations=50\n",
    "population_size=100"
   ]
  },
  {
   "cell_type": "markdown",
   "metadata": {},
   "source": [
    "### Data selection"
   ]
  },
  {
   "cell_type": "code",
   "execution_count": 345,
   "metadata": {},
   "outputs": [],
   "source": [
    "x = np.random.uniform(-1, 1, size=(2, 1000))  # 2 feature, 1000 esempi\n",
    "y = x[0] + np.sin(x[1]) / 5"
   ]
  },
  {
   "cell_type": "code",
   "execution_count": null,
   "metadata": {},
   "outputs": [
    {
     "name": "stderr",
     "output_type": "stream",
     "text": [
      "C:\\Users\\andrea\\AppData\\Local\\Temp\\ipykernel_10248\\3192480331.py:8: RuntimeWarning: divide by zero encountered in divide\n",
      "  return op(*args)\n",
      "C:\\Users\\andrea\\AppData\\Local\\Temp\\ipykernel_10248\\3192480331.py:8: RuntimeWarning: invalid value encountered in sin\n",
      "  return op(*args)\n"
     ]
    },
    {
     "name": "stdout",
     "output_type": "stream",
     "text": [
      "At generation 1, best fitness: 0.011258\n",
      "At generation 2, best fitness: 0.011258\n",
      "At generation 3, best fitness: 0.011258\n",
      "At generation 4, best fitness: 0.003271\n",
      "At generation 5, best fitness: 0.011258\n",
      "At generation 6, best fitness: 0.011258\n"
     ]
    },
    {
     "name": "stderr",
     "output_type": "stream",
     "text": [
      "C:\\Users\\andrea\\AppData\\Local\\Temp\\ipykernel_10248\\3192480331.py:8: RuntimeWarning: invalid value encountered in divide\n",
      "  return op(*args)\n"
     ]
    },
    {
     "name": "stdout",
     "output_type": "stream",
     "text": [
      "At generation 7, best fitness: 0.011258\n",
      "At generation 8, best fitness: 0.011258\n",
      "At generation 9, best fitness: 0.011258\n",
      "At generation 10, best fitness: 0.011258\n",
      "At generation 11, best fitness: 0.011258\n",
      "At generation 12, best fitness: 0.011258\n",
      "At generation 13, best fitness: 0.011258\n",
      "At generation 14, best fitness: 0.003271\n",
      "At generation 15, best fitness: 0.003271\n",
      "At generation 16, best fitness: 0.003271\n",
      "At generation 17, best fitness: 0.011258\n",
      "At generation 18, best fitness: 0.011258\n",
      "At generation 19, best fitness: 0.011258\n",
      "At generation 20, best fitness: 0.003271\n",
      "At generation 21, best fitness: 0.011258\n",
      "At generation 22, best fitness: 0.011258\n",
      "At generation 23, best fitness: 0.011258\n",
      "At generation 24, best fitness: 0.011258\n",
      "At generation 25, best fitness: 0.011258\n"
     ]
    }
   ],
   "source": [
    "input_dim = x.shape[0]\n",
    "population = [random_program(3, input_dim) for _ in range(population_size)]\n",
    "\n",
    "for gen in range(generations):\n",
    "    fitness = []\n",
    "    for prog in population:\n",
    "        fitness.append(fitness_function(prog, x, y))\n",
    "\n",
    "    fitness = np.array(fitness)\n",
    "    #fitness = np.array([fitness_function(prog, x, y) for prog in population]) #array of fitness value for each individual\n",
    "\n",
    "    # Selection of only the fittest elements: the mid of them.\n",
    "    sorted_indices = fitness.argsort()\n",
    "    population = [population[i] for i in sorted_indices[:population_size // 2]]\n",
    "    fitness = fitness[sorted_indices[:population_size // 2]]\n",
    "\n",
    "    print(f\"At generation {gen+1}, best fitness: {fitness[0]:.6f}\")\n",
    "\n",
    "    \n",
    "    new_population = []\n",
    "    while len(new_population) < population_size:\n",
    "        parent1 = choice(population)\n",
    "        parent2 = choice(population)\n",
    "        offspring = crossover_program(parent1, parent2) if random() < 0 else mutate_program(parent1, input_dim)\n",
    "        new_population.append(offspring)\n",
    "\n",
    "    population = new_population\n",
    "\n",
    "    # Ritorna il migliore\n",
    "best_program = population[0]\n",
    "best_fitness = fitness_function(best_program, x, y)\n",
    "print(\"best program: \", best_program, \"; con fitness: \", best_fitness)"
   ]
  }
 ],
 "metadata": {
  "kernelspec": {
   "display_name": "Python 3",
   "language": "python",
   "name": "python3"
  },
  "language_info": {
   "codemirror_mode": {
    "name": "ipython",
    "version": 3
   },
   "file_extension": ".py",
   "mimetype": "text/x-python",
   "name": "python",
   "nbconvert_exporter": "python",
   "pygments_lexer": "ipython3",
   "version": "3.12.6"
  }
 },
 "nbformat": 4,
 "nbformat_minor": 2
}
