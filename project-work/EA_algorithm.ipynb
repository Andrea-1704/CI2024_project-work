{
 "cells": [
  {
   "cell_type": "markdown",
   "metadata": {},
   "source": [
    "# Import"
   ]
  },
  {
   "cell_type": "code",
   "execution_count": 1,
   "metadata": {},
   "outputs": [],
   "source": [
    "import numpy as np\n",
    "from random import choice, random, randint, sample\n",
    "import copy\n",
    "from dataclasses import dataclass"
   ]
  },
  {
   "cell_type": "markdown",
   "metadata": {},
   "source": [
    "# Operations"
   ]
  },
  {
   "cell_type": "code",
   "execution_count": 2,
   "metadata": {},
   "outputs": [],
   "source": [
    "OPERATIONS = [\n",
    "    (np.add, 2, \"({} + {})\"),\n",
    "    (np.subtract, 2, \"({} - {})\"),\n",
    "    (np.divide, 2, \"({} / {})\"),\n",
    "    (np.multiply, 2, \"({} * {})\"),\n",
    "    (np.sin, 1, \"sin({})\"),\n",
    "    (np.cos, 1, \"cos({})\"),\n",
    "    (np.tan, 1, \"tan({})\"),\n",
    "    (np.exp, 1, \"exp({})\"),\n",
    "    (np.log, 1, \"log({})\"),\n",
    "    (np.sqrt, 1, \"sqrt({})\"),\n",
    "    (np.square, 1, \"square({})\"),\n",
    "]"
   ]
  },
  {
   "cell_type": "markdown",
   "metadata": {},
   "source": [
    "# Genothype definition"
   ]
  },
  {
   "cell_type": "markdown",
   "metadata": {},
   "source": [
    "Let's consider the genotype as a list of elements with the following structure: [operator, first operand, secondo operand].\n",
    "In this way we are creating a recursive function that computes a valid formula and represent it as a list (example: [ \"+\", [\"sin\", \"x[0]\" ], \"x[1]\"])."
   ]
  },
  {
   "cell_type": "code",
   "execution_count": 3,
   "metadata": {},
   "outputs": [],
   "source": [
    "def random_program(depth, input_dim):\n",
    "    if depth == 0 or random() < 0.3:\n",
    "        #Return a costant between 1 and 10 or a random variable (prob=0.3)\n",
    "        if random() < 0.3:\n",
    "            return str(randint(2, 10)) #costant\n",
    "        else:\n",
    "            return f\"x[{randint(0, input_dim - 1)}]\" #new leaf node\n",
    "\n",
    "    op, arity, symbol = choice(OPERATIONS)\n",
    "    children = [random_program(depth - 1, input_dim) for _ in range(arity)]\n",
    "    return [symbol] + children  "
   ]
  },
  {
   "cell_type": "markdown",
   "metadata": {},
   "source": [
    "## Individual"
   ]
  },
  {
   "cell_type": "code",
   "execution_count": 4,
   "metadata": {},
   "outputs": [],
   "source": [
    "@dataclass\n",
    "class Individual:\n",
    "    genome: list\n",
    "    fitness : float = None"
   ]
  },
  {
   "cell_type": "markdown",
   "metadata": {},
   "source": [
    "## Transform the program into a human readable function"
   ]
  },
  {
   "cell_type": "code",
   "execution_count": 5,
   "metadata": {},
   "outputs": [],
   "source": [
    "def program_to_string(program):\n",
    "    if isinstance(program, str):  # leaf\n",
    "        return program  \n",
    "    elif isinstance(program, list):  \n",
    "        try:\n",
    "            _, _, symbol = next((op, arity, s) for op, arity, s in OPERATIONS if s == program[0])\n",
    "        except StopIteration:\n",
    "            raise ValueError(f\"Not known operation: {program[0]}\")\n",
    "        \n",
    "        children = [program_to_string(child) for child in program[1:]]\n",
    "        \n",
    "        return symbol.format(*children)\n"
   ]
  },
  {
   "cell_type": "markdown",
   "metadata": {},
   "source": [
    "Now we need a function that given the genotype provide us with the output provided by the predicted function. This function must receive the input vector to perform his operation."
   ]
  },
  {
   "cell_type": "code",
   "execution_count": 6,
   "metadata": {},
   "outputs": [],
   "source": [
    "def evaluate_program(program, x):\n",
    "    if isinstance(program, str):  # Leaf node\n",
    "        #If it's a leaf, it could be a costant or a variable\n",
    "        if program[0] == 'x':\n",
    "            return x[int(program[2:-1])]\n",
    "        else:\n",
    "            return int(program)\n",
    "    elif isinstance(program, list): \n",
    "        op = next(op for op, _, symbol in OPERATIONS if symbol == program[0])\n",
    "        args = [evaluate_program(child, x) for child in program[1:]]\n",
    "        try:\n",
    "            return op(*args)\n",
    "        except ZeroDivisionError:\n",
    "            return np.inf"
   ]
  },
  {
   "cell_type": "markdown",
   "metadata": {},
   "source": [
    "As you may notice this function verify with the function __isinstance(element, type)__ if \"element\" is an instance of the \"type\", with the objective of understanding if it is a __leaf node__. If this is the case we simply extract the value out of it, otherwise we still need to invoke the function recursively."
   ]
  },
  {
   "cell_type": "markdown",
   "metadata": {},
   "source": [
    "## Fitness function"
   ]
  },
  {
   "cell_type": "markdown",
   "metadata": {},
   "source": [
    "For now, simply consider the fitness function of a solution as it's mean square error compared to the expected results."
   ]
  },
  {
   "cell_type": "code",
   "execution_count": 7,
   "metadata": {},
   "outputs": [],
   "source": [
    "#Let's also introduce a fitness function that is the same used by professors\n",
    "def fitness_evaluation_result(program, x, y):\n",
    "    predictions = np.array([evaluate_program(program, x_row) for x_row in x.T])\n",
    "    return float(100 * np.mean(np.square(predictions - y)))\n",
    "\n",
    "def fitness_function(program, x, y):\n",
    "    predictions = np.array([evaluate_program(program, x_row) for x_row in x.T])\n",
    "    return np.mean((predictions - y) ** 2)"
   ]
  },
  {
   "cell_type": "code",
   "execution_count": 8,
   "metadata": {},
   "outputs": [],
   "source": [
    "x = np.random.uniform(-1, 1, size=(2, 1000))  # 2 feature, 1000 esempi\n",
    "y = x[0] + np.sin(x[1]) / 5\n",
    "#fitness_evaluation_result(program, x, y)"
   ]
  },
  {
   "cell_type": "markdown",
   "metadata": {},
   "source": [
    "## Tweak function"
   ]
  },
  {
   "cell_type": "markdown",
   "metadata": {},
   "source": [
    "There is a lot of __variability__ that has to be considered for the tweak function. We can now imagine to implement a recursive function that receives the program (which indicates the current function that we are using for the task), the number of dimensions for the input and the maximum depth allowed for the tweaked solution.\n",
    "\n",
    "Recursively, if we end up into a leaf node, or if the current solution is still a list but with 0.3 probability, we simply generate a new sub-program.\n",
    "\n",
    "Otherwise, we simply invoke the same function for a random index."
   ]
  },
  {
   "cell_type": "code",
   "execution_count": 9,
   "metadata": {},
   "outputs": [],
   "source": [
    "def mutate_program(program, input_dim, depth=3):\n",
    "    if random() < 0.3 or not isinstance(program, list):  \n",
    "        return random_program(depth, input_dim)\n",
    "    idx = randint(1, len(program) - 1)\n",
    "    program[idx] = mutate_program(program[idx], input_dim, depth - 1)\n",
    "    return program"
   ]
  },
  {
   "cell_type": "markdown",
   "metadata": {},
   "source": [
    "Other function (FIGP based)"
   ]
  },
  {
   "cell_type": "code",
   "execution_count": 10,
   "metadata": {},
   "outputs": [],
   "source": [
    "def mutate_program(program, input_dim, max_depth=3):\n",
    "    \"\"\"Mutazione per rimpiazzare un sottoalbero casuale.\"\"\"\n",
    "    mutant = copy.deepcopy(program)\n",
    "    \n",
    "    def get_subtree_points(prog):\n",
    "        return [i for i, node in enumerate(prog) if isinstance(node, list)]\n",
    "    \n",
    "    points = get_subtree_points(mutant)\n",
    "    if not points:\n",
    "        return random_program(max_depth, input_dim)  # Genera nuovo programma\n",
    "    \n",
    "    point = choice(points)\n",
    "    new_subtree = random_program(randint(1, max_depth), input_dim)  # Nuovo sottoalbero\n",
    "    mutant[point] = new_subtree\n",
    "    \n",
    "    return mutant\n"
   ]
  },
  {
   "cell_type": "markdown",
   "metadata": {},
   "source": [
    "Other function (FIGP based)"
   ]
  },
  {
   "cell_type": "code",
   "execution_count": 11,
   "metadata": {},
   "outputs": [],
   "source": [
    "#Try to swap one single operation with another one\n",
    "def mutate(program, input_dim, max_depth=3):\n",
    "    \"\"\"Mutazione di un programma.\"\"\"\n",
    "    mutant = copy.deepcopy(program)\n",
    "\n",
    "    def get_subtree_points(prog):\n",
    "        return [i for i, node in enumerate(prog) if isinstance(node, list)]\n",
    "\n",
    "    points = get_subtree_points(program)\n",
    "    if not points:\n",
    "        return random_program(max_depth, input_dim)  # Ritorna un nuovo programma se non ci sono punti\n",
    "\n",
    "    point = choice(points)\n",
    "\n",
    "    # Genera un nuovo sottoalbero casuale\n",
    "    new_subtree = random_program(randint(1, max_depth), input_dim)\n",
    "    mutant[point] = new_subtree\n",
    "\n",
    "    return mutant"
   ]
  },
  {
   "cell_type": "markdown",
   "metadata": {},
   "source": [
    "## Crossover"
   ]
  },
  {
   "cell_type": "markdown",
   "metadata": {},
   "source": [
    "We can use a croossover function that receives only 2 parents and, if one of them is a leaf program simply return casually one of the 2 programs (avoiding to perform the operation for programs with no childrens). Otherwise, select random indexes for both the parents and combine the first part of the tree with the second part of the tree of the 2 parents, returning a new individual."
   ]
  },
  {
   "cell_type": "code",
   "execution_count": 12,
   "metadata": {},
   "outputs": [],
   "source": [
    "def crossover(parent1, parent2, max_depth=3):\n",
    "    \"\"\"Crossover tra due programmi.\"\"\"\n",
    "    child1, child2 = copy.deepcopy(parent1), copy.deepcopy(parent2)\n",
    "\n",
    "    if len(parent1) < 2 or len(parent2) < 2:\n",
    "        return parent1, parent2  # Evita crossover se i programmi sono troppo piccoli\n",
    "\n",
    "    # Punti di crossover validi\n",
    "    def get_subtree_points(prog):\n",
    "        return [i for i, node in enumerate(prog) if isinstance(node, list)]\n",
    "\n",
    "    points1 = get_subtree_points(parent1)\n",
    "    points2 = get_subtree_points(parent2)\n",
    "\n",
    "    if not points1 or not points2:\n",
    "        return parent1, parent2  # Nessun punto valido per il crossover\n",
    "\n",
    "    point1 = choice(points1)\n",
    "    point2 = choice(points2)\n",
    "\n",
    "    # Scambia i sottoalberi\n",
    "    subtree1 = parent1[point1]\n",
    "    subtree2 = parent2[point2]\n",
    "\n",
    "    child1[point1], child2[point2] = subtree2, subtree1\n",
    "\n",
    "    return child1, child2"
   ]
  },
  {
   "cell_type": "markdown",
   "metadata": {},
   "source": [
    "New crossover (FIGP based):"
   ]
  },
  {
   "cell_type": "code",
   "execution_count": 13,
   "metadata": {},
   "outputs": [],
   "source": [
    "def crossover(parent1, parent2):\n",
    "    \"\"\"Crossover a singolo punto tra due programmi.\"\"\"\n",
    "    child1, child2 = copy.deepcopy(parent1), copy.deepcopy(parent2)\n",
    "    \n",
    "    # Identifica punti di crossover validi\n",
    "    def get_subtree_points(prog):\n",
    "        return [i for i, node in enumerate(prog) if isinstance(node, list)]\n",
    "    \n",
    "    points1 = get_subtree_points(parent1)\n",
    "    points2 = get_subtree_points(parent2)\n",
    "    \n",
    "    if not points1 or not points2:\n",
    "        return parent1, parent2  # Nessun punto valido, restituisci genitori\n",
    "    \n",
    "    point1 = choice(points1)\n",
    "    point2 = choice(points2)\n",
    "    \n",
    "    # Scambia sottoalberi selezionati\n",
    "    subtree1 = parent1[point1]\n",
    "    subtree2 = parent2[point2]\n",
    "    child1[point1], child2[point2] = subtree2, subtree1\n",
    "    \n",
    "    return child1, child2\n"
   ]
  },
  {
   "cell_type": "markdown",
   "metadata": {},
   "source": [
    "## Genetic algorithm"
   ]
  },
  {
   "cell_type": "markdown",
   "metadata": {},
   "source": [
    "### Parameter selection"
   ]
  },
  {
   "cell_type": "code",
   "execution_count": 14,
   "metadata": {},
   "outputs": [],
   "source": [
    "generations=100\n",
    "population_size=100\n",
    "offspring_size = 50"
   ]
  },
  {
   "cell_type": "markdown",
   "metadata": {},
   "source": [
    "### Data loading"
   ]
  },
  {
   "cell_type": "code",
   "execution_count": 15,
   "metadata": {},
   "outputs": [
    {
     "name": "stdout",
     "output_type": "stream",
     "text": [
      "(2, 1000)\n",
      "(1000,)\n"
     ]
    }
   ],
   "source": [
    "#load the problem with problem_X, for X that goes from 0 to 8\n",
    "problem = np.load('data/problem_0.npz')\n",
    "x = problem['x']\n",
    "y = problem['y']\n",
    "print(x.shape)\n",
    "print(y.shape)"
   ]
  },
  {
   "cell_type": "markdown",
   "metadata": {},
   "source": [
    "Let's call the previous fitness function \"MSE\":"
   ]
  },
  {
   "cell_type": "code",
   "execution_count": 16,
   "metadata": {},
   "outputs": [],
   "source": [
    "def mse(program, x, y):\n",
    "    predictions = np.array([evaluate_program(program, x_row) for x_row in x.T])\n",
    "    return float(100 * np.mean(np.square(predictions - y)))"
   ]
  },
  {
   "cell_type": "code",
   "execution_count": 17,
   "metadata": {},
   "outputs": [],
   "source": [
    "#Compute the depth of a program\n",
    "def depth(program):\n",
    "    if isinstance(program, str):\n",
    "        return 1\n",
    "    elif isinstance(program, list):\n",
    "        return 1 + max(depth(child) for child in program[1:])"
   ]
  },
  {
   "cell_type": "markdown",
   "metadata": {},
   "source": [
    "Let's change the fitness function in a way that we penalize the more complex functions:"
   ]
  },
  {
   "cell_type": "code",
   "execution_count": 18,
   "metadata": {},
   "outputs": [],
   "source": [
    "# Funzione di fitness avanzata ispirata a deep_based_FGP_NLS.py\n",
    "import math\n",
    "\n",
    "\n",
    "def fitness_function(program, x, y):\n",
    "    \"\"\"\n",
    "    Valuta la fitness di un programma.\n",
    "    \"\"\"\n",
    "    try:\n",
    "        # Valutazione del programma\n",
    "        predictions = np.array([evaluate_program(program, x_row) for x_row in x.T])\n",
    "        if np.any(np.isnan(predictions)) or np.any(np.isinf(predictions)):\n",
    "            return np.inf  # Penalizza programmi invalidi\n",
    "\n",
    "        # Calcolo dell'errore\n",
    "        #error = np.mean((predictions - y) ** 2)  # Errore quadratico medio\n",
    "        error = mse(program, x, y)\n",
    "        if not math.isfinite(error):\n",
    "            return np.inf\n",
    "\n",
    "        # Aggiungi penalità basata sulla complessità del programma\n",
    "        complexity_penalty = depth(program) * 0.01\n",
    "        fitness = error + complexity_penalty\n",
    "\n",
    "    except Exception as e:\n",
    "        # Penalizza programmi che generano errori\n",
    "        print(f\"Errore nella valutazione del programma: {e}\")\n",
    "        return np.inf\n",
    "\n",
    "    return fitness"
   ]
  },
  {
   "cell_type": "markdown",
   "metadata": {},
   "source": [
    "## Tournament selection for parents, tau set to 50"
   ]
  },
  {
   "cell_type": "code",
   "execution_count": null,
   "metadata": {},
   "outputs": [],
   "source": [
    "def tournament_selection(population,tau=5):\n",
    "    tau = min(tau, len(population))\n",
    "    tournament_indices = np.random.choice(len(population), tau, replace=False)\n",
    "\n",
    "    considered_individuals = []\n",
    "    for index in tournament_indices:\n",
    "        considered_individuals.append(population[index])\n",
    "    considered_individuals.sort(key=lambda i: i.fitness)\n",
    "    winner = considered_individuals[0].genome\n",
    "    return winner\n"
   ]
  },
  {
   "cell_type": "markdown",
   "metadata": {},
   "source": [
    "## Simulated annealing"
   ]
  },
  {
   "cell_type": "code",
   "execution_count": 20,
   "metadata": {},
   "outputs": [],
   "source": [
    "import math\n",
    "\n",
    "\n",
    "def simulated_annealing(initial_program, x, y, max_iterations=500, initial_temperature=100, cooling_rate=0.95):\n",
    "    \n",
    "    # Programma corrente e relativa fitness\n",
    "    current_program = initial_program\n",
    "    current_fitness = fitness_function(current_program, x, y)\n",
    "    \n",
    "    # Memorizza il miglior programma trovato\n",
    "    best_program = current_program\n",
    "    best_fitness = current_fitness\n",
    "    \n",
    "    # Inizializza la temperatura\n",
    "    temperature = initial_temperature\n",
    "    \n",
    "    for iteration in range(max_iterations):\n",
    "        # Crea un programma candidato con una mutazione\n",
    "        candidate_program = mutate_program(current_program, x.shape[0])\n",
    "        candidate_fitness = fitness_function(candidate_program, x, y)\n",
    "        \n",
    "        # Calcola la variazione di fitness\n",
    "        fitness_delta = candidate_fitness - current_fitness\n",
    "        \n",
    "        # Accetta il nuovo programma se migliora o con probabilità decrescente\n",
    "        if fitness_delta < 0 or random() < math.exp(-fitness_delta / temperature):\n",
    "            current_program = candidate_program\n",
    "            current_fitness = candidate_fitness\n",
    "            \n",
    "            # Aggiorna il miglior programma trovato\n",
    "            if current_fitness < best_fitness:\n",
    "                best_program = current_program\n",
    "                best_fitness = current_fitness\n",
    "        \n",
    "        # Riduci la temperatura\n",
    "        temperature *= cooling_rate\n",
    "        \n",
    "        # Interrompi se la temperatura è troppo bassa\n",
    "        if temperature < 1e-3:\n",
    "            break\n",
    "    \n",
    "    return best_program"
   ]
  },
  {
   "cell_type": "markdown",
   "metadata": {},
   "source": [
    "### Parameters"
   ]
  },
  {
   "cell_type": "code",
   "execution_count": null,
   "metadata": {},
   "outputs": [],
   "source": [
    "# Parametri del GP\n",
    "generations = 200\n",
    "population_size = 1000\n",
    "p_crossover = 0.6\n",
    "p_mutation = 0.4\n",
    "tweak_probability = 0.2\n",
    "max_depth = 3 #fixed or problem dependant?\n",
    "elite_size = 20\n",
    "offspring_size = population_size # Numero di discendenti generati per generazione"
   ]
  },
  {
   "cell_type": "markdown",
   "metadata": {},
   "source": [
    "Let's create a new tweak function that is able to tweak a program by adding an unary operation in leaf nodes (if it not a constant value)."
   ]
  },
  {
   "cell_type": "code",
   "execution_count": 22,
   "metadata": {},
   "outputs": [],
   "source": [
    "def tweak_program_2(program):\n",
    "    \"\"\"\n",
    "    Modifica un sottoalbero del programma aggiungendo un operatore unario\n",
    "    su una foglia, con una certa probabilità.\n",
    "    \"\"\"\n",
    "    # Trova tutte le foglie del programma\n",
    "    def get_leaf_indices(node, path=()):\n",
    "        if isinstance(node, str) or isinstance(node, (int, float)):\n",
    "            # Nodo foglia (variabile o costante)\n",
    "            return [path]\n",
    "        elif isinstance(node, list) and len(node) > 1:\n",
    "            # Nodo non foglia valido: esplora ricorsivamente i figli\n",
    "            indices = []\n",
    "            for i, child in enumerate(node[1:], start=1):\n",
    "                indices.extend(get_leaf_indices(child, path + (i,)))\n",
    "            return indices\n",
    "        return []\n",
    "    \n",
    "    # Ottieni tutte le foglie del programma\n",
    "    leaf_indices = get_leaf_indices(program)\n",
    "    if not leaf_indices:\n",
    "        return program  # Nessuna modifica possibile\n",
    "\n",
    "    # Seleziona casualmente una foglia\n",
    "    selected_leaf_path = choice(leaf_indices)\n",
    "    \n",
    "    # Verifica che il percorso selezionato sia valido\n",
    "    if not selected_leaf_path:\n",
    "        return program  # Nessuna modifica possibile\n",
    "\n",
    "    # Accedi alla foglia selezionata\n",
    "    node = program\n",
    "    for idx in selected_leaf_path[:-1]:\n",
    "        node = node[idx]\n",
    "\n",
    "    # Verifica che il nodo sia valido prima di modificare\n",
    "    if isinstance(node, list) and len(selected_leaf_path) > 0:\n",
    "        leaf = node[selected_leaf_path[-1]]\n",
    "        # Modifica la foglia con un operatore unario\n",
    "        if isinstance(leaf, str) and leaf.startswith(\"x\"):  # Se è una variabile\n",
    "            unary_operator = choice([\"sin({})\", \"cos({})\", \"tan({})\", \"log({})\", \"sqrt({})\"])\n",
    "            node[selected_leaf_path[-1]] = [unary_operator, leaf]\n",
    "    \n",
    "    return program\n"
   ]
  },
  {
   "cell_type": "code",
   "execution_count": null,
   "metadata": {},
   "outputs": [
    {
     "name": "stdout",
     "output_type": "stream",
     "text": [
      "Generazione 1, miglior fitness: 1.067566\n",
      "Best formula: x[0]\n",
      "Generazione 2, miglior fitness: 1.067566\n",
      "Best formula: x[0]\n",
      "Generazione 3, miglior fitness: 1.067566\n",
      "Best formula: x[0]\n",
      "Generazione 4, miglior fitness: 1.067566\n",
      "Best formula: x[0]\n",
      "Generazione 5, miglior fitness: 1.067566\n",
      "Best formula: x[0]\n",
      "Generazione 6, miglior fitness: 1.067566\n",
      "Best formula: x[0]\n",
      "Generazione 7, miglior fitness: 1.067566\n",
      "Best formula: x[0]\n",
      "Generazione 8, miglior fitness: 1.067566\n",
      "Best formula: x[0]\n",
      "Generazione 9, miglior fitness: 1.067566\n",
      "Best formula: x[0]\n",
      "Generazione 10, miglior fitness: 1.067566\n",
      "Best formula: x[0]\n",
      "Generazione 11, miglior fitness: 1.067566\n",
      "Best formula: x[0]\n",
      "Generazione 12, miglior fitness: 1.067566\n",
      "Best formula: x[0]\n",
      "Generazione 13, miglior fitness: 1.067566\n",
      "Best formula: x[0]\n",
      "Generazione 14, miglior fitness: 1.067566\n",
      "Best formula: x[0]\n",
      "Generazione 15, miglior fitness: 0.314973\n",
      "Best formula: (x[0] - (sin(x[1]) - x[1]))\n",
      "Generazione 16, miglior fitness: 0.314973\n",
      "Best formula: (x[0] - (sin(x[1]) - x[1]))\n",
      "Generazione 17, miglior fitness: 1.067566\n",
      "Best formula: (x[0] - (x[1] - x[1]))\n",
      "Generazione 18, miglior fitness: 1.067566\n",
      "Best formula: (x[0] - (x[0] - x[0]))\n",
      "Generazione 19, miglior fitness: 1.067566\n",
      "Best formula: x[0]\n",
      "Generazione 20, miglior fitness: 1.067566\n",
      "Best formula: x[0]\n",
      "Generazione 21, miglior fitness: 1.067566\n",
      "Best formula: x[0]\n",
      "Generazione 22, miglior fitness: 1.067566\n",
      "Best formula: x[0]\n"
     ]
    },
    {
     "ename": "KeyboardInterrupt",
     "evalue": "",
     "output_type": "error",
     "traceback": [
      "\u001b[1;31m---------------------------------------------------------------------------\u001b[0m",
      "\u001b[1;31mKeyboardInterrupt\u001b[0m                         Traceback (most recent call last)",
      "Cell \u001b[1;32mIn[24], line 88\u001b[0m\n\u001b[0;32m     85\u001b[0m     \u001b[38;5;28mprint\u001b[39m(\u001b[38;5;124m\"\u001b[39m\u001b[38;5;124mMiglior programma:\u001b[39m\u001b[38;5;124m\"\u001b[39m, best_program\u001b[38;5;241m.\u001b[39mgenome, \u001b[38;5;124m\"\u001b[39m\u001b[38;5;124m; Fitness:\u001b[39m\u001b[38;5;124m\"\u001b[39m, best_mse)\n\u001b[0;32m     86\u001b[0m     \u001b[38;5;28;01mreturn\u001b[39;00m best_program\u001b[38;5;241m.\u001b[39mgenome\n\u001b[1;32m---> 88\u001b[0m best_program \u001b[38;5;241m=\u001b[39m \u001b[43mrun_genetic_algorithm\u001b[49m\u001b[43m(\u001b[49m\u001b[43m)\u001b[49m\n",
      "Cell \u001b[1;32mIn[24], line 40\u001b[0m, in \u001b[0;36mrun_genetic_algorithm\u001b[1;34m()\u001b[0m\n\u001b[0;32m     38\u001b[0m \u001b[38;5;28;01mif\u001b[39;00m random() \u001b[38;5;241m<\u001b[39m p_mutation \u001b[38;5;129;01mand\u001b[39;00m \u001b[38;5;28mlen\u001b[39m(next_population) \u001b[38;5;241m<\u001b[39m offspring_size:\n\u001b[0;32m     39\u001b[0m     child1 \u001b[38;5;241m=\u001b[39m mutate(child1, input_dim)\n\u001b[1;32m---> 40\u001b[0m     next_population\u001b[38;5;241m.\u001b[39mappend(Individual(genome\u001b[38;5;241m=\u001b[39mchild1, fitness\u001b[38;5;241m=\u001b[39m\u001b[43mfitness_function\u001b[49m\u001b[43m(\u001b[49m\u001b[43mchild1\u001b[49m\u001b[43m,\u001b[49m\u001b[43m \u001b[49m\u001b[43mx\u001b[49m\u001b[43m,\u001b[49m\u001b[43m \u001b[49m\u001b[43my\u001b[49m\u001b[43m)\u001b[49m))\n\u001b[0;32m     41\u001b[0m \u001b[38;5;28;01mif\u001b[39;00m random() \u001b[38;5;241m<\u001b[39m p_mutation \u001b[38;5;129;01mand\u001b[39;00m \u001b[38;5;28mlen\u001b[39m(next_population) \u001b[38;5;241m<\u001b[39m offspring_size:\n\u001b[0;32m     42\u001b[0m     child2 \u001b[38;5;241m=\u001b[39m mutate(child2, input_dim)\n",
      "Cell \u001b[1;32mIn[18], line 17\u001b[0m, in \u001b[0;36mfitness_function\u001b[1;34m(program, x, y)\u001b[0m\n\u001b[0;32m     13\u001b[0m     \u001b[38;5;28;01mreturn\u001b[39;00m np\u001b[38;5;241m.\u001b[39minf  \u001b[38;5;66;03m# Penalizza programmi invalidi\u001b[39;00m\n\u001b[0;32m     15\u001b[0m \u001b[38;5;66;03m# Calcolo dell'errore\u001b[39;00m\n\u001b[0;32m     16\u001b[0m \u001b[38;5;66;03m#error = np.mean((predictions - y) ** 2)  # Errore quadratico medio\u001b[39;00m\n\u001b[1;32m---> 17\u001b[0m error \u001b[38;5;241m=\u001b[39m \u001b[43mmse\u001b[49m\u001b[43m(\u001b[49m\u001b[43mprogram\u001b[49m\u001b[43m,\u001b[49m\u001b[43m \u001b[49m\u001b[43mx\u001b[49m\u001b[43m,\u001b[49m\u001b[43m \u001b[49m\u001b[43my\u001b[49m\u001b[43m)\u001b[49m\n\u001b[0;32m     18\u001b[0m \u001b[38;5;28;01mif\u001b[39;00m \u001b[38;5;129;01mnot\u001b[39;00m math\u001b[38;5;241m.\u001b[39misfinite(error):\n\u001b[0;32m     19\u001b[0m     \u001b[38;5;28;01mreturn\u001b[39;00m np\u001b[38;5;241m.\u001b[39minf\n",
      "Cell \u001b[1;32mIn[16], line 3\u001b[0m, in \u001b[0;36mmse\u001b[1;34m(program, x, y)\u001b[0m\n\u001b[0;32m      1\u001b[0m \u001b[38;5;28;01mdef\u001b[39;00m \u001b[38;5;21mmse\u001b[39m(program, x, y):\n\u001b[0;32m      2\u001b[0m     predictions \u001b[38;5;241m=\u001b[39m np\u001b[38;5;241m.\u001b[39marray([evaluate_program(program, x_row) \u001b[38;5;28;01mfor\u001b[39;00m x_row \u001b[38;5;129;01min\u001b[39;00m x\u001b[38;5;241m.\u001b[39mT])\n\u001b[1;32m----> 3\u001b[0m     \u001b[38;5;28;01mreturn\u001b[39;00m \u001b[38;5;28mfloat\u001b[39m(\u001b[38;5;241m100\u001b[39m \u001b[38;5;241m*\u001b[39m np\u001b[38;5;241m.\u001b[39mmean(\u001b[43mnp\u001b[49m\u001b[38;5;241;43m.\u001b[39;49m\u001b[43msquare\u001b[49m\u001b[43m(\u001b[49m\u001b[43mpredictions\u001b[49m\u001b[43m \u001b[49m\u001b[38;5;241;43m-\u001b[39;49m\u001b[43m \u001b[49m\u001b[43my\u001b[49m\u001b[43m)\u001b[49m))\n",
      "\u001b[1;31mKeyboardInterrupt\u001b[0m: "
     ]
    }
   ],
   "source": [
    "# Inizializza popolazione\n",
    "input_dim = x.shape[0]\n",
    "# Ignora warning temporaneamente\n",
    "np.seterr(all='ignore')\n",
    "population = [Individual(genome = random_program(max_depth, input_dim)) for _ in range(population_size)]\n",
    "for ind in population:\n",
    "    ind.fitness = fitness_function(ind.genome, x, y)\n",
    "# Loop principale per le generazioni\n",
    "def run_genetic_algorithm():\n",
    "    global population\n",
    "\n",
    "    for gen in range(generations):\n",
    "        \n",
    "        population.sort(key=lambda i: i.fitness)\n",
    "        elite = population[:elite_size]\n",
    "        mse_to_print = mse(population[0].genome, x, y)\n",
    "\n",
    "        #break the cycle if you found the best solution you're able to find with training data\n",
    "        if(mse_to_print==0.0000): \n",
    "            np.seterr(all='warn')\n",
    "            print('Best program found with mse=0')\n",
    "            return population[0].genome\n",
    "        \n",
    "        np.seterr(all='warn')\n",
    "        print(f\"Generazione {gen + 1}, miglior fitness: {mse_to_print:.6f}\")\n",
    "        #population is already sorted, so:\n",
    "        print(f\"Best formula: {program_to_string(population[0].genome)}\")\n",
    "        np.seterr(all='ignore')\n",
    "\n",
    "        # Crea la nuova generazione\n",
    "        next_population = []\n",
    "        #It makes sense to extend before, so that the elite can contribute to the formation of new individuals\n",
    "        while len(next_population) < offspring_size:\n",
    "            if random() < p_crossover and len(population) > 200:\n",
    "                parent1, parent2 = tournament_selection(population), tournament_selection(population)\n",
    "                child1, child2 = crossover(parent1, parent2)\n",
    "\n",
    "                if random() < p_mutation and len(next_population) < offspring_size:\n",
    "                    child1 = mutate(child1, input_dim)\n",
    "                    next_population.append(Individual(genome=child1, fitness=fitness_function(child1, x, y)))\n",
    "                if random() < p_mutation and len(next_population) < offspring_size:\n",
    "                    child2 = mutate(child2, input_dim)\n",
    "                    next_population.append(Individual(genome=child2, fitness=fitness_function(child2, x, y)))\n",
    "                if random() < tweak_probability and len(next_population) < offspring_size:\n",
    "                    new_ind = tweak_program_2(child1)\n",
    "                    next_population.append(Individual(genome=new_ind, fitness=fitness_function(new_ind, x, y)))\n",
    "                if random() < tweak_probability and len(next_population) < offspring_size:\n",
    "                    new_ind = tweak_program_2(child2)\n",
    "                    next_population.append(Individual(genome=new_ind, fitness=fitness_function(new_ind, x, y)))\n",
    "            else:\n",
    "                # Mutazione diretta di un genitore\n",
    "                #Use tournament selection also here, but only if there's enough material, otherwise random\n",
    "                if(len(population)>500):\n",
    "                    parent = tournament_selection(population)\n",
    "                else:\n",
    "                    parent = choice(population)\n",
    "                    parent = parent.genome\n",
    "                mutant = mutate(parent, input_dim)\n",
    "                if len(next_population) < offspring_size:\n",
    "                    next_population.append(Individual(genome=mutant, fitness=fitness_function(mutant, x, y)))\n",
    "                    \n",
    "        #Remove duplicates\n",
    "        unique_population = {}\n",
    "        for prog in next_population:\n",
    "            serialized = str(prog.genome)\n",
    "            if serialized not in unique_population:\n",
    "                unique_population[serialized] = prog\n",
    "\n",
    "        # Unique population + elite\n",
    "        population = list(unique_population.values())[:population_size]\n",
    "        #Was it needed to filter here?\n",
    "        #population.sort(key=lambda i: i.fitness)\n",
    "        population = population[:population_size]\n",
    "        for ind in population:\n",
    "            ind.fitness = fitness_function(ind.genome, x, y)\n",
    "\n",
    "    # Identifica il miglior programma\n",
    "    fitness = np.array([fitness_function(prog.genome, x, y) for prog in population])\n",
    "    mse_value = np.array([mse(prog.genome, x, y) for prog in population])\n",
    "    population.sort(key=lambda i: i.fitness)\n",
    "    population = population[:population_size]\n",
    "    best_program = population[0]\n",
    "    best_mse = mse_value(best_program.genome, x, y)\n",
    "\n",
    "    print(\"Miglior programma:\", best_program.genome, \"; Fitness:\", best_mse)\n",
    "    return best_program.genome\n",
    "\n",
    "best_program = run_genetic_algorithm()\n"
   ]
  },
  {
   "cell_type": "code",
   "execution_count": null,
   "metadata": {},
   "outputs": [
    {
     "name": "stdout",
     "output_type": "stream",
     "text": [
      "Generazione 1, miglior fitness: 1.067566\n",
      "Best formula: x[0]\n",
      "Generazione 2, miglior fitness: 1.067566\n",
      "Best formula: x[0]\n",
      "Generazione 3, miglior fitness: 1.067566\n",
      "Best formula: x[0]\n",
      "Generazione 4, miglior fitness: 1.067566\n",
      "Best formula: x[0]\n",
      "Generazione 5, miglior fitness: 0.314973\n",
      "Best formula: (x[0] - (sin(x[1]) - x[1]))\n",
      "Generazione 6, miglior fitness: nan\n",
      "Best formula: (x[0] - (sin(sin(cos(sqrt(cos(log(cos(cos(sqrt(tan(sin(tan(x[1])))))))))))) - log(sqrt(cos(log(tan(sqrt(cos(cos(cos(sin(log(tan(sin(x[1])))))))))))))))\n",
      "Generazione 7, miglior fitness: nan\n",
      "Best formula: (x[0] - (sin(sin(cos(sqrt(cos(log(cos(cos(sqrt(tan(sin(tan(tan(sqrt(log(log(log(cos(sqrt(sin(cos(sin(cos(cos(sqrt(x[1]))))))))))))))))))))))))) - log(sqrt(cos(log(tan(sqrt(cos(cos(cos(sin(log(tan(sin(sin(cos(sqrt(log(sqrt(tan(tan(cos(sin(sqrt(tan(cos(sqrt(cos(sqrt(cos(sin(log(sin(sqrt(sin(x[1]))))))))))))))))))))))))))))))))))))\n",
      "Generazione 8, miglior fitness: 0.050560\n",
      "Best formula: (x[0] - sin((tan(3) * x[1])))\n",
      "Generazione 9, miglior fitness: nan\n",
      "Best formula: (x[0] - sin((tan(3) * cos(sqrt(sqrt(sin(log(tan(sqrt(sqrt(log(tan(tan(cos(x[1])))))))))))))))\n",
      "Generazione 10, miglior fitness: nan\n",
      "Best formula: (x[0] - sin((tan(3) * cos(sqrt(sqrt(sin(log(tan(sqrt(sqrt(log(tan(tan(cos(log(sin(cos(sqrt(sin(sqrt(sin(sin(sqrt(log(log(sqrt(log(tan(sin(tan(cos(log(x[1])))))))))))))))))))))))))))))))))\n",
      "Generazione 11, miglior fitness: nan\n",
      "Best formula: (x[0] - sin((tan(3) * cos(sqrt(sqrt(sin(log(tan(sqrt(sqrt(log(tan(tan(cos(log(sin(cos(sqrt(sin(sqrt(sin(sin(sqrt(log(log(sqrt(log(tan(sin(tan(cos(log(tan(log(cos(tan(log(sin(log(tan(tan(tan(log(log(tan(tan(sqrt(x[1]))))))))))))))))))))))))))))))))))))))))))))))))\n",
      "Generazione 12, miglior fitness: nan\n",
      "Best formula: (x[0] - sin((tan(3) * cos(sqrt(sqrt(sin(log(tan(sqrt(sqrt(log(tan(tan(cos(log(sin(cos(sqrt(sin(sqrt(sin(sin(sqrt(log(log(sqrt(log(tan(sin(tan(cos(log(tan(log(cos(tan(log(sin(log(tan(tan(tan(log(log(tan(tan(sqrt(log(sqrt(sqrt(sin(sin(sin(cos(tan(sqrt(cos(sin(tan(tan(cos(x[1]))))))))))))))))))))))))))))))))))))))))))))))))))))))))))))))\n",
      "Generazione 13, miglior fitness: nan\n",
      "Best formula: (x[0] - sin((tan(3) * cos(sqrt(sqrt(sin(log(tan(sqrt(sqrt(log(tan(tan(cos(log(sin(cos(sqrt(sin(sqrt(sin(sin(sqrt(log(log(sqrt(log(tan(sin(tan(cos(log(tan(log(cos(tan(log(sin(log(tan(tan(tan(log(log(tan(tan(sqrt(log(sqrt(sqrt(sin(sin(sin(cos(tan(sqrt(cos(sin(tan(tan(cos(tan(tan(sqrt(sin(tan(tan(cos(sin(cos(tan(sin(tan(sqrt(sin(log(tan(log(x[1])))))))))))))))))))))))))))))))))))))))))))))))))))))))))))))))))))))))))))))))\n"
     ]
    },
    {
     "ename": "KeyboardInterrupt",
     "evalue": "",
     "output_type": "error",
     "traceback": [
      "\u001b[1;31m---------------------------------------------------------------------------\u001b[0m",
      "\u001b[1;31mKeyboardInterrupt\u001b[0m                         Traceback (most recent call last)",
      "Cell \u001b[1;32mIn[27], line 85\u001b[0m\n\u001b[0;32m     82\u001b[0m     \u001b[38;5;28mprint\u001b[39m(\u001b[38;5;124m\"\u001b[39m\u001b[38;5;124mMiglior programma:\u001b[39m\u001b[38;5;124m\"\u001b[39m, best_program\u001b[38;5;241m.\u001b[39mgenome, \u001b[38;5;124m\"\u001b[39m\u001b[38;5;124m; Fitness:\u001b[39m\u001b[38;5;124m\"\u001b[39m, best_mse)\n\u001b[0;32m     83\u001b[0m     \u001b[38;5;28;01mreturn\u001b[39;00m best_program\u001b[38;5;241m.\u001b[39mgenome\n\u001b[1;32m---> 85\u001b[0m best_program \u001b[38;5;241m=\u001b[39m \u001b[43mrun_genetic_algorithm\u001b[49m\u001b[43m(\u001b[49m\u001b[43m)\u001b[49m\n",
      "Cell \u001b[1;32mIn[27], line 46\u001b[0m, in \u001b[0;36mrun_genetic_algorithm\u001b[1;34m()\u001b[0m\n\u001b[0;32m     44\u001b[0m next_population\u001b[38;5;241m.\u001b[39mappend(Individual(genome\u001b[38;5;241m=\u001b[39mchild1, fitness\u001b[38;5;241m=\u001b[39mfitness_function(child1, x, y)))\n\u001b[0;32m     45\u001b[0m \u001b[38;5;28;01mif\u001b[39;00m \u001b[38;5;28mlen\u001b[39m(next_population) \u001b[38;5;241m<\u001b[39m offspring_size:\n\u001b[1;32m---> 46\u001b[0m     next_population\u001b[38;5;241m.\u001b[39mappend(Individual(genome\u001b[38;5;241m=\u001b[39mchild2, fitness\u001b[38;5;241m=\u001b[39m\u001b[43mfitness_function\u001b[49m\u001b[43m(\u001b[49m\u001b[43mchild2\u001b[49m\u001b[43m,\u001b[49m\u001b[43m \u001b[49m\u001b[43mx\u001b[49m\u001b[43m,\u001b[49m\u001b[43m \u001b[49m\u001b[43my\u001b[49m\u001b[43m)\u001b[49m))\n\u001b[0;32m     47\u001b[0m \u001b[38;5;28;01mif\u001b[39;00m random() \u001b[38;5;241m<\u001b[39m tweak_probability \u001b[38;5;129;01mand\u001b[39;00m \u001b[38;5;28mlen\u001b[39m(next_population) \u001b[38;5;241m<\u001b[39m offspring_size:\n\u001b[0;32m     48\u001b[0m     new_ind \u001b[38;5;241m=\u001b[39m tweak_program_2(child1)\n",
      "Cell \u001b[1;32mIn[18], line 11\u001b[0m, in \u001b[0;36mfitness_function\u001b[1;34m(program, x, y)\u001b[0m\n\u001b[0;32m      6\u001b[0m \u001b[38;5;250m\u001b[39m\u001b[38;5;124;03m\"\"\"\u001b[39;00m\n\u001b[0;32m      7\u001b[0m \u001b[38;5;124;03mValuta la fitness di un programma.\u001b[39;00m\n\u001b[0;32m      8\u001b[0m \u001b[38;5;124;03m\"\"\"\u001b[39;00m\n\u001b[0;32m      9\u001b[0m \u001b[38;5;28;01mtry\u001b[39;00m:\n\u001b[0;32m     10\u001b[0m     \u001b[38;5;66;03m# Valutazione del programma\u001b[39;00m\n\u001b[1;32m---> 11\u001b[0m     predictions \u001b[38;5;241m=\u001b[39m np\u001b[38;5;241m.\u001b[39marray([\u001b[43mevaluate_program\u001b[49m\u001b[43m(\u001b[49m\u001b[43mprogram\u001b[49m\u001b[43m,\u001b[49m\u001b[43m \u001b[49m\u001b[43mx_row\u001b[49m\u001b[43m)\u001b[49m \u001b[38;5;28;01mfor\u001b[39;00m x_row \u001b[38;5;129;01min\u001b[39;00m x\u001b[38;5;241m.\u001b[39mT])\n\u001b[0;32m     12\u001b[0m     \u001b[38;5;28;01mif\u001b[39;00m np\u001b[38;5;241m.\u001b[39many(np\u001b[38;5;241m.\u001b[39misnan(predictions)) \u001b[38;5;129;01mor\u001b[39;00m np\u001b[38;5;241m.\u001b[39many(np\u001b[38;5;241m.\u001b[39misinf(predictions)):\n\u001b[0;32m     13\u001b[0m         \u001b[38;5;28;01mreturn\u001b[39;00m np\u001b[38;5;241m.\u001b[39minf  \u001b[38;5;66;03m# Penalizza programmi invalidi\u001b[39;00m\n",
      "Cell \u001b[1;32mIn[6], line 10\u001b[0m, in \u001b[0;36mevaluate_program\u001b[1;34m(program, x)\u001b[0m\n\u001b[0;32m      8\u001b[0m \u001b[38;5;28;01melif\u001b[39;00m \u001b[38;5;28misinstance\u001b[39m(program, \u001b[38;5;28mlist\u001b[39m): \n\u001b[0;32m      9\u001b[0m     op \u001b[38;5;241m=\u001b[39m \u001b[38;5;28mnext\u001b[39m(op \u001b[38;5;28;01mfor\u001b[39;00m op, _, symbol \u001b[38;5;129;01min\u001b[39;00m OPERATIONS \u001b[38;5;28;01mif\u001b[39;00m symbol \u001b[38;5;241m==\u001b[39m program[\u001b[38;5;241m0\u001b[39m])\n\u001b[1;32m---> 10\u001b[0m     args \u001b[38;5;241m=\u001b[39m [\u001b[43mevaluate_program\u001b[49m\u001b[43m(\u001b[49m\u001b[43mchild\u001b[49m\u001b[43m,\u001b[49m\u001b[43m \u001b[49m\u001b[43mx\u001b[49m\u001b[43m)\u001b[49m \u001b[38;5;28;01mfor\u001b[39;00m child \u001b[38;5;129;01min\u001b[39;00m program[\u001b[38;5;241m1\u001b[39m:]]\n\u001b[0;32m     11\u001b[0m     \u001b[38;5;28;01mtry\u001b[39;00m:\n\u001b[0;32m     12\u001b[0m         \u001b[38;5;28;01mreturn\u001b[39;00m op(\u001b[38;5;241m*\u001b[39margs)\n",
      "Cell \u001b[1;32mIn[6], line 10\u001b[0m, in \u001b[0;36mevaluate_program\u001b[1;34m(program, x)\u001b[0m\n\u001b[0;32m      8\u001b[0m \u001b[38;5;28;01melif\u001b[39;00m \u001b[38;5;28misinstance\u001b[39m(program, \u001b[38;5;28mlist\u001b[39m): \n\u001b[0;32m      9\u001b[0m     op \u001b[38;5;241m=\u001b[39m \u001b[38;5;28mnext\u001b[39m(op \u001b[38;5;28;01mfor\u001b[39;00m op, _, symbol \u001b[38;5;129;01min\u001b[39;00m OPERATIONS \u001b[38;5;28;01mif\u001b[39;00m symbol \u001b[38;5;241m==\u001b[39m program[\u001b[38;5;241m0\u001b[39m])\n\u001b[1;32m---> 10\u001b[0m     args \u001b[38;5;241m=\u001b[39m [\u001b[43mevaluate_program\u001b[49m\u001b[43m(\u001b[49m\u001b[43mchild\u001b[49m\u001b[43m,\u001b[49m\u001b[43m \u001b[49m\u001b[43mx\u001b[49m\u001b[43m)\u001b[49m \u001b[38;5;28;01mfor\u001b[39;00m child \u001b[38;5;129;01min\u001b[39;00m program[\u001b[38;5;241m1\u001b[39m:]]\n\u001b[0;32m     11\u001b[0m     \u001b[38;5;28;01mtry\u001b[39;00m:\n\u001b[0;32m     12\u001b[0m         \u001b[38;5;28;01mreturn\u001b[39;00m op(\u001b[38;5;241m*\u001b[39margs)\n",
      "    \u001b[1;31m[... skipping similar frames: evaluate_program at line 10 (57 times)]\u001b[0m\n",
      "Cell \u001b[1;32mIn[6], line 10\u001b[0m, in \u001b[0;36mevaluate_program\u001b[1;34m(program, x)\u001b[0m\n\u001b[0;32m      8\u001b[0m \u001b[38;5;28;01melif\u001b[39;00m \u001b[38;5;28misinstance\u001b[39m(program, \u001b[38;5;28mlist\u001b[39m): \n\u001b[0;32m      9\u001b[0m     op \u001b[38;5;241m=\u001b[39m \u001b[38;5;28mnext\u001b[39m(op \u001b[38;5;28;01mfor\u001b[39;00m op, _, symbol \u001b[38;5;129;01min\u001b[39;00m OPERATIONS \u001b[38;5;28;01mif\u001b[39;00m symbol \u001b[38;5;241m==\u001b[39m program[\u001b[38;5;241m0\u001b[39m])\n\u001b[1;32m---> 10\u001b[0m     args \u001b[38;5;241m=\u001b[39m [evaluate_program(child, x) \u001b[38;5;28;01mfor\u001b[39;00m child \u001b[38;5;129;01min\u001b[39;00m program[\u001b[38;5;241m1\u001b[39m:]]\n\u001b[0;32m     11\u001b[0m     \u001b[38;5;28;01mtry\u001b[39;00m:\n\u001b[0;32m     12\u001b[0m         \u001b[38;5;28;01mreturn\u001b[39;00m op(\u001b[38;5;241m*\u001b[39margs)\n",
      "\u001b[1;31mKeyboardInterrupt\u001b[0m: "
     ]
    }
   ],
   "source": [
    "# Inizializza popolazione\n",
    "input_dim = x.shape[0]\n",
    "population = [Individual(genome=random_program(max_depth, input_dim)) for _ in range(population_size)]\n",
    "for i in population:\n",
    "    i.fitness=fitness_function(i.genome, x, y)\n",
    "\n",
    "# Loop principale per le generazioni\n",
    "def run_genetic_algorithm():\n",
    "    global population\n",
    "\n",
    "    for gen in range(generations):\n",
    "        population.sort(key=lambda i: i.fitness)\n",
    "        elite = population[:elite_size]\n",
    "        mse_to_print = mse(population[0].genome, x, y)\n",
    "\n",
    "        #break the cycle if you found the best solution you're able to find with training data\n",
    "        if(mse_to_print==0.0000): \n",
    "            np.seterr(all='warn')\n",
    "            print('Best program found with mse=0')\n",
    "            return population[0].genome\n",
    "\n",
    "        np.seterr(all='warn')\n",
    "        print(f\"Generazione {gen + 1}, miglior fitness: {mse_to_print:.6f}\")\n",
    "        #population is already sorted, so:\n",
    "        print(f\"Best formula: {program_to_string(population[0].genome)}\")\n",
    "        np.seterr(all='ignore')\n",
    "        \n",
    "        # Crea la nuova generazione\n",
    "        next_population = []\n",
    "\n",
    "        while len(next_population) < offspring_size:\n",
    "            if random() < p_crossover and len(population) > 200:\n",
    "                # Crossover\n",
    "                #With random choice is much faster than tournament selection\n",
    "                #Choose the best and the second best parent\n",
    "                parent1, parent2 = tournament_selection(population), tournament_selection(population)\n",
    "                child1, child2 = crossover(parent1, parent2)\n",
    "\n",
    "                if random() < p_mutation:\n",
    "                    child1 = mutate(child1, input_dim)\n",
    "                if random() < p_mutation:\n",
    "                    child2 = mutate(child2, input_dim)\n",
    "\n",
    "                next_population.append(Individual(genome=child1, fitness=fitness_function(child1, x, y)))\n",
    "                if len(next_population) < offspring_size:\n",
    "                    next_population.append(Individual(genome=child2, fitness=fitness_function(child2, x, y)))\n",
    "                if random() < tweak_probability and len(next_population) < offspring_size:\n",
    "                    new_ind = tweak_program_2(child1)\n",
    "                    next_population.append(Individual(genome=new_ind, fitness=fitness_function(new_ind, x, y)))\n",
    "                \n",
    "            else:\n",
    "                # Mutazione diretta di un genitore\n",
    "                #Use tournament selection also here, but only if there's enough material, otherwise random\n",
    "                if(len(population)>500):\n",
    "                    parent = tournament_selection(population)\n",
    "                else:\n",
    "                    parent = choice(population)\n",
    "                    parent = parent.genome\n",
    "                mutant = mutate(parent, input_dim)\n",
    "                next_population.append(Individual(genome=mutant, fitness=fitness_function(mutant, x, y)))\n",
    "                    \n",
    "\n",
    "        # Combina elite e nuova generazione\n",
    "        next_population.extend(elite)\n",
    "\n",
    "        # Rimuovi duplicati\n",
    "        unique_population = {}\n",
    "        for prog in next_population:\n",
    "            serialized = str(prog)\n",
    "            if serialized not in unique_population:\n",
    "                unique_population[serialized] = prog\n",
    "\n",
    "        # Aggiorna la popolazione con individui unici\n",
    "        population = list(unique_population.values())[:population_size]\n",
    "\n",
    "    # Identifica il miglior programma\n",
    "    mse_value = np.array([mse(prog.genome, x, y) for prog in population])\n",
    "    population.sort(key=lambda i: i.fitness)\n",
    "    best_program = population[0]\n",
    "    best_mse = mse(best_program.genome, x, y)\n",
    "\n",
    "    print(\"Miglior programma:\", best_program.genome, \"; Fitness:\", best_mse)\n",
    "    return best_program.genome\n",
    "\n",
    "best_program = run_genetic_algorithm()"
   ]
  },
  {
   "cell_type": "code",
   "execution_count": 28,
   "metadata": {},
   "outputs": [
    {
     "name": "stdout",
     "output_type": "stream",
     "text": [
      "Individual(genome=['({} - {})', 'x[0]', ['sin({})', ['({} * {})', ['tan({})', '3'], ['cos({})', ['sqrt({})', ['sqrt({})', ['sin({})', ['log({})', ['tan({})', ['sqrt({})', ['sqrt({})', ['log({})', ['tan({})', ['tan({})', ['cos({})', ['log({})', ['sin({})', ['cos({})', ['sqrt({})', ['sin({})', ['sqrt({})', ['sin({})', ['sin({})', ['sqrt({})', ['log({})', ['log({})', ['sqrt({})', ['log({})', ['tan({})', ['sin({})', ['tan({})', ['cos({})', ['log({})', ['tan({})', ['log({})', ['cos({})', ['tan({})', ['log({})', ['sin({})', ['log({})', ['tan({})', ['tan({})', ['tan({})', ['log({})', ['log({})', ['tan({})', ['tan({})', ['sqrt({})', ['log({})', ['sqrt({})', ['sqrt({})', ['sin({})', ['sin({})', ['sin({})', ['cos({})', ['tan({})', ['sqrt({})', ['cos({})', ['sin({})', ['tan({})', ['tan({})', ['cos({})', ['tan({})', ['tan({})', ['sqrt({})', ['sin({})', ['tan({})', ['tan({})', ['cos({})', ['sin({})', ['cos({})', ['tan({})', ['sin({})', ['tan({})', ['sqrt({})', ['sin({})', ['log({})', ['tan({})', ['log({})', ['sin({})', ['sqrt({})', ['sin({})', ['log({})', ['tan({})', ['tan({})', ['cos({})', ['cos({})', ['cos({})', ['tan({})', ['tan({})', ['cos({})', 'x[1]']]]]]]]]]]]]]]]]]]]]]]]]]]]]]]]]]]]]]]]]]]]]]]]]]]]]]]]]]]]]]]]]]]]]]]]]]]]]]]]]]]]]]]]]]]], fitness=0.10056018861656851)\n"
     ]
    }
   ],
   "source": [
    "print(population[0])"
   ]
  },
  {
   "cell_type": "code",
   "execution_count": 30,
   "metadata": {},
   "outputs": [
    {
     "data": {
      "text/plain": [
       "nan"
      ]
     },
     "execution_count": 30,
     "metadata": {},
     "output_type": "execute_result"
    }
   ],
   "source": [
    "mse(population[0].genome, x, y)"
   ]
  },
  {
   "cell_type": "code",
   "execution_count": 31,
   "metadata": {},
   "outputs": [
    {
     "data": {
      "text/plain": [
       "inf"
      ]
     },
     "execution_count": 31,
     "metadata": {},
     "output_type": "execute_result"
    }
   ],
   "source": [
    "fitness_function(population[0].genome, x, y)"
   ]
  },
  {
   "cell_type": "code",
   "execution_count": null,
   "metadata": {},
   "outputs": [],
   "source": [
    "program_to_string(best_program)"
   ]
  }
 ],
 "metadata": {
  "kernelspec": {
   "display_name": "Python 3",
   "language": "python",
   "name": "python3"
  },
  "language_info": {
   "codemirror_mode": {
    "name": "ipython",
    "version": 3
   },
   "file_extension": ".py",
   "mimetype": "text/x-python",
   "name": "python",
   "nbconvert_exporter": "python",
   "pygments_lexer": "ipython3",
   "version": "3.12.6"
  }
 },
 "nbformat": 4,
 "nbformat_minor": 2
}
