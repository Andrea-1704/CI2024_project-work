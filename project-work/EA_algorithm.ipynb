{
 "cells": [
  {
   "cell_type": "markdown",
   "metadata": {},
   "source": [
    "# Import"
   ]
  },
  {
   "cell_type": "code",
   "execution_count": 16,
   "metadata": {},
   "outputs": [],
   "source": [
    "import numpy as np\n",
    "from random import choice, random, randint, sample\n",
    "import copy"
   ]
  },
  {
   "cell_type": "markdown",
   "metadata": {},
   "source": [
    "# Operations"
   ]
  },
  {
   "cell_type": "code",
   "execution_count": 17,
   "metadata": {},
   "outputs": [],
   "source": [
    "OPERATIONS = [\n",
    "    (np.add, 2, \"({} + {})\"),\n",
    "    (np.subtract, 2, \"({} - {})\"),\n",
    "    (np.divide, 2, \"({} / {})\"),\n",
    "    (np.sin, 1, \"sin({})\"),\n",
    "]"
   ]
  },
  {
   "cell_type": "markdown",
   "metadata": {},
   "source": [
    "# Genothype definition"
   ]
  },
  {
   "cell_type": "markdown",
   "metadata": {},
   "source": [
    "Let's consider the genotype as a list of elements with the following structure: [operator, first operand, secondo operand].\n",
    "In this way we are creating a recursive function that computes a valid formula and represent it as a list (example: [ \"+\", [\"sin\", \"x[0]\" ], \"x[1]\"])."
   ]
  },
  {
   "cell_type": "code",
   "execution_count": 18,
   "metadata": {},
   "outputs": [],
   "source": [
    "def random_program(depth, input_dim):\n",
    "    if depth == 0 or random() < 0.3:\n",
    "        return f\"x[{randint(0, input_dim - 1)}]\" #new leaf node\n",
    "\n",
    "    op, arity, symbol = choice(OPERATIONS)\n",
    "    children = [random_program(depth - 1, input_dim) for _ in range(arity)]\n",
    "    return [symbol] + children  "
   ]
  },
  {
   "cell_type": "code",
   "execution_count": 19,
   "metadata": {},
   "outputs": [
    {
     "data": {
      "text/plain": [
       "['({} - {})', 'x[0]', 'x[3]']"
      ]
     },
     "execution_count": 19,
     "metadata": {},
     "output_type": "execute_result"
    }
   ],
   "source": [
    "random_program(1, 4)"
   ]
  },
  {
   "cell_type": "markdown",
   "metadata": {},
   "source": [
    "Now we need a function that given the genotype provide us with the output provided by the predicted function. This function must receive the input vector to perform his operation."
   ]
  },
  {
   "cell_type": "code",
   "execution_count": 20,
   "metadata": {},
   "outputs": [],
   "source": [
    "def evaluate_program(program, x):\n",
    "    if isinstance(program, str):  # Leaf node\n",
    "        return x[int(program[2:-1])]  # extract the value\n",
    "    elif isinstance(program, list): \n",
    "        op = next(op for op, _, symbol in OPERATIONS if symbol == program[0])\n",
    "        args = [evaluate_program(child, x) for child in program[1:]]\n",
    "        try:\n",
    "            return op(*args)\n",
    "        except ZeroDivisionError:\n",
    "            return np.inf"
   ]
  },
  {
   "cell_type": "code",
   "execution_count": 21,
   "metadata": {},
   "outputs": [
    {
     "data": {
      "text/plain": [
       "np.float64(1.5)"
      ]
     },
     "execution_count": 21,
     "metadata": {},
     "output_type": "execute_result"
    }
   ],
   "source": [
    "x = [2,3,4, 6]\n",
    "program = ['({} / {})', 'x[1]', 'x[0]']\n",
    "evaluate_program(program, x)"
   ]
  },
  {
   "cell_type": "markdown",
   "metadata": {},
   "source": [
    "As you may notice this function verify with the function __isinstance(element, type)__ if \"element\" is an instance of the \"type\", with the objective of understanding if it is a __leaf node__. If this is the case we simply extract the value out of it, otherwise we still need to invoke the function recursively."
   ]
  },
  {
   "cell_type": "markdown",
   "metadata": {},
   "source": [
    "## Fitness function"
   ]
  },
  {
   "cell_type": "markdown",
   "metadata": {},
   "source": [
    "For now, simply consider the fitness function of a solution as it's mean square error compared to the expected results."
   ]
  },
  {
   "cell_type": "code",
   "execution_count": 22,
   "metadata": {},
   "outputs": [],
   "source": [
    "def fitness_function(program, x, y):\n",
    "    predictions = np.array([evaluate_program(program, x_row) for x_row in x.T])\n",
    "    return np.mean((predictions - y) ** 2)"
   ]
  },
  {
   "cell_type": "code",
   "execution_count": 23,
   "metadata": {},
   "outputs": [],
   "source": [
    "x = np.random.uniform(-1, 1, size=(2, 1000))  # 2 feature, 1000 esempi\n",
    "y = x[0] + np.sin(x[1]) / 5\n",
    "#fitness_function(program, x, y)"
   ]
  },
  {
   "cell_type": "markdown",
   "metadata": {},
   "source": [
    "## Tweak function"
   ]
  },
  {
   "cell_type": "markdown",
   "metadata": {},
   "source": [
    "There is a lot of __variability__ that has to be considered for the tweak function. We can now imagine to implement a recursive function that receives the program (which indicates the current function that we are using for the task), the number of dimensions for the input and the maximum depth allowed for the tweaked solution.\n",
    "\n",
    "Recursively, if we end up into a leaf node, or if the current solution is still a list but with 0.3 probability, we simply generate a new sub-program.\n",
    "\n",
    "Otherwise, we simply invoke the same function for a random index."
   ]
  },
  {
   "cell_type": "code",
   "execution_count": 24,
   "metadata": {},
   "outputs": [],
   "source": [
    "def mutate_program(program, input_dim, depth=3):\n",
    "    if random() < 0.3 or not isinstance(program, list):  \n",
    "        return random_program(depth, input_dim)\n",
    "    idx = randint(1, len(program) - 1)\n",
    "    program[idx] = mutate_program(program[idx], input_dim, depth - 1)\n",
    "    return program"
   ]
  },
  {
   "cell_type": "markdown",
   "metadata": {},
   "source": [
    "Other function"
   ]
  },
  {
   "cell_type": "code",
   "execution_count": null,
   "metadata": {},
   "outputs": [],
   "source": [
    "def mutate(program, input_dim, max_depth=3):\n",
    "    \"\"\"Mutazione di un programma.\"\"\"\n",
    "    mutant = copy.deepcopy(program)\n",
    "\n",
    "    def get_subtree_points(prog):\n",
    "        return [i for i, node in enumerate(prog) if isinstance(node, list)]\n",
    "\n",
    "    points = get_subtree_points(program)\n",
    "    if not points:\n",
    "        return random_program(max_depth, input_dim)  # Ritorna un nuovo programma se non ci sono punti\n",
    "\n",
    "    point = choice(points)\n",
    "\n",
    "    # Genera un nuovo sottoalbero casuale\n",
    "    new_subtree = random_program(randint(1, max_depth), input_dim)\n",
    "    mutant[point] = new_subtree\n",
    "\n",
    "    return mutant"
   ]
  },
  {
   "cell_type": "markdown",
   "metadata": {},
   "source": [
    "## Crossover"
   ]
  },
  {
   "cell_type": "markdown",
   "metadata": {},
   "source": [
    "We can use a croossover function that receives only 2 parents and, if one of them is a leaf program simply return casually one of the 2 programs (avoiding to perform the operation for programs with no childrens). Otherwise, select random indexes for both the parents and combine the first part of the tree with the second part of the tree of the 2 parents, returning a new individual."
   ]
  },
  {
   "cell_type": "code",
   "execution_count": 25,
   "metadata": {},
   "outputs": [],
   "source": [
    "def crossover(parent1, parent2, max_depth=3):\n",
    "    \"\"\"Crossover tra due programmi.\"\"\"\n",
    "    child1, child2 = copy.deepcopy(parent1), copy.deepcopy(parent2)\n",
    "\n",
    "    if len(parent1) < 2 or len(parent2) < 2:\n",
    "        return parent1, parent2  # Evita crossover se i programmi sono troppo piccoli\n",
    "\n",
    "    # Punti di crossover validi\n",
    "    def get_subtree_points(prog):\n",
    "        return [i for i, node in enumerate(prog) if isinstance(node, list)]\n",
    "\n",
    "    points1 = get_subtree_points(parent1)\n",
    "    points2 = get_subtree_points(parent2)\n",
    "\n",
    "    if not points1 or not points2:\n",
    "        return parent1, parent2  # Nessun punto valido per il crossover\n",
    "\n",
    "    point1 = choice(points1)\n",
    "    point2 = choice(points2)\n",
    "\n",
    "    # Scambia i sottoalberi\n",
    "    subtree1 = parent1[point1]\n",
    "    subtree2 = parent2[point2]\n",
    "\n",
    "    child1[point1], child2[point2] = subtree2, subtree1\n",
    "\n",
    "    return child1, child2"
   ]
  },
  {
   "cell_type": "markdown",
   "metadata": {},
   "source": [
    "## Genetic algorithm"
   ]
  },
  {
   "cell_type": "markdown",
   "metadata": {},
   "source": [
    "### Parameter selection"
   ]
  },
  {
   "cell_type": "code",
   "execution_count": 32,
   "metadata": {},
   "outputs": [],
   "source": [
    "generations=50\n",
    "population_size=100\n",
    "offspring_size = 50"
   ]
  },
  {
   "cell_type": "markdown",
   "metadata": {},
   "source": [
    "### Data selection"
   ]
  },
  {
   "cell_type": "code",
   "execution_count": 27,
   "metadata": {},
   "outputs": [],
   "source": [
    "x = np.random.uniform(-1, 1, size=(2, 1000))  # 2 feature, 1000 esempi\n",
    "y = x[0] + np.sin(x[1]) / 5"
   ]
  },
  {
   "cell_type": "code",
   "execution_count": null,
   "metadata": {},
   "outputs": [
    {
     "name": "stderr",
     "output_type": "stream",
     "text": [
      "C:\\Users\\andrea\\AppData\\Local\\Temp\\ipykernel_10292\\3929008207.py:28: RuntimeWarning: divide by zero encountered in divide\n",
      "  return op(*args)\n"
     ]
    }
   ],
   "source": [
    "input_dim = x.shape[0]\n",
    "population = [random_program(3, input_dim) for _ in range(population_size)]\n",
    "\n",
    "for gen in range(generations):\n",
    "    fitness = np.array([fitness_function(prog, x, y) for prog in population])\n",
    "\n",
    "    # Seleziona la metà migliore della popolazione\n",
    "    sorted_indices = fitness.argsort()\n",
    "    population = [population[i] for i in sorted_indices[:population_size // 2]]\n",
    "    fitness = fitness[sorted_indices[:population_size // 2]]\n",
    "\n",
    "    print(f\"Generazione {gen + 1}, miglior fitness: {fitness[0]:.6f}\")\n",
    "\n",
    "    # Nuova generazione con crossover e mutazione\n",
    "    offspring = []\n",
    "    while len(offspring) < offspring_size:\n",
    "        parent1 = choice(population)\n",
    "        parent2 = choice(population)\n",
    "        child1, child2 = crossover(parent1, parent2)\n",
    "        offspring.append(mutate_program(child1, input_dim))\n",
    "        if len(offspring) < population_size:\n",
    "            offspring.append(mutate_program(child2, input_dim))\n",
    "\n",
    "    population.append(offspring)\n",
    "    #best 100:\n",
    "    sorted_indices = fitness.argsort()\n",
    "    population = [population[i] for i in sorted_indices[:population_size]]\n",
    "\n",
    "# Ritorna il migliore\n",
    "best_program = population[0]\n",
    "best_fitness = fitness_function(best_program, x, y)\n",
    "print(\"Miglior programma:\", best_program, \"; Fitness:\", best_fitness)"
   ]
  },
  {
   "cell_type": "code",
   "execution_count": 30,
   "metadata": {},
   "outputs": [
    {
     "name": "stderr",
     "output_type": "stream",
     "text": [
      "C:\\Users\\andrea\\AppData\\Local\\Temp\\ipykernel_10292\\3929008207.py:28: RuntimeWarning: divide by zero encountered in divide\n",
      "  return op(*args)\n"
     ]
    },
    {
     "name": "stdout",
     "output_type": "stream",
     "text": [
      "Generazione 1, miglior fitness: 0.004515\n",
      "Generazione 2, miglior fitness: 0.010800\n",
      "Generazione 3, miglior fitness: 0.010800\n",
      "Generazione 4, miglior fitness: 0.010800\n",
      "Generazione 5, miglior fitness: 0.010800\n",
      "Generazione 6, miglior fitness: 0.010800\n",
      "Generazione 7, miglior fitness: 0.010800\n",
      "Generazione 8, miglior fitness: 0.010800\n",
      "Generazione 9, miglior fitness: 0.010800\n",
      "Generazione 10, miglior fitness: 0.010800\n"
     ]
    },
    {
     "name": "stderr",
     "output_type": "stream",
     "text": [
      "C:\\Users\\andrea\\AppData\\Local\\Temp\\ipykernel_10292\\3929008207.py:28: RuntimeWarning: invalid value encountered in divide\n",
      "  return op(*args)\n"
     ]
    },
    {
     "name": "stdout",
     "output_type": "stream",
     "text": [
      "Generazione 11, miglior fitness: 0.010800\n",
      "Generazione 12, miglior fitness: 0.010800\n",
      "Generazione 13, miglior fitness: 0.014799\n",
      "Generazione 14, miglior fitness: 0.014799\n",
      "Generazione 15, miglior fitness: 0.012341\n",
      "Generazione 16, miglior fitness: 0.006348\n",
      "Generazione 17, miglior fitness: 0.006348\n",
      "Generazione 18, miglior fitness: 0.010800\n"
     ]
    },
    {
     "name": "stderr",
     "output_type": "stream",
     "text": [
      "C:\\Users\\andrea\\AppData\\Local\\Temp\\ipykernel_10292\\3929008207.py:28: RuntimeWarning: invalid value encountered in sin\n",
      "  return op(*args)\n"
     ]
    },
    {
     "name": "stdout",
     "output_type": "stream",
     "text": [
      "Generazione 19, miglior fitness: 0.012341\n",
      "Generazione 20, miglior fitness: 0.014799\n",
      "Generazione 21, miglior fitness: 0.014799\n",
      "Generazione 22, miglior fitness: 0.010800\n",
      "Generazione 23, miglior fitness: 0.010800\n",
      "Generazione 24, miglior fitness: 0.010800\n",
      "Generazione 25, miglior fitness: 0.010800\n",
      "Generazione 26, miglior fitness: 0.010800\n",
      "Generazione 27, miglior fitness: 0.010800\n",
      "Generazione 28, miglior fitness: 0.010800\n",
      "Generazione 29, miglior fitness: 0.010800\n",
      "Generazione 30, miglior fitness: 0.010800\n",
      "Generazione 31, miglior fitness: 0.010800\n",
      "Generazione 32, miglior fitness: 0.010800\n",
      "Generazione 33, miglior fitness: 0.010800\n",
      "Generazione 34, miglior fitness: 0.010800\n",
      "Generazione 35, miglior fitness: 0.010800\n",
      "Generazione 36, miglior fitness: 0.014799\n",
      "Generazione 37, miglior fitness: 0.010800\n",
      "Generazione 38, miglior fitness: 0.010800\n",
      "Generazione 39, miglior fitness: 0.007088\n",
      "Generazione 40, miglior fitness: 0.010800\n",
      "Generazione 41, miglior fitness: 0.010800\n",
      "Generazione 42, miglior fitness: 0.014799\n",
      "Generazione 43, miglior fitness: 0.010800\n",
      "Generazione 44, miglior fitness: 0.010800\n",
      "Generazione 45, miglior fitness: 0.010800\n",
      "Generazione 46, miglior fitness: 0.010800\n",
      "Generazione 47, miglior fitness: 0.010800\n"
     ]
    },
    {
     "name": "stderr",
     "output_type": "stream",
     "text": [
      "C:\\Users\\andrea\\AppData\\Local\\Temp\\ipykernel_10292\\3929008207.py:28: RuntimeWarning: invalid value encountered in add\n",
      "  return op(*args)\n"
     ]
    },
    {
     "name": "stdout",
     "output_type": "stream",
     "text": [
      "Generazione 48, miglior fitness: 0.010800\n",
      "Generazione 49, miglior fitness: 0.010800\n",
      "Generazione 50, miglior fitness: 0.010800\n",
      "Miglior programma: ['({} + {})', ['({} - {})', 'x[0]', 'x[0]'], 'x[0]'] ; Fitness: 0.010799566030572581\n"
     ]
    }
   ],
   "source": [
    "\n",
    "# Parametri del GP\n",
    "generations = 50\n",
    "population_size = 100\n",
    "p_crossover = 0.7\n",
    "p_mutation = 0.3\n",
    "n_trial = 5\n",
    "max_depth = 3\n",
    "\n",
    "x = np.random.uniform(-1, 1, size=(2, 1000))  # 2 feature, 1000 esempi\n",
    "y = x[0] + np.sin(x[1]) / 5\n",
    "\n",
    "input_dim = x.shape[0]\n",
    "population = [random_program(3, input_dim) for _ in range(population_size)]\n",
    "\n",
    "for gen in range(generations):\n",
    "    fitness = np.array([fitness_function(prog, x, y) for prog in population])\n",
    "\n",
    "    # Seleziona la metà migliore della popolazione\n",
    "    sorted_indices = fitness.argsort()\n",
    "    population = [population[i] for i in sorted_indices[:population_size // 2]]\n",
    "    fitness = fitness[sorted_indices[:population_size // 2]]\n",
    "\n",
    "    print(f\"Generazione {gen + 1}, miglior fitness: {fitness[0]:.6f}\")\n",
    "\n",
    "    next_population = [copy.deepcopy(ind) for ind in population]\n",
    "    ori_expr = [str(ind) for ind in next_population]\n",
    "\n",
    "    # Crossover\n",
    "    for i in range(1, len(next_population), 2):\n",
    "        if random() < p_crossover:\n",
    "            c1_updated, c2_updated = False, False\n",
    "            for _ in range(n_trial):\n",
    "                if c1_updated and c2_updated:\n",
    "                    break\n",
    "                c1, c2 = crossover(next_population[i - 1], next_population[i])\n",
    "                if n_trial <= 1:\n",
    "                    next_population[i - 1], next_population[i] = c1, c2\n",
    "                    c1_updated, c2_updated = True, True\n",
    "                else:\n",
    "                    if not c1_updated and str(c1) not in ori_expr:\n",
    "                        next_population[i - 1] = c1\n",
    "                        ori_expr.append(str(c1))\n",
    "                        c1_updated = True\n",
    "                    if not c2_updated and str(c2) not in ori_expr:\n",
    "                        next_population[i] = c2\n",
    "                        ori_expr.append(str(c2))\n",
    "                        c2_updated = True\n",
    "\n",
    "    # Mutazione\n",
    "    for i in range(len(next_population)):\n",
    "        if random() < p_mutation:\n",
    "            for _ in range(n_trial):\n",
    "                mutant = mutate(next_population[i], input_dim)\n",
    "                if n_trial <= 1 or str(mutant) not in ori_expr:\n",
    "                    next_population[i] = mutant\n",
    "                    ori_expr.append(str(mutant))\n",
    "                    break\n",
    "\n",
    "    # Aggiorna la popolazione\n",
    "    population = next_population\n",
    "\n",
    "# Ritorna il migliore\n",
    "best_program = population[0]\n",
    "best_fitness = fitness_function(best_program, x, y)\n",
    "print(\"Miglior programma:\", best_program, \"; Fitness:\", best_fitness)\n"
   ]
  }
 ],
 "metadata": {
  "kernelspec": {
   "display_name": "Python 3",
   "language": "python",
   "name": "python3"
  },
  "language_info": {
   "codemirror_mode": {
    "name": "ipython",
    "version": 3
   },
   "file_extension": ".py",
   "mimetype": "text/x-python",
   "name": "python",
   "nbconvert_exporter": "python",
   "pygments_lexer": "ipython3",
   "version": "3.12.6"
  }
 },
 "nbformat": 4,
 "nbformat_minor": 2
}
