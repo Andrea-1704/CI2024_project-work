{
 "cells": [
  {
   "cell_type": "markdown",
   "metadata": {},
   "source": [
    "# Import"
   ]
  },
  {
   "cell_type": "code",
   "execution_count": 66,
   "metadata": {},
   "outputs": [],
   "source": [
    "import numpy as np\n",
    "from random import choice, random, randint, sample\n",
    "import copy"
   ]
  },
  {
   "cell_type": "markdown",
   "metadata": {},
   "source": [
    "# Operations"
   ]
  },
  {
   "cell_type": "code",
   "execution_count": 67,
   "metadata": {},
   "outputs": [],
   "source": [
    "OPERATIONS = [\n",
    "    (np.add, 2, \"({} + {})\"),\n",
    "    (np.subtract, 2, \"({} - {})\"),\n",
    "    (np.divide, 2, \"({} / {})\"),\n",
    "    (np.sin, 1, \"sin({})\"),\n",
    "]"
   ]
  },
  {
   "cell_type": "markdown",
   "metadata": {},
   "source": [
    "# Genothype definition"
   ]
  },
  {
   "cell_type": "markdown",
   "metadata": {},
   "source": [
    "Let's consider the genotype as a list of elements with the following structure: [operator, first operand, secondo operand].\n",
    "In this way we are creating a recursive function that computes a valid formula and represent it as a list (example: [ \"+\", [\"sin\", \"x[0]\" ], \"x[1]\"])."
   ]
  },
  {
   "cell_type": "code",
   "execution_count": 68,
   "metadata": {},
   "outputs": [],
   "source": [
    "def random_program(depth, input_dim):\n",
    "    if depth == 0 or random() < 0.3:\n",
    "        return f\"x[{randint(0, input_dim - 1)}]\" #new leaf node\n",
    "\n",
    "    op, arity, symbol = choice(OPERATIONS)\n",
    "    children = [random_program(depth - 1, input_dim) for _ in range(arity)]\n",
    "    return [symbol] + children  "
   ]
  },
  {
   "cell_type": "code",
   "execution_count": 69,
   "metadata": {},
   "outputs": [
    {
     "data": {
      "text/plain": [
       "['({} / {})', 'x[3]', 'x[3]']"
      ]
     },
     "execution_count": 69,
     "metadata": {},
     "output_type": "execute_result"
    }
   ],
   "source": [
    "random_program(1, 4)"
   ]
  },
  {
   "cell_type": "markdown",
   "metadata": {},
   "source": [
    "Now we need a function that given the genotype provide us with the output provided by the predicted function. This function must receive the input vector to perform his operation."
   ]
  },
  {
   "cell_type": "code",
   "execution_count": 70,
   "metadata": {},
   "outputs": [],
   "source": [
    "def evaluate_program(program, x):\n",
    "    if isinstance(program, str):  # Leaf node\n",
    "        return x[int(program[2:-1])]  # extract the value\n",
    "    elif isinstance(program, list): \n",
    "        op = next(op for op, _, symbol in OPERATIONS if symbol == program[0])\n",
    "        args = [evaluate_program(child, x) for child in program[1:]]\n",
    "        try:\n",
    "            return op(*args)\n",
    "        except ZeroDivisionError:\n",
    "            return np.inf"
   ]
  },
  {
   "cell_type": "code",
   "execution_count": 71,
   "metadata": {},
   "outputs": [
    {
     "data": {
      "text/plain": [
       "np.float64(1.5)"
      ]
     },
     "execution_count": 71,
     "metadata": {},
     "output_type": "execute_result"
    }
   ],
   "source": [
    "x = [2,3,4, 6]\n",
    "program = ['({} / {})', 'x[1]', 'x[0]']\n",
    "evaluate_program(program, x)"
   ]
  },
  {
   "cell_type": "markdown",
   "metadata": {},
   "source": [
    "As you may notice this function verify with the function __isinstance(element, type)__ if \"element\" is an instance of the \"type\", with the objective of understanding if it is a __leaf node__. If this is the case we simply extract the value out of it, otherwise we still need to invoke the function recursively."
   ]
  },
  {
   "cell_type": "markdown",
   "metadata": {},
   "source": [
    "## Fitness function"
   ]
  },
  {
   "cell_type": "markdown",
   "metadata": {},
   "source": [
    "For now, simply consider the fitness function of a solution as it's mean square error compared to the expected results."
   ]
  },
  {
   "cell_type": "code",
   "execution_count": 72,
   "metadata": {},
   "outputs": [],
   "source": [
    "def fitness_function(program, x, y):\n",
    "    predictions = np.array([evaluate_program(program, x_row) for x_row in x.T])\n",
    "    return np.mean((predictions - y) ** 2)"
   ]
  },
  {
   "cell_type": "code",
   "execution_count": 73,
   "metadata": {},
   "outputs": [],
   "source": [
    "x = np.random.uniform(-1, 1, size=(2, 1000))  # 2 feature, 1000 esempi\n",
    "y = x[0] + np.sin(x[1]) / 5\n",
    "#fitness_function(program, x, y)"
   ]
  },
  {
   "cell_type": "markdown",
   "metadata": {},
   "source": [
    "## Tweak function"
   ]
  },
  {
   "cell_type": "markdown",
   "metadata": {},
   "source": [
    "There is a lot of __variability__ that has to be considered for the tweak function. We can now imagine to implement a recursive function that receives the program (which indicates the current function that we are using for the task), the number of dimensions for the input and the maximum depth allowed for the tweaked solution.\n",
    "\n",
    "Recursively, if we end up into a leaf node, or if the current solution is still a list but with 0.3 probability, we simply generate a new sub-program.\n",
    "\n",
    "Otherwise, we simply invoke the same function for a random index."
   ]
  },
  {
   "cell_type": "code",
   "execution_count": 74,
   "metadata": {},
   "outputs": [],
   "source": [
    "def mutate_program(program, input_dim, depth=3):\n",
    "    if random() < 0.3 or not isinstance(program, list):  \n",
    "        return random_program(depth, input_dim)\n",
    "    idx = randint(1, len(program) - 1)\n",
    "    program[idx] = mutate_program(program[idx], input_dim, depth - 1)\n",
    "    return program"
   ]
  },
  {
   "cell_type": "markdown",
   "metadata": {},
   "source": [
    "Other function (FIGP based)"
   ]
  },
  {
   "cell_type": "code",
   "execution_count": 75,
   "metadata": {},
   "outputs": [],
   "source": [
    "def mutate_program(program, input_dim, max_depth=3):\n",
    "    \"\"\"Mutazione per rimpiazzare un sottoalbero casuale.\"\"\"\n",
    "    mutant = copy.deepcopy(program)\n",
    "    \n",
    "    def get_subtree_points(prog):\n",
    "        return [i for i, node in enumerate(prog) if isinstance(node, list)]\n",
    "    \n",
    "    points = get_subtree_points(mutant)\n",
    "    if not points:\n",
    "        return random_program(max_depth, input_dim)  # Genera nuovo programma\n",
    "    \n",
    "    point = choice(points)\n",
    "    new_subtree = random_program(randint(1, max_depth), input_dim)  # Nuovo sottoalbero\n",
    "    mutant[point] = new_subtree\n",
    "    \n",
    "    return mutant\n"
   ]
  },
  {
   "cell_type": "markdown",
   "metadata": {},
   "source": [
    "Other function (FIGP based)"
   ]
  },
  {
   "cell_type": "code",
   "execution_count": 76,
   "metadata": {},
   "outputs": [],
   "source": [
    "def mutate(program, input_dim, max_depth=3):\n",
    "    \"\"\"Mutazione di un programma.\"\"\"\n",
    "    mutant = copy.deepcopy(program)\n",
    "\n",
    "    def get_subtree_points(prog):\n",
    "        return [i for i, node in enumerate(prog) if isinstance(node, list)]\n",
    "\n",
    "    points = get_subtree_points(program)\n",
    "    if not points:\n",
    "        return random_program(max_depth, input_dim)  # Ritorna un nuovo programma se non ci sono punti\n",
    "\n",
    "    point = choice(points)\n",
    "\n",
    "    # Genera un nuovo sottoalbero casuale\n",
    "    new_subtree = random_program(randint(1, max_depth), input_dim)\n",
    "    mutant[point] = new_subtree\n",
    "\n",
    "    return mutant"
   ]
  },
  {
   "cell_type": "markdown",
   "metadata": {},
   "source": [
    "## Crossover"
   ]
  },
  {
   "cell_type": "markdown",
   "metadata": {},
   "source": [
    "We can use a croossover function that receives only 2 parents and, if one of them is a leaf program simply return casually one of the 2 programs (avoiding to perform the operation for programs with no childrens). Otherwise, select random indexes for both the parents and combine the first part of the tree with the second part of the tree of the 2 parents, returning a new individual."
   ]
  },
  {
   "cell_type": "code",
   "execution_count": 77,
   "metadata": {},
   "outputs": [],
   "source": [
    "def crossover(parent1, parent2, max_depth=3):\n",
    "    \"\"\"Crossover tra due programmi.\"\"\"\n",
    "    child1, child2 = copy.deepcopy(parent1), copy.deepcopy(parent2)\n",
    "\n",
    "    if len(parent1) < 2 or len(parent2) < 2:\n",
    "        return parent1, parent2  # Evita crossover se i programmi sono troppo piccoli\n",
    "\n",
    "    # Punti di crossover validi\n",
    "    def get_subtree_points(prog):\n",
    "        return [i for i, node in enumerate(prog) if isinstance(node, list)]\n",
    "\n",
    "    points1 = get_subtree_points(parent1)\n",
    "    points2 = get_subtree_points(parent2)\n",
    "\n",
    "    if not points1 or not points2:\n",
    "        return parent1, parent2  # Nessun punto valido per il crossover\n",
    "\n",
    "    point1 = choice(points1)\n",
    "    point2 = choice(points2)\n",
    "\n",
    "    # Scambia i sottoalberi\n",
    "    subtree1 = parent1[point1]\n",
    "    subtree2 = parent2[point2]\n",
    "\n",
    "    child1[point1], child2[point2] = subtree2, subtree1\n",
    "\n",
    "    return child1, child2"
   ]
  },
  {
   "cell_type": "markdown",
   "metadata": {},
   "source": [
    "New crossover (FIGP based):"
   ]
  },
  {
   "cell_type": "code",
   "execution_count": 78,
   "metadata": {},
   "outputs": [],
   "source": [
    "def crossover(parent1, parent2):\n",
    "    \"\"\"Crossover a singolo punto tra due programmi.\"\"\"\n",
    "    child1, child2 = copy.deepcopy(parent1), copy.deepcopy(parent2)\n",
    "    \n",
    "    # Identifica punti di crossover validi\n",
    "    def get_subtree_points(prog):\n",
    "        return [i for i, node in enumerate(prog) if isinstance(node, list)]\n",
    "    \n",
    "    points1 = get_subtree_points(parent1)\n",
    "    points2 = get_subtree_points(parent2)\n",
    "    \n",
    "    if not points1 or not points2:\n",
    "        return parent1, parent2  # Nessun punto valido, restituisci genitori\n",
    "    \n",
    "    point1 = choice(points1)\n",
    "    point2 = choice(points2)\n",
    "    \n",
    "    # Scambia sottoalberi selezionati\n",
    "    subtree1 = parent1[point1]\n",
    "    subtree2 = parent2[point2]\n",
    "    child1[point1], child2[point2] = subtree2, subtree1\n",
    "    \n",
    "    return child1, child2\n"
   ]
  },
  {
   "cell_type": "markdown",
   "metadata": {},
   "source": [
    "## Genetic algorithm"
   ]
  },
  {
   "cell_type": "markdown",
   "metadata": {},
   "source": [
    "### Parameter selection"
   ]
  },
  {
   "cell_type": "code",
   "execution_count": 79,
   "metadata": {},
   "outputs": [],
   "source": [
    "generations=100\n",
    "population_size=100\n",
    "offspring_size = 50"
   ]
  },
  {
   "cell_type": "markdown",
   "metadata": {},
   "source": [
    "### Data selection"
   ]
  },
  {
   "cell_type": "code",
   "execution_count": 80,
   "metadata": {},
   "outputs": [],
   "source": [
    "x = np.random.uniform(-1, 1, size=(2, 1000))  # 2 feature, 1000 esempi\n",
    "y = x[0] + np.sin(x[1]) / 5"
   ]
  },
  {
   "cell_type": "code",
   "execution_count": 81,
   "metadata": {},
   "outputs": [],
   "source": [
    "# input_dim = x.shape[0]\n",
    "# population = [random_program(3, input_dim) for _ in range(population_size)]\n",
    "\n",
    "# for gen in range(generations):\n",
    "#     fitness = np.array([fitness_function(prog, x, y) for prog in population])\n",
    "\n",
    "#     # Seleziona la metà migliore della popolazione\n",
    "#     sorted_indices = fitness.argsort()\n",
    "#     population = [population[i] for i in sorted_indices[:population_size // 2]]\n",
    "#     fitness = fitness[sorted_indices[:population_size // 2]]\n",
    "\n",
    "#     print(f\"Generazione {gen + 1}, miglior fitness: {fitness[0]:.6f}\")\n",
    "\n",
    "#     # Nuova generazione con crossover e mutazione\n",
    "#     offspring = []\n",
    "#     while len(offspring) < offspring_size:\n",
    "#         parent1 = choice(population)\n",
    "#         parent2 = choice(population)\n",
    "#         child1, child2 = crossover(parent1, parent2)\n",
    "#         offspring.append(mutate_program(child1, input_dim))\n",
    "#         if len(offspring) < population_size:\n",
    "#             offspring.append(mutate_program(child2, input_dim))\n",
    "\n",
    "#     population.append(offspring)\n",
    "#     #best 100:\n",
    "#     sorted_indices = fitness.argsort()\n",
    "#     population = [population[i] for i in sorted_indices[:population_size]]\n",
    "\n",
    "# # Ritorna il migliore\n",
    "# best_program = population[0]\n",
    "# best_fitness = fitness_function(best_program, x, y)\n",
    "# print(\"Miglior programma:\", best_program, \"; Fitness:\", best_fitness)"
   ]
  },
  {
   "cell_type": "markdown",
   "metadata": {},
   "source": [
    "## New EA approach"
   ]
  },
  {
   "cell_type": "markdown",
   "metadata": {},
   "source": [
    "Something must be still done!"
   ]
  },
  {
   "cell_type": "markdown",
   "metadata": {},
   "source": [
    "Let's change the fitness function in a way that we penalize the more complex functions:"
   ]
  },
  {
   "cell_type": "code",
   "execution_count": 82,
   "metadata": {},
   "outputs": [],
   "source": [
    "# Funzione di fitness avanzata ispirata a deep_based_FGP_NLS.py\n",
    "def fitness_function(program, x, y):\n",
    "    \"\"\"\n",
    "    Valuta la fitness di un programma.\n",
    "    \"\"\"\n",
    "    try:\n",
    "        # Valutazione del programma\n",
    "        predictions = np.array([evaluate_program(program, x_row) for x_row in x.T])\n",
    "        if np.any(np.isnan(predictions)) or np.any(np.isinf(predictions)):\n",
    "            return np.inf  # Penalizza programmi invalidi\n",
    "\n",
    "        # Calcolo dell'errore\n",
    "        error = np.mean((predictions - y) ** 2)  # Errore quadratico medio\n",
    "\n",
    "        # Aggiungi penalità basata sulla complessità del programma\n",
    "        complexity_penalty = len(program) * 0.01\n",
    "        fitness = error + complexity_penalty\n",
    "\n",
    "    except Exception as e:\n",
    "        # Penalizza programmi che generano errori\n",
    "        print(f\"Errore nella valutazione del programma: {e}\")\n",
    "        return np.inf\n",
    "\n",
    "    return fitness"
   ]
  },
  {
   "cell_type": "markdown",
   "metadata": {},
   "source": [
    "Let's call the previous fitness function \"MSE\":"
   ]
  },
  {
   "cell_type": "code",
   "execution_count": 83,
   "metadata": {},
   "outputs": [],
   "source": [
    "def mse(program, x, y):\n",
    "    predictions = np.array([evaluate_program(program, x_row) for x_row in x.T])\n",
    "    return np.mean((predictions - y) ** 2)"
   ]
  },
  {
   "cell_type": "code",
   "execution_count": 85,
   "metadata": {},
   "outputs": [
    {
     "name": "stderr",
     "output_type": "stream",
     "text": [
      "C:\\Users\\andrea\\AppData\\Local\\Temp\\ipykernel_25424\\3192480331.py:8: RuntimeWarning: divide by zero encountered in divide\n",
      "  return op(*args)\n",
      "C:\\Users\\andrea\\AppData\\Local\\Temp\\ipykernel_25424\\3192480331.py:8: RuntimeWarning: invalid value encountered in sin\n",
      "  return op(*args)\n",
      "C:\\Users\\andrea\\AppData\\Local\\Temp\\ipykernel_25424\\3192480331.py:8: RuntimeWarning: invalid value encountered in divide\n",
      "  return op(*args)\n"
     ]
    },
    {
     "name": "stdout",
     "output_type": "stream",
     "text": [
      "Generazione 1, miglior fitness: 0.015019\n",
      "Generazione 2, miglior fitness: 0.015019\n",
      "Generazione 3, miglior fitness: 0.003144\n",
      "Generazione 4, miglior fitness: 0.003144\n"
     ]
    },
    {
     "name": "stderr",
     "output_type": "stream",
     "text": [
      "C:\\Users\\andrea\\AppData\\Local\\Temp\\ipykernel_25424\\3192480331.py:8: RuntimeWarning: invalid value encountered in subtract\n",
      "  return op(*args)\n"
     ]
    },
    {
     "name": "stdout",
     "output_type": "stream",
     "text": [
      "Generazione 5, miglior fitness: 0.003144\n",
      "Generazione 6, miglior fitness: 0.003144\n"
     ]
    },
    {
     "ename": "KeyboardInterrupt",
     "evalue": "",
     "output_type": "error",
     "traceback": [
      "\u001b[1;31m---------------------------------------------------------------------------\u001b[0m",
      "\u001b[1;31mKeyboardInterrupt\u001b[0m                         Traceback (most recent call last)",
      "Cell \u001b[1;32mIn[85], line 79\u001b[0m\n\u001b[0;32m     76\u001b[0m     \u001b[38;5;28mprint\u001b[39m(\u001b[38;5;124m\"\u001b[39m\u001b[38;5;124mMiglior programma:\u001b[39m\u001b[38;5;124m\"\u001b[39m, best_program, \u001b[38;5;124m\"\u001b[39m\u001b[38;5;124m; Fitness:\u001b[39m\u001b[38;5;124m\"\u001b[39m, best_mse)\n\u001b[0;32m     77\u001b[0m     \u001b[38;5;28;01mreturn\u001b[39;00m best_program\n\u001b[1;32m---> 79\u001b[0m best_program \u001b[38;5;241m=\u001b[39m \u001b[43mrun_genetic_algorithm\u001b[49m\u001b[43m(\u001b[49m\u001b[43m)\u001b[49m\n",
      "Cell \u001b[1;32mIn[85], line 21\u001b[0m, in \u001b[0;36mrun_genetic_algorithm\u001b[1;34m()\u001b[0m\n\u001b[0;32m     17\u001b[0m \u001b[38;5;28;01mglobal\u001b[39;00m population\n\u001b[0;32m     19\u001b[0m \u001b[38;5;28;01mfor\u001b[39;00m gen \u001b[38;5;129;01min\u001b[39;00m \u001b[38;5;28mrange\u001b[39m(generations):\n\u001b[0;32m     20\u001b[0m     \u001b[38;5;66;03m# Calcola la fitness per ogni individuo\u001b[39;00m\n\u001b[1;32m---> 21\u001b[0m     fitness \u001b[38;5;241m=\u001b[39m np\u001b[38;5;241m.\u001b[39marray([\u001b[43mfitness_function\u001b[49m\u001b[43m(\u001b[49m\u001b[43mprog\u001b[49m\u001b[43m,\u001b[49m\u001b[43m \u001b[49m\u001b[43mx\u001b[49m\u001b[43m,\u001b[49m\u001b[43m \u001b[49m\u001b[43my\u001b[49m\u001b[43m)\u001b[49m \u001b[38;5;28;01mfor\u001b[39;00m prog \u001b[38;5;129;01min\u001b[39;00m population])\n\u001b[0;32m     22\u001b[0m     mse_value \u001b[38;5;241m=\u001b[39m np\u001b[38;5;241m.\u001b[39marray([mse(prog, x, y) \u001b[38;5;28;01mfor\u001b[39;00m prog \u001b[38;5;129;01min\u001b[39;00m population])\n\u001b[0;32m     24\u001b[0m     \u001b[38;5;66;03m# Mantieni l'elite (migliori individui)\u001b[39;00m\n",
      "Cell \u001b[1;32mIn[82], line 8\u001b[0m, in \u001b[0;36mfitness_function\u001b[1;34m(program, x, y)\u001b[0m\n\u001b[0;32m      3\u001b[0m \u001b[38;5;250m\u001b[39m\u001b[38;5;124;03m\"\"\"\u001b[39;00m\n\u001b[0;32m      4\u001b[0m \u001b[38;5;124;03mValuta la fitness di un programma.\u001b[39;00m\n\u001b[0;32m      5\u001b[0m \u001b[38;5;124;03m\"\"\"\u001b[39;00m\n\u001b[0;32m      6\u001b[0m \u001b[38;5;28;01mtry\u001b[39;00m:\n\u001b[0;32m      7\u001b[0m     \u001b[38;5;66;03m# Valutazione del programma\u001b[39;00m\n\u001b[1;32m----> 8\u001b[0m     predictions \u001b[38;5;241m=\u001b[39m np\u001b[38;5;241m.\u001b[39marray([evaluate_program(program, x_row) \u001b[38;5;28;01mfor\u001b[39;00m x_row \u001b[38;5;129;01min\u001b[39;00m x\u001b[38;5;241m.\u001b[39mT])\n\u001b[0;32m      9\u001b[0m     \u001b[38;5;28;01mif\u001b[39;00m np\u001b[38;5;241m.\u001b[39many(np\u001b[38;5;241m.\u001b[39misnan(predictions)) \u001b[38;5;129;01mor\u001b[39;00m np\u001b[38;5;241m.\u001b[39many(np\u001b[38;5;241m.\u001b[39misinf(predictions)):\n\u001b[0;32m     10\u001b[0m         \u001b[38;5;28;01mreturn\u001b[39;00m np\u001b[38;5;241m.\u001b[39minf  \u001b[38;5;66;03m# Penalizza programmi invalidi\u001b[39;00m\n",
      "\u001b[1;31mKeyboardInterrupt\u001b[0m: "
     ]
    }
   ],
   "source": [
    "# Parametri del GP\n",
    "generations = 50\n",
    "population_size = 1000\n",
    "p_crossover = 0.7\n",
    "p_mutation = 0.3\n",
    "max_depth = 3\n",
    "offspring_size = population_size  # Numero di discendenti generati per generazione\n",
    "\n",
    "# Inizializza popolazione\n",
    "input_dim = x.shape[0]\n",
    "population = [random_program(3, input_dim) for _ in range(population_size)]\n",
    "\n",
    "\n",
    "\n",
    "# Loop principale per le generazioni\n",
    "def run_genetic_algorithm():\n",
    "    global population\n",
    "\n",
    "    for gen in range(generations):\n",
    "        # Calcola la fitness per ogni individuo\n",
    "        fitness = np.array([fitness_function(prog, x, y) for prog in population])\n",
    "        mse_value = np.array([mse(prog, x, y) for prog in population])\n",
    "\n",
    "        # Mantieni l'elite (migliori individui)\n",
    "        sorted_indices = fitness.argsort()\n",
    "        elite = [population[i] for i in sorted_indices[:2]]  # Manteniamo 2 migliori\n",
    "        best_fitness = fitness[sorted_indices[0]]\n",
    "        mse_to_print = mse_value[sorted_indices[0]]\n",
    "\n",
    "        print(f\"Generazione {gen + 1}, miglior fitness: {mse_to_print:.6f}\")\n",
    "\n",
    "        # Crea la nuova generazione\n",
    "        next_population = []\n",
    "\n",
    "        while len(next_population) < offspring_size:\n",
    "            if random() < p_crossover and len(population) > 1:\n",
    "                # Crossover\n",
    "                parent1, parent2 = choice(population), choice(population)\n",
    "                child1, child2 = crossover(parent1, parent2)\n",
    "\n",
    "                if random() < p_mutation:\n",
    "                    child1 = mutate(child1, input_dim)\n",
    "                if random() < p_mutation:\n",
    "                    child2 = mutate(child2, input_dim)\n",
    "\n",
    "                next_population.append(child1)\n",
    "                if len(next_population) < offspring_size:\n",
    "                    next_population.append(child2)\n",
    "            else:\n",
    "                # Mutazione diretta di un genitore\n",
    "                parent = choice(population)\n",
    "                mutant = mutate(parent, input_dim)\n",
    "                next_population.append(mutant)\n",
    "\n",
    "        # Combina elite e nuova generazione\n",
    "        next_population.extend(elite)\n",
    "\n",
    "        # Rimuovi duplicati\n",
    "        unique_population = {}\n",
    "        for prog in next_population:\n",
    "            serialized = str(prog)\n",
    "            if serialized not in unique_population:\n",
    "                unique_population[serialized] = prog\n",
    "\n",
    "        # Aggiorna la popolazione con individui unici\n",
    "        population = list(unique_population.values())[:population_size]\n",
    "\n",
    "    # Identifica il miglior programma\n",
    "    fitness = np.array([fitness_function(prog, x, y) for prog in population])\n",
    "    mse_value = np.array([mse(prog, x, y) for prog in population])\n",
    "    sorted_indices = fitness.argsort()\n",
    "    best_program = population[sorted_indices[0]]\n",
    "    best_fitness = fitness[sorted_indices[0]]\n",
    "    best_mse = mse_value[sorted_indices[0]]\n",
    "\n",
    "    print(\"Miglior programma:\", best_program, \"; Fitness:\", best_mse)\n",
    "    return best_program\n",
    "\n",
    "best_program = run_genetic_algorithm()"
   ]
  }
 ],
 "metadata": {
  "kernelspec": {
   "display_name": "Python 3",
   "language": "python",
   "name": "python3"
  },
  "language_info": {
   "codemirror_mode": {
    "name": "ipython",
    "version": 3
   },
   "file_extension": ".py",
   "mimetype": "text/x-python",
   "name": "python",
   "nbconvert_exporter": "python",
   "pygments_lexer": "ipython3",
   "version": "3.12.6"
  }
 },
 "nbformat": 4,
 "nbformat_minor": 2
}
