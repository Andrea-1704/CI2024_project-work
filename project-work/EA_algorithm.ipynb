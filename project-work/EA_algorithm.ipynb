{
 "cells": [
  {
   "cell_type": "markdown",
   "metadata": {},
   "source": [
    "# Import"
   ]
  },
  {
   "cell_type": "code",
   "execution_count": 156,
   "metadata": {},
   "outputs": [],
   "source": [
    "import numpy as np\n",
    "from random import choice, random, randint, sample\n",
    "import copy"
   ]
  },
  {
   "cell_type": "markdown",
   "metadata": {},
   "source": [
    "# Operations"
   ]
  },
  {
   "cell_type": "code",
   "execution_count": 157,
   "metadata": {},
   "outputs": [],
   "source": [
    "OPERATIONS = [\n",
    "    (np.add, 2, \"({} + {})\"),\n",
    "    (np.subtract, 2, \"({} - {})\"),\n",
    "    (np.divide, 2, \"({} / {})\"),\n",
    "    (np.multiply, 2, \"({} * {})\"),\n",
    "    (np.sin, 1, \"sin({})\"),\n",
    "    (np.cos, 1, \"cos({})\"),\n",
    "    (np.tan, 1, \"tan({})\"),\n",
    "    (np.exp, 1, \"exp({})\"),\n",
    "    (np.log, 1, \"log({})\"),\n",
    "    (np.sqrt, 1, \"sqrt({})\"),\n",
    "    (np.square, 1, \"square({})\"),\n",
    "]"
   ]
  },
  {
   "cell_type": "markdown",
   "metadata": {},
   "source": [
    "# Genothype definition"
   ]
  },
  {
   "cell_type": "markdown",
   "metadata": {},
   "source": [
    "Let's consider the genotype as a list of elements with the following structure: [operator, first operand, secondo operand].\n",
    "In this way we are creating a recursive function that computes a valid formula and represent it as a list (example: [ \"+\", [\"sin\", \"x[0]\" ], \"x[1]\"])."
   ]
  },
  {
   "cell_type": "code",
   "execution_count": 158,
   "metadata": {},
   "outputs": [],
   "source": [
    "def random_program(depth, input_dim):\n",
    "    if depth == 0 or random() < 0.3:\n",
    "        #Return a costant between 1 and 10 or a random variable (prob=0.3)\n",
    "        if random() < 0.3:\n",
    "            return str(randint(2, 10)) #costant\n",
    "        else:\n",
    "            return f\"x[{randint(0, input_dim - 1)}]\" #new leaf node\n",
    "\n",
    "    op, arity, symbol = choice(OPERATIONS)\n",
    "    children = [random_program(depth - 1, input_dim) for _ in range(arity)]\n",
    "    return [symbol] + children  "
   ]
  },
  {
   "cell_type": "markdown",
   "metadata": {},
   "source": [
    "## Transform the program into a human readable function"
   ]
  },
  {
   "cell_type": "code",
   "execution_count": 159,
   "metadata": {},
   "outputs": [],
   "source": [
    "def program_to_string(program):\n",
    "    if isinstance(program, str):  # leaf\n",
    "        return program  \n",
    "    elif isinstance(program, list):  \n",
    "        try:\n",
    "            _, _, symbol = next((op, arity, s) for op, arity, s in OPERATIONS if s == program[0])\n",
    "        except StopIteration:\n",
    "            raise ValueError(f\"Not known operation: {program[0]}\")\n",
    "        \n",
    "        children = [program_to_string(child) for child in program[1:]]\n",
    "        \n",
    "        return symbol.format(*children)\n"
   ]
  },
  {
   "cell_type": "code",
   "execution_count": 160,
   "metadata": {},
   "outputs": [
    {
     "data": {
      "text/plain": [
       "'sqrt(square((square(sqrt((x[0] - x[1]))) * sqrt((9 - (x[2] * 2))))))'"
      ]
     },
     "execution_count": 160,
     "metadata": {},
     "output_type": "execute_result"
    }
   ],
   "source": [
    "program_to_string(random_program(6, 3))"
   ]
  },
  {
   "cell_type": "markdown",
   "metadata": {},
   "source": [
    "Now we need a function that given the genotype provide us with the output provided by the predicted function. This function must receive the input vector to perform his operation."
   ]
  },
  {
   "cell_type": "code",
   "execution_count": 161,
   "metadata": {},
   "outputs": [],
   "source": [
    "def evaluate_program(program, x):\n",
    "    if isinstance(program, str):  # Leaf node\n",
    "        #If it's a leaf, it could be a costant or a variable\n",
    "        if program[0] == 'x':\n",
    "            return x[int(program[2:-1])]\n",
    "        else:\n",
    "            return int(program)\n",
    "    elif isinstance(program, list): \n",
    "        op = next(op for op, _, symbol in OPERATIONS if symbol == program[0])\n",
    "        args = [evaluate_program(child, x) for child in program[1:]]\n",
    "        try:\n",
    "            return op(*args)\n",
    "        except ZeroDivisionError:\n",
    "            return np.inf"
   ]
  },
  {
   "cell_type": "code",
   "execution_count": 162,
   "metadata": {},
   "outputs": [
    {
     "data": {
      "text/plain": [
       "np.float64(0.6)"
      ]
     },
     "execution_count": 162,
     "metadata": {},
     "output_type": "execute_result"
    }
   ],
   "source": [
    "x = [2,3,4, 6]\n",
    "program = ['({} / {})', 'x[1]', '5']\n",
    "#evaluate_program returns y given the vector x and the program\n",
    "evaluate_program(program, x)"
   ]
  },
  {
   "cell_type": "markdown",
   "metadata": {},
   "source": [
    "As you may notice this function verify with the function __isinstance(element, type)__ if \"element\" is an instance of the \"type\", with the objective of understanding if it is a __leaf node__. If this is the case we simply extract the value out of it, otherwise we still need to invoke the function recursively."
   ]
  },
  {
   "cell_type": "markdown",
   "metadata": {},
   "source": [
    "## Fitness function"
   ]
  },
  {
   "cell_type": "markdown",
   "metadata": {},
   "source": [
    "For now, simply consider the fitness function of a solution as it's mean square error compared to the expected results."
   ]
  },
  {
   "cell_type": "code",
   "execution_count": 163,
   "metadata": {},
   "outputs": [],
   "source": [
    "#Let's also introduce a fitness function that is the same used by professors\n",
    "def fitness_evaluation_result(program, x, y):\n",
    "    predictions = np.array([evaluate_program(program, x_row) for x_row in x.T])\n",
    "    return float(100 * np.mean(np.square(predictions - y)))\n",
    "\n",
    "def fitness_function(program, x, y):\n",
    "    predictions = np.array([evaluate_program(program, x_row) for x_row in x.T])\n",
    "    return np.mean((predictions - y) ** 2)"
   ]
  },
  {
   "cell_type": "code",
   "execution_count": 164,
   "metadata": {},
   "outputs": [
    {
     "data": {
      "text/plain": [
       "36.882526582823736"
      ]
     },
     "execution_count": 164,
     "metadata": {},
     "output_type": "execute_result"
    }
   ],
   "source": [
    "x = np.random.uniform(-1, 1, size=(2, 1000))  # 2 feature, 1000 esempi\n",
    "y = x[0] + np.sin(x[1]) / 5\n",
    "fitness_evaluation_result(program, x, y)"
   ]
  },
  {
   "cell_type": "markdown",
   "metadata": {},
   "source": [
    "## Tweak function"
   ]
  },
  {
   "cell_type": "markdown",
   "metadata": {},
   "source": [
    "There is a lot of __variability__ that has to be considered for the tweak function. We can now imagine to implement a recursive function that receives the program (which indicates the current function that we are using for the task), the number of dimensions for the input and the maximum depth allowed for the tweaked solution.\n",
    "\n",
    "Recursively, if we end up into a leaf node, or if the current solution is still a list but with 0.3 probability, we simply generate a new sub-program.\n",
    "\n",
    "Otherwise, we simply invoke the same function for a random index."
   ]
  },
  {
   "cell_type": "code",
   "execution_count": 165,
   "metadata": {},
   "outputs": [],
   "source": [
    "def mutate_program(program, input_dim, depth=3):\n",
    "    if random() < 0.3 or not isinstance(program, list):  \n",
    "        return random_program(depth, input_dim)\n",
    "    idx = randint(1, len(program) - 1)\n",
    "    program[idx] = mutate_program(program[idx], input_dim, depth - 1)\n",
    "    return program"
   ]
  },
  {
   "cell_type": "markdown",
   "metadata": {},
   "source": [
    "Other function (FIGP based)"
   ]
  },
  {
   "cell_type": "code",
   "execution_count": 166,
   "metadata": {},
   "outputs": [],
   "source": [
    "def mutate_program(program, input_dim, max_depth=3):\n",
    "    \"\"\"Mutazione per rimpiazzare un sottoalbero casuale.\"\"\"\n",
    "    mutant = copy.deepcopy(program)\n",
    "    \n",
    "    def get_subtree_points(prog):\n",
    "        return [i for i, node in enumerate(prog) if isinstance(node, list)]\n",
    "    \n",
    "    points = get_subtree_points(mutant)\n",
    "    if not points:\n",
    "        return random_program(max_depth, input_dim)  # Genera nuovo programma\n",
    "    \n",
    "    point = choice(points)\n",
    "    new_subtree = random_program(randint(1, max_depth), input_dim)  # Nuovo sottoalbero\n",
    "    mutant[point] = new_subtree\n",
    "    \n",
    "    return mutant\n"
   ]
  },
  {
   "cell_type": "markdown",
   "metadata": {},
   "source": [
    "Other function (FIGP based)"
   ]
  },
  {
   "cell_type": "code",
   "execution_count": 167,
   "metadata": {},
   "outputs": [],
   "source": [
    "#Try to swap one single operation with another one\n",
    "def mutate(program, input_dim, max_depth=3):\n",
    "    \"\"\"Mutazione di un programma.\"\"\"\n",
    "    mutant = copy.deepcopy(program)\n",
    "\n",
    "    def get_subtree_points(prog):\n",
    "        return [i for i, node in enumerate(prog) if isinstance(node, list)]\n",
    "\n",
    "    points = get_subtree_points(program)\n",
    "    if not points:\n",
    "        return random_program(max_depth, input_dim)  # Ritorna un nuovo programma se non ci sono punti\n",
    "\n",
    "    point = choice(points)\n",
    "\n",
    "    # Genera un nuovo sottoalbero casuale\n",
    "    new_subtree = random_program(randint(1, max_depth), input_dim)\n",
    "    mutant[point] = new_subtree\n",
    "\n",
    "    return mutant"
   ]
  },
  {
   "cell_type": "markdown",
   "metadata": {},
   "source": [
    "## Crossover"
   ]
  },
  {
   "cell_type": "markdown",
   "metadata": {},
   "source": [
    "We can use a croossover function that receives only 2 parents and, if one of them is a leaf program simply return casually one of the 2 programs (avoiding to perform the operation for programs with no childrens). Otherwise, select random indexes for both the parents and combine the first part of the tree with the second part of the tree of the 2 parents, returning a new individual."
   ]
  },
  {
   "cell_type": "code",
   "execution_count": 168,
   "metadata": {},
   "outputs": [],
   "source": [
    "def crossover(parent1, parent2, max_depth=3):\n",
    "    \"\"\"Crossover tra due programmi.\"\"\"\n",
    "    child1, child2 = copy.deepcopy(parent1), copy.deepcopy(parent2)\n",
    "\n",
    "    if len(parent1) < 2 or len(parent2) < 2:\n",
    "        return parent1, parent2  # Evita crossover se i programmi sono troppo piccoli\n",
    "\n",
    "    # Punti di crossover validi\n",
    "    def get_subtree_points(prog):\n",
    "        return [i for i, node in enumerate(prog) if isinstance(node, list)]\n",
    "\n",
    "    points1 = get_subtree_points(parent1)\n",
    "    points2 = get_subtree_points(parent2)\n",
    "\n",
    "    if not points1 or not points2:\n",
    "        return parent1, parent2  # Nessun punto valido per il crossover\n",
    "\n",
    "    point1 = choice(points1)\n",
    "    point2 = choice(points2)\n",
    "\n",
    "    # Scambia i sottoalberi\n",
    "    subtree1 = parent1[point1]\n",
    "    subtree2 = parent2[point2]\n",
    "\n",
    "    child1[point1], child2[point2] = subtree2, subtree1\n",
    "\n",
    "    return child1, child2"
   ]
  },
  {
   "cell_type": "markdown",
   "metadata": {},
   "source": [
    "New crossover (FIGP based):"
   ]
  },
  {
   "cell_type": "code",
   "execution_count": 169,
   "metadata": {},
   "outputs": [],
   "source": [
    "def crossover(parent1, parent2):\n",
    "    \"\"\"Crossover a singolo punto tra due programmi.\"\"\"\n",
    "    child1, child2 = copy.deepcopy(parent1), copy.deepcopy(parent2)\n",
    "    \n",
    "    # Identifica punti di crossover validi\n",
    "    def get_subtree_points(prog):\n",
    "        return [i for i, node in enumerate(prog) if isinstance(node, list)]\n",
    "    \n",
    "    points1 = get_subtree_points(parent1)\n",
    "    points2 = get_subtree_points(parent2)\n",
    "    \n",
    "    if not points1 or not points2:\n",
    "        return parent1, parent2  # Nessun punto valido, restituisci genitori\n",
    "    \n",
    "    point1 = choice(points1)\n",
    "    point2 = choice(points2)\n",
    "    \n",
    "    # Scambia sottoalberi selezionati\n",
    "    subtree1 = parent1[point1]\n",
    "    subtree2 = parent2[point2]\n",
    "    child1[point1], child2[point2] = subtree2, subtree1\n",
    "    \n",
    "    return child1, child2\n"
   ]
  },
  {
   "cell_type": "markdown",
   "metadata": {},
   "source": [
    "## Genetic algorithm"
   ]
  },
  {
   "cell_type": "markdown",
   "metadata": {},
   "source": [
    "### Parameter selection"
   ]
  },
  {
   "cell_type": "code",
   "execution_count": 170,
   "metadata": {},
   "outputs": [],
   "source": [
    "generations=100\n",
    "population_size=100\n",
    "offspring_size = 50"
   ]
  },
  {
   "cell_type": "markdown",
   "metadata": {},
   "source": [
    "### Data selection"
   ]
  },
  {
   "cell_type": "code",
   "execution_count": 171,
   "metadata": {},
   "outputs": [],
   "source": [
    "def true_f(x: np.ndarray) -> np.ndarray:\n",
    "    return x[0] + np.tan(x[1])/5 \n",
    "\n",
    "TEST_SIZE = 10_000\n",
    "TRAIN_SIZE = 1000\n",
    "\n",
    "x_validation = np.vstack(\n",
    "    [\n",
    "        np.random.random_sample(size=TEST_SIZE) * 2 * np.pi - np.pi,\n",
    "        np.random.random_sample(size=TEST_SIZE) * 2 - 1,\n",
    "    ]\n",
    ")\n",
    "y_validation = true_f(x_validation)\n",
    "train_indexes = np.random.choice(TEST_SIZE, size=TRAIN_SIZE, replace=False)\n",
    "x_train = x_validation[:, train_indexes]\n",
    "y_train = y_validation[train_indexes]\n",
    "\n",
    "x = x_train\n",
    "y = y_train"
   ]
  },
  {
   "cell_type": "markdown",
   "metadata": {},
   "source": [
    "Let's change the fitness function in a way that we penalize the more complex functions:"
   ]
  },
  {
   "cell_type": "code",
   "execution_count": 172,
   "metadata": {},
   "outputs": [],
   "source": [
    "# Funzione di fitness avanzata ispirata a deep_based_FGP_NLS.py\n",
    "def fitness_function(program, x, y):\n",
    "    \"\"\"\n",
    "    Valuta la fitness di un programma.\n",
    "    \"\"\"\n",
    "    try:\n",
    "        # Valutazione del programma\n",
    "        predictions = np.array([evaluate_program(program, x_row) for x_row in x.T])\n",
    "        if np.any(np.isnan(predictions)) or np.any(np.isinf(predictions)):\n",
    "            return np.inf  # Penalizza programmi invalidi\n",
    "\n",
    "        # Calcolo dell'errore\n",
    "        #error = np.mean((predictions - y) ** 2)  # Errore quadratico medio\n",
    "        error = float(100 * np.mean(np.square(predictions - y)))\n",
    "        \n",
    "\n",
    "        # Aggiungi penalità basata sulla complessità del programma\n",
    "        complexity_penalty = len(program) * 0.1\n",
    "        fitness = error + complexity_penalty\n",
    "\n",
    "    except Exception as e:\n",
    "        # Penalizza programmi che generano errori\n",
    "        print(f\"Errore nella valutazione del programma: {e}\")\n",
    "        return np.inf\n",
    "\n",
    "    return fitness"
   ]
  },
  {
   "cell_type": "markdown",
   "metadata": {},
   "source": [
    "Let's call the previous fitness function \"MSE\":"
   ]
  },
  {
   "cell_type": "code",
   "execution_count": 173,
   "metadata": {},
   "outputs": [],
   "source": [
    "def mse(program, x, y):\n",
    "    predictions = np.array([evaluate_program(program, x_row) for x_row in x.T])\n",
    "    return float(100 * np.mean(np.square(predictions - y)))"
   ]
  },
  {
   "cell_type": "markdown",
   "metadata": {},
   "source": [
    "## Tournament selection for parents, tau set to 50"
   ]
  },
  {
   "cell_type": "code",
   "execution_count": 174,
   "metadata": {},
   "outputs": [],
   "source": [
    "def tournament_selection(population,x,y, tau=5):\n",
    "    tau = min(tau, len(population))\n",
    "    \n",
    "    # Seleziona tau individui casualmente dalla popolazione\n",
    "    tournament_indices = np.random.choice(len(population), tau, replace=False)\n",
    "    \n",
    "    # Calcola i punteggi di fitness per gli individui selezionati nel torneo\n",
    "    fitness_scores = [fitness_function(population[idx],x,y) for idx in tournament_indices]\n",
    "    \n",
    "    # Trova l'indice del miglior fitness nel torneo\n",
    "    best_fitness_index = fitness_scores.index(min(fitness_scores))\n",
    "    best_index = tournament_indices[best_fitness_index]\n",
    "    \n",
    "    # Ritorna il vincitore del torneo\n",
    "    winner = population[best_index]\n",
    "    \n",
    "    return winner\n",
    "\n"
   ]
  },
  {
   "cell_type": "markdown",
   "metadata": {},
   "source": [
    "## Simulated annealing"
   ]
  },
  {
   "cell_type": "code",
   "execution_count": 175,
   "metadata": {},
   "outputs": [],
   "source": [
    "import math\n",
    "\n",
    "\n",
    "def simulated_annealing(initial_program, x, y, max_iterations=500, initial_temperature=100, cooling_rate=0.95):\n",
    "    \n",
    "    # Programma corrente e relativa fitness\n",
    "    current_program = initial_program\n",
    "    current_fitness = fitness_function(current_program, x, y)\n",
    "    \n",
    "    # Memorizza il miglior programma trovato\n",
    "    best_program = current_program\n",
    "    best_fitness = current_fitness\n",
    "    \n",
    "    # Inizializza la temperatura\n",
    "    temperature = initial_temperature\n",
    "    \n",
    "    for iteration in range(max_iterations):\n",
    "        # Crea un programma candidato con una mutazione\n",
    "        candidate_program = mutate_program(current_program, x.shape[0])\n",
    "        candidate_fitness = fitness_function(candidate_program, x, y)\n",
    "        \n",
    "        # Calcola la variazione di fitness\n",
    "        fitness_delta = candidate_fitness - current_fitness\n",
    "        \n",
    "        # Accetta il nuovo programma se migliora o con probabilità decrescente\n",
    "        if fitness_delta < 0 or random() < math.exp(-fitness_delta / temperature):\n",
    "            current_program = candidate_program\n",
    "            current_fitness = candidate_fitness\n",
    "            \n",
    "            # Aggiorna il miglior programma trovato\n",
    "            if current_fitness < best_fitness:\n",
    "                best_program = current_program\n",
    "                best_fitness = current_fitness\n",
    "        \n",
    "        # Riduci la temperatura\n",
    "        temperature *= cooling_rate\n",
    "        \n",
    "        # Interrompi se la temperatura è troppo bassa\n",
    "        if temperature < 1e-3:\n",
    "            break\n",
    "    \n",
    "    return best_program"
   ]
  },
  {
   "cell_type": "markdown",
   "metadata": {},
   "source": [
    "### Parameters"
   ]
  },
  {
   "cell_type": "code",
   "execution_count": 176,
   "metadata": {},
   "outputs": [],
   "source": [
    "# Parametri del GP\n",
    "generations = 200\n",
    "population_size = 1000\n",
    "p_crossover = 0.6\n",
    "p_mutation = 0.4\n",
    "max_depth = 3 #fixed or problem dependant?\n",
    "offspring_size = population_size  # Numero di discendenti generati per generazione"
   ]
  },
  {
   "cell_type": "code",
   "execution_count": null,
   "metadata": {},
   "outputs": [
    {
     "name": "stdout",
     "output_type": "stream",
     "text": [
      "Generazione 1, miglior fitness: 0.029348\n",
      "Best formula: (x[0] + (x[1] / 4))\n",
      "Generazione 2, miglior fitness: 0.029348\n",
      "Best formula: (x[0] + (x[1] / 4))\n",
      "Generazione 3, miglior fitness: 0.029348\n",
      "Best formula: (x[0] + (x[1] / 4))\n",
      "Generazione 4, miglior fitness: 0.029348\n",
      "Best formula: (x[0] + (x[1] / 4))\n",
      "Generazione 5, miglior fitness: 0.029348\n",
      "Best formula: ((x[1] / 4) + x[0])\n",
      "Generazione 6, miglior fitness: 0.029348\n",
      "Best formula: (x[0] + (x[1] / 4))\n",
      "Generazione 7, miglior fitness: 0.029348\n",
      "Best formula: ((x[1] / 4) + x[0])\n",
      "Generazione 8, miglior fitness: 0.029348\n",
      "Best formula: ((x[1] / 4) + x[0])\n",
      "Generazione 9, miglior fitness: 0.029348\n",
      "Best formula: ((x[1] / 4) + x[0])\n",
      "Generazione 10, miglior fitness: 0.029348\n",
      "Best formula: ((x[1] / 4) + x[0])\n",
      "Generazione 11, miglior fitness: 0.029348\n",
      "Best formula: (x[0] + (x[1] / 4))\n",
      "Generazione 12, miglior fitness: 0.029348\n",
      "Best formula: (x[0] + ((x[1] / 4) + (x[0] - x[0])))\n",
      "Generazione 13, miglior fitness: 0.029348\n",
      "Best formula: ((x[1] / 4) + x[0])\n"
     ]
    }
   ],
   "source": [
    "# Inizializza popolazione\n",
    "input_dim = x.shape[0]\n",
    "# Ignora warning temporaneamente\n",
    "np.seterr(all='ignore')\n",
    "population = [random_program(max_depth, input_dim) for _ in range(population_size//2)]\n",
    "while len(population)<population_size:\n",
    "    #population.append(simulated_annealing(random_program(max_depth, input_dim), x, y))\n",
    "    population.append(random_program(max_depth, input_dim))\n",
    "\n",
    "# Loop principale per le generazioni\n",
    "def run_genetic_algorithm():\n",
    "    global population\n",
    "\n",
    "    for gen in range(generations):\n",
    "        # Calcola la fitness per ogni individuo\n",
    "        fitness = np.array([fitness_function(prog, x, y) for prog in population])\n",
    "        mse_value = np.array([mse(prog, x, y) for prog in population])\n",
    "\n",
    "        # Mantieni l'elite (migliori individui)\n",
    "        sorted_indices = fitness.argsort()\n",
    "        elite = [population[i] for i in sorted_indices[:1]]  # Manteniamo 2 migliori\n",
    "        best_fitness = fitness[sorted_indices[0]]\n",
    "        mse_to_print = mse_value[sorted_indices[0]]\n",
    "        #break the cycle if you found the best solution you're able to find with training data\n",
    "        if(mse_to_print==0.0000): #use mse not to consider complexity penalty\n",
    "            # Riporta i warning al comportamento normale\n",
    "            np.seterr(all='warn')\n",
    "            print('Best program found with mse=0')\n",
    "            return population[sorted_indices[0]]\n",
    "            # Ignora warning temporaneamente\n",
    "            np.seterr(all='ignore')\n",
    "        # Riporta i warning al comportamento normale\n",
    "        np.seterr(all='warn')\n",
    "        print(f\"Generazione {gen + 1}, miglior fitness: {mse_to_print:.6f}\")\n",
    "        #best formula found\n",
    "        print(f\"Best formula: {program_to_string(population[sorted_indices[0]])}\")\n",
    "        # Ignora warning temporaneamente\n",
    "        np.seterr(all='ignore')\n",
    "        # Crea la nuova generazione\n",
    "        next_population = []\n",
    "\n",
    "        while len(next_population) < offspring_size:\n",
    "            if random() < p_crossover and len(population) > 200:\n",
    "                # Crossover\n",
    "                #With random choice is much faster than tournament selection\n",
    "                #Choose the best and the second best parent\n",
    "                parent1, parent2 = tournament_selection(population,x,y), tournament_selection(population,x,y)\n",
    "                child1, child2 = crossover(parent1, parent2)\n",
    "\n",
    "                if random() < p_mutation:\n",
    "                    child1 = mutate(child1, input_dim)\n",
    "                if random() < p_mutation:\n",
    "                    child2 = mutate(child2, input_dim)\n",
    "\n",
    "                next_population.append(child1)\n",
    "                if len(next_population) < offspring_size:\n",
    "                    next_population.append(child2)\n",
    "            else:\n",
    "                # Mutazione diretta di un genitore\n",
    "                #Use tournament selection also here, but only if there's enough material, otherwise random\n",
    "                if(len(population)>500):\n",
    "                    parent = tournament_selection(population,x,y)\n",
    "                else:\n",
    "                    parent = choice(population)\n",
    "                mutant = mutate(parent, input_dim)\n",
    "                next_population.append(mutant)\n",
    "\n",
    "        # Combina elite e nuova generazione\n",
    "        next_population.extend(elite)\n",
    "\n",
    "        # Rimuovi duplicati\n",
    "        unique_population = {}\n",
    "        for prog in next_population:\n",
    "            serialized = str(prog)\n",
    "            if serialized not in unique_population:\n",
    "                unique_population[serialized] = prog\n",
    "\n",
    "        # Aggiorna la popolazione con individui unici\n",
    "        population = list(unique_population.values())[:population_size]\n",
    "\n",
    "    # Identifica il miglior programma\n",
    "    fitness = np.array([fitness_function(prog, x, y) for prog in population])\n",
    "    mse_value = np.array([mse(prog, x, y) for prog in population])\n",
    "    sorted_indices = fitness.argsort()\n",
    "    best_program = population[sorted_indices[0]]\n",
    "    best_fitness = fitness[sorted_indices[0]]\n",
    "    best_mse = mse_value[sorted_indices[0]]\n",
    "\n",
    "    print(\"Miglior programma:\", best_program, \"; Fitness:\", best_mse)\n",
    "    return best_program\n",
    "\n",
    "best_program = run_genetic_algorithm()\n"
   ]
  },
  {
   "cell_type": "code",
   "execution_count": null,
   "metadata": {},
   "outputs": [
    {
     "data": {
      "text/plain": [
       "'((x[1] / 5) + x[0])'"
      ]
     },
     "execution_count": 155,
     "metadata": {},
     "output_type": "execute_result"
    }
   ],
   "source": [
    "program_to_string(best_program)"
   ]
  }
 ],
 "metadata": {
  "kernelspec": {
   "display_name": "Python 3",
   "language": "python",
   "name": "python3"
  },
  "language_info": {
   "codemirror_mode": {
    "name": "ipython",
    "version": 3
   },
   "file_extension": ".py",
   "mimetype": "text/x-python",
   "name": "python",
   "nbconvert_exporter": "python",
   "pygments_lexer": "ipython3",
   "version": "3.12.6"
  }
 },
 "nbformat": 4,
 "nbformat_minor": 2
}
